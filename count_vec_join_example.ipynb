{
 "metadata": {
  "name": "",
  "signature": "sha256:fe93155d72e4d8a1cb5413ccca88b4df7cd1698b13461af091608a8678fa6151"
 },
 "nbformat": 3,
 "nbformat_minor": 0,
 "worksheets": [
  {
   "cells": [
    {
     "cell_type": "code",
     "collapsed": false,
     "input": [
      "import pandas as pd\n",
      "import numpy as np\n",
      "from sklearn.feature_extraction.text import CountVectorizer\n",
      "from sklearn.linear_model import LinearRegression\n",
      "from sklearn.cross_validation import train_test_split"
     ],
     "language": "python",
     "metadata": {},
     "outputs": [],
     "prompt_number": 1
    },
    {
     "cell_type": "code",
     "collapsed": false,
     "input": [
      "# headlines and ratings are predictors; views is what we're trying to predict.\n",
      "\n",
      "headlines = [\"Stretch Armstrong Is Coming Back! And This Time With Nipples!\",\n",
      "             \"How Well Do You Know The Lyrics To The \u2018Fresh Prince Of Bel-Air\u2019 Theme Song?\",\n",
      "             \"Medical Marvel! Meet The 30-Year-Old Man Who Never Lost His Baby Toes\",\n",
      "             \"10 Images That Make The Lincoln Memorial Go \u2018Aww\u2019 For Some Reason\",\n",
      "             \"Weird Things All Guys Do When Women Aren\u2019t Around\"]\n",
      "ratings = [5,4,4,2,3]\n",
      "views = [10400, 6300, 23000, 7700, 11330]\n",
      "\n",
      "df = pd.DataFrame({\"Headlines\": headlines, \"Rating\": ratings, \"Pageviews\": views})\n",
      "df"
     ],
     "language": "python",
     "metadata": {},
     "outputs": [
      {
       "html": [
        "<div style=\"max-height:1000px;max-width:1500px;overflow:auto;\">\n",
        "<table border=\"1\" class=\"dataframe\">\n",
        "  <thead>\n",
        "    <tr style=\"text-align: right;\">\n",
        "      <th></th>\n",
        "      <th>Headlines</th>\n",
        "      <th>Pageviews</th>\n",
        "      <th>Rating</th>\n",
        "    </tr>\n",
        "  </thead>\n",
        "  <tbody>\n",
        "    <tr>\n",
        "      <th>0</th>\n",
        "      <td> Stretch Armstrong Is Coming Back! And This Tim...</td>\n",
        "      <td> 10400</td>\n",
        "      <td> 5</td>\n",
        "    </tr>\n",
        "    <tr>\n",
        "      <th>1</th>\n",
        "      <td> How Well Do You Know The Lyrics To The \u2018Fresh ...</td>\n",
        "      <td>  6300</td>\n",
        "      <td> 4</td>\n",
        "    </tr>\n",
        "    <tr>\n",
        "      <th>2</th>\n",
        "      <td> Medical Marvel! Meet The 30-Year-Old Man Who N...</td>\n",
        "      <td> 23000</td>\n",
        "      <td> 4</td>\n",
        "    </tr>\n",
        "    <tr>\n",
        "      <th>3</th>\n",
        "      <td> 10 Images That Make The Lincoln Memorial Go \u2018A...</td>\n",
        "      <td>  7700</td>\n",
        "      <td> 2</td>\n",
        "    </tr>\n",
        "    <tr>\n",
        "      <th>4</th>\n",
        "      <td> Weird Things All Guys Do When Women Aren\u2019t Around</td>\n",
        "      <td> 11330</td>\n",
        "      <td> 3</td>\n",
        "    </tr>\n",
        "  </tbody>\n",
        "</table>\n",
        "</div>"
       ],
       "metadata": {},
       "output_type": "pyout",
       "prompt_number": 2,
       "text": [
        "                                           Headlines  Pageviews  Rating\n",
        "0  Stretch Armstrong Is Coming Back! And This Tim...      10400       5\n",
        "1  How Well Do You Know The Lyrics To The \u2018Fresh ...       6300       4\n",
        "2  Medical Marvel! Meet The 30-Year-Old Man Who N...      23000       4\n",
        "3  10 Images That Make The Lincoln Memorial Go \u2018A...       7700       2\n",
        "4  Weird Things All Guys Do When Women Aren\u2019t Around      11330       3"
       ]
      }
     ],
     "prompt_number": 2
    },
    {
     "cell_type": "markdown",
     "metadata": {},
     "source": [
      "#### Create Count Vectors"
     ]
    },
    {
     "cell_type": "code",
     "collapsed": false,
     "input": [
      "vectorizer = CountVectorizer(stop_words=\"english\", lowercase=True)\n",
      "X_count = vectorizer.fit_transform(df.Headlines)\n",
      "X_count.shape"
     ],
     "language": "python",
     "metadata": {},
     "outputs": [
      {
       "metadata": {},
       "output_type": "pyout",
       "prompt_number": 3,
       "text": [
        "(5, 35)"
       ]
      }
     ],
     "prompt_number": 3
    },
    {
     "cell_type": "markdown",
     "metadata": {},
     "source": [
      "#### Predict Using Only Count Vectors"
     ]
    },
    {
     "cell_type": "code",
     "collapsed": false,
     "input": [
      "x_train, x_test, y_train, y_test = train_test_split(X_count, df.Pageviews)\n",
      "clf = LinearRegression()\n",
      "clf.fit(x_train.toarray(), y_train)\n",
      "mse = np.mean((y_test - clf.predict(x_test.toarray()))**2)\n",
      "mse"
     ],
     "language": "python",
     "metadata": {},
     "outputs": [
      {
       "metadata": {},
       "output_type": "pyout",
       "prompt_number": 4,
       "text": [
        "23953356.295525491"
       ]
      }
     ],
     "prompt_number": 4
    },
    {
     "cell_type": "markdown",
     "metadata": {},
     "source": [
      "#### Predict Using Only df.Ratings"
     ]
    },
    {
     "cell_type": "code",
     "collapsed": false,
     "input": [
      "X = df.Rating[:, np.newaxis]\n",
      "Y = df.Pageviews\n",
      "\n",
      "x_train, x_test, y_train, y_test = train_test_split(X, Y)\n",
      "clf = LinearRegression()\n",
      "clf.fit(x_train, y_train)\n",
      "mse = np.mean((y_test - clf.predict(x_test))**2)\n",
      "mse"
     ],
     "language": "python",
     "metadata": {},
     "outputs": [
      {
       "metadata": {},
       "output_type": "pyout",
       "prompt_number": 6,
       "text": [
        "88819400.0"
       ]
      }
     ],
     "prompt_number": 6
    },
    {
     "cell_type": "markdown",
     "metadata": {},
     "source": [
      "#### Possible to Predict Using Both Count Vectors and Ratings Column?"
     ]
    },
    {
     "cell_type": "code",
     "collapsed": false,
     "input": [
      "X = df.Rating[:, np.newaxis]\n",
      "print X\n",
      "print X_count.toarray()\n",
      "print \"X shape\", X.shape\n",
      "print \"X_count shape\", X_count.toarray().shape"
     ],
     "language": "python",
     "metadata": {},
     "outputs": [
      {
       "output_type": "stream",
       "stream": "stdout",
       "text": [
        "[[5]\n",
        " [4]\n",
        " [4]\n",
        " [2]\n",
        " [3]]\n",
        "[[0 0 0 0 1 0 0 0 1 0 0 0 0 0 0 0 0 0 0 0 0 0 1 0 0 0 0 1 0 0 1 0 0 0 0]\n",
        " [0 0 1 0 0 0 0 1 0 1 0 0 1 0 0 1 0 0 0 0 0 0 0 0 1 0 1 0 1 0 0 0 0 0 0]\n",
        " [0 1 0 0 0 0 1 0 0 0 0 0 0 0 1 0 0 1 1 1 1 0 0 1 0 0 0 0 0 0 0 1 0 0 1]\n",
        " [1 0 0 0 0 1 0 0 0 0 0 1 0 1 0 0 1 0 0 0 0 1 0 0 0 1 0 0 0 0 0 0 0 0 0]\n",
        " [0 0 0 1 0 0 0 0 0 0 1 0 0 0 0 0 0 0 0 0 0 0 0 0 0 0 0 0 0 1 0 0 1 1 0]]\n",
        "X shape (5, 1)\n",
        "X_count shape (5, 35)\n"
       ]
      }
     ],
     "prompt_number": 48
    },
    {
     "cell_type": "code",
     "collapsed": false,
     "input": [
      "X_joined = np.column_stack((X, X_count.toarray()))\n",
      "X_joined"
     ],
     "language": "python",
     "metadata": {},
     "outputs": [
      {
       "metadata": {},
       "output_type": "pyout",
       "prompt_number": 43,
       "text": [
        "array([[5, 0, 0, 0, 0, 1, 0, 0, 0, 1, 0, 0, 0, 0, 0, 0, 0, 0, 0, 0, 0, 0,\n",
        "        0, 1, 0, 0, 0, 0, 1, 0, 0, 1, 0, 0, 0, 0],\n",
        "       [4, 0, 0, 1, 0, 0, 0, 0, 1, 0, 1, 0, 0, 1, 0, 0, 1, 0, 0, 0, 0, 0,\n",
        "        0, 0, 0, 1, 0, 1, 0, 1, 0, 0, 0, 0, 0, 0],\n",
        "       [4, 0, 1, 0, 0, 0, 0, 1, 0, 0, 0, 0, 0, 0, 0, 1, 0, 0, 1, 1, 1, 1,\n",
        "        0, 0, 1, 0, 0, 0, 0, 0, 0, 0, 1, 0, 0, 1],\n",
        "       [2, 1, 0, 0, 0, 0, 1, 0, 0, 0, 0, 0, 1, 0, 1, 0, 0, 1, 0, 0, 0, 0,\n",
        "        1, 0, 0, 0, 1, 0, 0, 0, 0, 0, 0, 0, 0, 0],\n",
        "       [3, 0, 0, 0, 1, 0, 0, 0, 0, 0, 0, 1, 0, 0, 0, 0, 0, 0, 0, 0, 0, 0,\n",
        "        0, 0, 0, 0, 0, 0, 0, 0, 1, 0, 0, 1, 1, 0]])"
       ]
      }
     ],
     "prompt_number": 43
    },
    {
     "cell_type": "code",
     "collapsed": false,
     "input": [
      "print X.shape\n",
      "print X_count.toarray().shape\n",
      "print X_joined.shape"
     ],
     "language": "python",
     "metadata": {},
     "outputs": [
      {
       "output_type": "stream",
       "stream": "stdout",
       "text": [
        "(5, 1)\n",
        "(5, 35)\n",
        "(5, 36)\n"
       ]
      }
     ],
     "prompt_number": 44
    },
    {
     "cell_type": "code",
     "collapsed": false,
     "input": [
      "x_train, x_test, y_train, y_test = train_test_split(X_joined, df.Pageviews)\n",
      "clf = LinearRegression()\n",
      "clf.fit(x_train, y_train)\n",
      "mse = np.mean((y_test - clf.predict(x_test))**2)\n",
      "mse"
     ],
     "language": "python",
     "metadata": {},
     "outputs": [
      {
       "metadata": {},
       "output_type": "pyout",
       "prompt_number": 50,
       "text": [
        "100026123.47519015"
       ]
      }
     ],
     "prompt_number": 50
    },
    {
     "cell_type": "markdown",
     "metadata": {},
     "source": [
      "Q: I'm not sure what the implications of joining the df.Ratings column with the count vectorizer list are? If this approach is wrong, then how can we use count vectorizer in conjunction with other df columns as predictors?"
     ]
    },
    {
     "cell_type": "code",
     "collapsed": false,
     "input": [],
     "language": "python",
     "metadata": {},
     "outputs": []
    }
   ],
   "metadata": {}
  }
 ]
}