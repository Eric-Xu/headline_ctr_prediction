{
 "metadata": {
  "name": "",
  "signature": "sha256:8f574622808e6b8469333b14908cc927deb12f9b0e3a2179ab0bd67ce5be8e98"
 },
 "nbformat": 3,
 "nbformat_minor": 0,
 "worksheets": [
  {
   "cells": [
    {
     "cell_type": "code",
     "collapsed": false,
     "input": [
      "import requests\n",
      "from bs4 import BeautifulSoup\n",
      "import re\n",
      "import time\n",
      "import numpy as np\n",
      "import pandas as pd"
     ],
     "language": "python",
     "metadata": {},
     "outputs": [],
     "prompt_number": 135
    },
    {
     "cell_type": "code",
     "collapsed": false,
     "input": [
      "issues_url = \"http://mediamatters.org/issues/\"\n",
      "r = requests.get(issues_url)\n",
      "\n",
      "soup = BeautifulSoup(r.content)"
     ],
     "language": "python",
     "metadata": {},
     "outputs": [],
     "prompt_number": 2
    },
    {
     "cell_type": "markdown",
     "metadata": {},
     "source": [
      "### Top Level Categories"
     ]
    },
    {
     "cell_type": "code",
     "collapsed": false,
     "input": [
      "cats = {}\n",
      "\n",
      "for a in soup.select(\"dt strong a\"):\n",
      "    link = str.split(str(a[\"href\"]), \"/\")\n",
      "    if link[1] == \"issues\":\n",
      "        cats[link[2]] = str(a[\"href\"])\n",
      "\n",
      "cats"
     ],
     "language": "python",
     "metadata": {},
     "outputs": [
      {
       "metadata": {},
       "output_type": "pyout",
       "prompt_number": 3,
       "text": [
        "{'diversity-discrimination': '/issues/diversity-discrimination',\n",
        " 'economy': '/issues/economy',\n",
        " 'education': '/issues/education',\n",
        " 'elections': '/issues/elections',\n",
        " 'environment-science': '/issues/environment-science',\n",
        " 'government': '/issues/government',\n",
        " 'health-care': '/issues/health-care',\n",
        " 'immigration': '/issues/immigration',\n",
        " 'justice-civil-liberties': '/issues/justice-civil-liberties',\n",
        " 'media-structures-regulations': '/issues/media-structures-regulations',\n",
        " 'national-security-foreign-policy': '/issues/national-security-foreign-policy'}"
       ]
      }
     ],
     "prompt_number": 3
    },
    {
     "cell_type": "markdown",
     "metadata": {},
     "source": [
      "### Sub-Categories"
     ]
    },
    {
     "cell_type": "code",
     "collapsed": false,
     "input": [
      "sub_cats = {}\n",
      "\n",
      "for a in soup.select(\"dd ul a\"):\n",
      "    link = str.split(str(a[\"href\"]), \"/\")\n",
      "    sub_cats[link[2]] = str(a[\"href\"])\n",
      "\n",
      "sub_cats.values()[:5]"
     ],
     "language": "python",
     "metadata": {},
     "outputs": [
      {
       "metadata": {},
       "output_type": "pyout",
       "prompt_number": 4,
       "text": [
        "['/issues/social-security',\n",
        " '/issues/end-of-life-issues',\n",
        " '/issues/death-penalty',\n",
        " '/issues/intelligence',\n",
        " '/issues/energy']"
       ]
      }
     ],
     "prompt_number": 4
    },
    {
     "cell_type": "markdown",
     "metadata": {},
     "source": [
      "### Scrape Headlines"
     ]
    },
    {
     "cell_type": "markdown",
     "metadata": {},
     "source": [
      "#### Set global variables"
     ]
    },
    {
     "cell_type": "code",
     "collapsed": false,
     "input": [
      "art_per_page = 50 # max set by MediaMatters.org\n",
      "SCRAPING_REQUEST_STAGGER = 5 # in seconds"
     ],
     "language": "python",
     "metadata": {},
     "outputs": [],
     "prompt_number": 175
    },
    {
     "cell_type": "markdown",
     "metadata": {},
     "source": [
      "#### Get pagination nums (50 articles/page) for each sub-category"
     ]
    },
    {
     "cell_type": "code",
     "collapsed": false,
     "input": [
      "def fetch_first_page_content(cat):\n",
      "    print \"getting page count for {0}\".format(cat)\n",
      "    base_url = \"http://mediamatters.org\"\n",
      "    r = requests.get(base_url + cat)\n",
      "    soup = BeautifulSoup(r.content)\n",
      "    \n",
      "    return soup"
     ],
     "language": "python",
     "metadata": {},
     "outputs": [],
     "prompt_number": 178
    },
    {
     "cell_type": "code",
     "collapsed": false,
     "input": [
      "def calc_page_count(soup):\n",
      "    count_tag = soup.find(\"span\", class_=\"pager-count-two\")\n",
      "    art_count = int(re.findall(\"\\d+\", str(count_tag.contents))[0])\n",
      "    page_count = (art_count / art_per_page) + 1\n",
      "    \n",
      "    return page_count"
     ],
     "language": "python",
     "metadata": {},
     "outputs": [],
     "prompt_number": 317
    },
    {
     "cell_type": "code",
     "collapsed": false,
     "input": [
      "def fetch_cat_page_counts(sub_cats):\n",
      "    cat_page_counts = {}\n",
      "\n",
      "    for cat in sub_cats:\n",
      "        try:\n",
      "            soup = fetch_first_page_content(cat)\n",
      "            count = calc_page_count(soup)\n",
      "            cat_page_counts[cat] = count\n",
      "            print \"{0} {1}\".format(cat, count)\n",
      "            time.sleep(SCRAPING_REQUEST_STAGGER)\n",
      "        except Exception as err:\n",
      "            print(err)\n",
      "            continue\n",
      "\n",
      "    return cat_page_counts"
     ],
     "language": "python",
     "metadata": {},
     "outputs": [],
     "prompt_number": 320
    },
    {
     "cell_type": "code",
     "collapsed": false,
     "input": [
      "# caution: scrapes website\n",
      "\n",
      "cat_page_counts = fetch_cat_page_counts(sub_cats.values())"
     ],
     "language": "python",
     "metadata": {},
     "outputs": [
      {
       "output_type": "stream",
       "stream": "stdout",
       "text": [
        "/issues/social-security 7\n",
        "/issues/end-of-life-issues 3"
       ]
      },
      {
       "output_type": "stream",
       "stream": "stdout",
       "text": [
        "\n",
        "/issues/death-penalty 1"
       ]
      },
      {
       "output_type": "stream",
       "stream": "stdout",
       "text": [
        "\n",
        "/issues/intelligence 9"
       ]
      },
      {
       "output_type": "stream",
       "stream": "stdout",
       "text": [
        "\n",
        "/issues/energy 16"
       ]
      },
      {
       "output_type": "stream",
       "stream": "stdout",
       "text": [
        "\n",
        "/issues/research-funding 1"
       ]
      },
      {
       "output_type": "stream",
       "stream": "stdout",
       "text": [
        "\n",
        "/issues/medicaid 2"
       ]
      },
      {
       "output_type": "stream",
       "stream": "stdout",
       "text": [
        "\n",
        "/issues/the-senate 11"
       ]
      },
      {
       "output_type": "stream",
       "stream": "stdout",
       "text": [
        "\n",
        "/issues/trade 1"
       ]
      },
      {
       "output_type": "stream",
       "stream": "stdout",
       "text": [
        "\n",
        "/issues/stem-cell-research 1"
       ]
      },
      {
       "output_type": "stream",
       "stream": "stdout",
       "text": [
        "\n",
        "/issues/race-ethnicity 48"
       ]
      },
      {
       "output_type": "stream",
       "stream": "stdout",
       "text": [
        "\n",
        "/issues/domestic-spying 6"
       ]
      },
      {
       "output_type": "stream",
       "stream": "stdout",
       "text": [
        "\n",
        "/issues/mental-health 1"
       ]
      },
      {
       "output_type": "stream",
       "stream": "stdout",
       "text": [
        "\n",
        "/issues/cabinet-agencies 18"
       ]
      },
      {
       "output_type": "stream",
       "stream": "stdout",
       "text": [
        "\n",
        "/issues/the-house-of-representatives 10"
       ]
      },
      {
       "output_type": "stream",
       "stream": "stdout",
       "text": [
        "\n",
        "/issues/the-judiciary 21"
       ]
      },
      {
       "output_type": "stream",
       "stream": "stdout",
       "text": [
        "\n",
        "/issues/standards 1"
       ]
      },
      {
       "output_type": "stream",
       "stream": "stdout",
       "text": [
        "\n",
        "/issues/net-neutrality 1"
       ]
      },
      {
       "output_type": "stream",
       "stream": "stdout",
       "text": [
        "\n",
        "/issues/college-financial-aid 1"
       ]
      },
      {
       "output_type": "stream",
       "stream": "stdout",
       "text": [
        "\n",
        "/issues/intellectual-freedom 1"
       ]
      },
      {
       "output_type": "stream",
       "stream": "stdout",
       "text": [
        "\n",
        "/issues/military-personnel-veterans 9"
       ]
      },
      {
       "output_type": "stream",
       "stream": "stdout",
       "text": [
        "\n",
        "/issues/housing 3"
       ]
      },
      {
       "output_type": "stream",
       "stream": "stdout",
       "text": [
        "\n",
        "/issues/the-presidency-white-house 75"
       ]
      },
      {
       "output_type": "stream",
       "stream": "stdout",
       "text": [
        "\n",
        "/issues/racial-justice 5"
       ]
      },
      {
       "output_type": "stream",
       "stream": "stdout",
       "text": [
        "\n",
        "/issues/school-vouchers 1"
       ]
      },
      {
       "output_type": "stream",
       "stream": "stdout",
       "text": [
        "\n",
        "/issues/religion 35"
       ]
      },
      {
       "output_type": "stream",
       "stream": "stdout",
       "text": [
        "\n",
        "/issues/border-security 5"
       ]
      },
      {
       "output_type": "stream",
       "stream": "stdout",
       "text": [
        "\n",
        "/issues/education-funding 2"
       ]
      },
      {
       "output_type": "stream",
       "stream": "stdout",
       "text": [
        "\n",
        "/issues/health-care-reform 62"
       ]
      },
      {
       "output_type": "stream",
       "stream": "stdout",
       "text": [
        "\n",
        "/issues/conservation 3"
       ]
      },
      {
       "output_type": "stream",
       "stream": "stdout",
       "text": [
        "\n",
        "/issues/evolution-intelligent-design 1"
       ]
      },
      {
       "output_type": "stream",
       "stream": "stdout",
       "text": [
        "\n",
        "/issues/religion-in-schools 1"
       ]
      },
      {
       "output_type": "stream",
       "stream": "stdout",
       "text": [
        "\n",
        "/issues/guns 25"
       ]
      },
      {
       "output_type": "stream",
       "stream": "stdout",
       "text": [
        "\n",
        "/issues/terrorism 28"
       ]
      },
      {
       "output_type": "stream",
       "stream": "stdout",
       "text": [
        "\n",
        "/issues/enforcement 5"
       ]
      },
      {
       "output_type": "stream",
       "stream": "stdout",
       "text": [
        "\n",
        "/issues/international-aid 2"
       ]
      },
      {
       "output_type": "stream",
       "stream": "stdout",
       "text": [
        "\n",
        "/issues/crime 7"
       ]
      },
      {
       "output_type": "stream",
       "stream": "stdout",
       "text": [
        "\n",
        "/issues/curriculum 2"
       ]
      },
      {
       "output_type": "stream",
       "stream": "stdout",
       "text": [
        "\n",
        "/issues/immigration-myths 6"
       ]
      },
      {
       "output_type": "stream",
       "stream": "stdout",
       "text": [
        "\n",
        "/issues/election-law 5"
       ]
      },
      {
       "output_type": "stream",
       "stream": "stdout",
       "text": [
        "\n",
        "/issues/detention 5"
       ]
      },
      {
       "output_type": "stream",
       "stream": "stdout",
       "text": [
        "\n",
        "/issues/interrogation 8"
       ]
      },
      {
       "output_type": "stream",
       "stream": "stdout",
       "text": [
        "\n",
        "/issues/lgbt 32"
       ]
      },
      {
       "output_type": "stream",
       "stream": "stdout",
       "text": [
        "\n",
        "'NoneType' object has no attribute 'contents'"
       ]
      },
      {
       "output_type": "stream",
       "stream": "stdout",
       "text": [
        "\n",
        "/issues/poverty 10"
       ]
      },
      {
       "output_type": "stream",
       "stream": "stdout",
       "text": [
        "\n",
        "/issues/drilling 8"
       ]
      },
      {
       "output_type": "stream",
       "stream": "stdout",
       "text": [
        "\n",
        "/issues/international-conflicts 14"
       ]
      },
      {
       "output_type": "stream",
       "stream": "stdout",
       "text": [
        "\n",
        "/issues/immigration-reform 12"
       ]
      },
      {
       "output_type": "stream",
       "stream": "stdout",
       "text": [
        "\n",
        "/issues/campaign-finance 4"
       ]
      },
      {
       "output_type": "stream",
       "stream": "stdout",
       "text": [
        "\n",
        "/issues/ethics 11"
       ]
      },
      {
       "output_type": "stream",
       "stream": "stdout",
       "text": [
        "\n",
        "/issues/war-in-iraq 31"
       ]
      },
      {
       "output_type": "stream",
       "stream": "stdout",
       "text": [
        "\n",
        "/issues/class 3"
       ]
      },
      {
       "output_type": "stream",
       "stream": "stdout",
       "text": [
        "\n",
        "/issues/childrens-health 3"
       ]
      },
      {
       "output_type": "stream",
       "stream": "stdout",
       "text": [
        "\n",
        "/issues/jobs-wages-unemployment 29"
       ]
      },
      {
       "output_type": "stream",
       "stream": "stdout",
       "text": [
        "\n",
        "/issues/common-core 1"
       ]
      },
      {
       "output_type": "stream",
       "stream": "stdout",
       "text": [
        "\n",
        "/issues/food-insecurity 5"
       ]
      },
      {
       "output_type": "stream",
       "stream": "stdout",
       "text": [
        "\n",
        "/issues/gender 30"
       ]
      },
      {
       "output_type": "stream",
       "stream": "stdout",
       "text": [
        "\n",
        "/issues/effect-on-social-services 1"
       ]
      },
      {
       "output_type": "stream",
       "stream": "stdout",
       "text": [
        "\n",
        "/issues/budget 24"
       ]
      },
      {
       "output_type": "stream",
       "stream": "stdout",
       "text": [
        "\n",
        "/issues/taxes 22"
       ]
      },
      {
       "output_type": "stream",
       "stream": "stdout",
       "text": [
        "\n",
        "/issues/labor-unions 13"
       ]
      },
      {
       "output_type": "stream",
       "stream": "stdout",
       "text": [
        "\n",
        "/issues/hivaids 1"
       ]
      },
      {
       "output_type": "stream",
       "stream": "stdout",
       "text": [
        "\n",
        "/issues/medicare 3"
       ]
      },
      {
       "output_type": "stream",
       "stream": "stdout",
       "text": [
        "\n",
        "/issues/teachers 2"
       ]
      },
      {
       "output_type": "stream",
       "stream": "stdout",
       "text": [
        "\n",
        "/issues/climate-change 27"
       ]
      },
      {
       "output_type": "stream",
       "stream": "stdout",
       "text": [
        "\n",
        "/issues/voting-rights-issues 10"
       ]
      },
      {
       "output_type": "stream",
       "stream": "stdout",
       "text": [
        "\n",
        "/issues/nominations-appointments 24"
       ]
      },
      {
       "output_type": "stream",
       "stream": "stdout",
       "text": [
        "\n",
        "/issues/defense-funding 3"
       ]
      },
      {
       "output_type": "stream",
       "stream": "stdout",
       "text": [
        "\n",
        "/issues/endangered-species 1"
       ]
      },
      {
       "output_type": "stream",
       "stream": "stdout",
       "text": [
        "\n",
        "/issues/reproductive-choice 17"
       ]
      },
      {
       "output_type": "stream",
       "stream": "stdout",
       "text": [
        "\n",
        "/issues/war-in-afghanistan 5"
       ]
      },
      {
       "output_type": "stream",
       "stream": "stdout",
       "text": [
        "\n"
       ]
      }
     ],
     "prompt_number": 321
    },
    {
     "cell_type": "markdown",
     "metadata": {},
     "source": [
      "#### Manually add in failed page requests"
     ]
    },
    {
     "cell_type": "code",
     "collapsed": false,
     "input": [
      "cat_page_counts[\"/issues/early-education\"] = 1"
     ],
     "language": "python",
     "metadata": {},
     "outputs": [],
     "prompt_number": 328
    },
    {
     "cell_type": "markdown",
     "metadata": {},
     "source": [
      "#### Save page counts dict to CSV"
     ]
    },
    {
     "cell_type": "code",
     "collapsed": false,
     "input": [
      "page_counts_df = pd.DataFrame(cat_page_counts.items(), columns=[\"SubCat\", \"TotalPages50PerPage\"])\n",
      "page_counts_df.to_csv(\"mm_cat_page_counts.csv\", index=False)"
     ],
     "language": "python",
     "metadata": {},
     "outputs": [],
     "prompt_number": 330
    },
    {
     "cell_type": "markdown",
     "metadata": {},
     "source": [
      "#### Iterate through each page of a category and collect headlines"
     ]
    },
    {
     "cell_type": "code",
     "collapsed": false,
     "input": [
      "def fetch_page_content(cat, pagination):\n",
      "    base_url = \"http://mediamatters.org\"\n",
      "    full_url = base_url + cat + pagination\n",
      "    print full_url\n",
      "    r = requests.get(full_url)\n",
      "    soup = BeautifulSoup(r.content)\n",
      "    \n",
      "    return soup"
     ],
     "language": "python",
     "metadata": {},
     "outputs": [],
     "prompt_number": 223
    },
    {
     "cell_type": "code",
     "collapsed": false,
     "input": [
      "def fetch_headlines_single_page(cat, page_content, headlines):\n",
      "    for a in page_content.select(\"h1 a\"):\n",
      "        headlines[cat].append(str(a.contents))\n",
      "\n",
      "    return headlines"
     ],
     "language": "python",
     "metadata": {},
     "outputs": [],
     "prompt_number": 287
    },
    {
     "cell_type": "code",
     "collapsed": false,
     "input": [
      "def fetch_single_cat_headlines(cat, page_count):\n",
      "    headlines = {}\n",
      "    headlines[cat] = []\n",
      "\n",
      "    for i in xrange(page_count):\n",
      "        try: \n",
      "            page = i + 1\n",
      "            time.sleep(SCRAPING_REQUEST_STAGGER)\n",
      "\n",
      "            pagination = \"?p={0}&s={1}\".format(page, art_per_page)\n",
      "            print \"page {0} of {1}\".format(page, page_count)\n",
      "            page_content = fetch_page_content(cat, pagination)\n",
      "            headlines = fetch_headlines_single_page(cat, page_content, headlines)\n",
      "        except Exception as err:\n",
      "            print(err)\n",
      "            continue\n",
      "            \n",
      "    return headlines"
     ],
     "language": "python",
     "metadata": {},
     "outputs": [],
     "prompt_number": 347
    },
    {
     "cell_type": "code",
     "collapsed": false,
     "input": [
      "def save_all_cat_headlines(sub_cats, cat_page_counts):\n",
      "    for url in sub_cats:\n",
      "        all_cat_headlines = {}\n",
      "        try:\n",
      "            page_count = cat_page_counts[url]\n",
      "            all_cat_headlines.update(fetch_single_cat_headlines(url, page_count)) # set page_count to 1 when testing single page\n",
      "            save_as_csv(all_cat_headlines, url)\n",
      "        except Exception as err:\n",
      "            print(err)\n",
      "            continue\n",
      "\n",
      "    return all_cat_headlines"
     ],
     "language": "python",
     "metadata": {},
     "outputs": [],
     "prompt_number": 352
    },
    {
     "cell_type": "code",
     "collapsed": false,
     "input": [
      "def save_as_csv(headlines, cat):\n",
      "    df = pd.DataFrame(columns=[\"SubCat\", \"Headlines\"])\n",
      "    idx = len(df) + 1\n",
      "    for k in headlines.keys():\n",
      "        for title in headlines[k]:\n",
      "            df.loc[idx] = [k, title]\n",
      "            idx += 1\n",
      "            \n",
      "    file_name = generate_file_name(cat)\n",
      "    df.to_csv(file_name, index=False)\n",
      "    print \"saved {0}; rows: {1}\".format(file_name, idx)"
     ],
     "language": "python",
     "metadata": {},
     "outputs": [],
     "prompt_number": 349
    },
    {
     "cell_type": "code",
     "collapsed": false,
     "input": [
      "# \"/issues/social-security\" => \"mm_social_security.csv\"\n",
      "def generate_file_name(url):\n",
      "    cat = str.split(url, \"/\")[2].replace(\"-\", \"_\")\n",
      "    return \"mm_{0}.csv\".format(cat) "
     ],
     "language": "python",
     "metadata": {},
     "outputs": [],
     "prompt_number": 350
    },
    {
     "cell_type": "markdown",
     "metadata": {},
     "source": [
      "#### Put all our page-scraping hard work into action"
     ]
    },
    {
     "cell_type": "code",
     "collapsed": false,
     "input": [
      "len(sub_cats.values())"
     ],
     "language": "python",
     "metadata": {},
     "outputs": [
      {
       "metadata": {},
       "output_type": "pyout",
       "prompt_number": 302,
       "text": [
        "71"
       ]
      }
     ],
     "prompt_number": 302
    },
    {
     "cell_type": "code",
     "collapsed": false,
     "input": [
      "# caution: scrapes website\n",
      "\n",
      "save_all_cat_headlines(sub_cats.values()[2:], cat_page_counts) # pass in sub_cats.values()[0:1] when testing single cat\n",
      "print \"finished\""
     ],
     "language": "python",
     "metadata": {},
     "outputs": [
      {
       "output_type": "stream",
       "stream": "stdout",
       "text": [
        "page 1 of 1\n",
        "http://mediamatters.org/issues/death-penalty?p=1&s=50\n",
        "saved mm_death_penalty.csv; rows: 15"
       ]
      },
      {
       "output_type": "stream",
       "stream": "stdout",
       "text": [
        "\n",
        "page 1 of 9"
       ]
      },
      {
       "output_type": "stream",
       "stream": "stdout",
       "text": [
        "\n",
        "http://mediamatters.org/issues/intelligence?p=1&s=50\n",
        "page 2 of 9"
       ]
      },
      {
       "output_type": "stream",
       "stream": "stdout",
       "text": [
        "\n",
        "http://mediamatters.org/issues/intelligence?p=2&s=50\n",
        "page 3 of 9"
       ]
      },
      {
       "output_type": "stream",
       "stream": "stdout",
       "text": [
        "\n",
        "http://mediamatters.org/issues/intelligence?p=3&s=50\n",
        "page 4 of 9"
       ]
      },
      {
       "output_type": "stream",
       "stream": "stdout",
       "text": [
        "\n",
        "http://mediamatters.org/issues/intelligence?p=4&s=50\n",
        "page 5 of 9"
       ]
      },
      {
       "output_type": "stream",
       "stream": "stdout",
       "text": [
        "\n",
        "http://mediamatters.org/issues/intelligence?p=5&s=50\n",
        "page 6 of 9"
       ]
      },
      {
       "output_type": "stream",
       "stream": "stdout",
       "text": [
        "\n",
        "http://mediamatters.org/issues/intelligence?p=6&s=50\n",
        "page 7 of 9"
       ]
      },
      {
       "output_type": "stream",
       "stream": "stdout",
       "text": [
        "\n",
        "http://mediamatters.org/issues/intelligence?p=7&s=50\n",
        "page 8 of 9"
       ]
      },
      {
       "output_type": "stream",
       "stream": "stdout",
       "text": [
        "\n",
        "http://mediamatters.org/issues/intelligence?p=8&s=50\n",
        "page 9 of 9"
       ]
      },
      {
       "output_type": "stream",
       "stream": "stdout",
       "text": [
        "\n",
        "http://mediamatters.org/issues/intelligence?p=9&s=50\n",
        "saved mm_intelligence.csv; rows: 422"
       ]
      },
      {
       "output_type": "stream",
       "stream": "stdout",
       "text": [
        "\n",
        "page 1 of 16"
       ]
      },
      {
       "output_type": "stream",
       "stream": "stdout",
       "text": [
        "\n",
        "http://mediamatters.org/issues/energy?p=1&s=50\n",
        "page 2 of 16"
       ]
      },
      {
       "output_type": "stream",
       "stream": "stdout",
       "text": [
        "\n",
        "http://mediamatters.org/issues/energy?p=2&s=50\n",
        "page 3 of 16"
       ]
      },
      {
       "output_type": "stream",
       "stream": "stdout",
       "text": [
        "\n",
        "http://mediamatters.org/issues/energy?p=3&s=50\n",
        "page 4 of 16"
       ]
      },
      {
       "output_type": "stream",
       "stream": "stdout",
       "text": [
        "\n",
        "http://mediamatters.org/issues/energy?p=4&s=50\n",
        "page 5 of 16"
       ]
      },
      {
       "output_type": "stream",
       "stream": "stdout",
       "text": [
        "\n",
        "http://mediamatters.org/issues/energy?p=5&s=50\n",
        "page 6 of 16"
       ]
      },
      {
       "output_type": "stream",
       "stream": "stdout",
       "text": [
        "\n",
        "http://mediamatters.org/issues/energy?p=6&s=50\n",
        "page 7 of 16"
       ]
      },
      {
       "output_type": "stream",
       "stream": "stdout",
       "text": [
        "\n",
        "http://mediamatters.org/issues/energy?p=7&s=50\n",
        "page 8 of 16"
       ]
      },
      {
       "output_type": "stream",
       "stream": "stdout",
       "text": [
        "\n",
        "http://mediamatters.org/issues/energy?p=8&s=50\n",
        "page 9 of 16"
       ]
      },
      {
       "output_type": "stream",
       "stream": "stdout",
       "text": [
        "\n",
        "http://mediamatters.org/issues/energy?p=9&s=50\n",
        "page 10 of 16"
       ]
      },
      {
       "output_type": "stream",
       "stream": "stdout",
       "text": [
        "\n",
        "http://mediamatters.org/issues/energy?p=10&s=50\n",
        "page 11 of 16"
       ]
      },
      {
       "output_type": "stream",
       "stream": "stdout",
       "text": [
        "\n",
        "http://mediamatters.org/issues/energy?p=11&s=50\n",
        "page 12 of 16"
       ]
      },
      {
       "output_type": "stream",
       "stream": "stdout",
       "text": [
        "\n",
        "http://mediamatters.org/issues/energy?p=12&s=50\n",
        "page 13 of 16"
       ]
      },
      {
       "output_type": "stream",
       "stream": "stdout",
       "text": [
        "\n",
        "http://mediamatters.org/issues/energy?p=13&s=50\n",
        "page 14 of 16"
       ]
      },
      {
       "output_type": "stream",
       "stream": "stdout",
       "text": [
        "\n",
        "http://mediamatters.org/issues/energy?p=14&s=50\n",
        "page 15 of 16"
       ]
      },
      {
       "output_type": "stream",
       "stream": "stdout",
       "text": [
        "\n",
        "http://mediamatters.org/issues/energy?p=15&s=50\n",
        "page 16 of 16"
       ]
      },
      {
       "output_type": "stream",
       "stream": "stdout",
       "text": [
        "\n",
        "http://mediamatters.org/issues/energy?p=16&s=50\n",
        "saved mm_energy.csv; rows: 779"
       ]
      },
      {
       "output_type": "stream",
       "stream": "stdout",
       "text": [
        "\n",
        "page 1 of 1"
       ]
      },
      {
       "output_type": "stream",
       "stream": "stdout",
       "text": [
        "\n",
        "http://mediamatters.org/issues/research-funding?p=1&s=50\n",
        "saved mm_research_funding.csv; rows: 26"
       ]
      },
      {
       "output_type": "stream",
       "stream": "stdout",
       "text": [
        "\n",
        "page 1 of 2"
       ]
      },
      {
       "output_type": "stream",
       "stream": "stdout",
       "text": [
        "\n",
        "http://mediamatters.org/issues/medicaid?p=1&s=50\n",
        "page 2 of 2"
       ]
      },
      {
       "output_type": "stream",
       "stream": "stdout",
       "text": [
        "\n",
        "http://mediamatters.org/issues/medicaid?p=2&s=50\n",
        "saved mm_medicaid.csv; rows: 68"
       ]
      },
      {
       "output_type": "stream",
       "stream": "stdout",
       "text": [
        "\n",
        "page 1 of 11"
       ]
      },
      {
       "output_type": "stream",
       "stream": "stdout",
       "text": [
        "\n",
        "http://mediamatters.org/issues/the-senate?p=1&s=50\n",
        "page 2 of 11"
       ]
      },
      {
       "output_type": "stream",
       "stream": "stdout",
       "text": [
        "\n",
        "http://mediamatters.org/issues/the-senate?p=2&s=50\n",
        "page 3 of 11"
       ]
      },
      {
       "output_type": "stream",
       "stream": "stdout",
       "text": [
        "\n",
        "http://mediamatters.org/issues/the-senate?p=3&s=50\n",
        "page 4 of 11"
       ]
      },
      {
       "output_type": "stream",
       "stream": "stdout",
       "text": [
        "\n",
        "http://mediamatters.org/issues/the-senate?p=4&s=50\n",
        "page 5 of 11"
       ]
      },
      {
       "output_type": "stream",
       "stream": "stdout",
       "text": [
        "\n",
        "http://mediamatters.org/issues/the-senate?p=5&s=50\n",
        "page 6 of 11"
       ]
      },
      {
       "output_type": "stream",
       "stream": "stdout",
       "text": [
        "\n",
        "http://mediamatters.org/issues/the-senate?p=6&s=50\n",
        "page 7 of 11"
       ]
      },
      {
       "output_type": "stream",
       "stream": "stdout",
       "text": [
        "\n",
        "http://mediamatters.org/issues/the-senate?p=7&s=50\n",
        "page 8 of 11"
       ]
      },
      {
       "output_type": "stream",
       "stream": "stdout",
       "text": [
        "\n",
        "http://mediamatters.org/issues/the-senate?p=8&s=50\n",
        "page 9 of 11"
       ]
      },
      {
       "output_type": "stream",
       "stream": "stdout",
       "text": [
        "\n",
        "http://mediamatters.org/issues/the-senate?p=9&s=50\n",
        "page 10 of 11"
       ]
      },
      {
       "output_type": "stream",
       "stream": "stdout",
       "text": [
        "\n",
        "http://mediamatters.org/issues/the-senate?p=10&s=50\n",
        "page 11 of 11"
       ]
      },
      {
       "output_type": "stream",
       "stream": "stdout",
       "text": [
        "\n",
        "http://mediamatters.org/issues/the-senate?p=11&s=50\n",
        "saved mm_the_senate.csv; rows: 523"
       ]
      },
      {
       "output_type": "stream",
       "stream": "stdout",
       "text": [
        "\n",
        "page 1 of 1"
       ]
      },
      {
       "output_type": "stream",
       "stream": "stdout",
       "text": [
        "\n",
        "http://mediamatters.org/issues/trade?p=1&s=50\n",
        "saved mm_trade.csv; rows: 43"
       ]
      },
      {
       "output_type": "stream",
       "stream": "stdout",
       "text": [
        "\n",
        "page 1 of 1"
       ]
      },
      {
       "output_type": "stream",
       "stream": "stdout",
       "text": [
        "\n",
        "http://mediamatters.org/issues/stem-cell-research?p=1&s=50\n",
        "saved mm_stem_cell_research.csv; rows: 43"
       ]
      },
      {
       "output_type": "stream",
       "stream": "stdout",
       "text": [
        "\n",
        "page 1 of 48"
       ]
      },
      {
       "output_type": "stream",
       "stream": "stdout",
       "text": [
        "\n",
        "http://mediamatters.org/issues/race-ethnicity?p=1&s=50\n",
        "page 2 of 48"
       ]
      },
      {
       "output_type": "stream",
       "stream": "stdout",
       "text": [
        "\n",
        "http://mediamatters.org/issues/race-ethnicity?p=2&s=50\n",
        "page 3 of 48"
       ]
      },
      {
       "output_type": "stream",
       "stream": "stdout",
       "text": [
        "\n",
        "http://mediamatters.org/issues/race-ethnicity?p=3&s=50\n",
        "page 4 of 48"
       ]
      },
      {
       "output_type": "stream",
       "stream": "stdout",
       "text": [
        "\n",
        "http://mediamatters.org/issues/race-ethnicity?p=4&s=50\n",
        "page 5 of 48"
       ]
      },
      {
       "output_type": "stream",
       "stream": "stdout",
       "text": [
        "\n",
        "http://mediamatters.org/issues/race-ethnicity?p=5&s=50\n",
        "page 6 of 48"
       ]
      },
      {
       "output_type": "stream",
       "stream": "stdout",
       "text": [
        "\n",
        "http://mediamatters.org/issues/race-ethnicity?p=6&s=50\n",
        "page 7 of 48"
       ]
      },
      {
       "output_type": "stream",
       "stream": "stdout",
       "text": [
        "\n",
        "http://mediamatters.org/issues/race-ethnicity?p=7&s=50\n",
        "page 8 of 48"
       ]
      },
      {
       "output_type": "stream",
       "stream": "stdout",
       "text": [
        "\n",
        "http://mediamatters.org/issues/race-ethnicity?p=8&s=50\n",
        "page 9 of 48"
       ]
      },
      {
       "output_type": "stream",
       "stream": "stdout",
       "text": [
        "\n",
        "http://mediamatters.org/issues/race-ethnicity?p=9&s=50\n",
        "page 10 of 48"
       ]
      },
      {
       "output_type": "stream",
       "stream": "stdout",
       "text": [
        "\n",
        "http://mediamatters.org/issues/race-ethnicity?p=10&s=50\n",
        "page 11 of 48"
       ]
      },
      {
       "output_type": "stream",
       "stream": "stdout",
       "text": [
        "\n",
        "http://mediamatters.org/issues/race-ethnicity?p=11&s=50\n",
        "page 12 of 48"
       ]
      },
      {
       "output_type": "stream",
       "stream": "stdout",
       "text": [
        "\n",
        "http://mediamatters.org/issues/race-ethnicity?p=12&s=50\n",
        "page 13 of 48"
       ]
      },
      {
       "output_type": "stream",
       "stream": "stdout",
       "text": [
        "\n",
        "http://mediamatters.org/issues/race-ethnicity?p=13&s=50\n",
        "page 14 of 48"
       ]
      },
      {
       "output_type": "stream",
       "stream": "stdout",
       "text": [
        "\n",
        "http://mediamatters.org/issues/race-ethnicity?p=14&s=50\n",
        "page 15 of 48"
       ]
      },
      {
       "output_type": "stream",
       "stream": "stdout",
       "text": [
        "\n",
        "http://mediamatters.org/issues/race-ethnicity?p=15&s=50\n",
        "page 16 of 48"
       ]
      },
      {
       "output_type": "stream",
       "stream": "stdout",
       "text": [
        "\n",
        "http://mediamatters.org/issues/race-ethnicity?p=16&s=50\n",
        "page 17 of 48"
       ]
      },
      {
       "output_type": "stream",
       "stream": "stdout",
       "text": [
        "\n",
        "http://mediamatters.org/issues/race-ethnicity?p=17&s=50\n",
        "page 18 of 48"
       ]
      },
      {
       "output_type": "stream",
       "stream": "stdout",
       "text": [
        "\n",
        "http://mediamatters.org/issues/race-ethnicity?p=18&s=50\n",
        "page 19 of 48"
       ]
      },
      {
       "output_type": "stream",
       "stream": "stdout",
       "text": [
        "\n",
        "http://mediamatters.org/issues/race-ethnicity?p=19&s=50\n",
        "page 20 of 48"
       ]
      },
      {
       "output_type": "stream",
       "stream": "stdout",
       "text": [
        "\n",
        "http://mediamatters.org/issues/race-ethnicity?p=20&s=50\n",
        "page 21 of 48"
       ]
      },
      {
       "output_type": "stream",
       "stream": "stdout",
       "text": [
        "\n",
        "http://mediamatters.org/issues/race-ethnicity?p=21&s=50\n",
        "page 22 of 48"
       ]
      },
      {
       "output_type": "stream",
       "stream": "stdout",
       "text": [
        "\n",
        "http://mediamatters.org/issues/race-ethnicity?p=22&s=50\n",
        "page 23 of 48"
       ]
      },
      {
       "output_type": "stream",
       "stream": "stdout",
       "text": [
        "\n",
        "http://mediamatters.org/issues/race-ethnicity?p=23&s=50\n",
        "page 24 of 48"
       ]
      },
      {
       "output_type": "stream",
       "stream": "stdout",
       "text": [
        "\n",
        "http://mediamatters.org/issues/race-ethnicity?p=24&s=50\n",
        "page 25 of 48"
       ]
      },
      {
       "output_type": "stream",
       "stream": "stdout",
       "text": [
        "\n",
        "http://mediamatters.org/issues/race-ethnicity?p=25&s=50\n",
        "page 26 of 48"
       ]
      },
      {
       "output_type": "stream",
       "stream": "stdout",
       "text": [
        "\n",
        "http://mediamatters.org/issues/race-ethnicity?p=26&s=50\n",
        "page 27 of 48"
       ]
      },
      {
       "output_type": "stream",
       "stream": "stdout",
       "text": [
        "\n",
        "http://mediamatters.org/issues/race-ethnicity?p=27&s=50\n",
        "page 28 of 48"
       ]
      },
      {
       "output_type": "stream",
       "stream": "stdout",
       "text": [
        "\n",
        "http://mediamatters.org/issues/race-ethnicity?p=28&s=50\n",
        "page 29 of 48"
       ]
      },
      {
       "output_type": "stream",
       "stream": "stdout",
       "text": [
        "\n",
        "http://mediamatters.org/issues/race-ethnicity?p=29&s=50\n",
        "page 30 of 48"
       ]
      },
      {
       "output_type": "stream",
       "stream": "stdout",
       "text": [
        "\n",
        "http://mediamatters.org/issues/race-ethnicity?p=30&s=50\n",
        "page 31 of 48"
       ]
      },
      {
       "output_type": "stream",
       "stream": "stdout",
       "text": [
        "\n",
        "http://mediamatters.org/issues/race-ethnicity?p=31&s=50\n",
        "page 32 of 48"
       ]
      },
      {
       "output_type": "stream",
       "stream": "stdout",
       "text": [
        "\n",
        "http://mediamatters.org/issues/race-ethnicity?p=32&s=50\n",
        "page 33 of 48"
       ]
      },
      {
       "output_type": "stream",
       "stream": "stdout",
       "text": [
        "\n",
        "http://mediamatters.org/issues/race-ethnicity?p=33&s=50\n",
        "page 34 of 48"
       ]
      },
      {
       "output_type": "stream",
       "stream": "stdout",
       "text": [
        "\n",
        "http://mediamatters.org/issues/race-ethnicity?p=34&s=50\n",
        "page 35 of 48"
       ]
      },
      {
       "output_type": "stream",
       "stream": "stdout",
       "text": [
        "\n",
        "http://mediamatters.org/issues/race-ethnicity?p=35&s=50\n",
        "page 36 of 48"
       ]
      },
      {
       "output_type": "stream",
       "stream": "stdout",
       "text": [
        "\n",
        "http://mediamatters.org/issues/race-ethnicity?p=36&s=50\n",
        "page 37 of 48"
       ]
      },
      {
       "output_type": "stream",
       "stream": "stdout",
       "text": [
        "\n",
        "http://mediamatters.org/issues/race-ethnicity?p=37&s=50\n",
        "page 38 of 48"
       ]
      },
      {
       "output_type": "stream",
       "stream": "stdout",
       "text": [
        "\n",
        "http://mediamatters.org/issues/race-ethnicity?p=38&s=50\n",
        "page 39 of 48"
       ]
      },
      {
       "output_type": "stream",
       "stream": "stdout",
       "text": [
        "\n",
        "http://mediamatters.org/issues/race-ethnicity?p=39&s=50\n",
        "page 40 of 48"
       ]
      },
      {
       "output_type": "stream",
       "stream": "stdout",
       "text": [
        "\n",
        "http://mediamatters.org/issues/race-ethnicity?p=40&s=50\n",
        "page 41 of 48"
       ]
      },
      {
       "output_type": "stream",
       "stream": "stdout",
       "text": [
        "\n",
        "http://mediamatters.org/issues/race-ethnicity?p=41&s=50\n",
        "page 42 of 48"
       ]
      },
      {
       "output_type": "stream",
       "stream": "stdout",
       "text": [
        "\n",
        "http://mediamatters.org/issues/race-ethnicity?p=42&s=50\n",
        "page 43 of 48"
       ]
      },
      {
       "output_type": "stream",
       "stream": "stdout",
       "text": [
        "\n",
        "http://mediamatters.org/issues/race-ethnicity?p=43&s=50\n",
        "page 44 of 48"
       ]
      },
      {
       "output_type": "stream",
       "stream": "stdout",
       "text": [
        "\n",
        "http://mediamatters.org/issues/race-ethnicity?p=44&s=50\n",
        "page 45 of 48"
       ]
      },
      {
       "output_type": "stream",
       "stream": "stdout",
       "text": [
        "\n",
        "http://mediamatters.org/issues/race-ethnicity?p=45&s=50\n",
        "page 46 of 48"
       ]
      },
      {
       "output_type": "stream",
       "stream": "stdout",
       "text": [
        "\n",
        "http://mediamatters.org/issues/race-ethnicity?p=46&s=50\n",
        "page 47 of 48"
       ]
      },
      {
       "output_type": "stream",
       "stream": "stdout",
       "text": [
        "\n",
        "http://mediamatters.org/issues/race-ethnicity?p=47&s=50\n",
        "page 48 of 48"
       ]
      },
      {
       "output_type": "stream",
       "stream": "stdout",
       "text": [
        "\n",
        "http://mediamatters.org/issues/race-ethnicity?p=48&s=50\n",
        "saved mm_race_ethnicity.csv; rows: 2270"
       ]
      },
      {
       "output_type": "stream",
       "stream": "stdout",
       "text": [
        "\n",
        "page 1 of 6"
       ]
      },
      {
       "output_type": "stream",
       "stream": "stdout",
       "text": [
        "\n",
        "http://mediamatters.org/issues/domestic-spying?p=1&s=50\n",
        "page 2 of 6"
       ]
      },
      {
       "output_type": "stream",
       "stream": "stdout",
       "text": [
        "\n",
        "http://mediamatters.org/issues/domestic-spying?p=2&s=50\n",
        "page 3 of 6"
       ]
      },
      {
       "output_type": "stream",
       "stream": "stdout",
       "text": [
        "\n",
        "http://mediamatters.org/issues/domestic-spying?p=3&s=50\n",
        "page 4 of 6"
       ]
      },
      {
       "output_type": "stream",
       "stream": "stdout",
       "text": [
        "\n",
        "http://mediamatters.org/issues/domestic-spying?p=4&s=50\n",
        "page 5 of 6"
       ]
      },
      {
       "output_type": "stream",
       "stream": "stdout",
       "text": [
        "\n",
        "http://mediamatters.org/issues/domestic-spying?p=5&s=50\n",
        "page 6 of 6"
       ]
      },
      {
       "output_type": "stream",
       "stream": "stdout",
       "text": [
        "\n",
        "http://mediamatters.org/issues/domestic-spying?p=6&s=50\n",
        "saved mm_domestic_spying.csv; rows: 263"
       ]
      },
      {
       "output_type": "stream",
       "stream": "stdout",
       "text": [
        "\n",
        "page 1 of 1"
       ]
      },
      {
       "output_type": "stream",
       "stream": "stdout",
       "text": [
        "\n",
        "http://mediamatters.org/issues/mental-health?p=1&s=50\n",
        "saved mm_mental_health.csv; rows: 34"
       ]
      },
      {
       "output_type": "stream",
       "stream": "stdout",
       "text": [
        "\n",
        "page 1 of 18"
       ]
      },
      {
       "output_type": "stream",
       "stream": "stdout",
       "text": [
        "\n",
        "http://mediamatters.org/issues/cabinet-agencies?p=1&s=50\n",
        "page 2 of 18"
       ]
      },
      {
       "output_type": "stream",
       "stream": "stdout",
       "text": [
        "\n",
        "http://mediamatters.org/issues/cabinet-agencies?p=2&s=50\n",
        "page 3 of 18"
       ]
      },
      {
       "output_type": "stream",
       "stream": "stdout",
       "text": [
        "\n",
        "http://mediamatters.org/issues/cabinet-agencies?p=3&s=50\n",
        "page 4 of 18"
       ]
      },
      {
       "output_type": "stream",
       "stream": "stdout",
       "text": [
        "\n",
        "http://mediamatters.org/issues/cabinet-agencies?p=4&s=50\n",
        "page 5 of 18"
       ]
      },
      {
       "output_type": "stream",
       "stream": "stdout",
       "text": [
        "\n",
        "http://mediamatters.org/issues/cabinet-agencies?p=5&s=50\n",
        "page 6 of 18"
       ]
      },
      {
       "output_type": "stream",
       "stream": "stdout",
       "text": [
        "\n",
        "http://mediamatters.org/issues/cabinet-agencies?p=6&s=50\n",
        "page 7 of 18"
       ]
      },
      {
       "output_type": "stream",
       "stream": "stdout",
       "text": [
        "\n",
        "http://mediamatters.org/issues/cabinet-agencies?p=7&s=50\n",
        "page 8 of 18"
       ]
      },
      {
       "output_type": "stream",
       "stream": "stdout",
       "text": [
        "\n",
        "http://mediamatters.org/issues/cabinet-agencies?p=8&s=50\n",
        "page 9 of 18"
       ]
      },
      {
       "output_type": "stream",
       "stream": "stdout",
       "text": [
        "\n",
        "http://mediamatters.org/issues/cabinet-agencies?p=9&s=50\n",
        "page 10 of 18"
       ]
      },
      {
       "output_type": "stream",
       "stream": "stdout",
       "text": [
        "\n",
        "http://mediamatters.org/issues/cabinet-agencies?p=10&s=50\n",
        "page 11 of 18"
       ]
      },
      {
       "output_type": "stream",
       "stream": "stdout",
       "text": [
        "\n",
        "http://mediamatters.org/issues/cabinet-agencies?p=11&s=50\n",
        "page 12 of 18"
       ]
      },
      {
       "output_type": "stream",
       "stream": "stdout",
       "text": [
        "\n",
        "http://mediamatters.org/issues/cabinet-agencies?p=12&s=50\n",
        "page 13 of 18"
       ]
      },
      {
       "output_type": "stream",
       "stream": "stdout",
       "text": [
        "\n",
        "http://mediamatters.org/issues/cabinet-agencies?p=13&s=50\n",
        "page 14 of 18"
       ]
      },
      {
       "output_type": "stream",
       "stream": "stdout",
       "text": [
        "\n",
        "http://mediamatters.org/issues/cabinet-agencies?p=14&s=50\n",
        "page 15 of 18"
       ]
      },
      {
       "output_type": "stream",
       "stream": "stdout",
       "text": [
        "\n",
        "http://mediamatters.org/issues/cabinet-agencies?p=15&s=50\n",
        "page 16 of 18"
       ]
      },
      {
       "output_type": "stream",
       "stream": "stdout",
       "text": [
        "\n",
        "http://mediamatters.org/issues/cabinet-agencies?p=16&s=50\n",
        "page 17 of 18"
       ]
      },
      {
       "output_type": "stream",
       "stream": "stdout",
       "text": [
        "\n",
        "http://mediamatters.org/issues/cabinet-agencies?p=17&s=50\n",
        "page 18 of 18"
       ]
      },
      {
       "output_type": "stream",
       "stream": "stdout",
       "text": [
        "\n",
        "http://mediamatters.org/issues/cabinet-agencies?p=18&s=50\n",
        "saved mm_cabinet_agencies.csv; rows: 851"
       ]
      },
      {
       "output_type": "stream",
       "stream": "stdout",
       "text": [
        "\n",
        "page 1 of 10"
       ]
      },
      {
       "output_type": "stream",
       "stream": "stdout",
       "text": [
        "\n",
        "http://mediamatters.org/issues/the-house-of-representatives?p=1&s=50\n",
        "page 2 of 10"
       ]
      },
      {
       "output_type": "stream",
       "stream": "stdout",
       "text": [
        "\n",
        "http://mediamatters.org/issues/the-house-of-representatives?p=2&s=50\n",
        "page 3 of 10"
       ]
      },
      {
       "output_type": "stream",
       "stream": "stdout",
       "text": [
        "\n",
        "http://mediamatters.org/issues/the-house-of-representatives?p=3&s=50\n",
        "page 4 of 10"
       ]
      },
      {
       "output_type": "stream",
       "stream": "stdout",
       "text": [
        "\n",
        "http://mediamatters.org/issues/the-house-of-representatives?p=4&s=50\n",
        "page 5 of 10"
       ]
      },
      {
       "output_type": "stream",
       "stream": "stdout",
       "text": [
        "\n",
        "http://mediamatters.org/issues/the-house-of-representatives?p=5&s=50\n",
        "page 6 of 10"
       ]
      },
      {
       "output_type": "stream",
       "stream": "stdout",
       "text": [
        "\n",
        "http://mediamatters.org/issues/the-house-of-representatives?p=6&s=50\n",
        "page 7 of 10"
       ]
      },
      {
       "output_type": "stream",
       "stream": "stdout",
       "text": [
        "\n",
        "http://mediamatters.org/issues/the-house-of-representatives?p=7&s=50\n",
        "page 8 of 10"
       ]
      },
      {
       "output_type": "stream",
       "stream": "stdout",
       "text": [
        "\n",
        "http://mediamatters.org/issues/the-house-of-representatives?p=8&s=50\n",
        "page 9 of 10"
       ]
      },
      {
       "output_type": "stream",
       "stream": "stdout",
       "text": [
        "\n",
        "http://mediamatters.org/issues/the-house-of-representatives?p=9&s=50\n",
        "page 10 of 10"
       ]
      },
      {
       "output_type": "stream",
       "stream": "stdout",
       "text": [
        "\n",
        "http://mediamatters.org/issues/the-house-of-representatives?p=10&s=50\n",
        "saved mm_the_house_of_representatives.csv; rows: 494"
       ]
      },
      {
       "output_type": "stream",
       "stream": "stdout",
       "text": [
        "\n",
        "page 1 of 21"
       ]
      },
      {
       "output_type": "stream",
       "stream": "stdout",
       "text": [
        "\n",
        "http://mediamatters.org/issues/the-judiciary?p=1&s=50\n",
        "page 2 of 21"
       ]
      },
      {
       "output_type": "stream",
       "stream": "stdout",
       "text": [
        "\n",
        "http://mediamatters.org/issues/the-judiciary?p=2&s=50\n",
        "page 3 of 21"
       ]
      },
      {
       "output_type": "stream",
       "stream": "stdout",
       "text": [
        "\n",
        "http://mediamatters.org/issues/the-judiciary?p=3&s=50\n",
        "page 4 of 21"
       ]
      },
      {
       "output_type": "stream",
       "stream": "stdout",
       "text": [
        "\n",
        "http://mediamatters.org/issues/the-judiciary?p=4&s=50\n",
        "page 5 of 21"
       ]
      },
      {
       "output_type": "stream",
       "stream": "stdout",
       "text": [
        "\n",
        "http://mediamatters.org/issues/the-judiciary?p=5&s=50\n",
        "page 6 of 21"
       ]
      },
      {
       "output_type": "stream",
       "stream": "stdout",
       "text": [
        "\n",
        "http://mediamatters.org/issues/the-judiciary?p=6&s=50\n",
        "page 7 of 21"
       ]
      },
      {
       "output_type": "stream",
       "stream": "stdout",
       "text": [
        "\n",
        "http://mediamatters.org/issues/the-judiciary?p=7&s=50\n",
        "page 8 of 21"
       ]
      },
      {
       "output_type": "stream",
       "stream": "stdout",
       "text": [
        "\n",
        "http://mediamatters.org/issues/the-judiciary?p=8&s=50\n",
        "page 9 of 21"
       ]
      },
      {
       "output_type": "stream",
       "stream": "stdout",
       "text": [
        "\n",
        "http://mediamatters.org/issues/the-judiciary?p=9&s=50\n",
        "page 10 of 21"
       ]
      },
      {
       "output_type": "stream",
       "stream": "stdout",
       "text": [
        "\n",
        "http://mediamatters.org/issues/the-judiciary?p=10&s=50\n",
        "page 11 of 21"
       ]
      },
      {
       "output_type": "stream",
       "stream": "stdout",
       "text": [
        "\n",
        "http://mediamatters.org/issues/the-judiciary?p=11&s=50\n",
        "page 12 of 21"
       ]
      },
      {
       "output_type": "stream",
       "stream": "stdout",
       "text": [
        "\n",
        "http://mediamatters.org/issues/the-judiciary?p=12&s=50\n",
        "page 13 of 21"
       ]
      },
      {
       "output_type": "stream",
       "stream": "stdout",
       "text": [
        "\n",
        "http://mediamatters.org/issues/the-judiciary?p=13&s=50\n",
        "page 14 of 21"
       ]
      },
      {
       "output_type": "stream",
       "stream": "stdout",
       "text": [
        "\n",
        "http://mediamatters.org/issues/the-judiciary?p=14&s=50\n",
        "page 15 of 21"
       ]
      },
      {
       "output_type": "stream",
       "stream": "stdout",
       "text": [
        "\n",
        "http://mediamatters.org/issues/the-judiciary?p=15&s=50\n",
        "page 16 of 21"
       ]
      },
      {
       "output_type": "stream",
       "stream": "stdout",
       "text": [
        "\n",
        "http://mediamatters.org/issues/the-judiciary?p=16&s=50\n",
        "page 17 of 21"
       ]
      },
      {
       "output_type": "stream",
       "stream": "stdout",
       "text": [
        "\n",
        "http://mediamatters.org/issues/the-judiciary?p=17&s=50\n",
        "page 18 of 21"
       ]
      },
      {
       "output_type": "stream",
       "stream": "stdout",
       "text": [
        "\n",
        "http://mediamatters.org/issues/the-judiciary?p=18&s=50\n",
        "page 19 of 21"
       ]
      },
      {
       "output_type": "stream",
       "stream": "stdout",
       "text": [
        "\n",
        "http://mediamatters.org/issues/the-judiciary?p=19&s=50\n",
        "page 20 of 21"
       ]
      },
      {
       "output_type": "stream",
       "stream": "stdout",
       "text": [
        "\n",
        "http://mediamatters.org/issues/the-judiciary?p=20&s=50\n",
        "page 21 of 21"
       ]
      },
      {
       "output_type": "stream",
       "stream": "stdout",
       "text": [
        "\n",
        "http://mediamatters.org/issues/the-judiciary?p=21&s=50\n",
        "saved mm_the_judiciary.csv; rows: 1004"
       ]
      },
      {
       "output_type": "stream",
       "stream": "stdout",
       "text": [
        "\n",
        "page 1 of 1"
       ]
      },
      {
       "output_type": "stream",
       "stream": "stdout",
       "text": [
        "\n",
        "http://mediamatters.org/issues/standards?p=1&s=50\n",
        "saved mm_standards.csv; rows: 19"
       ]
      },
      {
       "output_type": "stream",
       "stream": "stdout",
       "text": [
        "\n",
        "page 1 of 1"
       ]
      },
      {
       "output_type": "stream",
       "stream": "stdout",
       "text": [
        "\n",
        "http://mediamatters.org/issues/net-neutrality?p=1&s=50\n",
        "saved mm_net_neutrality.csv; rows: 11"
       ]
      },
      {
       "output_type": "stream",
       "stream": "stdout",
       "text": [
        "\n",
        "page 1 of 1"
       ]
      },
      {
       "output_type": "stream",
       "stream": "stdout",
       "text": [
        "\n",
        "http://mediamatters.org/issues/college-financial-aid?p=1&s=50\n",
        "saved mm_college_financial_aid.csv; rows: 31"
       ]
      },
      {
       "output_type": "stream",
       "stream": "stdout",
       "text": [
        "\n",
        "page 1 of 1"
       ]
      },
      {
       "output_type": "stream",
       "stream": "stdout",
       "text": [
        "\n",
        "http://mediamatters.org/issues/intellectual-freedom?p=1&s=50\n",
        "saved mm_intellectual_freedom.csv; rows: 36"
       ]
      },
      {
       "output_type": "stream",
       "stream": "stdout",
       "text": [
        "\n",
        "page 1 of 9"
       ]
      },
      {
       "output_type": "stream",
       "stream": "stdout",
       "text": [
        "\n",
        "http://mediamatters.org/issues/military-personnel-veterans?p=1&s=50\n",
        "page 2 of 9"
       ]
      },
      {
       "output_type": "stream",
       "stream": "stdout",
       "text": [
        "\n",
        "http://mediamatters.org/issues/military-personnel-veterans?p=2&s=50\n",
        "page 3 of 9"
       ]
      },
      {
       "output_type": "stream",
       "stream": "stdout",
       "text": [
        "\n",
        "http://mediamatters.org/issues/military-personnel-veterans?p=3&s=50\n",
        "page 4 of 9"
       ]
      },
      {
       "output_type": "stream",
       "stream": "stdout",
       "text": [
        "\n",
        "http://mediamatters.org/issues/military-personnel-veterans?p=4&s=50\n",
        "page 5 of 9"
       ]
      },
      {
       "output_type": "stream",
       "stream": "stdout",
       "text": [
        "\n",
        "http://mediamatters.org/issues/military-personnel-veterans?p=5&s=50\n",
        "page 6 of 9"
       ]
      },
      {
       "output_type": "stream",
       "stream": "stdout",
       "text": [
        "\n",
        "http://mediamatters.org/issues/military-personnel-veterans?p=6&s=50\n",
        "page 7 of 9"
       ]
      },
      {
       "output_type": "stream",
       "stream": "stdout",
       "text": [
        "\n",
        "http://mediamatters.org/issues/military-personnel-veterans?p=7&s=50\n",
        "page 8 of 9"
       ]
      },
      {
       "output_type": "stream",
       "stream": "stdout",
       "text": [
        "\n",
        "http://mediamatters.org/issues/military-personnel-veterans?p=8&s=50\n",
        "page 9 of 9"
       ]
      },
      {
       "output_type": "stream",
       "stream": "stdout",
       "text": [
        "\n",
        "http://mediamatters.org/issues/military-personnel-veterans?p=9&s=50\n",
        "saved mm_military_personnel_veterans.csv; rows: 435"
       ]
      },
      {
       "output_type": "stream",
       "stream": "stdout",
       "text": [
        "\n",
        "page 1 of 3"
       ]
      },
      {
       "output_type": "stream",
       "stream": "stdout",
       "text": [
        "\n",
        "http://mediamatters.org/issues/housing?p=1&s=50\n",
        "page 2 of 3"
       ]
      },
      {
       "output_type": "stream",
       "stream": "stdout",
       "text": [
        "\n",
        "http://mediamatters.org/issues/housing?p=2&s=50\n",
        "page 3 of 3"
       ]
      },
      {
       "output_type": "stream",
       "stream": "stdout",
       "text": [
        "\n",
        "http://mediamatters.org/issues/housing?p=3&s=50\n",
        "saved mm_housing.csv; rows: 129"
       ]
      },
      {
       "output_type": "stream",
       "stream": "stdout",
       "text": [
        "\n",
        "page 1 of 75"
       ]
      },
      {
       "output_type": "stream",
       "stream": "stdout",
       "text": [
        "\n",
        "http://mediamatters.org/issues/the-presidency-white-house?p=1&s=50\n",
        "page 2 of 75"
       ]
      },
      {
       "output_type": "stream",
       "stream": "stdout",
       "text": [
        "\n",
        "http://mediamatters.org/issues/the-presidency-white-house?p=2&s=50\n",
        "page 3 of 75"
       ]
      },
      {
       "output_type": "stream",
       "stream": "stdout",
       "text": [
        "\n",
        "http://mediamatters.org/issues/the-presidency-white-house?p=3&s=50\n",
        "page 4 of 75"
       ]
      },
      {
       "output_type": "stream",
       "stream": "stdout",
       "text": [
        "\n",
        "http://mediamatters.org/issues/the-presidency-white-house?p=4&s=50\n",
        "page 5 of 75"
       ]
      },
      {
       "output_type": "stream",
       "stream": "stdout",
       "text": [
        "\n",
        "http://mediamatters.org/issues/the-presidency-white-house?p=5&s=50\n",
        "page 6 of 75"
       ]
      },
      {
       "output_type": "stream",
       "stream": "stdout",
       "text": [
        "\n",
        "http://mediamatters.org/issues/the-presidency-white-house?p=6&s=50\n",
        "page 7 of 75"
       ]
      },
      {
       "output_type": "stream",
       "stream": "stdout",
       "text": [
        "\n",
        "http://mediamatters.org/issues/the-presidency-white-house?p=7&s=50\n",
        "page 8 of 75"
       ]
      },
      {
       "output_type": "stream",
       "stream": "stdout",
       "text": [
        "\n",
        "http://mediamatters.org/issues/the-presidency-white-house?p=8&s=50\n",
        "page 9 of 75"
       ]
      },
      {
       "output_type": "stream",
       "stream": "stdout",
       "text": [
        "\n",
        "http://mediamatters.org/issues/the-presidency-white-house?p=9&s=50\n",
        "page 10 of 75"
       ]
      },
      {
       "output_type": "stream",
       "stream": "stdout",
       "text": [
        "\n",
        "http://mediamatters.org/issues/the-presidency-white-house?p=10&s=50\n",
        "page 11 of 75"
       ]
      },
      {
       "output_type": "stream",
       "stream": "stdout",
       "text": [
        "\n",
        "http://mediamatters.org/issues/the-presidency-white-house?p=11&s=50\n",
        "page 12 of 75"
       ]
      },
      {
       "output_type": "stream",
       "stream": "stdout",
       "text": [
        "\n",
        "http://mediamatters.org/issues/the-presidency-white-house?p=12&s=50\n",
        "page 13 of 75"
       ]
      },
      {
       "output_type": "stream",
       "stream": "stdout",
       "text": [
        "\n",
        "http://mediamatters.org/issues/the-presidency-white-house?p=13&s=50\n",
        "page 14 of 75"
       ]
      },
      {
       "output_type": "stream",
       "stream": "stdout",
       "text": [
        "\n",
        "http://mediamatters.org/issues/the-presidency-white-house?p=14&s=50\n",
        "page 15 of 75"
       ]
      },
      {
       "output_type": "stream",
       "stream": "stdout",
       "text": [
        "\n",
        "http://mediamatters.org/issues/the-presidency-white-house?p=15&s=50\n",
        "page 16 of 75"
       ]
      },
      {
       "output_type": "stream",
       "stream": "stdout",
       "text": [
        "\n",
        "http://mediamatters.org/issues/the-presidency-white-house?p=16&s=50\n",
        "page 17 of 75"
       ]
      },
      {
       "output_type": "stream",
       "stream": "stdout",
       "text": [
        "\n",
        "http://mediamatters.org/issues/the-presidency-white-house?p=17&s=50\n",
        "page 18 of 75"
       ]
      },
      {
       "output_type": "stream",
       "stream": "stdout",
       "text": [
        "\n",
        "http://mediamatters.org/issues/the-presidency-white-house?p=18&s=50\n",
        "page 19 of 75"
       ]
      },
      {
       "output_type": "stream",
       "stream": "stdout",
       "text": [
        "\n",
        "http://mediamatters.org/issues/the-presidency-white-house?p=19&s=50\n",
        "page 20 of 75"
       ]
      },
      {
       "output_type": "stream",
       "stream": "stdout",
       "text": [
        "\n",
        "http://mediamatters.org/issues/the-presidency-white-house?p=20&s=50\n",
        "page 21 of 75"
       ]
      },
      {
       "output_type": "stream",
       "stream": "stdout",
       "text": [
        "\n",
        "http://mediamatters.org/issues/the-presidency-white-house?p=21&s=50\n",
        "page 22 of 75"
       ]
      },
      {
       "output_type": "stream",
       "stream": "stdout",
       "text": [
        "\n",
        "http://mediamatters.org/issues/the-presidency-white-house?p=22&s=50\n",
        "page 23 of 75"
       ]
      },
      {
       "output_type": "stream",
       "stream": "stdout",
       "text": [
        "\n",
        "http://mediamatters.org/issues/the-presidency-white-house?p=23&s=50\n",
        "page 24 of 75"
       ]
      },
      {
       "output_type": "stream",
       "stream": "stdout",
       "text": [
        "\n",
        "http://mediamatters.org/issues/the-presidency-white-house?p=24&s=50\n",
        "page 25 of 75"
       ]
      },
      {
       "output_type": "stream",
       "stream": "stdout",
       "text": [
        "\n",
        "http://mediamatters.org/issues/the-presidency-white-house?p=25&s=50\n",
        "page 26 of 75"
       ]
      },
      {
       "output_type": "stream",
       "stream": "stdout",
       "text": [
        "\n",
        "http://mediamatters.org/issues/the-presidency-white-house?p=26&s=50\n",
        "page 27 of 75"
       ]
      },
      {
       "output_type": "stream",
       "stream": "stdout",
       "text": [
        "\n",
        "http://mediamatters.org/issues/the-presidency-white-house?p=27&s=50\n",
        "page 28 of 75"
       ]
      },
      {
       "output_type": "stream",
       "stream": "stdout",
       "text": [
        "\n",
        "http://mediamatters.org/issues/the-presidency-white-house?p=28&s=50\n",
        "page 29 of 75"
       ]
      },
      {
       "output_type": "stream",
       "stream": "stdout",
       "text": [
        "\n",
        "http://mediamatters.org/issues/the-presidency-white-house?p=29&s=50\n",
        "page 30 of 75"
       ]
      },
      {
       "output_type": "stream",
       "stream": "stdout",
       "text": [
        "\n",
        "http://mediamatters.org/issues/the-presidency-white-house?p=30&s=50\n",
        "page 31 of 75"
       ]
      },
      {
       "output_type": "stream",
       "stream": "stdout",
       "text": [
        "\n",
        "http://mediamatters.org/issues/the-presidency-white-house?p=31&s=50\n",
        "page 32 of 75"
       ]
      },
      {
       "output_type": "stream",
       "stream": "stdout",
       "text": [
        "\n",
        "http://mediamatters.org/issues/the-presidency-white-house?p=32&s=50\n",
        "page 33 of 75"
       ]
      },
      {
       "output_type": "stream",
       "stream": "stdout",
       "text": [
        "\n",
        "http://mediamatters.org/issues/the-presidency-white-house?p=33&s=50\n",
        "page 34 of 75"
       ]
      },
      {
       "output_type": "stream",
       "stream": "stdout",
       "text": [
        "\n",
        "http://mediamatters.org/issues/the-presidency-white-house?p=34&s=50\n",
        "page 35 of 75"
       ]
      },
      {
       "output_type": "stream",
       "stream": "stdout",
       "text": [
        "\n",
        "http://mediamatters.org/issues/the-presidency-white-house?p=35&s=50\n",
        "page 36 of 75"
       ]
      },
      {
       "output_type": "stream",
       "stream": "stdout",
       "text": [
        "\n",
        "http://mediamatters.org/issues/the-presidency-white-house?p=36&s=50\n",
        "page 37 of 75"
       ]
      },
      {
       "output_type": "stream",
       "stream": "stdout",
       "text": [
        "\n",
        "http://mediamatters.org/issues/the-presidency-white-house?p=37&s=50\n",
        "page 38 of 75"
       ]
      },
      {
       "output_type": "stream",
       "stream": "stdout",
       "text": [
        "\n",
        "http://mediamatters.org/issues/the-presidency-white-house?p=38&s=50\n",
        "page 39 of 75"
       ]
      },
      {
       "output_type": "stream",
       "stream": "stdout",
       "text": [
        "\n",
        "http://mediamatters.org/issues/the-presidency-white-house?p=39&s=50\n",
        "page 40 of 75"
       ]
      },
      {
       "output_type": "stream",
       "stream": "stdout",
       "text": [
        "\n",
        "http://mediamatters.org/issues/the-presidency-white-house?p=40&s=50\n",
        "page 41 of 75"
       ]
      },
      {
       "output_type": "stream",
       "stream": "stdout",
       "text": [
        "\n",
        "http://mediamatters.org/issues/the-presidency-white-house?p=41&s=50\n",
        "page 42 of 75"
       ]
      },
      {
       "output_type": "stream",
       "stream": "stdout",
       "text": [
        "\n",
        "http://mediamatters.org/issues/the-presidency-white-house?p=42&s=50\n",
        "page 43 of 75"
       ]
      },
      {
       "output_type": "stream",
       "stream": "stdout",
       "text": [
        "\n",
        "http://mediamatters.org/issues/the-presidency-white-house?p=43&s=50\n",
        "page 44 of 75"
       ]
      },
      {
       "output_type": "stream",
       "stream": "stdout",
       "text": [
        "\n",
        "http://mediamatters.org/issues/the-presidency-white-house?p=44&s=50\n",
        "page 45 of 75"
       ]
      },
      {
       "output_type": "stream",
       "stream": "stdout",
       "text": [
        "\n",
        "http://mediamatters.org/issues/the-presidency-white-house?p=45&s=50\n",
        "page 46 of 75"
       ]
      },
      {
       "output_type": "stream",
       "stream": "stdout",
       "text": [
        "\n",
        "http://mediamatters.org/issues/the-presidency-white-house?p=46&s=50\n",
        "page 47 of 75"
       ]
      },
      {
       "output_type": "stream",
       "stream": "stdout",
       "text": [
        "\n",
        "http://mediamatters.org/issues/the-presidency-white-house?p=47&s=50\n",
        "page 48 of 75"
       ]
      },
      {
       "output_type": "stream",
       "stream": "stdout",
       "text": [
        "\n",
        "http://mediamatters.org/issues/the-presidency-white-house?p=48&s=50\n",
        "page 49 of 75"
       ]
      },
      {
       "output_type": "stream",
       "stream": "stdout",
       "text": [
        "\n",
        "http://mediamatters.org/issues/the-presidency-white-house?p=49&s=50\n",
        "page 50 of 75"
       ]
      },
      {
       "output_type": "stream",
       "stream": "stdout",
       "text": [
        "\n",
        "http://mediamatters.org/issues/the-presidency-white-house?p=50&s=50\n",
        "page 51 of 75"
       ]
      },
      {
       "output_type": "stream",
       "stream": "stdout",
       "text": [
        "\n",
        "http://mediamatters.org/issues/the-presidency-white-house?p=51&s=50\n",
        "page 52 of 75"
       ]
      },
      {
       "output_type": "stream",
       "stream": "stdout",
       "text": [
        "\n",
        "http://mediamatters.org/issues/the-presidency-white-house?p=52&s=50\n",
        "page 53 of 75"
       ]
      },
      {
       "output_type": "stream",
       "stream": "stdout",
       "text": [
        "\n",
        "http://mediamatters.org/issues/the-presidency-white-house?p=53&s=50\n",
        "page 54 of 75"
       ]
      },
      {
       "output_type": "stream",
       "stream": "stdout",
       "text": [
        "\n",
        "http://mediamatters.org/issues/the-presidency-white-house?p=54&s=50\n",
        "page 55 of 75"
       ]
      },
      {
       "output_type": "stream",
       "stream": "stdout",
       "text": [
        "\n",
        "http://mediamatters.org/issues/the-presidency-white-house?p=55&s=50\n",
        "page 56 of 75"
       ]
      },
      {
       "output_type": "stream",
       "stream": "stdout",
       "text": [
        "\n",
        "http://mediamatters.org/issues/the-presidency-white-house?p=56&s=50\n",
        "page 57 of 75"
       ]
      },
      {
       "output_type": "stream",
       "stream": "stdout",
       "text": [
        "\n",
        "http://mediamatters.org/issues/the-presidency-white-house?p=57&s=50\n",
        "page 58 of 75"
       ]
      },
      {
       "output_type": "stream",
       "stream": "stdout",
       "text": [
        "\n",
        "http://mediamatters.org/issues/the-presidency-white-house?p=58&s=50\n",
        "page 59 of 75"
       ]
      },
      {
       "output_type": "stream",
       "stream": "stdout",
       "text": [
        "\n",
        "http://mediamatters.org/issues/the-presidency-white-house?p=59&s=50\n",
        "page 60 of 75"
       ]
      },
      {
       "output_type": "stream",
       "stream": "stdout",
       "text": [
        "\n",
        "http://mediamatters.org/issues/the-presidency-white-house?p=60&s=50\n",
        "page 61 of 75"
       ]
      },
      {
       "output_type": "stream",
       "stream": "stdout",
       "text": [
        "\n",
        "http://mediamatters.org/issues/the-presidency-white-house?p=61&s=50\n",
        "page 62 of 75"
       ]
      },
      {
       "output_type": "stream",
       "stream": "stdout",
       "text": [
        "\n",
        "http://mediamatters.org/issues/the-presidency-white-house?p=62&s=50\n",
        "page 63 of 75"
       ]
      },
      {
       "output_type": "stream",
       "stream": "stdout",
       "text": [
        "\n",
        "http://mediamatters.org/issues/the-presidency-white-house?p=63&s=50\n",
        "page 64 of 75"
       ]
      },
      {
       "output_type": "stream",
       "stream": "stdout",
       "text": [
        "\n",
        "http://mediamatters.org/issues/the-presidency-white-house?p=64&s=50\n",
        "page 65 of 75"
       ]
      },
      {
       "output_type": "stream",
       "stream": "stdout",
       "text": [
        "\n",
        "http://mediamatters.org/issues/the-presidency-white-house?p=65&s=50\n",
        "page 66 of 75"
       ]
      },
      {
       "output_type": "stream",
       "stream": "stdout",
       "text": [
        "\n",
        "http://mediamatters.org/issues/the-presidency-white-house?p=66&s=50\n",
        "page 67 of 75"
       ]
      },
      {
       "output_type": "stream",
       "stream": "stdout",
       "text": [
        "\n",
        "http://mediamatters.org/issues/the-presidency-white-house?p=67&s=50\n",
        "page 68 of 75"
       ]
      },
      {
       "output_type": "stream",
       "stream": "stdout",
       "text": [
        "\n",
        "http://mediamatters.org/issues/the-presidency-white-house?p=68&s=50\n",
        "page 69 of 75"
       ]
      },
      {
       "output_type": "stream",
       "stream": "stdout",
       "text": [
        "\n",
        "http://mediamatters.org/issues/the-presidency-white-house?p=69&s=50\n",
        "page 70 of 75"
       ]
      },
      {
       "output_type": "stream",
       "stream": "stdout",
       "text": [
        "\n",
        "http://mediamatters.org/issues/the-presidency-white-house?p=70&s=50\n",
        "page 71 of 75"
       ]
      },
      {
       "output_type": "stream",
       "stream": "stdout",
       "text": [
        "\n",
        "http://mediamatters.org/issues/the-presidency-white-house?p=71&s=50\n",
        "page 72 of 75"
       ]
      },
      {
       "output_type": "stream",
       "stream": "stdout",
       "text": [
        "\n",
        "http://mediamatters.org/issues/the-presidency-white-house?p=72&s=50\n",
        "page 73 of 75"
       ]
      },
      {
       "output_type": "stream",
       "stream": "stdout",
       "text": [
        "\n",
        "http://mediamatters.org/issues/the-presidency-white-house?p=73&s=50\n",
        "page 74 of 75"
       ]
      },
      {
       "output_type": "stream",
       "stream": "stdout",
       "text": [
        "\n",
        "http://mediamatters.org/issues/the-presidency-white-house?p=74&s=50\n",
        "page 75 of 75"
       ]
      },
      {
       "output_type": "stream",
       "stream": "stdout",
       "text": [
        "\n",
        "http://mediamatters.org/issues/the-presidency-white-house?p=75&s=50\n",
        "saved mm_the_presidency_white_house.csv; rows: 3751"
       ]
      },
      {
       "output_type": "stream",
       "stream": "stdout",
       "text": [
        "\n",
        "page 1 of 5"
       ]
      },
      {
       "output_type": "stream",
       "stream": "stdout",
       "text": [
        "\n",
        "http://mediamatters.org/issues/racial-justice?p=1&s=50\n",
        "page 2 of 5"
       ]
      },
      {
       "output_type": "stream",
       "stream": "stdout",
       "text": [
        "\n",
        "http://mediamatters.org/issues/racial-justice?p=2&s=50\n",
        "page 3 of 5"
       ]
      },
      {
       "output_type": "stream",
       "stream": "stdout",
       "text": [
        "\n",
        "http://mediamatters.org/issues/racial-justice?p=3&s=50\n",
        "page 4 of 5"
       ]
      },
      {
       "output_type": "stream",
       "stream": "stdout",
       "text": [
        "\n",
        "http://mediamatters.org/issues/racial-justice?p=4&s=50\n",
        "page 5 of 5"
       ]
      },
      {
       "output_type": "stream",
       "stream": "stdout",
       "text": [
        "\n",
        "http://mediamatters.org/issues/racial-justice?p=5&s=50\n",
        "saved mm_racial_justice.csv; rows: 250"
       ]
      },
      {
       "output_type": "stream",
       "stream": "stdout",
       "text": [
        "\n",
        "page 1 of 1"
       ]
      },
      {
       "output_type": "stream",
       "stream": "stdout",
       "text": [
        "\n",
        "http://mediamatters.org/issues/school-vouchers?p=1&s=50\n",
        "saved mm_school_vouchers.csv; rows: 15"
       ]
      },
      {
       "output_type": "stream",
       "stream": "stdout",
       "text": [
        "\n",
        "page 1 of 35"
       ]
      },
      {
       "output_type": "stream",
       "stream": "stdout",
       "text": [
        "\n",
        "http://mediamatters.org/issues/religion?p=1&s=50\n",
        "page 2 of 35"
       ]
      },
      {
       "output_type": "stream",
       "stream": "stdout",
       "text": [
        "\n",
        "http://mediamatters.org/issues/religion?p=2&s=50\n",
        "page 3 of 35"
       ]
      },
      {
       "output_type": "stream",
       "stream": "stdout",
       "text": [
        "\n",
        "http://mediamatters.org/issues/religion?p=3&s=50\n",
        "page 4 of 35"
       ]
      },
      {
       "output_type": "stream",
       "stream": "stdout",
       "text": [
        "\n",
        "http://mediamatters.org/issues/religion?p=4&s=50\n",
        "page 5 of 35"
       ]
      },
      {
       "output_type": "stream",
       "stream": "stdout",
       "text": [
        "\n",
        "http://mediamatters.org/issues/religion?p=5&s=50\n",
        "page 6 of 35"
       ]
      },
      {
       "output_type": "stream",
       "stream": "stdout",
       "text": [
        "\n",
        "http://mediamatters.org/issues/religion?p=6&s=50\n",
        "page 7 of 35"
       ]
      },
      {
       "output_type": "stream",
       "stream": "stdout",
       "text": [
        "\n",
        "http://mediamatters.org/issues/religion?p=7&s=50\n",
        "page 8 of 35"
       ]
      },
      {
       "output_type": "stream",
       "stream": "stdout",
       "text": [
        "\n",
        "http://mediamatters.org/issues/religion?p=8&s=50\n",
        "page 9 of 35"
       ]
      },
      {
       "output_type": "stream",
       "stream": "stdout",
       "text": [
        "\n",
        "http://mediamatters.org/issues/religion?p=9&s=50\n",
        "page 10 of 35"
       ]
      },
      {
       "output_type": "stream",
       "stream": "stdout",
       "text": [
        "\n",
        "http://mediamatters.org/issues/religion?p=10&s=50\n",
        "page 11 of 35"
       ]
      },
      {
       "output_type": "stream",
       "stream": "stdout",
       "text": [
        "\n",
        "http://mediamatters.org/issues/religion?p=11&s=50\n",
        "page 12 of 35"
       ]
      },
      {
       "output_type": "stream",
       "stream": "stdout",
       "text": [
        "\n",
        "http://mediamatters.org/issues/religion?p=12&s=50\n",
        "page 13 of 35"
       ]
      },
      {
       "output_type": "stream",
       "stream": "stdout",
       "text": [
        "\n",
        "http://mediamatters.org/issues/religion?p=13&s=50\n",
        "page 14 of 35"
       ]
      },
      {
       "output_type": "stream",
       "stream": "stdout",
       "text": [
        "\n",
        "http://mediamatters.org/issues/religion?p=14&s=50\n",
        "page 15 of 35"
       ]
      },
      {
       "output_type": "stream",
       "stream": "stdout",
       "text": [
        "\n",
        "http://mediamatters.org/issues/religion?p=15&s=50\n",
        "page 16 of 35"
       ]
      },
      {
       "output_type": "stream",
       "stream": "stdout",
       "text": [
        "\n",
        "http://mediamatters.org/issues/religion?p=16&s=50\n",
        "page 17 of 35"
       ]
      },
      {
       "output_type": "stream",
       "stream": "stdout",
       "text": [
        "\n",
        "http://mediamatters.org/issues/religion?p=17&s=50\n",
        "page 18 of 35"
       ]
      },
      {
       "output_type": "stream",
       "stream": "stdout",
       "text": [
        "\n",
        "http://mediamatters.org/issues/religion?p=18&s=50\n",
        "page 19 of 35"
       ]
      },
      {
       "output_type": "stream",
       "stream": "stdout",
       "text": [
        "\n",
        "http://mediamatters.org/issues/religion?p=19&s=50\n",
        "page 20 of 35"
       ]
      },
      {
       "output_type": "stream",
       "stream": "stdout",
       "text": [
        "\n",
        "http://mediamatters.org/issues/religion?p=20&s=50\n",
        "page 21 of 35"
       ]
      },
      {
       "output_type": "stream",
       "stream": "stdout",
       "text": [
        "\n",
        "http://mediamatters.org/issues/religion?p=21&s=50\n",
        "page 22 of 35"
       ]
      },
      {
       "output_type": "stream",
       "stream": "stdout",
       "text": [
        "\n",
        "http://mediamatters.org/issues/religion?p=22&s=50\n",
        "page 23 of 35"
       ]
      },
      {
       "output_type": "stream",
       "stream": "stdout",
       "text": [
        "\n",
        "http://mediamatters.org/issues/religion?p=23&s=50\n",
        "page 24 of 35"
       ]
      },
      {
       "output_type": "stream",
       "stream": "stdout",
       "text": [
        "\n",
        "http://mediamatters.org/issues/religion?p=24&s=50\n",
        "page 25 of 35"
       ]
      },
      {
       "output_type": "stream",
       "stream": "stdout",
       "text": [
        "\n",
        "http://mediamatters.org/issues/religion?p=25&s=50\n",
        "page 26 of 35"
       ]
      },
      {
       "output_type": "stream",
       "stream": "stdout",
       "text": [
        "\n",
        "http://mediamatters.org/issues/religion?p=26&s=50\n",
        "page 27 of 35"
       ]
      },
      {
       "output_type": "stream",
       "stream": "stdout",
       "text": [
        "\n",
        "http://mediamatters.org/issues/religion?p=27&s=50\n",
        "page 28 of 35"
       ]
      },
      {
       "output_type": "stream",
       "stream": "stdout",
       "text": [
        "\n",
        "http://mediamatters.org/issues/religion?p=28&s=50\n",
        "page 29 of 35"
       ]
      },
      {
       "output_type": "stream",
       "stream": "stdout",
       "text": [
        "\n",
        "http://mediamatters.org/issues/religion?p=29&s=50\n",
        "page 30 of 35"
       ]
      },
      {
       "output_type": "stream",
       "stream": "stdout",
       "text": [
        "\n",
        "http://mediamatters.org/issues/religion?p=30&s=50\n",
        "page 31 of 35"
       ]
      },
      {
       "output_type": "stream",
       "stream": "stdout",
       "text": [
        "\n",
        "http://mediamatters.org/issues/religion?p=31&s=50\n",
        "page 32 of 35"
       ]
      },
      {
       "output_type": "stream",
       "stream": "stdout",
       "text": [
        "\n",
        "http://mediamatters.org/issues/religion?p=32&s=50\n",
        "page 33 of 35"
       ]
      },
      {
       "output_type": "stream",
       "stream": "stdout",
       "text": [
        "\n",
        "http://mediamatters.org/issues/religion?p=33&s=50\n",
        "page 34 of 35"
       ]
      },
      {
       "output_type": "stream",
       "stream": "stdout",
       "text": [
        "\n",
        "http://mediamatters.org/issues/religion?p=34&s=50\n",
        "page 35 of 35"
       ]
      },
      {
       "output_type": "stream",
       "stream": "stdout",
       "text": [
        "\n",
        "http://mediamatters.org/issues/religion?p=35&s=50\n",
        "saved mm_religion.csv; rows: 1658"
       ]
      },
      {
       "output_type": "stream",
       "stream": "stdout",
       "text": [
        "\n",
        "page 1 of 5"
       ]
      },
      {
       "output_type": "stream",
       "stream": "stdout",
       "text": [
        "\n",
        "http://mediamatters.org/issues/border-security?p=1&s=50\n",
        "page 2 of 5"
       ]
      },
      {
       "output_type": "stream",
       "stream": "stdout",
       "text": [
        "\n",
        "http://mediamatters.org/issues/border-security?p=2&s=50\n",
        "page 3 of 5"
       ]
      },
      {
       "output_type": "stream",
       "stream": "stdout",
       "text": [
        "\n",
        "http://mediamatters.org/issues/border-security?p=3&s=50\n",
        "page 4 of 5"
       ]
      },
      {
       "output_type": "stream",
       "stream": "stdout",
       "text": [
        "\n",
        "http://mediamatters.org/issues/border-security?p=4&s=50\n",
        "page 5 of 5"
       ]
      },
      {
       "output_type": "stream",
       "stream": "stdout",
       "text": [
        "\n",
        "http://mediamatters.org/issues/border-security?p=5&s=50\n",
        "saved mm_border_security.csv; rows: 213"
       ]
      },
      {
       "output_type": "stream",
       "stream": "stdout",
       "text": [
        "\n",
        "page 1 of 2"
       ]
      },
      {
       "output_type": "stream",
       "stream": "stdout",
       "text": [
        "\n",
        "http://mediamatters.org/issues/education-funding?p=1&s=50\n",
        "page 2 of 2"
       ]
      },
      {
       "output_type": "stream",
       "stream": "stdout",
       "text": [
        "\n",
        "http://mediamatters.org/issues/education-funding?p=2&s=50\n",
        "saved mm_education_funding.csv; rows: 62"
       ]
      },
      {
       "output_type": "stream",
       "stream": "stdout",
       "text": [
        "\n",
        "page 1 of 62"
       ]
      },
      {
       "output_type": "stream",
       "stream": "stdout",
       "text": [
        "\n",
        "http://mediamatters.org/issues/health-care-reform?p=1&s=50\n",
        "page 2 of 62"
       ]
      },
      {
       "output_type": "stream",
       "stream": "stdout",
       "text": [
        "\n",
        "http://mediamatters.org/issues/health-care-reform?p=2&s=50\n",
        "page 3 of 62"
       ]
      },
      {
       "output_type": "stream",
       "stream": "stdout",
       "text": [
        "\n",
        "http://mediamatters.org/issues/health-care-reform?p=3&s=50\n",
        "page 4 of 62"
       ]
      },
      {
       "output_type": "stream",
       "stream": "stdout",
       "text": [
        "\n",
        "http://mediamatters.org/issues/health-care-reform?p=4&s=50\n",
        "page 5 of 62"
       ]
      },
      {
       "output_type": "stream",
       "stream": "stdout",
       "text": [
        "\n",
        "http://mediamatters.org/issues/health-care-reform?p=5&s=50\n",
        "page 6 of 62"
       ]
      },
      {
       "output_type": "stream",
       "stream": "stdout",
       "text": [
        "\n",
        "http://mediamatters.org/issues/health-care-reform?p=6&s=50\n",
        "page 7 of 62"
       ]
      },
      {
       "output_type": "stream",
       "stream": "stdout",
       "text": [
        "\n",
        "http://mediamatters.org/issues/health-care-reform?p=7&s=50\n",
        "page 8 of 62"
       ]
      },
      {
       "output_type": "stream",
       "stream": "stdout",
       "text": [
        "\n",
        "http://mediamatters.org/issues/health-care-reform?p=8&s=50\n",
        "page 9 of 62"
       ]
      },
      {
       "output_type": "stream",
       "stream": "stdout",
       "text": [
        "\n",
        "http://mediamatters.org/issues/health-care-reform?p=9&s=50\n",
        "page 10 of 62"
       ]
      },
      {
       "output_type": "stream",
       "stream": "stdout",
       "text": [
        "\n",
        "http://mediamatters.org/issues/health-care-reform?p=10&s=50\n",
        "page 11 of 62"
       ]
      },
      {
       "output_type": "stream",
       "stream": "stdout",
       "text": [
        "\n",
        "http://mediamatters.org/issues/health-care-reform?p=11&s=50\n",
        "page 12 of 62"
       ]
      },
      {
       "output_type": "stream",
       "stream": "stdout",
       "text": [
        "\n",
        "http://mediamatters.org/issues/health-care-reform?p=12&s=50\n",
        "page 13 of 62"
       ]
      },
      {
       "output_type": "stream",
       "stream": "stdout",
       "text": [
        "\n",
        "http://mediamatters.org/issues/health-care-reform?p=13&s=50\n",
        "page 14 of 62"
       ]
      },
      {
       "output_type": "stream",
       "stream": "stdout",
       "text": [
        "\n",
        "http://mediamatters.org/issues/health-care-reform?p=14&s=50\n",
        "page 15 of 62"
       ]
      },
      {
       "output_type": "stream",
       "stream": "stdout",
       "text": [
        "\n",
        "http://mediamatters.org/issues/health-care-reform?p=15&s=50\n",
        "page 16 of 62"
       ]
      },
      {
       "output_type": "stream",
       "stream": "stdout",
       "text": [
        "\n",
        "http://mediamatters.org/issues/health-care-reform?p=16&s=50\n",
        "page 17 of 62"
       ]
      },
      {
       "output_type": "stream",
       "stream": "stdout",
       "text": [
        "\n",
        "http://mediamatters.org/issues/health-care-reform?p=17&s=50\n",
        "page 18 of 62"
       ]
      },
      {
       "output_type": "stream",
       "stream": "stdout",
       "text": [
        "\n",
        "http://mediamatters.org/issues/health-care-reform?p=18&s=50\n",
        "page 19 of 62"
       ]
      },
      {
       "output_type": "stream",
       "stream": "stdout",
       "text": [
        "\n",
        "http://mediamatters.org/issues/health-care-reform?p=19&s=50\n",
        "page 20 of 62"
       ]
      },
      {
       "output_type": "stream",
       "stream": "stdout",
       "text": [
        "\n",
        "http://mediamatters.org/issues/health-care-reform?p=20&s=50\n",
        "page 21 of 62"
       ]
      },
      {
       "output_type": "stream",
       "stream": "stdout",
       "text": [
        "\n",
        "http://mediamatters.org/issues/health-care-reform?p=21&s=50\n",
        "page 22 of 62"
       ]
      },
      {
       "output_type": "stream",
       "stream": "stdout",
       "text": [
        "\n",
        "http://mediamatters.org/issues/health-care-reform?p=22&s=50\n",
        "page 23 of 62"
       ]
      },
      {
       "output_type": "stream",
       "stream": "stdout",
       "text": [
        "\n",
        "http://mediamatters.org/issues/health-care-reform?p=23&s=50\n",
        "page 24 of 62"
       ]
      },
      {
       "output_type": "stream",
       "stream": "stdout",
       "text": [
        "\n",
        "http://mediamatters.org/issues/health-care-reform?p=24&s=50\n",
        "page 25 of 62"
       ]
      },
      {
       "output_type": "stream",
       "stream": "stdout",
       "text": [
        "\n",
        "http://mediamatters.org/issues/health-care-reform?p=25&s=50\n",
        "page 26 of 62"
       ]
      },
      {
       "output_type": "stream",
       "stream": "stdout",
       "text": [
        "\n",
        "http://mediamatters.org/issues/health-care-reform?p=26&s=50\n",
        "page 27 of 62"
       ]
      },
      {
       "output_type": "stream",
       "stream": "stdout",
       "text": [
        "\n",
        "http://mediamatters.org/issues/health-care-reform?p=27&s=50\n",
        "page 28 of 62"
       ]
      },
      {
       "output_type": "stream",
       "stream": "stdout",
       "text": [
        "\n",
        "http://mediamatters.org/issues/health-care-reform?p=28&s=50\n",
        "page 29 of 62"
       ]
      },
      {
       "output_type": "stream",
       "stream": "stdout",
       "text": [
        "\n",
        "http://mediamatters.org/issues/health-care-reform?p=29&s=50\n",
        "page 30 of 62"
       ]
      },
      {
       "output_type": "stream",
       "stream": "stdout",
       "text": [
        "\n",
        "http://mediamatters.org/issues/health-care-reform?p=30&s=50\n",
        "page 31 of 62"
       ]
      },
      {
       "output_type": "stream",
       "stream": "stdout",
       "text": [
        "\n",
        "http://mediamatters.org/issues/health-care-reform?p=31&s=50\n",
        "page 32 of 62"
       ]
      },
      {
       "output_type": "stream",
       "stream": "stdout",
       "text": [
        "\n",
        "http://mediamatters.org/issues/health-care-reform?p=32&s=50\n",
        "page 33 of 62"
       ]
      },
      {
       "output_type": "stream",
       "stream": "stdout",
       "text": [
        "\n",
        "http://mediamatters.org/issues/health-care-reform?p=33&s=50\n",
        "page 34 of 62"
       ]
      },
      {
       "output_type": "stream",
       "stream": "stdout",
       "text": [
        "\n",
        "http://mediamatters.org/issues/health-care-reform?p=34&s=50\n",
        "page 35 of 62"
       ]
      },
      {
       "output_type": "stream",
       "stream": "stdout",
       "text": [
        "\n",
        "http://mediamatters.org/issues/health-care-reform?p=35&s=50\n",
        "page 36 of 62"
       ]
      },
      {
       "output_type": "stream",
       "stream": "stdout",
       "text": [
        "\n",
        "http://mediamatters.org/issues/health-care-reform?p=36&s=50\n",
        "page 37 of 62"
       ]
      },
      {
       "output_type": "stream",
       "stream": "stdout",
       "text": [
        "\n",
        "http://mediamatters.org/issues/health-care-reform?p=37&s=50\n",
        "page 38 of 62"
       ]
      },
      {
       "output_type": "stream",
       "stream": "stdout",
       "text": [
        "\n",
        "http://mediamatters.org/issues/health-care-reform?p=38&s=50\n",
        "page 39 of 62"
       ]
      },
      {
       "output_type": "stream",
       "stream": "stdout",
       "text": [
        "\n",
        "http://mediamatters.org/issues/health-care-reform?p=39&s=50\n",
        "page 40 of 62"
       ]
      },
      {
       "output_type": "stream",
       "stream": "stdout",
       "text": [
        "\n",
        "http://mediamatters.org/issues/health-care-reform?p=40&s=50\n",
        "page 41 of 62"
       ]
      },
      {
       "output_type": "stream",
       "stream": "stdout",
       "text": [
        "\n",
        "http://mediamatters.org/issues/health-care-reform?p=41&s=50\n",
        "page 42 of 62"
       ]
      },
      {
       "output_type": "stream",
       "stream": "stdout",
       "text": [
        "\n",
        "http://mediamatters.org/issues/health-care-reform?p=42&s=50\n",
        "page 43 of 62"
       ]
      },
      {
       "output_type": "stream",
       "stream": "stdout",
       "text": [
        "\n",
        "http://mediamatters.org/issues/health-care-reform?p=43&s=50\n",
        "page 44 of 62"
       ]
      },
      {
       "output_type": "stream",
       "stream": "stdout",
       "text": [
        "\n",
        "http://mediamatters.org/issues/health-care-reform?p=44&s=50\n",
        "page 45 of 62"
       ]
      },
      {
       "output_type": "stream",
       "stream": "stdout",
       "text": [
        "\n",
        "http://mediamatters.org/issues/health-care-reform?p=45&s=50\n",
        "page 46 of 62"
       ]
      },
      {
       "output_type": "stream",
       "stream": "stdout",
       "text": [
        "\n",
        "http://mediamatters.org/issues/health-care-reform?p=46&s=50\n",
        "page 47 of 62"
       ]
      },
      {
       "output_type": "stream",
       "stream": "stdout",
       "text": [
        "\n",
        "http://mediamatters.org/issues/health-care-reform?p=47&s=50\n",
        "page 48 of 62"
       ]
      },
      {
       "output_type": "stream",
       "stream": "stdout",
       "text": [
        "\n",
        "http://mediamatters.org/issues/health-care-reform?p=48&s=50\n",
        "page 49 of 62"
       ]
      },
      {
       "output_type": "stream",
       "stream": "stdout",
       "text": [
        "\n",
        "http://mediamatters.org/issues/health-care-reform?p=49&s=50\n",
        "page 50 of 62"
       ]
      },
      {
       "output_type": "stream",
       "stream": "stdout",
       "text": [
        "\n",
        "http://mediamatters.org/issues/health-care-reform?p=50&s=50\n",
        "page 51 of 62"
       ]
      },
      {
       "output_type": "stream",
       "stream": "stdout",
       "text": [
        "\n",
        "http://mediamatters.org/issues/health-care-reform?p=51&s=50\n",
        "page 52 of 62"
       ]
      },
      {
       "output_type": "stream",
       "stream": "stdout",
       "text": [
        "\n",
        "http://mediamatters.org/issues/health-care-reform?p=52&s=50\n",
        "page 53 of 62"
       ]
      },
      {
       "output_type": "stream",
       "stream": "stdout",
       "text": [
        "\n",
        "http://mediamatters.org/issues/health-care-reform?p=53&s=50\n",
        "page 54 of 62"
       ]
      },
      {
       "output_type": "stream",
       "stream": "stdout",
       "text": [
        "\n",
        "http://mediamatters.org/issues/health-care-reform?p=54&s=50\n",
        "page 55 of 62"
       ]
      },
      {
       "output_type": "stream",
       "stream": "stdout",
       "text": [
        "\n",
        "http://mediamatters.org/issues/health-care-reform?p=55&s=50\n",
        "page 56 of 62"
       ]
      },
      {
       "output_type": "stream",
       "stream": "stdout",
       "text": [
        "\n",
        "http://mediamatters.org/issues/health-care-reform?p=56&s=50\n",
        "page 57 of 62"
       ]
      },
      {
       "output_type": "stream",
       "stream": "stdout",
       "text": [
        "\n",
        "http://mediamatters.org/issues/health-care-reform?p=57&s=50\n",
        "page 58 of 62"
       ]
      },
      {
       "output_type": "stream",
       "stream": "stdout",
       "text": [
        "\n",
        "http://mediamatters.org/issues/health-care-reform?p=58&s=50\n",
        "page 59 of 62"
       ]
      },
      {
       "output_type": "stream",
       "stream": "stdout",
       "text": [
        "\n",
        "http://mediamatters.org/issues/health-care-reform?p=59&s=50\n",
        "page 60 of 62"
       ]
      },
      {
       "output_type": "stream",
       "stream": "stdout",
       "text": [
        "\n",
        "http://mediamatters.org/issues/health-care-reform?p=60&s=50\n",
        "page 61 of 62"
       ]
      },
      {
       "output_type": "stream",
       "stream": "stdout",
       "text": [
        "\n",
        "http://mediamatters.org/issues/health-care-reform?p=61&s=50\n",
        "page 62 of 62"
       ]
      },
      {
       "output_type": "stream",
       "stream": "stdout",
       "text": [
        "\n",
        "http://mediamatters.org/issues/health-care-reform?p=62&s=50\n",
        "saved mm_health_care_reform.csv; rows: 3039"
       ]
      },
      {
       "output_type": "stream",
       "stream": "stdout",
       "text": [
        "\n",
        "page 1 of 3"
       ]
      },
      {
       "output_type": "stream",
       "stream": "stdout",
       "text": [
        "\n",
        "http://mediamatters.org/issues/conservation?p=1&s=50\n",
        "page 2 of 3"
       ]
      },
      {
       "output_type": "stream",
       "stream": "stdout",
       "text": [
        "\n",
        "http://mediamatters.org/issues/conservation?p=2&s=50\n",
        "page 3 of 3"
       ]
      },
      {
       "output_type": "stream",
       "stream": "stdout",
       "text": [
        "\n",
        "http://mediamatters.org/issues/conservation?p=3&s=50\n",
        "saved mm_conservation.csv; rows: 117"
       ]
      },
      {
       "output_type": "stream",
       "stream": "stdout",
       "text": [
        "\n",
        "page 1 of 1"
       ]
      },
      {
       "output_type": "stream",
       "stream": "stdout",
       "text": [
        "\n",
        "http://mediamatters.org/issues/evolution-intelligent-design?p=1&s=50\n",
        "saved mm_evolution_intelligent_design.csv; rows: 33"
       ]
      },
      {
       "output_type": "stream",
       "stream": "stdout",
       "text": [
        "\n",
        "page 1 of 1"
       ]
      },
      {
       "output_type": "stream",
       "stream": "stdout",
       "text": [
        "\n",
        "http://mediamatters.org/issues/religion-in-schools?p=1&s=50\n",
        "saved mm_religion_in_schools.csv; rows: 27"
       ]
      },
      {
       "output_type": "stream",
       "stream": "stdout",
       "text": [
        "\n",
        "page 1 of 25"
       ]
      },
      {
       "output_type": "stream",
       "stream": "stdout",
       "text": [
        "\n",
        "http://mediamatters.org/issues/guns?p=1&s=50\n",
        "page 2 of 25"
       ]
      },
      {
       "output_type": "stream",
       "stream": "stdout",
       "text": [
        "\n",
        "http://mediamatters.org/issues/guns?p=2&s=50\n",
        "page 3 of 25"
       ]
      },
      {
       "output_type": "stream",
       "stream": "stdout",
       "text": [
        "\n",
        "http://mediamatters.org/issues/guns?p=3&s=50\n",
        "page 4 of 25"
       ]
      },
      {
       "output_type": "stream",
       "stream": "stdout",
       "text": [
        "\n",
        "http://mediamatters.org/issues/guns?p=4&s=50\n",
        "page 5 of 25"
       ]
      },
      {
       "output_type": "stream",
       "stream": "stdout",
       "text": [
        "\n",
        "http://mediamatters.org/issues/guns?p=5&s=50\n",
        "page 6 of 25"
       ]
      },
      {
       "output_type": "stream",
       "stream": "stdout",
       "text": [
        "\n",
        "http://mediamatters.org/issues/guns?p=6&s=50\n",
        "page 7 of 25"
       ]
      },
      {
       "output_type": "stream",
       "stream": "stdout",
       "text": [
        "\n",
        "http://mediamatters.org/issues/guns?p=7&s=50\n",
        "page 8 of 25"
       ]
      },
      {
       "output_type": "stream",
       "stream": "stdout",
       "text": [
        "\n",
        "http://mediamatters.org/issues/guns?p=8&s=50\n",
        "page 9 of 25"
       ]
      },
      {
       "output_type": "stream",
       "stream": "stdout",
       "text": [
        "\n",
        "http://mediamatters.org/issues/guns?p=9&s=50\n",
        "page 10 of 25"
       ]
      },
      {
       "output_type": "stream",
       "stream": "stdout",
       "text": [
        "\n",
        "http://mediamatters.org/issues/guns?p=10&s=50\n",
        "page 11 of 25"
       ]
      },
      {
       "output_type": "stream",
       "stream": "stdout",
       "text": [
        "\n",
        "http://mediamatters.org/issues/guns?p=11&s=50\n",
        "page 12 of 25"
       ]
      },
      {
       "output_type": "stream",
       "stream": "stdout",
       "text": [
        "\n",
        "http://mediamatters.org/issues/guns?p=12&s=50\n",
        "page 13 of 25"
       ]
      },
      {
       "output_type": "stream",
       "stream": "stdout",
       "text": [
        "\n",
        "http://mediamatters.org/issues/guns?p=13&s=50\n",
        "page 14 of 25"
       ]
      },
      {
       "output_type": "stream",
       "stream": "stdout",
       "text": [
        "\n",
        "http://mediamatters.org/issues/guns?p=14&s=50\n",
        "page 15 of 25"
       ]
      },
      {
       "output_type": "stream",
       "stream": "stdout",
       "text": [
        "\n",
        "http://mediamatters.org/issues/guns?p=15&s=50\n",
        "page 16 of 25"
       ]
      },
      {
       "output_type": "stream",
       "stream": "stdout",
       "text": [
        "\n",
        "http://mediamatters.org/issues/guns?p=16&s=50\n",
        "page 17 of 25"
       ]
      },
      {
       "output_type": "stream",
       "stream": "stdout",
       "text": [
        "\n",
        "http://mediamatters.org/issues/guns?p=17&s=50\n",
        "page 18 of 25"
       ]
      },
      {
       "output_type": "stream",
       "stream": "stdout",
       "text": [
        "\n",
        "http://mediamatters.org/issues/guns?p=18&s=50\n",
        "page 19 of 25"
       ]
      },
      {
       "output_type": "stream",
       "stream": "stdout",
       "text": [
        "\n",
        "http://mediamatters.org/issues/guns?p=19&s=50\n",
        "page 20 of 25"
       ]
      },
      {
       "output_type": "stream",
       "stream": "stdout",
       "text": [
        "\n",
        "http://mediamatters.org/issues/guns?p=20&s=50\n",
        "page 21 of 25"
       ]
      },
      {
       "output_type": "stream",
       "stream": "stdout",
       "text": [
        "\n",
        "http://mediamatters.org/issues/guns?p=21&s=50\n",
        "page 22 of 25"
       ]
      },
      {
       "output_type": "stream",
       "stream": "stdout",
       "text": [
        "\n",
        "http://mediamatters.org/issues/guns?p=22&s=50\n",
        "page 23 of 25"
       ]
      },
      {
       "output_type": "stream",
       "stream": "stdout",
       "text": [
        "\n",
        "http://mediamatters.org/issues/guns?p=23&s=50\n",
        "page 24 of 25"
       ]
      },
      {
       "output_type": "stream",
       "stream": "stdout",
       "text": [
        "\n",
        "http://mediamatters.org/issues/guns?p=24&s=50\n",
        "page 25 of 25"
       ]
      },
      {
       "output_type": "stream",
       "stream": "stdout",
       "text": [
        "\n",
        "http://mediamatters.org/issues/guns?p=25&s=50\n",
        "saved mm_guns.csv; rows: 1213"
       ]
      },
      {
       "output_type": "stream",
       "stream": "stdout",
       "text": [
        "\n",
        "page 1 of 28"
       ]
      },
      {
       "output_type": "stream",
       "stream": "stdout",
       "text": [
        "\n",
        "http://mediamatters.org/issues/terrorism?p=1&s=50\n",
        "page 2 of 28"
       ]
      },
      {
       "output_type": "stream",
       "stream": "stdout",
       "text": [
        "\n",
        "http://mediamatters.org/issues/terrorism?p=2&s=50\n",
        "page 3 of 28"
       ]
      },
      {
       "output_type": "stream",
       "stream": "stdout",
       "text": [
        "\n",
        "http://mediamatters.org/issues/terrorism?p=3&s=50\n",
        "page 4 of 28"
       ]
      },
      {
       "output_type": "stream",
       "stream": "stdout",
       "text": [
        "\n",
        "http://mediamatters.org/issues/terrorism?p=4&s=50\n",
        "page 5 of 28"
       ]
      },
      {
       "output_type": "stream",
       "stream": "stdout",
       "text": [
        "\n",
        "http://mediamatters.org/issues/terrorism?p=5&s=50\n",
        "page 6 of 28"
       ]
      },
      {
       "output_type": "stream",
       "stream": "stdout",
       "text": [
        "\n",
        "http://mediamatters.org/issues/terrorism?p=6&s=50\n",
        "page 7 of 28"
       ]
      },
      {
       "output_type": "stream",
       "stream": "stdout",
       "text": [
        "\n",
        "http://mediamatters.org/issues/terrorism?p=7&s=50\n",
        "page 8 of 28"
       ]
      },
      {
       "output_type": "stream",
       "stream": "stdout",
       "text": [
        "\n",
        "http://mediamatters.org/issues/terrorism?p=8&s=50\n",
        "page 9 of 28"
       ]
      },
      {
       "output_type": "stream",
       "stream": "stdout",
       "text": [
        "\n",
        "http://mediamatters.org/issues/terrorism?p=9&s=50\n",
        "page 10 of 28"
       ]
      },
      {
       "output_type": "stream",
       "stream": "stdout",
       "text": [
        "\n",
        "http://mediamatters.org/issues/terrorism?p=10&s=50\n",
        "page 11 of 28"
       ]
      },
      {
       "output_type": "stream",
       "stream": "stdout",
       "text": [
        "\n",
        "http://mediamatters.org/issues/terrorism?p=11&s=50\n",
        "page 12 of 28"
       ]
      },
      {
       "output_type": "stream",
       "stream": "stdout",
       "text": [
        "\n",
        "http://mediamatters.org/issues/terrorism?p=12&s=50\n",
        "page 13 of 28"
       ]
      },
      {
       "output_type": "stream",
       "stream": "stdout",
       "text": [
        "\n",
        "http://mediamatters.org/issues/terrorism?p=13&s=50\n",
        "page 14 of 28"
       ]
      },
      {
       "output_type": "stream",
       "stream": "stdout",
       "text": [
        "\n",
        "http://mediamatters.org/issues/terrorism?p=14&s=50\n",
        "page 15 of 28"
       ]
      },
      {
       "output_type": "stream",
       "stream": "stdout",
       "text": [
        "\n",
        "http://mediamatters.org/issues/terrorism?p=15&s=50\n",
        "page 16 of 28"
       ]
      },
      {
       "output_type": "stream",
       "stream": "stdout",
       "text": [
        "\n",
        "http://mediamatters.org/issues/terrorism?p=16&s=50\n",
        "page 17 of 28"
       ]
      },
      {
       "output_type": "stream",
       "stream": "stdout",
       "text": [
        "\n",
        "http://mediamatters.org/issues/terrorism?p=17&s=50\n",
        "page 18 of 28"
       ]
      },
      {
       "output_type": "stream",
       "stream": "stdout",
       "text": [
        "\n",
        "http://mediamatters.org/issues/terrorism?p=18&s=50\n",
        "page 19 of 28"
       ]
      },
      {
       "output_type": "stream",
       "stream": "stdout",
       "text": [
        "\n",
        "http://mediamatters.org/issues/terrorism?p=19&s=50\n",
        "page 20 of 28"
       ]
      },
      {
       "output_type": "stream",
       "stream": "stdout",
       "text": [
        "\n",
        "http://mediamatters.org/issues/terrorism?p=20&s=50\n",
        "page 21 of 28"
       ]
      },
      {
       "output_type": "stream",
       "stream": "stdout",
       "text": [
        "\n",
        "http://mediamatters.org/issues/terrorism?p=21&s=50\n",
        "page 22 of 28"
       ]
      },
      {
       "output_type": "stream",
       "stream": "stdout",
       "text": [
        "\n",
        "http://mediamatters.org/issues/terrorism?p=22&s=50\n",
        "page 23 of 28"
       ]
      },
      {
       "output_type": "stream",
       "stream": "stdout",
       "text": [
        "\n",
        "http://mediamatters.org/issues/terrorism?p=23&s=50\n",
        "page 24 of 28"
       ]
      },
      {
       "output_type": "stream",
       "stream": "stdout",
       "text": [
        "\n",
        "http://mediamatters.org/issues/terrorism?p=24&s=50\n",
        "page 25 of 28"
       ]
      },
      {
       "output_type": "stream",
       "stream": "stdout",
       "text": [
        "\n",
        "http://mediamatters.org/issues/terrorism?p=25&s=50\n",
        "page 26 of 28"
       ]
      },
      {
       "output_type": "stream",
       "stream": "stdout",
       "text": [
        "\n",
        "http://mediamatters.org/issues/terrorism?p=26&s=50\n",
        "page 27 of 28"
       ]
      },
      {
       "output_type": "stream",
       "stream": "stdout",
       "text": [
        "\n",
        "http://mediamatters.org/issues/terrorism?p=27&s=50\n",
        "page 28 of 28"
       ]
      },
      {
       "output_type": "stream",
       "stream": "stdout",
       "text": [
        "\n",
        "http://mediamatters.org/issues/terrorism?p=28&s=50\n",
        "saved mm_terrorism.csv; rows: 1332"
       ]
      },
      {
       "output_type": "stream",
       "stream": "stdout",
       "text": [
        "\n",
        "page 1 of 5"
       ]
      },
      {
       "output_type": "stream",
       "stream": "stdout",
       "text": [
        "\n",
        "http://mediamatters.org/issues/enforcement?p=1&s=50\n",
        "page 2 of 5"
       ]
      },
      {
       "output_type": "stream",
       "stream": "stdout",
       "text": [
        "\n",
        "http://mediamatters.org/issues/enforcement?p=2&s=50\n",
        "page 3 of 5"
       ]
      },
      {
       "output_type": "stream",
       "stream": "stdout",
       "text": [
        "\n",
        "http://mediamatters.org/issues/enforcement?p=3&s=50\n",
        "page 4 of 5"
       ]
      },
      {
       "output_type": "stream",
       "stream": "stdout",
       "text": [
        "\n",
        "http://mediamatters.org/issues/enforcement?p=4&s=50\n",
        "page 5 of 5"
       ]
      },
      {
       "output_type": "stream",
       "stream": "stdout",
       "text": [
        "\n",
        "http://mediamatters.org/issues/enforcement?p=5&s=50\n",
        "saved mm_enforcement.csv; rows: 223"
       ]
      },
      {
       "output_type": "stream",
       "stream": "stdout",
       "text": [
        "\n",
        "page 1 of 2"
       ]
      },
      {
       "output_type": "stream",
       "stream": "stdout",
       "text": [
        "\n",
        "http://mediamatters.org/issues/international-aid?p=1&s=50\n",
        "page 2 of 2"
       ]
      },
      {
       "output_type": "stream",
       "stream": "stdout",
       "text": [
        "\n",
        "http://mediamatters.org/issues/international-aid?p=2&s=50\n",
        "saved mm_international_aid.csv; rows: 59"
       ]
      },
      {
       "output_type": "stream",
       "stream": "stdout",
       "text": [
        "\n",
        "page 1 of 7"
       ]
      },
      {
       "output_type": "stream",
       "stream": "stdout",
       "text": [
        "\n",
        "http://mediamatters.org/issues/crime?p=1&s=50\n",
        "page 2 of 7"
       ]
      },
      {
       "output_type": "stream",
       "stream": "stdout",
       "text": [
        "\n",
        "http://mediamatters.org/issues/crime?p=2&s=50\n",
        "page 3 of 7"
       ]
      },
      {
       "output_type": "stream",
       "stream": "stdout",
       "text": [
        "\n",
        "http://mediamatters.org/issues/crime?p=3&s=50\n",
        "page 4 of 7"
       ]
      },
      {
       "output_type": "stream",
       "stream": "stdout",
       "text": [
        "\n",
        "http://mediamatters.org/issues/crime?p=4&s=50\n",
        "page 5 of 7"
       ]
      },
      {
       "output_type": "stream",
       "stream": "stdout",
       "text": [
        "\n",
        "http://mediamatters.org/issues/crime?p=5&s=50\n",
        "page 6 of 7"
       ]
      },
      {
       "output_type": "stream",
       "stream": "stdout",
       "text": [
        "\n",
        "http://mediamatters.org/issues/crime?p=6&s=50\n",
        "page 7 of 7"
       ]
      },
      {
       "output_type": "stream",
       "stream": "stdout",
       "text": [
        "\n",
        "http://mediamatters.org/issues/crime?p=7&s=50\n",
        "saved mm_crime.csv; rows: 341"
       ]
      },
      {
       "output_type": "stream",
       "stream": "stdout",
       "text": [
        "\n",
        "page 1 of 2"
       ]
      },
      {
       "output_type": "stream",
       "stream": "stdout",
       "text": [
        "\n",
        "http://mediamatters.org/issues/curriculum?p=1&s=50\n",
        "page 2 of 2"
       ]
      },
      {
       "output_type": "stream",
       "stream": "stdout",
       "text": [
        "\n",
        "http://mediamatters.org/issues/curriculum?p=2&s=50\n",
        "saved mm_curriculum.csv; rows: 56"
       ]
      },
      {
       "output_type": "stream",
       "stream": "stdout",
       "text": [
        "\n",
        "page 1 of 6"
       ]
      },
      {
       "output_type": "stream",
       "stream": "stdout",
       "text": [
        "\n",
        "http://mediamatters.org/issues/immigration-myths?p=1&s=50\n",
        "page 2 of 6"
       ]
      },
      {
       "output_type": "stream",
       "stream": "stdout",
       "text": [
        "\n",
        "http://mediamatters.org/issues/immigration-myths?p=2&s=50\n",
        "page 3 of 6"
       ]
      },
      {
       "output_type": "stream",
       "stream": "stdout",
       "text": [
        "\n",
        "http://mediamatters.org/issues/immigration-myths?p=3&s=50\n",
        "page 4 of 6"
       ]
      },
      {
       "output_type": "stream",
       "stream": "stdout",
       "text": [
        "\n",
        "http://mediamatters.org/issues/immigration-myths?p=4&s=50\n",
        "page 5 of 6"
       ]
      },
      {
       "output_type": "stream",
       "stream": "stdout",
       "text": [
        "\n",
        "http://mediamatters.org/issues/immigration-myths?p=5&s=50\n",
        "page 6 of 6"
       ]
      },
      {
       "output_type": "stream",
       "stream": "stdout",
       "text": [
        "\n",
        "http://mediamatters.org/issues/immigration-myths?p=6&s=50\n",
        "saved mm_immigration_myths.csv; rows: 262"
       ]
      },
      {
       "output_type": "stream",
       "stream": "stdout",
       "text": [
        "\n",
        "page 1 of 5"
       ]
      },
      {
       "output_type": "stream",
       "stream": "stdout",
       "text": [
        "\n",
        "http://mediamatters.org/issues/election-law?p=1&s=50\n",
        "page 2 of 5"
       ]
      },
      {
       "output_type": "stream",
       "stream": "stdout",
       "text": [
        "\n",
        "http://mediamatters.org/issues/election-law?p=2&s=50\n",
        "page 3 of 5"
       ]
      },
      {
       "output_type": "stream",
       "stream": "stdout",
       "text": [
        "\n",
        "http://mediamatters.org/issues/election-law?p=3&s=50\n",
        "page 4 of 5"
       ]
      },
      {
       "output_type": "stream",
       "stream": "stdout",
       "text": [
        "\n",
        "http://mediamatters.org/issues/election-law?p=4&s=50\n",
        "page 5 of 5"
       ]
      },
      {
       "output_type": "stream",
       "stream": "stdout",
       "text": [
        "\n",
        "http://mediamatters.org/issues/election-law?p=5&s=50\n",
        "saved mm_election_law.csv; rows: 235"
       ]
      },
      {
       "output_type": "stream",
       "stream": "stdout",
       "text": [
        "\n",
        "page 1 of 5"
       ]
      },
      {
       "output_type": "stream",
       "stream": "stdout",
       "text": [
        "\n",
        "http://mediamatters.org/issues/detention?p=1&s=50\n",
        "page 2 of 5"
       ]
      },
      {
       "output_type": "stream",
       "stream": "stdout",
       "text": [
        "\n",
        "http://mediamatters.org/issues/detention?p=2&s=50\n",
        "page 3 of 5"
       ]
      },
      {
       "output_type": "stream",
       "stream": "stdout",
       "text": [
        "\n",
        "http://mediamatters.org/issues/detention?p=3&s=50\n",
        "page 4 of 5"
       ]
      },
      {
       "output_type": "stream",
       "stream": "stdout",
       "text": [
        "\n",
        "http://mediamatters.org/issues/detention?p=4&s=50\n",
        "page 5 of 5"
       ]
      },
      {
       "output_type": "stream",
       "stream": "stdout",
       "text": [
        "\n",
        "http://mediamatters.org/issues/detention?p=5&s=50\n",
        "saved mm_detention.csv; rows: 243"
       ]
      },
      {
       "output_type": "stream",
       "stream": "stdout",
       "text": [
        "\n",
        "page 1 of 8"
       ]
      },
      {
       "output_type": "stream",
       "stream": "stdout",
       "text": [
        "\n",
        "http://mediamatters.org/issues/interrogation?p=1&s=50\n",
        "page 2 of 8"
       ]
      },
      {
       "output_type": "stream",
       "stream": "stdout",
       "text": [
        "\n",
        "http://mediamatters.org/issues/interrogation?p=2&s=50\n",
        "page 3 of 8"
       ]
      },
      {
       "output_type": "stream",
       "stream": "stdout",
       "text": [
        "\n",
        "http://mediamatters.org/issues/interrogation?p=3&s=50\n",
        "page 4 of 8"
       ]
      },
      {
       "output_type": "stream",
       "stream": "stdout",
       "text": [
        "\n",
        "http://mediamatters.org/issues/interrogation?p=4&s=50\n",
        "page 5 of 8"
       ]
      },
      {
       "output_type": "stream",
       "stream": "stdout",
       "text": [
        "\n",
        "http://mediamatters.org/issues/interrogation?p=5&s=50\n",
        "page 6 of 8"
       ]
      },
      {
       "output_type": "stream",
       "stream": "stdout",
       "text": [
        "\n",
        "http://mediamatters.org/issues/interrogation?p=6&s=50\n",
        "page 7 of 8"
       ]
      },
      {
       "output_type": "stream",
       "stream": "stdout",
       "text": [
        "\n",
        "http://mediamatters.org/issues/interrogation?p=7&s=50\n",
        "page 8 of 8"
       ]
      },
      {
       "output_type": "stream",
       "stream": "stdout",
       "text": [
        "\n",
        "http://mediamatters.org/issues/interrogation?p=8&s=50\n",
        "saved mm_interrogation.csv; rows: 352"
       ]
      },
      {
       "output_type": "stream",
       "stream": "stdout",
       "text": [
        "\n",
        "page 1 of 32"
       ]
      },
      {
       "output_type": "stream",
       "stream": "stdout",
       "text": [
        "\n",
        "http://mediamatters.org/issues/lgbt?p=1&s=50\n",
        "page 2 of 32"
       ]
      },
      {
       "output_type": "stream",
       "stream": "stdout",
       "text": [
        "\n",
        "http://mediamatters.org/issues/lgbt?p=2&s=50\n",
        "page 3 of 32"
       ]
      },
      {
       "output_type": "stream",
       "stream": "stdout",
       "text": [
        "\n",
        "http://mediamatters.org/issues/lgbt?p=3&s=50\n",
        "page 4 of 32"
       ]
      },
      {
       "output_type": "stream",
       "stream": "stdout",
       "text": [
        "\n",
        "http://mediamatters.org/issues/lgbt?p=4&s=50\n",
        "page 5 of 32"
       ]
      },
      {
       "output_type": "stream",
       "stream": "stdout",
       "text": [
        "\n",
        "http://mediamatters.org/issues/lgbt?p=5&s=50\n",
        "page 6 of 32"
       ]
      },
      {
       "output_type": "stream",
       "stream": "stdout",
       "text": [
        "\n",
        "http://mediamatters.org/issues/lgbt?p=6&s=50\n",
        "page 7 of 32"
       ]
      },
      {
       "output_type": "stream",
       "stream": "stdout",
       "text": [
        "\n",
        "http://mediamatters.org/issues/lgbt?p=7&s=50\n",
        "page 8 of 32"
       ]
      },
      {
       "output_type": "stream",
       "stream": "stdout",
       "text": [
        "\n",
        "http://mediamatters.org/issues/lgbt?p=8&s=50\n",
        "page 9 of 32"
       ]
      },
      {
       "output_type": "stream",
       "stream": "stdout",
       "text": [
        "\n",
        "http://mediamatters.org/issues/lgbt?p=9&s=50\n",
        "page 10 of 32"
       ]
      },
      {
       "output_type": "stream",
       "stream": "stdout",
       "text": [
        "\n",
        "http://mediamatters.org/issues/lgbt?p=10&s=50\n",
        "page 11 of 32"
       ]
      },
      {
       "output_type": "stream",
       "stream": "stdout",
       "text": [
        "\n",
        "http://mediamatters.org/issues/lgbt?p=11&s=50\n",
        "page 12 of 32"
       ]
      },
      {
       "output_type": "stream",
       "stream": "stdout",
       "text": [
        "\n",
        "http://mediamatters.org/issues/lgbt?p=12&s=50\n",
        "page 13 of 32"
       ]
      },
      {
       "output_type": "stream",
       "stream": "stdout",
       "text": [
        "\n",
        "http://mediamatters.org/issues/lgbt?p=13&s=50\n",
        "page 14 of 32"
       ]
      },
      {
       "output_type": "stream",
       "stream": "stdout",
       "text": [
        "\n",
        "http://mediamatters.org/issues/lgbt?p=14&s=50\n",
        "page 15 of 32"
       ]
      },
      {
       "output_type": "stream",
       "stream": "stdout",
       "text": [
        "\n",
        "http://mediamatters.org/issues/lgbt?p=15&s=50\n",
        "page 16 of 32"
       ]
      },
      {
       "output_type": "stream",
       "stream": "stdout",
       "text": [
        "\n",
        "http://mediamatters.org/issues/lgbt?p=16&s=50\n",
        "page 17 of 32"
       ]
      },
      {
       "output_type": "stream",
       "stream": "stdout",
       "text": [
        "\n",
        "http://mediamatters.org/issues/lgbt?p=17&s=50\n",
        "page 18 of 32"
       ]
      },
      {
       "output_type": "stream",
       "stream": "stdout",
       "text": [
        "\n",
        "http://mediamatters.org/issues/lgbt?p=18&s=50\n",
        "page 19 of 32"
       ]
      },
      {
       "output_type": "stream",
       "stream": "stdout",
       "text": [
        "\n",
        "http://mediamatters.org/issues/lgbt?p=19&s=50\n",
        "page 20 of 32"
       ]
      },
      {
       "output_type": "stream",
       "stream": "stdout",
       "text": [
        "\n",
        "http://mediamatters.org/issues/lgbt?p=20&s=50\n",
        "page 21 of 32"
       ]
      },
      {
       "output_type": "stream",
       "stream": "stdout",
       "text": [
        "\n",
        "http://mediamatters.org/issues/lgbt?p=21&s=50\n",
        "page 22 of 32"
       ]
      },
      {
       "output_type": "stream",
       "stream": "stdout",
       "text": [
        "\n",
        "http://mediamatters.org/issues/lgbt?p=22&s=50\n",
        "page 23 of 32"
       ]
      },
      {
       "output_type": "stream",
       "stream": "stdout",
       "text": [
        "\n",
        "http://mediamatters.org/issues/lgbt?p=23&s=50\n",
        "page 24 of 32"
       ]
      },
      {
       "output_type": "stream",
       "stream": "stdout",
       "text": [
        "\n",
        "http://mediamatters.org/issues/lgbt?p=24&s=50\n",
        "page 25 of 32"
       ]
      },
      {
       "output_type": "stream",
       "stream": "stdout",
       "text": [
        "\n",
        "http://mediamatters.org/issues/lgbt?p=25&s=50\n",
        "page 26 of 32"
       ]
      },
      {
       "output_type": "stream",
       "stream": "stdout",
       "text": [
        "\n",
        "http://mediamatters.org/issues/lgbt?p=26&s=50\n",
        "page 27 of 32"
       ]
      },
      {
       "output_type": "stream",
       "stream": "stdout",
       "text": [
        "\n",
        "http://mediamatters.org/issues/lgbt?p=27&s=50\n",
        "page 28 of 32"
       ]
      },
      {
       "output_type": "stream",
       "stream": "stdout",
       "text": [
        "\n",
        "http://mediamatters.org/issues/lgbt?p=28&s=50\n",
        "page 29 of 32"
       ]
      },
      {
       "output_type": "stream",
       "stream": "stdout",
       "text": [
        "\n",
        "http://mediamatters.org/issues/lgbt?p=29&s=50\n",
        "page 30 of 32"
       ]
      },
      {
       "output_type": "stream",
       "stream": "stdout",
       "text": [
        "\n",
        "http://mediamatters.org/issues/lgbt?p=30&s=50\n",
        "page 31 of 32"
       ]
      },
      {
       "output_type": "stream",
       "stream": "stdout",
       "text": [
        "\n",
        "http://mediamatters.org/issues/lgbt?p=31&s=50\n",
        "page 32 of 32"
       ]
      },
      {
       "output_type": "stream",
       "stream": "stdout",
       "text": [
        "\n",
        "http://mediamatters.org/issues/lgbt?p=32&s=50\n",
        "saved mm_lgbt.csv; rows: 1522"
       ]
      },
      {
       "output_type": "stream",
       "stream": "stdout",
       "text": [
        "\n",
        "page 1 of 1"
       ]
      },
      {
       "output_type": "stream",
       "stream": "stdout",
       "text": [
        "\n",
        "http://mediamatters.org/issues/early-education?p=1&s=50\n",
        "saved mm_early_education.csv; rows: 2"
       ]
      },
      {
       "output_type": "stream",
       "stream": "stdout",
       "text": [
        "\n",
        "page 1 of 10"
       ]
      },
      {
       "output_type": "stream",
       "stream": "stdout",
       "text": [
        "\n",
        "http://mediamatters.org/issues/poverty?p=1&s=50\n",
        "page 2 of 10"
       ]
      },
      {
       "output_type": "stream",
       "stream": "stdout",
       "text": [
        "\n",
        "http://mediamatters.org/issues/poverty?p=2&s=50\n",
        "page 3 of 10"
       ]
      },
      {
       "output_type": "stream",
       "stream": "stdout",
       "text": [
        "\n",
        "http://mediamatters.org/issues/poverty?p=3&s=50\n",
        "page 4 of 10"
       ]
      },
      {
       "output_type": "stream",
       "stream": "stdout",
       "text": [
        "\n",
        "http://mediamatters.org/issues/poverty?p=4&s=50\n",
        "page 5 of 10"
       ]
      },
      {
       "output_type": "stream",
       "stream": "stdout",
       "text": [
        "\n",
        "http://mediamatters.org/issues/poverty?p=5&s=50\n",
        "page 6 of 10"
       ]
      },
      {
       "output_type": "stream",
       "stream": "stdout",
       "text": [
        "\n",
        "http://mediamatters.org/issues/poverty?p=6&s=50\n",
        "page 7 of 10"
       ]
      },
      {
       "output_type": "stream",
       "stream": "stdout",
       "text": [
        "\n",
        "http://mediamatters.org/issues/poverty?p=7&s=50\n",
        "page 8 of 10"
       ]
      },
      {
       "output_type": "stream",
       "stream": "stdout",
       "text": [
        "\n",
        "http://mediamatters.org/issues/poverty?p=8&s=50\n",
        "page 9 of 10"
       ]
      },
      {
       "output_type": "stream",
       "stream": "stdout",
       "text": [
        "\n",
        "http://mediamatters.org/issues/poverty?p=9&s=50\n",
        "page 10 of 10"
       ]
      },
      {
       "output_type": "stream",
       "stream": "stdout",
       "text": [
        "\n",
        "http://mediamatters.org/issues/poverty?p=10&s=50\n",
        "saved mm_poverty.csv; rows: 477"
       ]
      },
      {
       "output_type": "stream",
       "stream": "stdout",
       "text": [
        "\n",
        "page 1 of 8"
       ]
      },
      {
       "output_type": "stream",
       "stream": "stdout",
       "text": [
        "\n",
        "http://mediamatters.org/issues/drilling?p=1&s=50\n",
        "page 2 of 8"
       ]
      },
      {
       "output_type": "stream",
       "stream": "stdout",
       "text": [
        "\n",
        "http://mediamatters.org/issues/drilling?p=2&s=50\n",
        "page 3 of 8"
       ]
      },
      {
       "output_type": "stream",
       "stream": "stdout",
       "text": [
        "\n",
        "http://mediamatters.org/issues/drilling?p=3&s=50\n",
        "page 4 of 8"
       ]
      },
      {
       "output_type": "stream",
       "stream": "stdout",
       "text": [
        "\n",
        "http://mediamatters.org/issues/drilling?p=4&s=50\n",
        "page 5 of 8"
       ]
      },
      {
       "output_type": "stream",
       "stream": "stdout",
       "text": [
        "\n",
        "http://mediamatters.org/issues/drilling?p=5&s=50\n",
        "page 6 of 8"
       ]
      },
      {
       "output_type": "stream",
       "stream": "stdout",
       "text": [
        "\n",
        "http://mediamatters.org/issues/drilling?p=6&s=50\n",
        "page 7 of 8"
       ]
      },
      {
       "output_type": "stream",
       "stream": "stdout",
       "text": [
        "\n",
        "http://mediamatters.org/issues/drilling?p=7&s=50\n",
        "page 8 of 8"
       ]
      },
      {
       "output_type": "stream",
       "stream": "stdout",
       "text": [
        "\n",
        "http://mediamatters.org/issues/drilling?p=8&s=50\n",
        "saved mm_drilling.csv; rows: 381"
       ]
      },
      {
       "output_type": "stream",
       "stream": "stdout",
       "text": [
        "\n",
        "page 1 of 14"
       ]
      },
      {
       "output_type": "stream",
       "stream": "stdout",
       "text": [
        "\n",
        "http://mediamatters.org/issues/international-conflicts?p=1&s=50\n",
        "page 2 of 14"
       ]
      },
      {
       "output_type": "stream",
       "stream": "stdout",
       "text": [
        "\n",
        "http://mediamatters.org/issues/international-conflicts?p=2&s=50\n",
        "page 3 of 14"
       ]
      },
      {
       "output_type": "stream",
       "stream": "stdout",
       "text": [
        "\n",
        "http://mediamatters.org/issues/international-conflicts?p=3&s=50\n",
        "page 4 of 14"
       ]
      },
      {
       "output_type": "stream",
       "stream": "stdout",
       "text": [
        "\n",
        "http://mediamatters.org/issues/international-conflicts?p=4&s=50\n",
        "page 5 of 14"
       ]
      },
      {
       "output_type": "stream",
       "stream": "stdout",
       "text": [
        "\n",
        "http://mediamatters.org/issues/international-conflicts?p=5&s=50\n",
        "page 6 of 14"
       ]
      },
      {
       "output_type": "stream",
       "stream": "stdout",
       "text": [
        "\n",
        "http://mediamatters.org/issues/international-conflicts?p=6&s=50\n",
        "page 7 of 14"
       ]
      },
      {
       "output_type": "stream",
       "stream": "stdout",
       "text": [
        "\n",
        "http://mediamatters.org/issues/international-conflicts?p=7&s=50\n",
        "page 8 of 14"
       ]
      },
      {
       "output_type": "stream",
       "stream": "stdout",
       "text": [
        "\n",
        "http://mediamatters.org/issues/international-conflicts?p=8&s=50\n",
        "page 9 of 14"
       ]
      },
      {
       "output_type": "stream",
       "stream": "stdout",
       "text": [
        "\n",
        "http://mediamatters.org/issues/international-conflicts?p=9&s=50\n",
        "page 10 of 14"
       ]
      },
      {
       "output_type": "stream",
       "stream": "stdout",
       "text": [
        "\n",
        "http://mediamatters.org/issues/international-conflicts?p=10&s=50\n",
        "page 11 of 14"
       ]
      },
      {
       "output_type": "stream",
       "stream": "stdout",
       "text": [
        "\n",
        "http://mediamatters.org/issues/international-conflicts?p=11&s=50\n",
        "page 12 of 14"
       ]
      },
      {
       "output_type": "stream",
       "stream": "stdout",
       "text": [
        "\n",
        "http://mediamatters.org/issues/international-conflicts?p=12&s=50\n",
        "page 13 of 14"
       ]
      },
      {
       "output_type": "stream",
       "stream": "stdout",
       "text": [
        "\n",
        "http://mediamatters.org/issues/international-conflicts?p=13&s=50\n",
        "page 14 of 14"
       ]
      },
      {
       "output_type": "stream",
       "stream": "stdout",
       "text": [
        "\n",
        "http://mediamatters.org/issues/international-conflicts?p=14&s=50\n",
        "saved mm_international_conflicts.csv; rows: 672"
       ]
      },
      {
       "output_type": "stream",
       "stream": "stdout",
       "text": [
        "\n",
        "page 1 of 12"
       ]
      },
      {
       "output_type": "stream",
       "stream": "stdout",
       "text": [
        "\n",
        "http://mediamatters.org/issues/immigration-reform?p=1&s=50\n",
        "page 2 of 12"
       ]
      },
      {
       "output_type": "stream",
       "stream": "stdout",
       "text": [
        "\n",
        "http://mediamatters.org/issues/immigration-reform?p=2&s=50\n",
        "page 3 of 12"
       ]
      },
      {
       "output_type": "stream",
       "stream": "stdout",
       "text": [
        "\n",
        "http://mediamatters.org/issues/immigration-reform?p=3&s=50\n",
        "page 4 of 12"
       ]
      },
      {
       "output_type": "stream",
       "stream": "stdout",
       "text": [
        "\n",
        "http://mediamatters.org/issues/immigration-reform?p=4&s=50\n",
        "page 5 of 12"
       ]
      },
      {
       "output_type": "stream",
       "stream": "stdout",
       "text": [
        "\n",
        "http://mediamatters.org/issues/immigration-reform?p=5&s=50\n",
        "page 6 of 12"
       ]
      },
      {
       "output_type": "stream",
       "stream": "stdout",
       "text": [
        "\n",
        "http://mediamatters.org/issues/immigration-reform?p=6&s=50\n",
        "page 7 of 12"
       ]
      },
      {
       "output_type": "stream",
       "stream": "stdout",
       "text": [
        "\n",
        "http://mediamatters.org/issues/immigration-reform?p=7&s=50\n",
        "page 8 of 12"
       ]
      },
      {
       "output_type": "stream",
       "stream": "stdout",
       "text": [
        "\n",
        "http://mediamatters.org/issues/immigration-reform?p=8&s=50\n",
        "page 9 of 12"
       ]
      },
      {
       "output_type": "stream",
       "stream": "stdout",
       "text": [
        "\n",
        "http://mediamatters.org/issues/immigration-reform?p=9&s=50\n",
        "page 10 of 12"
       ]
      },
      {
       "output_type": "stream",
       "stream": "stdout",
       "text": [
        "\n",
        "http://mediamatters.org/issues/immigration-reform?p=10&s=50\n",
        "page 11 of 12"
       ]
      },
      {
       "output_type": "stream",
       "stream": "stdout",
       "text": [
        "\n",
        "http://mediamatters.org/issues/immigration-reform?p=11&s=50\n",
        "page 12 of 12"
       ]
      },
      {
       "output_type": "stream",
       "stream": "stdout",
       "text": [
        "\n",
        "http://mediamatters.org/issues/immigration-reform?p=12&s=50\n",
        "saved mm_immigration_reform.csv; rows: 597"
       ]
      },
      {
       "output_type": "stream",
       "stream": "stdout",
       "text": [
        "\n",
        "page 1 of 4"
       ]
      },
      {
       "output_type": "stream",
       "stream": "stdout",
       "text": [
        "\n",
        "http://mediamatters.org/issues/campaign-finance?p=1&s=50\n",
        "page 2 of 4"
       ]
      },
      {
       "output_type": "stream",
       "stream": "stdout",
       "text": [
        "\n",
        "http://mediamatters.org/issues/campaign-finance?p=2&s=50\n",
        "page 3 of 4"
       ]
      },
      {
       "output_type": "stream",
       "stream": "stdout",
       "text": [
        "\n",
        "http://mediamatters.org/issues/campaign-finance?p=3&s=50\n",
        "page 4 of 4"
       ]
      },
      {
       "output_type": "stream",
       "stream": "stdout",
       "text": [
        "\n",
        "http://mediamatters.org/issues/campaign-finance?p=4&s=50\n",
        "saved mm_campaign_finance.csv; rows: 157"
       ]
      },
      {
       "output_type": "stream",
       "stream": "stdout",
       "text": [
        "\n",
        "page 1 of 11"
       ]
      },
      {
       "output_type": "stream",
       "stream": "stdout",
       "text": [
        "\n",
        "http://mediamatters.org/issues/ethics?p=1&s=50\n",
        "page 2 of 11"
       ]
      },
      {
       "output_type": "stream",
       "stream": "stdout",
       "text": [
        "\n",
        "http://mediamatters.org/issues/ethics?p=2&s=50\n",
        "page 3 of 11"
       ]
      },
      {
       "output_type": "stream",
       "stream": "stdout",
       "text": [
        "\n",
        "http://mediamatters.org/issues/ethics?p=3&s=50\n",
        "page 4 of 11"
       ]
      },
      {
       "output_type": "stream",
       "stream": "stdout",
       "text": [
        "\n",
        "http://mediamatters.org/issues/ethics?p=4&s=50\n",
        "page 5 of 11"
       ]
      },
      {
       "output_type": "stream",
       "stream": "stdout",
       "text": [
        "\n",
        "http://mediamatters.org/issues/ethics?p=5&s=50\n",
        "page 6 of 11"
       ]
      },
      {
       "output_type": "stream",
       "stream": "stdout",
       "text": [
        "\n",
        "http://mediamatters.org/issues/ethics?p=6&s=50\n",
        "page 7 of 11"
       ]
      },
      {
       "output_type": "stream",
       "stream": "stdout",
       "text": [
        "\n",
        "http://mediamatters.org/issues/ethics?p=7&s=50\n",
        "page 8 of 11"
       ]
      },
      {
       "output_type": "stream",
       "stream": "stdout",
       "text": [
        "\n",
        "http://mediamatters.org/issues/ethics?p=8&s=50\n",
        "page 9 of 11"
       ]
      },
      {
       "output_type": "stream",
       "stream": "stdout",
       "text": [
        "\n",
        "http://mediamatters.org/issues/ethics?p=9&s=50\n",
        "page 10 of 11"
       ]
      },
      {
       "output_type": "stream",
       "stream": "stdout",
       "text": [
        "\n",
        "http://mediamatters.org/issues/ethics?p=10&s=50\n",
        "page 11 of 11"
       ]
      },
      {
       "output_type": "stream",
       "stream": "stdout",
       "text": [
        "\n",
        "http://mediamatters.org/issues/ethics?p=11&s=50\n",
        "saved mm_ethics.csv; rows: 522"
       ]
      },
      {
       "output_type": "stream",
       "stream": "stdout",
       "text": [
        "\n",
        "page 1 of 31"
       ]
      },
      {
       "output_type": "stream",
       "stream": "stdout",
       "text": [
        "\n",
        "http://mediamatters.org/issues/war-in-iraq?p=1&s=50\n",
        "page 2 of 31"
       ]
      },
      {
       "output_type": "stream",
       "stream": "stdout",
       "text": [
        "\n",
        "http://mediamatters.org/issues/war-in-iraq?p=2&s=50\n",
        "page 3 of 31"
       ]
      },
      {
       "output_type": "stream",
       "stream": "stdout",
       "text": [
        "\n",
        "http://mediamatters.org/issues/war-in-iraq?p=3&s=50\n",
        "page 4 of 31"
       ]
      },
      {
       "output_type": "stream",
       "stream": "stdout",
       "text": [
        "\n",
        "http://mediamatters.org/issues/war-in-iraq?p=4&s=50\n",
        "page 5 of 31"
       ]
      },
      {
       "output_type": "stream",
       "stream": "stdout",
       "text": [
        "\n",
        "http://mediamatters.org/issues/war-in-iraq?p=5&s=50\n",
        "page 6 of 31"
       ]
      },
      {
       "output_type": "stream",
       "stream": "stdout",
       "text": [
        "\n",
        "http://mediamatters.org/issues/war-in-iraq?p=6&s=50\n",
        "page 7 of 31"
       ]
      },
      {
       "output_type": "stream",
       "stream": "stdout",
       "text": [
        "\n",
        "http://mediamatters.org/issues/war-in-iraq?p=7&s=50\n",
        "page 8 of 31"
       ]
      },
      {
       "output_type": "stream",
       "stream": "stdout",
       "text": [
        "\n",
        "http://mediamatters.org/issues/war-in-iraq?p=8&s=50\n",
        "page 9 of 31"
       ]
      },
      {
       "output_type": "stream",
       "stream": "stdout",
       "text": [
        "\n",
        "http://mediamatters.org/issues/war-in-iraq?p=9&s=50\n",
        "page 10 of 31"
       ]
      },
      {
       "output_type": "stream",
       "stream": "stdout",
       "text": [
        "\n",
        "http://mediamatters.org/issues/war-in-iraq?p=10&s=50\n",
        "page 11 of 31"
       ]
      },
      {
       "output_type": "stream",
       "stream": "stdout",
       "text": [
        "\n",
        "http://mediamatters.org/issues/war-in-iraq?p=11&s=50\n",
        "page 12 of 31"
       ]
      },
      {
       "output_type": "stream",
       "stream": "stdout",
       "text": [
        "\n",
        "http://mediamatters.org/issues/war-in-iraq?p=12&s=50\n",
        "page 13 of 31"
       ]
      },
      {
       "output_type": "stream",
       "stream": "stdout",
       "text": [
        "\n",
        "http://mediamatters.org/issues/war-in-iraq?p=13&s=50\n",
        "page 14 of 31"
       ]
      },
      {
       "output_type": "stream",
       "stream": "stdout",
       "text": [
        "\n",
        "http://mediamatters.org/issues/war-in-iraq?p=14&s=50\n",
        "page 15 of 31"
       ]
      },
      {
       "output_type": "stream",
       "stream": "stdout",
       "text": [
        "\n",
        "http://mediamatters.org/issues/war-in-iraq?p=15&s=50\n",
        "page 16 of 31"
       ]
      },
      {
       "output_type": "stream",
       "stream": "stdout",
       "text": [
        "\n",
        "http://mediamatters.org/issues/war-in-iraq?p=16&s=50\n",
        "page 17 of 31"
       ]
      },
      {
       "output_type": "stream",
       "stream": "stdout",
       "text": [
        "\n",
        "http://mediamatters.org/issues/war-in-iraq?p=17&s=50\n",
        "page 18 of 31"
       ]
      },
      {
       "output_type": "stream",
       "stream": "stdout",
       "text": [
        "\n",
        "http://mediamatters.org/issues/war-in-iraq?p=18&s=50\n",
        "page 19 of 31"
       ]
      },
      {
       "output_type": "stream",
       "stream": "stdout",
       "text": [
        "\n",
        "http://mediamatters.org/issues/war-in-iraq?p=19&s=50\n",
        "page 20 of 31"
       ]
      },
      {
       "output_type": "stream",
       "stream": "stdout",
       "text": [
        "\n",
        "http://mediamatters.org/issues/war-in-iraq?p=20&s=50\n",
        "page 21 of 31"
       ]
      },
      {
       "output_type": "stream",
       "stream": "stdout",
       "text": [
        "\n",
        "http://mediamatters.org/issues/war-in-iraq?p=21&s=50\n",
        "page 22 of 31"
       ]
      },
      {
       "output_type": "stream",
       "stream": "stdout",
       "text": [
        "\n",
        "http://mediamatters.org/issues/war-in-iraq?p=22&s=50\n",
        "page 23 of 31"
       ]
      },
      {
       "output_type": "stream",
       "stream": "stdout",
       "text": [
        "\n",
        "http://mediamatters.org/issues/war-in-iraq?p=23&s=50\n",
        "page 24 of 31"
       ]
      },
      {
       "output_type": "stream",
       "stream": "stdout",
       "text": [
        "\n",
        "http://mediamatters.org/issues/war-in-iraq?p=24&s=50\n",
        "page 25 of 31"
       ]
      },
      {
       "output_type": "stream",
       "stream": "stdout",
       "text": [
        "\n",
        "http://mediamatters.org/issues/war-in-iraq?p=25&s=50\n",
        "page 26 of 31"
       ]
      },
      {
       "output_type": "stream",
       "stream": "stdout",
       "text": [
        "\n",
        "http://mediamatters.org/issues/war-in-iraq?p=26&s=50\n",
        "page 27 of 31"
       ]
      },
      {
       "output_type": "stream",
       "stream": "stdout",
       "text": [
        "\n",
        "http://mediamatters.org/issues/war-in-iraq?p=27&s=50\n",
        "page 28 of 31"
       ]
      },
      {
       "output_type": "stream",
       "stream": "stdout",
       "text": [
        "\n",
        "http://mediamatters.org/issues/war-in-iraq?p=28&s=50\n",
        "page 29 of 31"
       ]
      },
      {
       "output_type": "stream",
       "stream": "stdout",
       "text": [
        "\n",
        "http://mediamatters.org/issues/war-in-iraq?p=29&s=50\n",
        "page 30 of 31"
       ]
      },
      {
       "output_type": "stream",
       "stream": "stdout",
       "text": [
        "\n",
        "http://mediamatters.org/issues/war-in-iraq?p=30&s=50\n",
        "page 31 of 31"
       ]
      },
      {
       "output_type": "stream",
       "stream": "stdout",
       "text": [
        "\n",
        "http://mediamatters.org/issues/war-in-iraq?p=31&s=50\n",
        "saved mm_war_in_iraq.csv; rows: 1509"
       ]
      },
      {
       "output_type": "stream",
       "stream": "stdout",
       "text": [
        "\n",
        "page 1 of 3"
       ]
      },
      {
       "output_type": "stream",
       "stream": "stdout",
       "text": [
        "\n",
        "http://mediamatters.org/issues/class?p=1&s=50\n",
        "page 2 of 3"
       ]
      },
      {
       "output_type": "stream",
       "stream": "stdout",
       "text": [
        "\n",
        "http://mediamatters.org/issues/class?p=2&s=50\n",
        "page 3 of 3"
       ]
      },
      {
       "output_type": "stream",
       "stream": "stdout",
       "text": [
        "\n",
        "http://mediamatters.org/issues/class?p=3&s=50\n",
        "saved mm_class.csv; rows: 148"
       ]
      },
      {
       "output_type": "stream",
       "stream": "stdout",
       "text": [
        "\n",
        "page 1 of 3"
       ]
      },
      {
       "output_type": "stream",
       "stream": "stdout",
       "text": [
        "\n",
        "http://mediamatters.org/issues/childrens-health?p=1&s=50\n",
        "page 2 of 3"
       ]
      },
      {
       "output_type": "stream",
       "stream": "stdout",
       "text": [
        "\n",
        "http://mediamatters.org/issues/childrens-health?p=2&s=50\n",
        "page 3 of 3"
       ]
      },
      {
       "output_type": "stream",
       "stream": "stdout",
       "text": [
        "\n",
        "http://mediamatters.org/issues/childrens-health?p=3&s=50\n",
        "saved mm_childrens_health.csv; rows: 108"
       ]
      },
      {
       "output_type": "stream",
       "stream": "stdout",
       "text": [
        "\n",
        "page 1 of 29"
       ]
      },
      {
       "output_type": "stream",
       "stream": "stdout",
       "text": [
        "\n",
        "http://mediamatters.org/issues/jobs-wages-unemployment?p=1&s=50\n",
        "page 2 of 29"
       ]
      },
      {
       "output_type": "stream",
       "stream": "stdout",
       "text": [
        "\n",
        "http://mediamatters.org/issues/jobs-wages-unemployment?p=2&s=50\n",
        "page 3 of 29"
       ]
      },
      {
       "output_type": "stream",
       "stream": "stdout",
       "text": [
        "\n",
        "http://mediamatters.org/issues/jobs-wages-unemployment?p=3&s=50\n",
        "page 4 of 29"
       ]
      },
      {
       "output_type": "stream",
       "stream": "stdout",
       "text": [
        "\n",
        "http://mediamatters.org/issues/jobs-wages-unemployment?p=4&s=50\n",
        "page 5 of 29"
       ]
      },
      {
       "output_type": "stream",
       "stream": "stdout",
       "text": [
        "\n",
        "http://mediamatters.org/issues/jobs-wages-unemployment?p=5&s=50\n",
        "page 6 of 29"
       ]
      },
      {
       "output_type": "stream",
       "stream": "stdout",
       "text": [
        "\n",
        "http://mediamatters.org/issues/jobs-wages-unemployment?p=6&s=50\n",
        "page 7 of 29"
       ]
      },
      {
       "output_type": "stream",
       "stream": "stdout",
       "text": [
        "\n",
        "http://mediamatters.org/issues/jobs-wages-unemployment?p=7&s=50\n",
        "page 8 of 29"
       ]
      },
      {
       "output_type": "stream",
       "stream": "stdout",
       "text": [
        "\n",
        "http://mediamatters.org/issues/jobs-wages-unemployment?p=8&s=50\n",
        "page 9 of 29"
       ]
      },
      {
       "output_type": "stream",
       "stream": "stdout",
       "text": [
        "\n",
        "http://mediamatters.org/issues/jobs-wages-unemployment?p=9&s=50\n",
        "page 10 of 29"
       ]
      },
      {
       "output_type": "stream",
       "stream": "stdout",
       "text": [
        "\n",
        "http://mediamatters.org/issues/jobs-wages-unemployment?p=10&s=50\n",
        "page 11 of 29"
       ]
      },
      {
       "output_type": "stream",
       "stream": "stdout",
       "text": [
        "\n",
        "http://mediamatters.org/issues/jobs-wages-unemployment?p=11&s=50\n",
        "page 12 of 29"
       ]
      },
      {
       "output_type": "stream",
       "stream": "stdout",
       "text": [
        "\n",
        "http://mediamatters.org/issues/jobs-wages-unemployment?p=12&s=50\n",
        "page 13 of 29"
       ]
      },
      {
       "output_type": "stream",
       "stream": "stdout",
       "text": [
        "\n",
        "http://mediamatters.org/issues/jobs-wages-unemployment?p=13&s=50\n",
        "page 14 of 29"
       ]
      },
      {
       "output_type": "stream",
       "stream": "stdout",
       "text": [
        "\n",
        "http://mediamatters.org/issues/jobs-wages-unemployment?p=14&s=50\n",
        "page 15 of 29"
       ]
      },
      {
       "output_type": "stream",
       "stream": "stdout",
       "text": [
        "\n",
        "http://mediamatters.org/issues/jobs-wages-unemployment?p=15&s=50\n",
        "page 16 of 29"
       ]
      },
      {
       "output_type": "stream",
       "stream": "stdout",
       "text": [
        "\n",
        "http://mediamatters.org/issues/jobs-wages-unemployment?p=16&s=50\n",
        "page 17 of 29"
       ]
      },
      {
       "output_type": "stream",
       "stream": "stdout",
       "text": [
        "\n",
        "http://mediamatters.org/issues/jobs-wages-unemployment?p=17&s=50\n",
        "page 18 of 29"
       ]
      },
      {
       "output_type": "stream",
       "stream": "stdout",
       "text": [
        "\n",
        "http://mediamatters.org/issues/jobs-wages-unemployment?p=18&s=50\n",
        "page 19 of 29"
       ]
      },
      {
       "output_type": "stream",
       "stream": "stdout",
       "text": [
        "\n",
        "http://mediamatters.org/issues/jobs-wages-unemployment?p=19&s=50\n",
        "page 20 of 29"
       ]
      },
      {
       "output_type": "stream",
       "stream": "stdout",
       "text": [
        "\n",
        "http://mediamatters.org/issues/jobs-wages-unemployment?p=20&s=50\n",
        "page 21 of 29"
       ]
      },
      {
       "output_type": "stream",
       "stream": "stdout",
       "text": [
        "\n",
        "http://mediamatters.org/issues/jobs-wages-unemployment?p=21&s=50\n",
        "page 22 of 29"
       ]
      },
      {
       "output_type": "stream",
       "stream": "stdout",
       "text": [
        "\n",
        "http://mediamatters.org/issues/jobs-wages-unemployment?p=22&s=50\n",
        "page 23 of 29"
       ]
      },
      {
       "output_type": "stream",
       "stream": "stdout",
       "text": [
        "\n",
        "http://mediamatters.org/issues/jobs-wages-unemployment?p=23&s=50\n",
        "page 24 of 29"
       ]
      },
      {
       "output_type": "stream",
       "stream": "stdout",
       "text": [
        "\n",
        "http://mediamatters.org/issues/jobs-wages-unemployment?p=24&s=50\n",
        "page 25 of 29"
       ]
      },
      {
       "output_type": "stream",
       "stream": "stdout",
       "text": [
        "\n",
        "http://mediamatters.org/issues/jobs-wages-unemployment?p=25&s=50\n",
        "page 26 of 29"
       ]
      },
      {
       "output_type": "stream",
       "stream": "stdout",
       "text": [
        "\n",
        "http://mediamatters.org/issues/jobs-wages-unemployment?p=26&s=50\n",
        "page 27 of 29"
       ]
      },
      {
       "output_type": "stream",
       "stream": "stdout",
       "text": [
        "\n",
        "http://mediamatters.org/issues/jobs-wages-unemployment?p=27&s=50\n",
        "page 28 of 29"
       ]
      },
      {
       "output_type": "stream",
       "stream": "stdout",
       "text": [
        "\n",
        "http://mediamatters.org/issues/jobs-wages-unemployment?p=28&s=50\n",
        "page 29 of 29"
       ]
      },
      {
       "output_type": "stream",
       "stream": "stdout",
       "text": [
        "\n",
        "http://mediamatters.org/issues/jobs-wages-unemployment?p=29&s=50\n",
        "saved mm_jobs_wages_unemployment.csv; rows: 1377"
       ]
      },
      {
       "output_type": "stream",
       "stream": "stdout",
       "text": [
        "\n",
        "page 1 of 1"
       ]
      },
      {
       "output_type": "stream",
       "stream": "stdout",
       "text": [
        "\n",
        "http://mediamatters.org/issues/common-core?p=1&s=50\n",
        "saved mm_common_core.csv; rows: 10"
       ]
      },
      {
       "output_type": "stream",
       "stream": "stdout",
       "text": [
        "\n",
        "page 1 of 5"
       ]
      },
      {
       "output_type": "stream",
       "stream": "stdout",
       "text": [
        "\n",
        "http://mediamatters.org/issues/food-insecurity?p=1&s=50\n",
        "page 2 of 5"
       ]
      },
      {
       "output_type": "stream",
       "stream": "stdout",
       "text": [
        "\n",
        "http://mediamatters.org/issues/food-insecurity?p=2&s=50\n",
        "page 3 of 5"
       ]
      },
      {
       "output_type": "stream",
       "stream": "stdout",
       "text": [
        "\n",
        "http://mediamatters.org/issues/food-insecurity?p=3&s=50\n",
        "page 4 of 5"
       ]
      },
      {
       "output_type": "stream",
       "stream": "stdout",
       "text": [
        "\n",
        "http://mediamatters.org/issues/food-insecurity?p=4&s=50\n",
        "page 5 of 5"
       ]
      },
      {
       "output_type": "stream",
       "stream": "stdout",
       "text": [
        "\n",
        "http://mediamatters.org/issues/food-insecurity?p=5&s=50\n",
        "saved mm_food_insecurity.csv; rows: 238"
       ]
      },
      {
       "output_type": "stream",
       "stream": "stdout",
       "text": [
        "\n",
        "page 1 of 30"
       ]
      },
      {
       "output_type": "stream",
       "stream": "stdout",
       "text": [
        "\n",
        "http://mediamatters.org/issues/gender?p=1&s=50\n",
        "page 2 of 30"
       ]
      },
      {
       "output_type": "stream",
       "stream": "stdout",
       "text": [
        "\n",
        "http://mediamatters.org/issues/gender?p=2&s=50\n",
        "page 3 of 30"
       ]
      },
      {
       "output_type": "stream",
       "stream": "stdout",
       "text": [
        "\n",
        "http://mediamatters.org/issues/gender?p=3&s=50\n",
        "page 4 of 30"
       ]
      },
      {
       "output_type": "stream",
       "stream": "stdout",
       "text": [
        "\n",
        "http://mediamatters.org/issues/gender?p=4&s=50\n",
        "page 5 of 30"
       ]
      },
      {
       "output_type": "stream",
       "stream": "stdout",
       "text": [
        "\n",
        "http://mediamatters.org/issues/gender?p=5&s=50\n",
        "page 6 of 30"
       ]
      },
      {
       "output_type": "stream",
       "stream": "stdout",
       "text": [
        "\n",
        "http://mediamatters.org/issues/gender?p=6&s=50\n",
        "page 7 of 30"
       ]
      },
      {
       "output_type": "stream",
       "stream": "stdout",
       "text": [
        "\n",
        "http://mediamatters.org/issues/gender?p=7&s=50\n",
        "page 8 of 30"
       ]
      },
      {
       "output_type": "stream",
       "stream": "stdout",
       "text": [
        "\n",
        "http://mediamatters.org/issues/gender?p=8&s=50\n",
        "page 9 of 30"
       ]
      },
      {
       "output_type": "stream",
       "stream": "stdout",
       "text": [
        "\n",
        "http://mediamatters.org/issues/gender?p=9&s=50\n",
        "page 10 of 30"
       ]
      },
      {
       "output_type": "stream",
       "stream": "stdout",
       "text": [
        "\n",
        "http://mediamatters.org/issues/gender?p=10&s=50\n",
        "page 11 of 30"
       ]
      },
      {
       "output_type": "stream",
       "stream": "stdout",
       "text": [
        "\n",
        "http://mediamatters.org/issues/gender?p=11&s=50\n",
        "page 12 of 30"
       ]
      },
      {
       "output_type": "stream",
       "stream": "stdout",
       "text": [
        "\n",
        "http://mediamatters.org/issues/gender?p=12&s=50\n",
        "page 13 of 30"
       ]
      },
      {
       "output_type": "stream",
       "stream": "stdout",
       "text": [
        "\n",
        "http://mediamatters.org/issues/gender?p=13&s=50\n",
        "page 14 of 30"
       ]
      },
      {
       "output_type": "stream",
       "stream": "stdout",
       "text": [
        "\n",
        "http://mediamatters.org/issues/gender?p=14&s=50\n",
        "page 15 of 30"
       ]
      },
      {
       "output_type": "stream",
       "stream": "stdout",
       "text": [
        "\n",
        "http://mediamatters.org/issues/gender?p=15&s=50\n",
        "page 16 of 30"
       ]
      },
      {
       "output_type": "stream",
       "stream": "stdout",
       "text": [
        "\n",
        "http://mediamatters.org/issues/gender?p=16&s=50\n",
        "page 17 of 30"
       ]
      },
      {
       "output_type": "stream",
       "stream": "stdout",
       "text": [
        "\n",
        "http://mediamatters.org/issues/gender?p=17&s=50\n",
        "page 18 of 30"
       ]
      },
      {
       "output_type": "stream",
       "stream": "stdout",
       "text": [
        "\n",
        "http://mediamatters.org/issues/gender?p=18&s=50\n",
        "page 19 of 30"
       ]
      },
      {
       "output_type": "stream",
       "stream": "stdout",
       "text": [
        "\n",
        "http://mediamatters.org/issues/gender?p=19&s=50\n",
        "page 20 of 30"
       ]
      },
      {
       "output_type": "stream",
       "stream": "stdout",
       "text": [
        "\n",
        "http://mediamatters.org/issues/gender?p=20&s=50\n",
        "page 21 of 30"
       ]
      },
      {
       "output_type": "stream",
       "stream": "stdout",
       "text": [
        "\n",
        "http://mediamatters.org/issues/gender?p=21&s=50\n",
        "page 22 of 30"
       ]
      },
      {
       "output_type": "stream",
       "stream": "stdout",
       "text": [
        "\n",
        "http://mediamatters.org/issues/gender?p=22&s=50\n",
        "page 23 of 30"
       ]
      },
      {
       "output_type": "stream",
       "stream": "stdout",
       "text": [
        "\n",
        "http://mediamatters.org/issues/gender?p=23&s=50\n",
        "page 24 of 30"
       ]
      },
      {
       "output_type": "stream",
       "stream": "stdout",
       "text": [
        "\n",
        "http://mediamatters.org/issues/gender?p=24&s=50\n",
        "page 25 of 30"
       ]
      },
      {
       "output_type": "stream",
       "stream": "stdout",
       "text": [
        "\n",
        "http://mediamatters.org/issues/gender?p=25&s=50\n",
        "page 26 of 30"
       ]
      },
      {
       "output_type": "stream",
       "stream": "stdout",
       "text": [
        "\n",
        "http://mediamatters.org/issues/gender?p=26&s=50\n",
        "page 27 of 30"
       ]
      },
      {
       "output_type": "stream",
       "stream": "stdout",
       "text": [
        "\n",
        "http://mediamatters.org/issues/gender?p=27&s=50\n",
        "page 28 of 30"
       ]
      },
      {
       "output_type": "stream",
       "stream": "stdout",
       "text": [
        "\n",
        "http://mediamatters.org/issues/gender?p=28&s=50\n",
        "page 29 of 30"
       ]
      },
      {
       "output_type": "stream",
       "stream": "stdout",
       "text": [
        "\n",
        "http://mediamatters.org/issues/gender?p=29&s=50\n",
        "page 30 of 30"
       ]
      },
      {
       "output_type": "stream",
       "stream": "stdout",
       "text": [
        "\n",
        "http://mediamatters.org/issues/gender?p=30&s=50\n",
        "saved mm_gender.csv; rows: 1357"
       ]
      },
      {
       "output_type": "stream",
       "stream": "stdout",
       "text": [
        "\n",
        "page 1 of 1"
       ]
      },
      {
       "output_type": "stream",
       "stream": "stdout",
       "text": [
        "\n",
        "http://mediamatters.org/issues/effect-on-social-services?p=1&s=50\n",
        "saved mm_effect_on_social_services.csv; rows: 36"
       ]
      },
      {
       "output_type": "stream",
       "stream": "stdout",
       "text": [
        "\n",
        "page 1 of 24"
       ]
      },
      {
       "output_type": "stream",
       "stream": "stdout",
       "text": [
        "\n",
        "http://mediamatters.org/issues/budget?p=1&s=50\n",
        "page 2 of 24"
       ]
      },
      {
       "output_type": "stream",
       "stream": "stdout",
       "text": [
        "\n",
        "http://mediamatters.org/issues/budget?p=2&s=50\n",
        "page 3 of 24"
       ]
      },
      {
       "output_type": "stream",
       "stream": "stdout",
       "text": [
        "\n",
        "http://mediamatters.org/issues/budget?p=3&s=50\n",
        "page 4 of 24"
       ]
      },
      {
       "output_type": "stream",
       "stream": "stdout",
       "text": [
        "\n",
        "http://mediamatters.org/issues/budget?p=4&s=50\n",
        "page 5 of 24"
       ]
      },
      {
       "output_type": "stream",
       "stream": "stdout",
       "text": [
        "\n",
        "http://mediamatters.org/issues/budget?p=5&s=50\n",
        "page 6 of 24"
       ]
      },
      {
       "output_type": "stream",
       "stream": "stdout",
       "text": [
        "\n",
        "http://mediamatters.org/issues/budget?p=6&s=50\n",
        "page 7 of 24"
       ]
      },
      {
       "output_type": "stream",
       "stream": "stdout",
       "text": [
        "\n",
        "http://mediamatters.org/issues/budget?p=7&s=50\n",
        "page 8 of 24"
       ]
      },
      {
       "output_type": "stream",
       "stream": "stdout",
       "text": [
        "\n",
        "http://mediamatters.org/issues/budget?p=8&s=50\n",
        "page 9 of 24"
       ]
      },
      {
       "output_type": "stream",
       "stream": "stdout",
       "text": [
        "\n",
        "http://mediamatters.org/issues/budget?p=9&s=50\n",
        "page 10 of 24"
       ]
      },
      {
       "output_type": "stream",
       "stream": "stdout",
       "text": [
        "\n",
        "http://mediamatters.org/issues/budget?p=10&s=50\n",
        "page 11 of 24"
       ]
      },
      {
       "output_type": "stream",
       "stream": "stdout",
       "text": [
        "\n",
        "http://mediamatters.org/issues/budget?p=11&s=50\n",
        "page 12 of 24"
       ]
      },
      {
       "output_type": "stream",
       "stream": "stdout",
       "text": [
        "\n",
        "http://mediamatters.org/issues/budget?p=12&s=50\n",
        "page 13 of 24"
       ]
      },
      {
       "output_type": "stream",
       "stream": "stdout",
       "text": [
        "\n",
        "http://mediamatters.org/issues/budget?p=13&s=50\n",
        "page 14 of 24"
       ]
      },
      {
       "output_type": "stream",
       "stream": "stdout",
       "text": [
        "\n",
        "http://mediamatters.org/issues/budget?p=14&s=50\n",
        "page 15 of 24"
       ]
      },
      {
       "output_type": "stream",
       "stream": "stdout",
       "text": [
        "\n",
        "http://mediamatters.org/issues/budget?p=15&s=50\n",
        "page 16 of 24"
       ]
      },
      {
       "output_type": "stream",
       "stream": "stdout",
       "text": [
        "\n",
        "http://mediamatters.org/issues/budget?p=16&s=50\n",
        "page 17 of 24"
       ]
      },
      {
       "output_type": "stream",
       "stream": "stdout",
       "text": [
        "\n",
        "http://mediamatters.org/issues/budget?p=17&s=50\n",
        "page 18 of 24"
       ]
      },
      {
       "output_type": "stream",
       "stream": "stdout",
       "text": [
        "\n",
        "http://mediamatters.org/issues/budget?p=18&s=50\n",
        "page 19 of 24"
       ]
      },
      {
       "output_type": "stream",
       "stream": "stdout",
       "text": [
        "\n",
        "http://mediamatters.org/issues/budget?p=19&s=50\n",
        "page 20 of 24"
       ]
      },
      {
       "output_type": "stream",
       "stream": "stdout",
       "text": [
        "\n",
        "http://mediamatters.org/issues/budget?p=20&s=50\n",
        "page 21 of 24"
       ]
      },
      {
       "output_type": "stream",
       "stream": "stdout",
       "text": [
        "\n",
        "http://mediamatters.org/issues/budget?p=21&s=50\n",
        "page 22 of 24"
       ]
      },
      {
       "output_type": "stream",
       "stream": "stdout",
       "text": [
        "\n",
        "http://mediamatters.org/issues/budget?p=22&s=50\n",
        "page 23 of 24"
       ]
      },
      {
       "output_type": "stream",
       "stream": "stdout",
       "text": [
        "\n",
        "http://mediamatters.org/issues/budget?p=23&s=50\n",
        "page 24 of 24"
       ]
      },
      {
       "output_type": "stream",
       "stream": "stdout",
       "text": [
        "\n",
        "http://mediamatters.org/issues/budget?p=24&s=50\n",
        "saved mm_budget.csv; rows: 1186"
       ]
      },
      {
       "output_type": "stream",
       "stream": "stdout",
       "text": [
        "\n",
        "page 1 of 22"
       ]
      },
      {
       "output_type": "stream",
       "stream": "stdout",
       "text": [
        "\n",
        "http://mediamatters.org/issues/taxes?p=1&s=50\n",
        "page 2 of 22"
       ]
      },
      {
       "output_type": "stream",
       "stream": "stdout",
       "text": [
        "\n",
        "http://mediamatters.org/issues/taxes?p=2&s=50\n",
        "page 3 of 22"
       ]
      },
      {
       "output_type": "stream",
       "stream": "stdout",
       "text": [
        "\n",
        "http://mediamatters.org/issues/taxes?p=3&s=50\n",
        "page 4 of 22"
       ]
      },
      {
       "output_type": "stream",
       "stream": "stdout",
       "text": [
        "\n",
        "http://mediamatters.org/issues/taxes?p=4&s=50\n",
        "page 5 of 22"
       ]
      },
      {
       "output_type": "stream",
       "stream": "stdout",
       "text": [
        "\n",
        "http://mediamatters.org/issues/taxes?p=5&s=50\n",
        "page 6 of 22"
       ]
      },
      {
       "output_type": "stream",
       "stream": "stdout",
       "text": [
        "\n",
        "http://mediamatters.org/issues/taxes?p=6&s=50\n",
        "page 7 of 22"
       ]
      },
      {
       "output_type": "stream",
       "stream": "stdout",
       "text": [
        "\n",
        "http://mediamatters.org/issues/taxes?p=7&s=50\n",
        "page 8 of 22"
       ]
      },
      {
       "output_type": "stream",
       "stream": "stdout",
       "text": [
        "\n",
        "http://mediamatters.org/issues/taxes?p=8&s=50\n",
        "page 9 of 22"
       ]
      },
      {
       "output_type": "stream",
       "stream": "stdout",
       "text": [
        "\n",
        "http://mediamatters.org/issues/taxes?p=9&s=50\n",
        "page 10 of 22"
       ]
      },
      {
       "output_type": "stream",
       "stream": "stdout",
       "text": [
        "\n",
        "http://mediamatters.org/issues/taxes?p=10&s=50\n",
        "page 11 of 22"
       ]
      },
      {
       "output_type": "stream",
       "stream": "stdout",
       "text": [
        "\n",
        "http://mediamatters.org/issues/taxes?p=11&s=50\n",
        "page 12 of 22"
       ]
      },
      {
       "output_type": "stream",
       "stream": "stdout",
       "text": [
        "\n",
        "http://mediamatters.org/issues/taxes?p=12&s=50\n",
        "page 13 of 22"
       ]
      },
      {
       "output_type": "stream",
       "stream": "stdout",
       "text": [
        "\n",
        "http://mediamatters.org/issues/taxes?p=13&s=50\n",
        "page 14 of 22"
       ]
      },
      {
       "output_type": "stream",
       "stream": "stdout",
       "text": [
        "\n",
        "http://mediamatters.org/issues/taxes?p=14&s=50\n",
        "page 15 of 22"
       ]
      },
      {
       "output_type": "stream",
       "stream": "stdout",
       "text": [
        "\n",
        "http://mediamatters.org/issues/taxes?p=15&s=50\n",
        "page 16 of 22"
       ]
      },
      {
       "output_type": "stream",
       "stream": "stdout",
       "text": [
        "\n",
        "http://mediamatters.org/issues/taxes?p=16&s=50\n",
        "page 17 of 22"
       ]
      },
      {
       "output_type": "stream",
       "stream": "stdout",
       "text": [
        "\n",
        "http://mediamatters.org/issues/taxes?p=17&s=50\n",
        "page 18 of 22"
       ]
      },
      {
       "output_type": "stream",
       "stream": "stdout",
       "text": [
        "\n",
        "http://mediamatters.org/issues/taxes?p=18&s=50\n",
        "page 19 of 22"
       ]
      },
      {
       "output_type": "stream",
       "stream": "stdout",
       "text": [
        "\n",
        "http://mediamatters.org/issues/taxes?p=19&s=50\n",
        "page 20 of 22"
       ]
      },
      {
       "output_type": "stream",
       "stream": "stdout",
       "text": [
        "\n",
        "http://mediamatters.org/issues/taxes?p=20&s=50\n",
        "page 21 of 22"
       ]
      },
      {
       "output_type": "stream",
       "stream": "stdout",
       "text": [
        "\n",
        "http://mediamatters.org/issues/taxes?p=21&s=50\n",
        "page 22 of 22"
       ]
      },
      {
       "output_type": "stream",
       "stream": "stdout",
       "text": [
        "\n",
        "http://mediamatters.org/issues/taxes?p=22&s=50\n",
        "saved mm_taxes.csv; rows: 1093"
       ]
      },
      {
       "output_type": "stream",
       "stream": "stdout",
       "text": [
        "\n",
        "page 1 of 13"
       ]
      },
      {
       "output_type": "stream",
       "stream": "stdout",
       "text": [
        "\n",
        "http://mediamatters.org/issues/labor-unions?p=1&s=50\n",
        "page 2 of 13"
       ]
      },
      {
       "output_type": "stream",
       "stream": "stdout",
       "text": [
        "\n",
        "http://mediamatters.org/issues/labor-unions?p=2&s=50\n",
        "page 3 of 13"
       ]
      },
      {
       "output_type": "stream",
       "stream": "stdout",
       "text": [
        "\n",
        "http://mediamatters.org/issues/labor-unions?p=3&s=50\n",
        "page 4 of 13"
       ]
      },
      {
       "output_type": "stream",
       "stream": "stdout",
       "text": [
        "\n",
        "http://mediamatters.org/issues/labor-unions?p=4&s=50\n",
        "page 5 of 13"
       ]
      },
      {
       "output_type": "stream",
       "stream": "stdout",
       "text": [
        "\n",
        "http://mediamatters.org/issues/labor-unions?p=5&s=50\n",
        "page 6 of 13"
       ]
      },
      {
       "output_type": "stream",
       "stream": "stdout",
       "text": [
        "\n",
        "http://mediamatters.org/issues/labor-unions?p=6&s=50\n",
        "page 7 of 13"
       ]
      },
      {
       "output_type": "stream",
       "stream": "stdout",
       "text": [
        "\n",
        "http://mediamatters.org/issues/labor-unions?p=7&s=50\n",
        "page 8 of 13"
       ]
      },
      {
       "output_type": "stream",
       "stream": "stdout",
       "text": [
        "\n",
        "http://mediamatters.org/issues/labor-unions?p=8&s=50\n",
        "page 9 of 13"
       ]
      },
      {
       "output_type": "stream",
       "stream": "stdout",
       "text": [
        "\n",
        "http://mediamatters.org/issues/labor-unions?p=9&s=50\n",
        "page 10 of 13"
       ]
      },
      {
       "output_type": "stream",
       "stream": "stdout",
       "text": [
        "\n",
        "http://mediamatters.org/issues/labor-unions?p=10&s=50\n",
        "page 11 of 13"
       ]
      },
      {
       "output_type": "stream",
       "stream": "stdout",
       "text": [
        "\n",
        "http://mediamatters.org/issues/labor-unions?p=11&s=50\n",
        "page 12 of 13"
       ]
      },
      {
       "output_type": "stream",
       "stream": "stdout",
       "text": [
        "\n",
        "http://mediamatters.org/issues/labor-unions?p=12&s=50\n",
        "page 13 of 13"
       ]
      },
      {
       "output_type": "stream",
       "stream": "stdout",
       "text": [
        "\n",
        "http://mediamatters.org/issues/labor-unions?p=13&s=50\n",
        "saved mm_labor_unions.csv; rows: 601"
       ]
      },
      {
       "output_type": "stream",
       "stream": "stdout",
       "text": [
        "\n",
        "page 1 of 1"
       ]
      },
      {
       "output_type": "stream",
       "stream": "stdout",
       "text": [
        "\n",
        "http://mediamatters.org/issues/hivaids?p=1&s=50\n",
        "saved mm_hivaids.csv; rows: 28"
       ]
      },
      {
       "output_type": "stream",
       "stream": "stdout",
       "text": [
        "\n",
        "page 1 of 3"
       ]
      },
      {
       "output_type": "stream",
       "stream": "stdout",
       "text": [
        "\n",
        "http://mediamatters.org/issues/medicare?p=1&s=50\n",
        "page 2 of 3"
       ]
      },
      {
       "output_type": "stream",
       "stream": "stdout",
       "text": [
        "\n",
        "http://mediamatters.org/issues/medicare?p=2&s=50\n",
        "page 3 of 3"
       ]
      },
      {
       "output_type": "stream",
       "stream": "stdout",
       "text": [
        "\n",
        "http://mediamatters.org/issues/medicare?p=3&s=50\n",
        "saved mm_medicare.csv; rows: 147"
       ]
      },
      {
       "output_type": "stream",
       "stream": "stdout",
       "text": [
        "\n",
        "page 1 of 2"
       ]
      },
      {
       "output_type": "stream",
       "stream": "stdout",
       "text": [
        "\n",
        "http://mediamatters.org/issues/teachers?p=1&s=50\n",
        "page 2 of 2"
       ]
      },
      {
       "output_type": "stream",
       "stream": "stdout",
       "text": [
        "\n",
        "http://mediamatters.org/issues/teachers?p=2&s=50\n",
        "saved mm_teachers.csv; rows: 81"
       ]
      },
      {
       "output_type": "stream",
       "stream": "stdout",
       "text": [
        "\n",
        "page 1 of 27"
       ]
      },
      {
       "output_type": "stream",
       "stream": "stdout",
       "text": [
        "\n",
        "http://mediamatters.org/issues/climate-change?p=1&s=50\n",
        "page 2 of 27"
       ]
      },
      {
       "output_type": "stream",
       "stream": "stdout",
       "text": [
        "\n",
        "http://mediamatters.org/issues/climate-change?p=2&s=50\n",
        "page 3 of 27"
       ]
      },
      {
       "output_type": "stream",
       "stream": "stdout",
       "text": [
        "\n",
        "http://mediamatters.org/issues/climate-change?p=3&s=50\n",
        "page 4 of 27"
       ]
      },
      {
       "output_type": "stream",
       "stream": "stdout",
       "text": [
        "\n",
        "http://mediamatters.org/issues/climate-change?p=4&s=50\n",
        "page 5 of 27"
       ]
      },
      {
       "output_type": "stream",
       "stream": "stdout",
       "text": [
        "\n",
        "http://mediamatters.org/issues/climate-change?p=5&s=50\n",
        "page 6 of 27"
       ]
      },
      {
       "output_type": "stream",
       "stream": "stdout",
       "text": [
        "\n",
        "http://mediamatters.org/issues/climate-change?p=6&s=50\n",
        "page 7 of 27"
       ]
      },
      {
       "output_type": "stream",
       "stream": "stdout",
       "text": [
        "\n",
        "http://mediamatters.org/issues/climate-change?p=7&s=50\n",
        "page 8 of 27"
       ]
      },
      {
       "output_type": "stream",
       "stream": "stdout",
       "text": [
        "\n",
        "http://mediamatters.org/issues/climate-change?p=8&s=50\n",
        "page 9 of 27"
       ]
      },
      {
       "output_type": "stream",
       "stream": "stdout",
       "text": [
        "\n",
        "http://mediamatters.org/issues/climate-change?p=9&s=50\n",
        "page 10 of 27"
       ]
      },
      {
       "output_type": "stream",
       "stream": "stdout",
       "text": [
        "\n",
        "http://mediamatters.org/issues/climate-change?p=10&s=50\n",
        "page 11 of 27"
       ]
      },
      {
       "output_type": "stream",
       "stream": "stdout",
       "text": [
        "\n",
        "http://mediamatters.org/issues/climate-change?p=11&s=50\n",
        "page 12 of 27"
       ]
      },
      {
       "output_type": "stream",
       "stream": "stdout",
       "text": [
        "\n",
        "http://mediamatters.org/issues/climate-change?p=12&s=50\n",
        "page 13 of 27"
       ]
      },
      {
       "output_type": "stream",
       "stream": "stdout",
       "text": [
        "\n",
        "http://mediamatters.org/issues/climate-change?p=13&s=50\n",
        "page 14 of 27"
       ]
      },
      {
       "output_type": "stream",
       "stream": "stdout",
       "text": [
        "\n",
        "http://mediamatters.org/issues/climate-change?p=14&s=50\n",
        "page 15 of 27"
       ]
      },
      {
       "output_type": "stream",
       "stream": "stdout",
       "text": [
        "\n",
        "http://mediamatters.org/issues/climate-change?p=15&s=50\n",
        "page 16 of 27"
       ]
      },
      {
       "output_type": "stream",
       "stream": "stdout",
       "text": [
        "\n",
        "http://mediamatters.org/issues/climate-change?p=16&s=50\n",
        "page 17 of 27"
       ]
      },
      {
       "output_type": "stream",
       "stream": "stdout",
       "text": [
        "\n",
        "http://mediamatters.org/issues/climate-change?p=17&s=50\n",
        "page 18 of 27"
       ]
      },
      {
       "output_type": "stream",
       "stream": "stdout",
       "text": [
        "\n",
        "http://mediamatters.org/issues/climate-change?p=18&s=50\n",
        "page 19 of 27"
       ]
      },
      {
       "output_type": "stream",
       "stream": "stdout",
       "text": [
        "\n",
        "http://mediamatters.org/issues/climate-change?p=19&s=50\n",
        "page 20 of 27"
       ]
      },
      {
       "output_type": "stream",
       "stream": "stdout",
       "text": [
        "\n",
        "http://mediamatters.org/issues/climate-change?p=20&s=50\n",
        "page 21 of 27"
       ]
      },
      {
       "output_type": "stream",
       "stream": "stdout",
       "text": [
        "\n",
        "http://mediamatters.org/issues/climate-change?p=21&s=50\n",
        "page 22 of 27"
       ]
      },
      {
       "output_type": "stream",
       "stream": "stdout",
       "text": [
        "\n",
        "http://mediamatters.org/issues/climate-change?p=22&s=50\n",
        "page 23 of 27"
       ]
      },
      {
       "output_type": "stream",
       "stream": "stdout",
       "text": [
        "\n",
        "http://mediamatters.org/issues/climate-change?p=23&s=50\n",
        "page 24 of 27"
       ]
      },
      {
       "output_type": "stream",
       "stream": "stdout",
       "text": [
        "\n",
        "http://mediamatters.org/issues/climate-change?p=24&s=50\n",
        "page 25 of 27"
       ]
      },
      {
       "output_type": "stream",
       "stream": "stdout",
       "text": [
        "\n",
        "http://mediamatters.org/issues/climate-change?p=25&s=50\n",
        "page 26 of 27"
       ]
      },
      {
       "output_type": "stream",
       "stream": "stdout",
       "text": [
        "\n",
        "http://mediamatters.org/issues/climate-change?p=26&s=50\n",
        "page 27 of 27"
       ]
      },
      {
       "output_type": "stream",
       "stream": "stdout",
       "text": [
        "\n",
        "http://mediamatters.org/issues/climate-change?p=27&s=50\n",
        "saved mm_climate_change.csv; rows: 1348"
       ]
      },
      {
       "output_type": "stream",
       "stream": "stdout",
       "text": [
        "\n",
        "page 1 of 10"
       ]
      },
      {
       "output_type": "stream",
       "stream": "stdout",
       "text": [
        "\n",
        "http://mediamatters.org/issues/voting-rights-issues?p=1&s=50\n",
        "page 2 of 10"
       ]
      },
      {
       "output_type": "stream",
       "stream": "stdout",
       "text": [
        "\n",
        "http://mediamatters.org/issues/voting-rights-issues?p=2&s=50\n",
        "page 3 of 10"
       ]
      },
      {
       "output_type": "stream",
       "stream": "stdout",
       "text": [
        "\n",
        "http://mediamatters.org/issues/voting-rights-issues?p=3&s=50\n",
        "page 4 of 10"
       ]
      },
      {
       "output_type": "stream",
       "stream": "stdout",
       "text": [
        "\n",
        "http://mediamatters.org/issues/voting-rights-issues?p=4&s=50\n",
        "page 5 of 10"
       ]
      },
      {
       "output_type": "stream",
       "stream": "stdout",
       "text": [
        "\n",
        "http://mediamatters.org/issues/voting-rights-issues?p=5&s=50\n",
        "page 6 of 10"
       ]
      },
      {
       "output_type": "stream",
       "stream": "stdout",
       "text": [
        "\n",
        "http://mediamatters.org/issues/voting-rights-issues?p=6&s=50\n",
        "page 7 of 10"
       ]
      },
      {
       "output_type": "stream",
       "stream": "stdout",
       "text": [
        "\n",
        "http://mediamatters.org/issues/voting-rights-issues?p=7&s=50\n",
        "page 8 of 10"
       ]
      },
      {
       "output_type": "stream",
       "stream": "stdout",
       "text": [
        "\n",
        "http://mediamatters.org/issues/voting-rights-issues?p=8&s=50\n",
        "page 9 of 10"
       ]
      },
      {
       "output_type": "stream",
       "stream": "stdout",
       "text": [
        "\n",
        "http://mediamatters.org/issues/voting-rights-issues?p=9&s=50\n",
        "page 10 of 10"
       ]
      },
      {
       "output_type": "stream",
       "stream": "stdout",
       "text": [
        "\n",
        "http://mediamatters.org/issues/voting-rights-issues?p=10&s=50\n",
        "saved mm_voting_rights_issues.csv; rows: 460"
       ]
      },
      {
       "output_type": "stream",
       "stream": "stdout",
       "text": [
        "\n",
        "page 1 of 24"
       ]
      },
      {
       "output_type": "stream",
       "stream": "stdout",
       "text": [
        "\n",
        "http://mediamatters.org/issues/nominations-appointments?p=1&s=50\n",
        "page 2 of 24"
       ]
      },
      {
       "output_type": "stream",
       "stream": "stdout",
       "text": [
        "\n",
        "http://mediamatters.org/issues/nominations-appointments?p=2&s=50\n",
        "page 3 of 24"
       ]
      },
      {
       "output_type": "stream",
       "stream": "stdout",
       "text": [
        "\n",
        "http://mediamatters.org/issues/nominations-appointments?p=3&s=50\n",
        "page 4 of 24"
       ]
      },
      {
       "output_type": "stream",
       "stream": "stdout",
       "text": [
        "\n",
        "http://mediamatters.org/issues/nominations-appointments?p=4&s=50\n",
        "page 5 of 24"
       ]
      },
      {
       "output_type": "stream",
       "stream": "stdout",
       "text": [
        "\n",
        "http://mediamatters.org/issues/nominations-appointments?p=5&s=50\n",
        "page 6 of 24"
       ]
      },
      {
       "output_type": "stream",
       "stream": "stdout",
       "text": [
        "\n",
        "http://mediamatters.org/issues/nominations-appointments?p=6&s=50\n",
        "page 7 of 24"
       ]
      },
      {
       "output_type": "stream",
       "stream": "stdout",
       "text": [
        "\n",
        "http://mediamatters.org/issues/nominations-appointments?p=7&s=50\n",
        "page 8 of 24"
       ]
      },
      {
       "output_type": "stream",
       "stream": "stdout",
       "text": [
        "\n",
        "http://mediamatters.org/issues/nominations-appointments?p=8&s=50\n",
        "page 9 of 24"
       ]
      },
      {
       "output_type": "stream",
       "stream": "stdout",
       "text": [
        "\n",
        "http://mediamatters.org/issues/nominations-appointments?p=9&s=50\n",
        "page 10 of 24"
       ]
      },
      {
       "output_type": "stream",
       "stream": "stdout",
       "text": [
        "\n",
        "http://mediamatters.org/issues/nominations-appointments?p=10&s=50\n",
        "page 11 of 24"
       ]
      },
      {
       "output_type": "stream",
       "stream": "stdout",
       "text": [
        "\n",
        "http://mediamatters.org/issues/nominations-appointments?p=11&s=50\n",
        "page 12 of 24"
       ]
      },
      {
       "output_type": "stream",
       "stream": "stdout",
       "text": [
        "\n",
        "http://mediamatters.org/issues/nominations-appointments?p=12&s=50\n",
        "page 13 of 24"
       ]
      },
      {
       "output_type": "stream",
       "stream": "stdout",
       "text": [
        "\n",
        "http://mediamatters.org/issues/nominations-appointments?p=13&s=50\n",
        "page 14 of 24"
       ]
      },
      {
       "output_type": "stream",
       "stream": "stdout",
       "text": [
        "\n",
        "http://mediamatters.org/issues/nominations-appointments?p=14&s=50\n",
        "page 15 of 24"
       ]
      },
      {
       "output_type": "stream",
       "stream": "stdout",
       "text": [
        "\n",
        "http://mediamatters.org/issues/nominations-appointments?p=15&s=50\n",
        "page 16 of 24"
       ]
      },
      {
       "output_type": "stream",
       "stream": "stdout",
       "text": [
        "\n",
        "http://mediamatters.org/issues/nominations-appointments?p=16&s=50\n",
        "page 17 of 24"
       ]
      },
      {
       "output_type": "stream",
       "stream": "stdout",
       "text": [
        "\n",
        "http://mediamatters.org/issues/nominations-appointments?p=17&s=50\n",
        "page 18 of 24"
       ]
      },
      {
       "output_type": "stream",
       "stream": "stdout",
       "text": [
        "\n",
        "http://mediamatters.org/issues/nominations-appointments?p=18&s=50\n",
        "page 19 of 24"
       ]
      },
      {
       "output_type": "stream",
       "stream": "stdout",
       "text": [
        "\n",
        "http://mediamatters.org/issues/nominations-appointments?p=19&s=50\n",
        "page 20 of 24"
       ]
      },
      {
       "output_type": "stream",
       "stream": "stdout",
       "text": [
        "\n",
        "http://mediamatters.org/issues/nominations-appointments?p=20&s=50\n",
        "page 21 of 24"
       ]
      },
      {
       "output_type": "stream",
       "stream": "stdout",
       "text": [
        "\n",
        "http://mediamatters.org/issues/nominations-appointments?p=21&s=50\n",
        "page 22 of 24"
       ]
      },
      {
       "output_type": "stream",
       "stream": "stdout",
       "text": [
        "\n",
        "http://mediamatters.org/issues/nominations-appointments?p=22&s=50\n",
        "page 23 of 24"
       ]
      },
      {
       "output_type": "stream",
       "stream": "stdout",
       "text": [
        "\n",
        "http://mediamatters.org/issues/nominations-appointments?p=23&s=50\n",
        "page 24 of 24"
       ]
      },
      {
       "output_type": "stream",
       "stream": "stdout",
       "text": [
        "\n",
        "http://mediamatters.org/issues/nominations-appointments?p=24&s=50\n",
        "saved mm_nominations_appointments.csv; rows: 1139"
       ]
      },
      {
       "output_type": "stream",
       "stream": "stdout",
       "text": [
        "\n",
        "page 1 of 3"
       ]
      },
      {
       "output_type": "stream",
       "stream": "stdout",
       "text": [
        "\n",
        "http://mediamatters.org/issues/defense-funding?p=1&s=50\n",
        "page 2 of 3"
       ]
      },
      {
       "output_type": "stream",
       "stream": "stdout",
       "text": [
        "\n",
        "http://mediamatters.org/issues/defense-funding?p=2&s=50\n",
        "page 3 of 3"
       ]
      },
      {
       "output_type": "stream",
       "stream": "stdout",
       "text": [
        "\n",
        "http://mediamatters.org/issues/defense-funding?p=3&s=50\n",
        "saved mm_defense_funding.csv; rows: 117"
       ]
      },
      {
       "output_type": "stream",
       "stream": "stdout",
       "text": [
        "\n",
        "page 1 of 1"
       ]
      },
      {
       "output_type": "stream",
       "stream": "stdout",
       "text": [
        "\n",
        "http://mediamatters.org/issues/endangered-species?p=1&s=50\n",
        "saved mm_endangered_species.csv; rows: 32"
       ]
      },
      {
       "output_type": "stream",
       "stream": "stdout",
       "text": [
        "\n",
        "page 1 of 17"
       ]
      },
      {
       "output_type": "stream",
       "stream": "stdout",
       "text": [
        "\n",
        "http://mediamatters.org/issues/reproductive-choice?p=1&s=50\n",
        "page 2 of 17"
       ]
      },
      {
       "output_type": "stream",
       "stream": "stdout",
       "text": [
        "\n",
        "http://mediamatters.org/issues/reproductive-choice?p=2&s=50\n",
        "page 3 of 17"
       ]
      },
      {
       "output_type": "stream",
       "stream": "stdout",
       "text": [
        "\n",
        "http://mediamatters.org/issues/reproductive-choice?p=3&s=50\n",
        "page 4 of 17"
       ]
      },
      {
       "output_type": "stream",
       "stream": "stdout",
       "text": [
        "\n",
        "http://mediamatters.org/issues/reproductive-choice?p=4&s=50\n",
        "page 5 of 17"
       ]
      },
      {
       "output_type": "stream",
       "stream": "stdout",
       "text": [
        "\n",
        "http://mediamatters.org/issues/reproductive-choice?p=5&s=50\n",
        "page 6 of 17"
       ]
      },
      {
       "output_type": "stream",
       "stream": "stdout",
       "text": [
        "\n",
        "http://mediamatters.org/issues/reproductive-choice?p=6&s=50\n",
        "page 7 of 17"
       ]
      },
      {
       "output_type": "stream",
       "stream": "stdout",
       "text": [
        "\n",
        "http://mediamatters.org/issues/reproductive-choice?p=7&s=50\n",
        "page 8 of 17"
       ]
      },
      {
       "output_type": "stream",
       "stream": "stdout",
       "text": [
        "\n",
        "http://mediamatters.org/issues/reproductive-choice?p=8&s=50\n",
        "page 9 of 17"
       ]
      },
      {
       "output_type": "stream",
       "stream": "stdout",
       "text": [
        "\n",
        "http://mediamatters.org/issues/reproductive-choice?p=9&s=50\n",
        "page 10 of 17"
       ]
      },
      {
       "output_type": "stream",
       "stream": "stdout",
       "text": [
        "\n",
        "http://mediamatters.org/issues/reproductive-choice?p=10&s=50\n",
        "page 11 of 17"
       ]
      },
      {
       "output_type": "stream",
       "stream": "stdout",
       "text": [
        "\n",
        "http://mediamatters.org/issues/reproductive-choice?p=11&s=50\n",
        "page 12 of 17"
       ]
      },
      {
       "output_type": "stream",
       "stream": "stdout",
       "text": [
        "\n",
        "http://mediamatters.org/issues/reproductive-choice?p=12&s=50\n",
        "page 13 of 17"
       ]
      },
      {
       "output_type": "stream",
       "stream": "stdout",
       "text": [
        "\n",
        "http://mediamatters.org/issues/reproductive-choice?p=13&s=50\n",
        "page 14 of 17"
       ]
      },
      {
       "output_type": "stream",
       "stream": "stdout",
       "text": [
        "\n",
        "http://mediamatters.org/issues/reproductive-choice?p=14&s=50\n",
        "page 15 of 17"
       ]
      },
      {
       "output_type": "stream",
       "stream": "stdout",
       "text": [
        "\n",
        "http://mediamatters.org/issues/reproductive-choice?p=15&s=50\n",
        "page 16 of 17"
       ]
      },
      {
       "output_type": "stream",
       "stream": "stdout",
       "text": [
        "\n",
        "http://mediamatters.org/issues/reproductive-choice?p=16&s=50\n",
        "page 17 of 17"
       ]
      },
      {
       "output_type": "stream",
       "stream": "stdout",
       "text": [
        "\n",
        "http://mediamatters.org/issues/reproductive-choice?p=17&s=50\n",
        "saved mm_reproductive_choice.csv; rows: 841"
       ]
      },
      {
       "output_type": "stream",
       "stream": "stdout",
       "text": [
        "\n",
        "page 1 of 5"
       ]
      },
      {
       "output_type": "stream",
       "stream": "stdout",
       "text": [
        "\n",
        "http://mediamatters.org/issues/war-in-afghanistan?p=1&s=50\n",
        "page 2 of 5"
       ]
      },
      {
       "output_type": "stream",
       "stream": "stdout",
       "text": [
        "\n",
        "http://mediamatters.org/issues/war-in-afghanistan?p=2&s=50\n",
        "page 3 of 5"
       ]
      },
      {
       "output_type": "stream",
       "stream": "stdout",
       "text": [
        "\n",
        "http://mediamatters.org/issues/war-in-afghanistan?p=3&s=50\n",
        "page 4 of 5"
       ]
      },
      {
       "output_type": "stream",
       "stream": "stdout",
       "text": [
        "\n",
        "http://mediamatters.org/issues/war-in-afghanistan?p=4&s=50\n",
        "page 5 of 5"
       ]
      },
      {
       "output_type": "stream",
       "stream": "stdout",
       "text": [
        "\n",
        "http://mediamatters.org/issues/war-in-afghanistan?p=5&s=50\n",
        "saved mm_war_in_afghanistan.csv; rows: 206"
       ]
      },
      {
       "output_type": "stream",
       "stream": "stdout",
       "text": [
        "\n",
        "finished\n"
       ]
      }
     ],
     "prompt_number": 358
    },
    {
     "cell_type": "code",
     "collapsed": false,
     "input": [],
     "language": "python",
     "metadata": {},
     "outputs": []
    }
   ],
   "metadata": {}
  }
 ]
}