{
 "metadata": {
  "name": "",
  "signature": "sha256:2599357a544ed74525efccaaec8e02fcd6ddcb3229f9ea09c42ef1fdfdcc0f8e"
 },
 "nbformat": 3,
 "nbformat_minor": 0,
 "worksheets": [
  {
   "cells": [
    {
     "cell_type": "code",
     "collapsed": false,
     "input": [
      "%matplotlib inline\n",
      "import time\n",
      "import pandas as pd\n",
      "import numpy as np\n",
      "import matplotlib.pyplot as plt\n",
      "import nltk\n",
      "from sklearn.feature_extraction.text import CountVectorizer\n",
      "from collections import Counter\n",
      "\n",
      "from sklearn.linear_model import LinearRegression, Ridge, Lasso\n",
      "from sklearn.naive_bayes import GaussianNB, MultinomialNB, BernoulliNB\n",
      "from sklearn.ensemble import RandomForestClassifier\n",
      "from sklearn.tree import DecisionTreeClassifier\n",
      "from sklearn.linear_model import SGDClassifier\n",
      "from sklearn.neighbors import KNeighborsClassifier\n",
      "from sklearn.lda import LDA\n",
      "\n",
      "from sklearn.cross_validation import train_test_split, cross_val_score, KFold\n",
      "from sklearn.metrics import r2_score, explained_variance_score, classification_report\n",
      "\n",
      "pd.set_option(\"display.mpl_style\", \"default\")"
     ],
     "language": "python",
     "metadata": {},
     "outputs": [],
     "prompt_number": 1
    },
    {
     "cell_type": "markdown",
     "metadata": {},
     "source": [
      "## 1. Feature Engineering"
     ]
    },
    {
     "cell_type": "code",
     "collapsed": false,
     "input": [
      "df = pd.read_csv(\"datasets/livewire_hits2.csv\")\n",
      "df.head()"
     ],
     "language": "python",
     "metadata": {},
     "outputs": [
      {
       "html": [
        "<div style=\"max-height:1000px;max-width:1500px;overflow:auto;\">\n",
        "<table border=\"1\" class=\"dataframe\">\n",
        "  <thead>\n",
        "    <tr style=\"text-align: right;\">\n",
        "      <th></th>\n",
        "      <th>title</th>\n",
        "      <th>url</th>\n",
        "      <th>pub_date</th>\n",
        "      <th>day_0</th>\n",
        "      <th>day_1</th>\n",
        "      <th>day_2</th>\n",
        "      <th>day_3</th>\n",
        "      <th>day_4</th>\n",
        "      <th>day_5</th>\n",
        "      <th>day_6</th>\n",
        "    </tr>\n",
        "  </thead>\n",
        "  <tbody>\n",
        "    <tr>\n",
        "      <th>0</th>\n",
        "      <td> Ancient Crimean Gold In Legal Limbo After Russ...</td>\n",
        "      <td> http://talkingpointsmemo.com/livewire/crimean-...</td>\n",
        "      <td> 2014-03-26T18:28:25</td>\n",
        "      <td>  1332</td>\n",
        "      <td>  103</td>\n",
        "      <td>   0</td>\n",
        "      <td>   0</td>\n",
        "      <td>   0</td>\n",
        "      <td>   0</td>\n",
        "      <td>   0</td>\n",
        "    </tr>\n",
        "    <tr>\n",
        "      <th>1</th>\n",
        "      <td> California Sec. Of State Candidate Arrested In...</td>\n",
        "      <td> http://talkingpointsmemo.com/livewire/leland-y...</td>\n",
        "      <td> 2014-03-26T18:29:17</td>\n",
        "      <td> 10743</td>\n",
        "      <td> 1483</td>\n",
        "      <td> 136</td>\n",
        "      <td>  68</td>\n",
        "      <td>  54</td>\n",
        "      <td>  38</td>\n",
        "      <td>  32</td>\n",
        "    </tr>\n",
        "    <tr>\n",
        "      <th>2</th>\n",
        "      <td> Planet Biden: Scientists Nickname New Dwarf Pl...</td>\n",
        "      <td> http://talkingpointsmemo.com/livewire/dwarf-pl...</td>\n",
        "      <td> 2014-03-26T18:58:47</td>\n",
        "      <td>  4907</td>\n",
        "      <td> 2039</td>\n",
        "      <td> 288</td>\n",
        "      <td> 137</td>\n",
        "      <td> 107</td>\n",
        "      <td>  87</td>\n",
        "      <td>  74</td>\n",
        "    </tr>\n",
        "    <tr>\n",
        "      <th>3</th>\n",
        "      <td> Mass. Guv Candidate Passes Kidney Stone During...</td>\n",
        "      <td> http://talkingpointsmemo.com/livewire/mass-guv...</td>\n",
        "      <td> 2014-03-26T19:29:00</td>\n",
        "      <td> 27494</td>\n",
        "      <td> 7345</td>\n",
        "      <td> 740</td>\n",
        "      <td> 396</td>\n",
        "      <td> 295</td>\n",
        "      <td> 213</td>\n",
        "      <td> 100</td>\n",
        "    </tr>\n",
        "    <tr>\n",
        "      <th>4</th>\n",
        "      <td> Charlotte's Brand New Mayor Turns Out To Be A ...</td>\n",
        "      <td> http://talkingpointsmemo.com/livewire/patrick-...</td>\n",
        "      <td> 2014-03-26T19:44:39</td>\n",
        "      <td>  6747</td>\n",
        "      <td> 1580</td>\n",
        "      <td> 127</td>\n",
        "      <td>  54</td>\n",
        "      <td>  36</td>\n",
        "      <td>  27</td>\n",
        "      <td>  22</td>\n",
        "    </tr>\n",
        "  </tbody>\n",
        "</table>\n",
        "</div>"
       ],
       "metadata": {},
       "output_type": "pyout",
       "prompt_number": 2,
       "text": [
        "                                               title  \\\n",
        "0  Ancient Crimean Gold In Legal Limbo After Russ...   \n",
        "1  California Sec. Of State Candidate Arrested In...   \n",
        "2  Planet Biden: Scientists Nickname New Dwarf Pl...   \n",
        "3  Mass. Guv Candidate Passes Kidney Stone During...   \n",
        "4  Charlotte's Brand New Mayor Turns Out To Be A ...   \n",
        "\n",
        "                                                 url             pub_date  \\\n",
        "0  http://talkingpointsmemo.com/livewire/crimean-...  2014-03-26T18:28:25   \n",
        "1  http://talkingpointsmemo.com/livewire/leland-y...  2014-03-26T18:29:17   \n",
        "2  http://talkingpointsmemo.com/livewire/dwarf-pl...  2014-03-26T18:58:47   \n",
        "3  http://talkingpointsmemo.com/livewire/mass-guv...  2014-03-26T19:29:00   \n",
        "4  http://talkingpointsmemo.com/livewire/patrick-...  2014-03-26T19:44:39   \n",
        "\n",
        "   day_0  day_1  day_2  day_3  day_4  day_5  day_6  \n",
        "0   1332    103      0      0      0      0      0  \n",
        "1  10743   1483    136     68     54     38     32  \n",
        "2   4907   2039    288    137    107     87     74  \n",
        "3  27494   7345    740    396    295    213    100  \n",
        "4   6747   1580    127     54     36     27     22  "
       ]
      }
     ],
     "prompt_number": 2
    },
    {
     "cell_type": "code",
     "collapsed": false,
     "input": [
      "new_df = pd.DataFrame(df.title)\n",
      "new_df[\"views\"] = df.day_0 + df.day_1 + df.day_3 + df.day_4 + df.day_5 + df.day_6\n",
      "new_df[\"log_views\"] = new_df.views.apply(lambda x: np.log(x))\n",
      "new_df = new_df.dropna()\n",
      "new_df.info()"
     ],
     "language": "python",
     "metadata": {},
     "outputs": [
      {
       "output_type": "stream",
       "stream": "stdout",
       "text": [
        "<class 'pandas.core.frame.DataFrame'>\n",
        "Int64Index: 7810 entries, 0 to 7811\n",
        "Data columns (total 3 columns):\n",
        "title        7810 non-null object\n",
        "views        7810 non-null int64\n",
        "log_views    7810 non-null float64\n",
        "dtypes: float64(1), int64(1), object(1)"
       ]
      }
     ],
     "prompt_number": 96
    },
    {
     "cell_type": "code",
     "collapsed": false,
     "input": [
      "plt.figure(figsize=(14,5))\n",
      "plt.title(\"Log Normalized Page Views\")\n",
      "(n, bins, patches) = plt.hist(new_df.log_views, bins=10)\n",
      "print n\n",
      "plt.show"
     ],
     "language": "python",
     "metadata": {},
     "outputs": [
      {
       "output_type": "stream",
       "stream": "stdout",
       "text": [
        "[  4.00000000e+00   6.70000000e+01   6.58000000e+02   1.95700000e+03\n",
        "   2.58100000e+03   1.98800000e+03   5.02000000e+02   4.40000000e+01\n",
        "   7.00000000e+00   2.00000000e+00]\n"
       ]
      },
      {
       "metadata": {},
       "output_type": "pyout",
       "prompt_number": 513,
       "text": [
        "<function matplotlib.pyplot.show>"
       ]
      },
      {
       "metadata": {},
       "output_type": "display_data",
       "png": "[encoded data removed]",
       "text": [
        "<matplotlib.figure.Figure at 0x11697fb90>"
       ]
      }
     ],
     "prompt_number": 513
    },
    {
     "cell_type": "code",
     "collapsed": false,
     "input": [
      "# new_df.to_csv(\"datasets/livewire_log_cumviews.csv\", index = False)\n",
      "# new_df = pd.read_csv(\"datasets/livewire_log_cumviews.csv\")"
     ],
     "language": "python",
     "metadata": {},
     "outputs": [],
     "prompt_number": 99
    },
    {
     "cell_type": "markdown",
     "metadata": {},
     "source": [
      "### Add Columns for Potentially Important Punctuation "
     ]
    },
    {
     "cell_type": "code",
     "collapsed": false,
     "input": [
      "new_df[\"exclamation\"] = new_df.title.apply(lambda x: x.count(\"!\"))\n",
      "new_df[\"question\"] = new_df.title.apply(lambda x: x.count(\"?\"))\n",
      "new_df[\"bleep_censor\"] = new_df.title.apply(lambda x: x.count(\"*\"))"
     ],
     "language": "python",
     "metadata": {},
     "outputs": [],
     "prompt_number": 100
    },
    {
     "cell_type": "code",
     "collapsed": false,
     "input": [
      "print \"exclamation count %i\" % new_df.exclamation.sum()\n",
      "print \"question count %i\" % new_df.question.sum()\n",
      "print \"bleep count %i\" % new_df.bleep_censor.sum()"
     ],
     "language": "python",
     "metadata": {},
     "outputs": [
      {
       "output_type": "stream",
       "stream": "stdout",
       "text": [
        "exclamation count 77\n",
        "question count 97\n",
        "bleep count 57\n"
       ]
      }
     ],
     "prompt_number": 101
    },
    {
     "cell_type": "code",
     "collapsed": false,
     "input": [
      "new_df.head(5)"
     ],
     "language": "python",
     "metadata": {},
     "outputs": [
      {
       "html": [
        "<div style=\"max-height:1000px;max-width:1500px;overflow:auto;\">\n",
        "<table border=\"1\" class=\"dataframe\">\n",
        "  <thead>\n",
        "    <tr style=\"text-align: right;\">\n",
        "      <th></th>\n",
        "      <th>title</th>\n",
        "      <th>views</th>\n",
        "      <th>log_views</th>\n",
        "      <th>exclamation</th>\n",
        "      <th>question</th>\n",
        "      <th>bleep_censor</th>\n",
        "    </tr>\n",
        "  </thead>\n",
        "  <tbody>\n",
        "    <tr>\n",
        "      <th>0</th>\n",
        "      <td> Ancient Crimean Gold In Legal Limbo After Russ...</td>\n",
        "      <td>  1435</td>\n",
        "      <td> 3.156852</td>\n",
        "      <td> 0</td>\n",
        "      <td> 0</td>\n",
        "      <td> 0</td>\n",
        "    </tr>\n",
        "    <tr>\n",
        "      <th>1</th>\n",
        "      <td> California Sec. Of State Candidate Arrested In...</td>\n",
        "      <td> 12418</td>\n",
        "      <td> 4.094052</td>\n",
        "      <td> 0</td>\n",
        "      <td> 0</td>\n",
        "      <td> 0</td>\n",
        "    </tr>\n",
        "    <tr>\n",
        "      <th>2</th>\n",
        "      <td> Planet Biden: Scientists Nickname New Dwarf Pl...</td>\n",
        "      <td>  7351</td>\n",
        "      <td> 3.866346</td>\n",
        "      <td> 0</td>\n",
        "      <td> 0</td>\n",
        "      <td> 0</td>\n",
        "    </tr>\n",
        "    <tr>\n",
        "      <th>3</th>\n",
        "      <td> Mass. Guv Candidate Passes Kidney Stone During...</td>\n",
        "      <td> 35843</td>\n",
        "      <td> 4.554404</td>\n",
        "      <td> 0</td>\n",
        "      <td> 0</td>\n",
        "      <td> 0</td>\n",
        "    </tr>\n",
        "    <tr>\n",
        "      <th>4</th>\n",
        "      <td> Charlotte's Brand New Mayor Turns Out To Be A ...</td>\n",
        "      <td>  8466</td>\n",
        "      <td> 3.927678</td>\n",
        "      <td> 0</td>\n",
        "      <td> 0</td>\n",
        "      <td> 0</td>\n",
        "    </tr>\n",
        "  </tbody>\n",
        "</table>\n",
        "</div>"
       ],
       "metadata": {},
       "output_type": "pyout",
       "prompt_number": 41,
       "text": [
        "                                               title  views  log_views  \\\n",
        "0  Ancient Crimean Gold In Legal Limbo After Russ...   1435   3.156852   \n",
        "1  California Sec. Of State Candidate Arrested In...  12418   4.094052   \n",
        "2  Planet Biden: Scientists Nickname New Dwarf Pl...   7351   3.866346   \n",
        "3  Mass. Guv Candidate Passes Kidney Stone During...  35843   4.554404   \n",
        "4  Charlotte's Brand New Mayor Turns Out To Be A ...   8466   3.927678   \n",
        "\n",
        "   exclamation  question  bleep_censor  \n",
        "0            0         0             0  \n",
        "1            0         0             0  \n",
        "2            0         0             0  \n",
        "3            0         0             0  \n",
        "4            0         0             0  "
       ]
      }
     ],
     "prompt_number": 41
    },
    {
     "cell_type": "code",
     "collapsed": false,
     "input": [
      "# new_df.to_csv(\"datasets/livewire_w_punctuation.csv\", index = False)\n",
      "# new_df = pd.read_csv(\"datasets/livewire_w_punctuation.csv\")"
     ],
     "language": "python",
     "metadata": {},
     "outputs": [],
     "prompt_number": 190
    },
    {
     "cell_type": "markdown",
     "metadata": {},
     "source": [
      "### Generate Parts-of-Speech (POS) Counts"
     ]
    },
    {
     "cell_type": "code",
     "collapsed": false,
     "input": [
      "def get_pos_tags(text):\n",
      "    tokens = nltk.word_tokenize(text.lower())\n",
      "    text = nltk.Text(tokens)\n",
      "    tags = nltk.pos_tag(text)\n",
      "    return tags"
     ],
     "language": "python",
     "metadata": {},
     "outputs": [],
     "prompt_number": 103
    },
    {
     "cell_type": "code",
     "collapsed": false,
     "input": [
      "title = new_df.title[0]\n",
      "get_pos_tags(title)"
     ],
     "language": "python",
     "metadata": {},
     "outputs": [
      {
       "metadata": {},
       "output_type": "pyout",
       "prompt_number": 16,
       "text": [
        "[('ancient', 'NN'),\n",
        " ('crimean', 'VBD'),\n",
        " ('gold', 'NN'),\n",
        " ('in', 'IN'),\n",
        " ('legal', 'JJ'),\n",
        " ('limbo', 'NN'),\n",
        " ('after', 'IN'),\n",
        " ('russia', 'NN'),\n",
        " (\"'s\", 'POS'),\n",
        " ('invasion', 'NN')]"
       ]
      }
     ],
     "prompt_number": 16
    },
    {
     "cell_type": "code",
     "collapsed": false,
     "input": [
      "def get_pos_counts(text):\n",
      "    tags = get_pos_tags(text)\n",
      "    counts = Counter(tag for word,tag in tags)\n",
      "    return dict(counts)"
     ],
     "language": "python",
     "metadata": {},
     "outputs": [],
     "prompt_number": 104
    },
    {
     "cell_type": "code",
     "collapsed": false,
     "input": [
      "def get_pos_perc(text):\n",
      "    counts = get_pos_counts(text)\n",
      "    total = sum(counts.values())\n",
      "    percentages = dict((word, float(count)/total) for word,count in counts.items())\n",
      "    return percentages"
     ],
     "language": "python",
     "metadata": {},
     "outputs": [],
     "prompt_number": 105
    },
    {
     "cell_type": "code",
     "collapsed": false,
     "input": [
      "print title\n",
      "print get_pos_counts(title)\n",
      "print get_pos_perc(title)"
     ],
     "language": "python",
     "metadata": {},
     "outputs": [
      {
       "output_type": "stream",
       "stream": "stdout",
       "text": [
        "Ancient Crimean Gold In Legal Limbo After Russia's Invasion\n",
        "{'VBD': 1, 'NN': 5, 'POS': 1, 'JJ': 1, 'IN': 2}\n",
        "{'JJ': 0.1, 'IN': 0.2, 'POS': 0.1, 'NN': 0.5, 'VBD': 0.1}\n"
       ]
      }
     ],
     "prompt_number": 30
    },
    {
     "cell_type": "markdown",
     "metadata": {},
     "source": [
      "### Add POS Columns"
     ]
    },
    {
     "cell_type": "code",
     "collapsed": false,
     "input": [
      "new_df.columns"
     ],
     "language": "python",
     "metadata": {},
     "outputs": [
      {
       "metadata": {},
       "output_type": "pyout",
       "prompt_number": 106,
       "text": [
        "Index([u'title', u'views', u'log_views', u'exclamation', u'question', u'bleep_censor'], dtype='object')"
       ]
      }
     ],
     "prompt_number": 106
    },
    {
     "cell_type": "code",
     "collapsed": false,
     "input": [
      "def add_pos_cols(df):\n",
      "    for idx, row in df.iterrows():\n",
      "        text = unicode(str(row.title), encoding='utf-8')\n",
      "        counts = get_pos_counts(text)\n",
      "        for tag, cnt in counts.iteritems():\n",
      "            col = \"pos_\" + tag\n",
      "            if col not in df.columns:\n",
      "                df[col] = 0\n",
      "            df[col][idx] = cnt\n",
      "    return df"
     ],
     "language": "python",
     "metadata": {},
     "outputs": [],
     "prompt_number": 191
    },
    {
     "cell_type": "code",
     "collapsed": false,
     "input": [
      "pos_df = add_pos_cols(new_df)\n",
      "pos_df.head(5)"
     ],
     "language": "python",
     "metadata": {},
     "outputs": [
      {
       "html": [
        "<div style=\"max-height:1000px;max-width:1500px;overflow:auto;\">\n",
        "<table border=\"1\" class=\"dataframe\">\n",
        "  <thead>\n",
        "    <tr style=\"text-align: right;\">\n",
        "      <th></th>\n",
        "      <th>title</th>\n",
        "      <th>views</th>\n",
        "      <th>log_views</th>\n",
        "      <th>exclamation</th>\n",
        "      <th>question</th>\n",
        "      <th>bleep_censor</th>\n",
        "      <th>pos_VBD</th>\n",
        "      <th>pos_NN</th>\n",
        "      <th>pos_POS</th>\n",
        "      <th>pos_JJ</th>\n",
        "      <th>...</th>\n",
        "      <th>pos_WDT</th>\n",
        "      <th>pos_JJR</th>\n",
        "      <th>pos_#</th>\n",
        "      <th>pos_JJS</th>\n",
        "      <th>pos_EX</th>\n",
        "      <th>pos_RBR</th>\n",
        "      <th>pos_LS</th>\n",
        "      <th>pos_PDT</th>\n",
        "      <th>pos_``</th>\n",
        "      <th>pos_WP$</th>\n",
        "    </tr>\n",
        "  </thead>\n",
        "  <tbody>\n",
        "    <tr>\n",
        "      <th>0</th>\n",
        "      <td> Ancient Crimean Gold In Legal Limbo After Russ...</td>\n",
        "      <td>  1435</td>\n",
        "      <td>  7.268920</td>\n",
        "      <td> 0</td>\n",
        "      <td> 0</td>\n",
        "      <td> 0</td>\n",
        "      <td> 1</td>\n",
        "      <td> 5</td>\n",
        "      <td> 1</td>\n",
        "      <td> 1</td>\n",
        "      <td>...</td>\n",
        "      <td> 0</td>\n",
        "      <td> 0</td>\n",
        "      <td> 0</td>\n",
        "      <td> 0</td>\n",
        "      <td> 0</td>\n",
        "      <td> 0</td>\n",
        "      <td> 0</td>\n",
        "      <td> 0</td>\n",
        "      <td> 0</td>\n",
        "      <td> 0</td>\n",
        "    </tr>\n",
        "    <tr>\n",
        "      <th>1</th>\n",
        "      <td> California Sec. Of State Candidate Arrested In...</td>\n",
        "      <td> 12418</td>\n",
        "      <td>  9.426902</td>\n",
        "      <td> 0</td>\n",
        "      <td> 0</td>\n",
        "      <td> 0</td>\n",
        "      <td> 2</td>\n",
        "      <td> 6</td>\n",
        "      <td> 0</td>\n",
        "      <td> 1</td>\n",
        "      <td>...</td>\n",
        "      <td> 0</td>\n",
        "      <td> 0</td>\n",
        "      <td> 0</td>\n",
        "      <td> 0</td>\n",
        "      <td> 0</td>\n",
        "      <td> 0</td>\n",
        "      <td> 0</td>\n",
        "      <td> 0</td>\n",
        "      <td> 0</td>\n",
        "      <td> 0</td>\n",
        "    </tr>\n",
        "    <tr>\n",
        "      <th>2</th>\n",
        "      <td> Planet Biden: Scientists Nickname New Dwarf Pl...</td>\n",
        "      <td>  7351</td>\n",
        "      <td>  8.902592</td>\n",
        "      <td> 0</td>\n",
        "      <td> 0</td>\n",
        "      <td> 0</td>\n",
        "      <td> 1</td>\n",
        "      <td> 4</td>\n",
        "      <td> 0</td>\n",
        "      <td> 1</td>\n",
        "      <td>...</td>\n",
        "      <td> 0</td>\n",
        "      <td> 0</td>\n",
        "      <td> 0</td>\n",
        "      <td> 0</td>\n",
        "      <td> 0</td>\n",
        "      <td> 0</td>\n",
        "      <td> 0</td>\n",
        "      <td> 0</td>\n",
        "      <td> 0</td>\n",
        "      <td> 0</td>\n",
        "    </tr>\n",
        "    <tr>\n",
        "      <th>3</th>\n",
        "      <td> Mass. Guv Candidate Passes Kidney Stone During...</td>\n",
        "      <td> 35843</td>\n",
        "      <td> 10.486904</td>\n",
        "      <td> 0</td>\n",
        "      <td> 0</td>\n",
        "      <td> 0</td>\n",
        "      <td> 0</td>\n",
        "      <td> 6</td>\n",
        "      <td> 0</td>\n",
        "      <td> 0</td>\n",
        "      <td>...</td>\n",
        "      <td> 0</td>\n",
        "      <td> 0</td>\n",
        "      <td> 0</td>\n",
        "      <td> 0</td>\n",
        "      <td> 0</td>\n",
        "      <td> 0</td>\n",
        "      <td> 0</td>\n",
        "      <td> 0</td>\n",
        "      <td> 0</td>\n",
        "      <td> 0</td>\n",
        "    </tr>\n",
        "    <tr>\n",
        "      <th>4</th>\n",
        "      <td> Charlotte's Brand New Mayor Turns Out To Be A ...</td>\n",
        "      <td>  8466</td>\n",
        "      <td>  9.043813</td>\n",
        "      <td> 0</td>\n",
        "      <td> 0</td>\n",
        "      <td> 0</td>\n",
        "      <td> 0</td>\n",
        "      <td> 4</td>\n",
        "      <td> 1</td>\n",
        "      <td> 1</td>\n",
        "      <td>...</td>\n",
        "      <td> 0</td>\n",
        "      <td> 0</td>\n",
        "      <td> 0</td>\n",
        "      <td> 0</td>\n",
        "      <td> 0</td>\n",
        "      <td> 0</td>\n",
        "      <td> 0</td>\n",
        "      <td> 0</td>\n",
        "      <td> 0</td>\n",
        "      <td> 0</td>\n",
        "    </tr>\n",
        "  </tbody>\n",
        "</table>\n",
        "<p>5 rows \u00d7 46 columns</p>\n",
        "</div>"
       ],
       "metadata": {},
       "output_type": "pyout",
       "prompt_number": 192,
       "text": [
        "                                               title  views  log_views  \\\n",
        "0  Ancient Crimean Gold In Legal Limbo After Russ...   1435   7.268920   \n",
        "1  California Sec. Of State Candidate Arrested In...  12418   9.426902   \n",
        "2  Planet Biden: Scientists Nickname New Dwarf Pl...   7351   8.902592   \n",
        "3  Mass. Guv Candidate Passes Kidney Stone During...  35843  10.486904   \n",
        "4  Charlotte's Brand New Mayor Turns Out To Be A ...   8466   9.043813   \n",
        "\n",
        "   exclamation  question  bleep_censor  pos_VBD  pos_NN  pos_POS  pos_JJ  \\\n",
        "0            0         0             0        1       5        1       1   \n",
        "1            0         0             0        2       6        0       1   \n",
        "2            0         0             0        1       4        0       1   \n",
        "3            0         0             0        0       6        0       0   \n",
        "4            0         0             0        0       4        1       1   \n",
        "\n",
        "    ...    pos_WDT  pos_JJR  pos_#  pos_JJS  pos_EX  pos_RBR  pos_LS  pos_PDT  \\\n",
        "0   ...          0        0      0        0       0        0       0        0   \n",
        "1   ...          0        0      0        0       0        0       0        0   \n",
        "2   ...          0        0      0        0       0        0       0        0   \n",
        "3   ...          0        0      0        0       0        0       0        0   \n",
        "4   ...          0        0      0        0       0        0       0        0   \n",
        "\n",
        "   pos_``  pos_WP$  \n",
        "0       0        0  \n",
        "1       0        0  \n",
        "2       0        0  \n",
        "3       0        0  \n",
        "4       0        0  \n",
        "\n",
        "[5 rows x 46 columns]"
       ]
      }
     ],
     "prompt_number": 192
    },
    {
     "cell_type": "code",
     "collapsed": false,
     "input": [
      "# new_df.to_csv(\"datasets/livewire_w_full_pos.csv\", index = False)\n",
      "# new_df = pd.read_csv(\"datasets/livewire_w_full_pos.csv\")"
     ],
     "language": "python",
     "metadata": {},
     "outputs": [],
     "prompt_number": 3
    },
    {
     "cell_type": "markdown",
     "metadata": {},
     "source": [
      "### Create Count Vectors for Title"
     ]
    },
    {
     "cell_type": "code",
     "collapsed": false,
     "input": [
      "def get_count_vectors(corpus, n):\n",
      "    vectorizer = CountVectorizer(stop_words=\"english\", ngram_range=(1,2), lowercase=True, max_features=n)\n",
      "    return vectorizer.fit_transform(corpus), vectorizer.fit(corpus)"
     ],
     "language": "python",
     "metadata": {},
     "outputs": [],
     "prompt_number": 4
    },
    {
     "cell_type": "code",
     "collapsed": false,
     "input": [
      "max_feature_count = 500\n",
      "X500_vec, fitted500_vec = get_count_vectors(new_df.title, max_feature_count)\n",
      "X500_vec.shape"
     ],
     "language": "python",
     "metadata": {},
     "outputs": [
      {
       "metadata": {},
       "output_type": "pyout",
       "prompt_number": 5,
       "text": [
        "(7810, 500)"
       ]
      }
     ],
     "prompt_number": 5
    },
    {
     "cell_type": "markdown",
     "metadata": {},
     "source": [
      "### Use Count Vector, POS, and Punctuation Columns Together as Features"
     ]
    },
    {
     "cell_type": "code",
     "collapsed": false,
     "input": [
      "new_df.columns"
     ],
     "language": "python",
     "metadata": {},
     "outputs": [
      {
       "metadata": {},
       "output_type": "pyout",
       "prompt_number": 431,
       "text": [
        "Index([u'title', u'views', u'log_views', u'exclamation', u'question', u'bleep_censor', u'pos_VBD', u'pos_NN', u'pos_POS', u'pos_JJ', u'pos_IN', u'pos_.', u'pos_VBN', u'pos_DT', u'pos_:', u'pos_NNS', u'pos_VB', u'pos_TO', u'pos_-NONE-', u'pos_VBZ', u'pos_VBP', u'pos_''', u'pos_RB', u'pos_NNP', u'pos_MD', u'pos_RP', u'pos_PRP', u'pos_VBG', u'pos_CD', u'pos_WRB', u'pos_$', u'pos_CC', u'pos_,', u'pos_WP', u'pos_RBS', u'pos_PRP$', u'pos_WDT', u'pos_JJR', u'pos_#', u'pos_JJS', u'pos_EX', u'pos_RBR', u'pos_LS', u'pos_PDT', u'pos_``', u'pos_WP$'], dtype='object')"
       ]
      }
     ],
     "prompt_number": 431
    },
    {
     "cell_type": "code",
     "collapsed": false,
     "input": [
      "pos_headers = [col for col in new_df.columns if \"pos_\" in col]\n",
      "punctuation_headers = [\"exclamation\", \"question\", \"bleep_censor\"]"
     ],
     "language": "python",
     "metadata": {},
     "outputs": [],
     "prompt_number": 6
    },
    {
     "cell_type": "code",
     "collapsed": false,
     "input": [
      "print new_df[punctuation_headers].shape\n",
      "print new_df[pos_headers].shape\n",
      "print X500_vec.toarray().shape"
     ],
     "language": "python",
     "metadata": {},
     "outputs": [
      {
       "output_type": "stream",
       "stream": "stdout",
       "text": [
        "(7810, 3)\n",
        "(7810, 40)\n",
        "(7810, 500)\n"
       ]
      }
     ],
     "prompt_number": 7
    },
    {
     "cell_type": "code",
     "collapsed": false,
     "input": [
      "# keep stacking order consistent with input builder\n",
      "X_joined = np.column_stack((new_df[punctuation_headers], new_df[pos_headers]))\n",
      "X_joined = np.column_stack((X_joined, X500_vec.toarray()))\n",
      "X_joined.shape"
     ],
     "language": "python",
     "metadata": {},
     "outputs": [
      {
       "metadata": {},
       "output_type": "pyout",
       "prompt_number": 8,
       "text": [
        "(7810, 543)"
       ]
      }
     ],
     "prompt_number": 8
    },
    {
     "cell_type": "markdown",
     "metadata": {},
     "source": [
      "### Compare Regression Models Using Cross Validation on Joined Features"
     ]
    },
    {
     "cell_type": "code",
     "collapsed": false,
     "input": [
      "def create_train_test_sets(X, Y):\n",
      "    return train_test_split(X, Y, test_size=0.33, random_state=42)"
     ],
     "language": "python",
     "metadata": {},
     "outputs": [],
     "prompt_number": 9
    },
    {
     "cell_type": "code",
     "collapsed": false,
     "input": [
      "def accuracy_report(clfs, X, Y, n):\n",
      "    for name, clf in clfs.items():\n",
      "        print \"Generating report for\", name\n",
      "        rmses = np.array([])\n",
      "        r2s = np.array([])\n",
      "        evs = np.array([])\n",
      "        times = np.array([])\n",
      "        for i in range(n):\n",
      "            x_train, x_test, y_train, y_test = train_test_split(X, Y, test_size=0.33)\n",
      "            \n",
      "            start = time.time()\n",
      "            clf.fit(x_train, y_train)\n",
      "            predictions = clf.predict(x_test)\n",
      "            r2 = r2_score(y_test, predictions)\n",
      "            ev = explained_variance_score(y_test, predictions)\n",
      "            rmse = np.sqrt(np.mean((predictions - y_test)**2))\n",
      "            time_elapsed = time.time() - start\n",
      "            \n",
      "            times = np.append(times, time_elapsed)\n",
      "            rmses = np.append(rmses, rmse)\n",
      "            r2s = np.append(r2s, r2)\n",
      "            evs = np.append(evs, ev)\n",
      "        print(\"---> R2: %0.2f | RMSE: %0.2f (+/- %0.2f) | EV: %0.2f in %0.2f secs\" % (r2s.mean(), rmses.mean(), scores.std() * 2, evs.mean(), times.mean()))"
     ],
     "language": "python",
     "metadata": {},
     "outputs": [],
     "prompt_number": 10
    },
    {
     "cell_type": "code",
     "collapsed": false,
     "input": [
      "reg_clfs = {'LinearReg': LinearRegression(),\n",
      "            'Ridge': Ridge(),\n",
      "            'Lasso': Lasso(),            \n",
      "            'RandomForest': RandomForestClassifier(max_depth=5)}"
     ],
     "language": "python",
     "metadata": {},
     "outputs": [],
     "prompt_number": 12
    },
    {
     "cell_type": "code",
     "collapsed": false,
     "input": [
      "# X = X_joined\n",
      "# Y = new_df.log_views\n",
      "# accuracy_report(reg_clfs, X, Y, 5) # max_features=1000"
     ],
     "language": "python",
     "metadata": {},
     "outputs": [
      {
       "output_type": "stream",
       "stream": "stdout",
       "text": [
        "Generating report for LinearReg\n",
        "---> R2: 0.11 | RMSE: 1.21 (+/- 1.00) | EV: 0.11 in 3.66 secs"
       ]
      },
      {
       "output_type": "stream",
       "stream": "stdout",
       "text": [
        "\n",
        "Generating report for ExtraTrees\n",
        "---> R2: -1.59 | RMSE: 2.06 (+/- 1.00) | EV: -0.23 in 1.24 secs"
       ]
      },
      {
       "output_type": "stream",
       "stream": "stdout",
       "text": [
        "\n",
        "Generating report for Ridge\n",
        "---> R2: 0.14 | RMSE: 1.21 (+/- 1.00) | EV: 0.14 in 0.18 secs"
       ]
      },
      {
       "output_type": "stream",
       "stream": "stdout",
       "text": [
        "\n",
        "Generating report for RandomForest\n",
        "---> R2: -1.06 | RMSE: 1.85 (+/- 1.00) | EV: -0.22 in 1.16 secs"
       ]
      },
      {
       "output_type": "stream",
       "stream": "stdout",
       "text": [
        "\n",
        "Generating report for Lasso\n",
        "---> R2: -0.00 | RMSE: 1.28 (+/- 1.00) | EV: -0.00 in 0.18 secs"
       ]
      },
      {
       "output_type": "stream",
       "stream": "stdout",
       "text": [
        "\n"
       ]
      }
     ],
     "prompt_number": 443
    },
    {
     "cell_type": "code",
     "collapsed": false,
     "input": [
      "# X = X_joined\n",
      "# Y = new_df.log_views\n",
      "# accuracy_report(reg_clfs, X, Y, 5) # max_features=750"
     ],
     "language": "python",
     "metadata": {},
     "outputs": [
      {
       "output_type": "stream",
       "stream": "stdout",
       "text": [
        "Generating report for LinearReg\n",
        "---> R2: 0.13 | RMSE: 1.21 (+/- 1.00) | EV: 0.13 in 3.79 secs"
       ]
      },
      {
       "output_type": "stream",
       "stream": "stdout",
       "text": [
        "\n",
        "Generating report for ExtraTrees\n",
        "---> R2: -1.03 | RMSE: 1.84 (+/- 1.00) | EV: -0.19 in 1.25 secs"
       ]
      },
      {
       "output_type": "stream",
       "stream": "stdout",
       "text": [
        "\n",
        "Generating report for Ridge\n",
        "---> R2: 0.14 | RMSE: 1.20 (+/- 1.00) | EV: 0.15 in 0.20 secs"
       ]
      },
      {
       "output_type": "stream",
       "stream": "stdout",
       "text": [
        "\n",
        "Generating report for RandomForest\n",
        "---> R2: -0.86 | RMSE: 1.74 (+/- 1.00) | EV: -0.19 in 1.17 secs"
       ]
      },
      {
       "output_type": "stream",
       "stream": "stdout",
       "text": [
        "\n",
        "Generating report for Lasso\n",
        "---> R2: -0.00 | RMSE: 1.29 (+/- 1.00) | EV: 0.00 in 0.18 secs"
       ]
      },
      {
       "output_type": "stream",
       "stream": "stdout",
       "text": [
        "\n"
       ]
      }
     ],
     "prompt_number": 438
    },
    {
     "cell_type": "code",
     "collapsed": false,
     "input": [
      "# X = X_joined\n",
      "# Y = new_df.log_views\n",
      "# accuracy_report(reg_clfs, X, Y, 5) # max_features=500"
     ],
     "language": "python",
     "metadata": {},
     "outputs": [
      {
       "output_type": "stream",
       "stream": "stdout",
       "text": [
        "Generating report for LinearReg\n",
        "---> R2: 0.15 | RMSE: 1.19 (+/- 1.00) | EV: 0.15 in 1.37 secs"
       ]
      },
      {
       "output_type": "stream",
       "stream": "stdout",
       "text": [
        "\n",
        "Generating report for ExtraTrees\n",
        "---> R2: -1.19 | RMSE: 1.88 (+/- 1.00) | EV: -0.25 in 1.20 secs"
       ]
      },
      {
       "output_type": "stream",
       "stream": "stdout",
       "text": [
        "\n",
        "Generating report for Ridge\n",
        "---> R2: 0.15 | RMSE: 1.20 (+/- 1.00) | EV: 0.15 in 0.10 secs"
       ]
      },
      {
       "output_type": "stream",
       "stream": "stdout",
       "text": [
        "\n",
        "Generating report for RandomForest\n",
        "---> R2: -0.94 | RMSE: 1.77 (+/- 1.00) | EV: -0.23 in 1.12 secs"
       ]
      },
      {
       "output_type": "stream",
       "stream": "stdout",
       "text": [
        "\n",
        "Generating report for Lasso\n",
        "---> R2: -0.00 | RMSE: 1.29 (+/- 1.00) | EV: 0.00 in 0.13 secs"
       ]
      },
      {
       "output_type": "stream",
       "stream": "stdout",
       "text": [
        "\n"
       ]
      }
     ],
     "prompt_number": 426
    },
    {
     "cell_type": "code",
     "collapsed": false,
     "input": [
      "# X = X_joined\n",
      "# Y = new_df.log_views\n",
      "# accuracy_report(reg_clfs, X, Y, 5) # max_features=250"
     ],
     "language": "python",
     "metadata": {},
     "outputs": [
      {
       "output_type": "stream",
       "stream": "stdout",
       "text": [
        "Generating report for LinearReg\n",
        "---> R2: 0.14 | RMSE: 1.20 (+/- 1.00) | EV: 0.14 in 0.39 secs"
       ]
      },
      {
       "output_type": "stream",
       "stream": "stdout",
       "text": [
        "\n",
        "Generating report for ExtraTrees\n",
        "---> R2: -1.01 | RMSE: 1.84 (+/- 1.00) | EV: -0.18 in 1.09 secs"
       ]
      },
      {
       "output_type": "stream",
       "stream": "stdout",
       "text": [
        "\n",
        "Generating report for Ridge\n",
        "---> R2: 0.15 | RMSE: 1.20 (+/- 1.00) | EV: 0.15 in 0.04 secs"
       ]
      },
      {
       "output_type": "stream",
       "stream": "stdout",
       "text": [
        "\n",
        "Generating report for RandomForest\n",
        "---> R2: -1.42 | RMSE: 1.97 (+/- 1.00) | EV: -0.41 in 1.10 secs"
       ]
      },
      {
       "output_type": "stream",
       "stream": "stdout",
       "text": [
        "\n",
        "Generating report for Lasso\n",
        "---> R2: -0.00 | RMSE: 1.29 (+/- 1.00) | EV: 0.00 in 0.05 secs"
       ]
      },
      {
       "output_type": "stream",
       "stream": "stdout",
       "text": [
        "\n"
       ]
      }
     ],
     "prompt_number": 421
    },
    {
     "cell_type": "code",
     "collapsed": false,
     "input": [
      "# X = X_joined\n",
      "# Y = new_df.log_views\n",
      "# accuracy_report(reg_clfs, X, Y, 5) # max_features=50"
     ],
     "language": "python",
     "metadata": {},
     "outputs": [
      {
       "output_type": "stream",
       "stream": "stdout",
       "text": [
        "Generating report for LinearReg\n",
        "---> R2: 0.12 | RMSE: 1.21 (+/- 1.00) | EV: 0.12 in 0.07 secs"
       ]
      },
      {
       "output_type": "stream",
       "stream": "stdout",
       "text": [
        "\n",
        "Generating report for ExtraTrees\n",
        "---> R2: -0.99 | RMSE: 1.82 (+/- 1.00) | EV: -0.28 in 1.07 secs"
       ]
      },
      {
       "output_type": "stream",
       "stream": "stdout",
       "text": [
        "\n",
        "Generating report for Ridge\n",
        "---> R2: 0.12 | RMSE: 1.21 (+/- 1.00) | EV: 0.12 in 0.01 secs"
       ]
      },
      {
       "output_type": "stream",
       "stream": "stdout",
       "text": [
        "\n",
        "Generating report for RandomForest\n",
        "---> R2: -1.38 | RMSE: 1.98 (+/- 1.00) | EV: -0.63 in 1.03 secs"
       ]
      },
      {
       "output_type": "stream",
       "stream": "stdout",
       "text": [
        "\n",
        "Generating report for Lasso\n",
        "---> R2: -0.00 | RMSE: 1.29 (+/- 1.00) | EV: -0.00 in 0.01 secs"
       ]
      },
      {
       "output_type": "stream",
       "stream": "stdout",
       "text": [
        "\n"
       ]
      }
     ],
     "prompt_number": 416
    },
    {
     "cell_type": "markdown",
     "metadata": {},
     "source": [
      "### Let's Predict Some Pageviews"
     ]
    },
    {
     "cell_type": "code",
     "collapsed": false,
     "input": [
      "def predict_pageviews(clf, title):\n",
      "    new_title = unicode(str(title), encoding='utf-8')\n",
      "\n",
      "    punctuations = [\"!\", \"?\", \"*\"]\n",
      "    punc = build_punc_inputs(new_title, punctuations)\n",
      "    pos = build_pos_inputs(new_title, pos_headers)\n",
      "    cv = build_cv_inputs(new_title, fitted500_vec)\n",
      "\n",
      "    X_new_title = concat_inputs(punc, pos, cv)\n",
      "    pageview = fit_and_predict(clf, X_new_title)\n",
      "    print(\"%0.2f pageviews ---> %s\" %(pageview, title))\n",
      "\n",
      "# build punctuation input\n",
      "def count_punctuation(text, char):\n",
      "    return text.count(char)\n",
      "\n",
      "def build_punc_inputs(text, punctuations):\n",
      "    counts = []\n",
      "    for char in punctuations:\n",
      "        counts.append(count_punctuation(text, char))\n",
      "    return np.array([counts])\n",
      "\n",
      "# build pos input\n",
      "def get_count_by_pos(text, tag):\n",
      "    return len([token for token, pos in nltk.pos_tag(nltk.word_tokenize(text.lower())) if pos.startswith(tag)])\n",
      "\n",
      "def build_pos_inputs(text, tags):\n",
      "    counts = []\n",
      "    for tag in tags:\n",
      "        pos = tag.split(\"_\")[1]\n",
      "        counts.append(get_count_by_pos(text, pos))\n",
      "    return np.array([counts])\n",
      "\n",
      "# build count vectorizer input\n",
      "def build_cv_inputs(text, fitted_vec):\n",
      "    text_vec = fitted_vec.transform([text])\n",
      "    return text_vec.toarray()\n",
      "\n",
      "# concatenate inputs for prediction; order matters! [ punctuation, pos, count vec ]\n",
      "def concat_inputs(i1 ,i2, i3):\n",
      "    return np.concatenate((i1, i2, i3), axis=1)\n",
      "\n",
      "def fit_and_predict(clf, predictors):\n",
      "    X = X_joined\n",
      "    Y = new_df.log_views\n",
      "    clf.fit(X, Y)\n",
      "    return np.exp(clf.predict(np.squeeze(predictors)))"
     ],
     "language": "python",
     "metadata": {},
     "outputs": [],
     "prompt_number": 13
    },
    {
     "cell_type": "code",
     "collapsed": false,
     "input": [
      "new_title = \"Bar Owner: I Didn't Mean Any Harm By Offering Mike Brown Shot Special\"\n",
      "clf = Ridge()\n",
      "predict_pageviews(clf, new_title)"
     ],
     "language": "python",
     "metadata": {},
     "outputs": [
      {
       "output_type": "stream",
       "stream": "stdout",
       "text": [
        "8928.38 pageviews ---> Bar Owner: I Didn't Mean Any Harm By Offering Mike Brown Shot Special\n"
       ]
      }
     ],
     "prompt_number": 30
    },
    {
     "cell_type": "markdown",
     "metadata": {},
     "source": [
      "### Add Pageview Decile Column"
     ]
    },
    {
     "cell_type": "code",
     "collapsed": false,
     "input": [
      "new_df[\"decile_views\"] = pd.qcut(new_df.log_views, 10)\n",
      "new_df.decile_views.describe()"
     ],
     "language": "python",
     "metadata": {},
     "outputs": [
      {
       "metadata": {},
       "output_type": "pyout",
       "prompt_number": 457,
       "text": [
        "count               7810\n",
        "unique                10\n",
        "top       (7.349, 7.772]\n",
        "freq                 784\n",
        "dtype: object"
       ]
      }
     ],
     "prompt_number": 457
    },
    {
     "cell_type": "markdown",
     "metadata": {},
     "source": [
      "### Compare Classification Models Using Cross Validation on Joined Features"
     ]
    },
    {
     "cell_type": "code",
     "collapsed": false,
     "input": [
      "multiclass_clfs = {'BernoulliNB': BernoulliNB(),\n",
      "                   'MultinomialNB': MultinomialNB(),\n",
      "                   'GaussianNB': GaussianNB(),\n",
      "                   'KNeighbors': KNeighborsClassifier(),\n",
      "                   'DecisionTree': DecisionTreeClassifier(),\n",
      "                   'RandomForest': RandomForestClassifier(),\n",
      "                   'SGDClassifier': SGDClassifier(),\n",
      "                   'LinearDiscriminant': LDA()}"
     ],
     "language": "python",
     "metadata": {},
     "outputs": [],
     "prompt_number": 483
    },
    {
     "cell_type": "code",
     "collapsed": false,
     "input": [
      "def get_score(classifiers, X, Y):\n",
      "    x_train, x_test, y_train, y_test = create_test_train_sets(X, Y)\n",
      "\n",
      "    for name, clf in classifiers.items():\n",
      "        print \"Generating report for\", name\n",
      "        \n",
      "        start = time.time()\n",
      "        clf.fit(x_train, y_train)\n",
      "        time_elapsed = time.time() - start\n",
      "\n",
      "        score = clf.score(x_test, y_test)\n",
      "        print \"---> Accuracy: %0.4f in %0.2f seconds\"% (score, time_elapsed)\n",
      "#         predictions = clf.predict(x_test)\n",
      "#         print(classification_report(y_test, predictions))"
     ],
     "language": "python",
     "metadata": {},
     "outputs": [],
     "prompt_number": 497
    },
    {
     "cell_type": "code",
     "collapsed": false,
     "input": [
      "# get_score(multiclass_clfs, X_joined, new_df.decile_views) # max_features=2000"
     ],
     "language": "python",
     "metadata": {},
     "outputs": [
      {
       "output_type": "stream",
       "stream": "stdout",
       "text": [
        "Generating report for DecisionTree\n",
        "---> Mean accuracy: 0.1272 in 4.61 seconds"
       ]
      },
      {
       "output_type": "stream",
       "stream": "stdout",
       "text": [
        "\n",
        "Generating report for BernoulliNB\n",
        "---> Mean accuracy: 0.1629 in 0.16 seconds"
       ]
      },
      {
       "output_type": "stream",
       "stream": "stdout",
       "text": [
        "\n",
        "Generating report for SGDClassifier\n",
        "---> Mean accuracy: 0.1307 in 0.98 seconds"
       ]
      },
      {
       "output_type": "stream",
       "stream": "stdout",
       "text": [
        "\n",
        "Generating report for LinearDiscriminant\n",
        "---> Mean accuracy: 0.1334 in 25.96 seconds"
       ]
      },
      {
       "output_type": "stream",
       "stream": "stdout",
       "text": [
        "\n",
        "Generating report for MultinomialNB\n",
        "---> Mean accuracy: 0.1618 in 0.08 seconds"
       ]
      },
      {
       "output_type": "stream",
       "stream": "stdout",
       "text": [
        "\n",
        "Generating report for GaussianNB\n",
        "---> Mean accuracy: 0.1455 in 0.17 seconds"
       ]
      },
      {
       "output_type": "stream",
       "stream": "stdout",
       "text": [
        "\n",
        "Generating report for RandomForest\n",
        "---> Mean accuracy: 0.1179 in 2.05 seconds"
       ]
      },
      {
       "output_type": "stream",
       "stream": "stdout",
       "text": [
        "\n",
        "Generating report for KNeighbors\n",
        "---> Mean accuracy: 0.1307 in 0.80 seconds"
       ]
      },
      {
       "output_type": "stream",
       "stream": "stdout",
       "text": [
        "\n"
       ]
      }
     ],
     "prompt_number": 496
    },
    {
     "cell_type": "code",
     "collapsed": false,
     "input": [
      "# get_score(multiclass_clfs, X_joined, new_df.decile_views) # max_features=1500"
     ],
     "language": "python",
     "metadata": {},
     "outputs": [
      {
       "output_type": "stream",
       "stream": "stdout",
       "text": [
        "Generating report for DecisionTree\n",
        "---> Mean accuracy: 0.1265 in 3.62 seconds"
       ]
      },
      {
       "output_type": "stream",
       "stream": "stdout",
       "text": [
        "\n",
        "Generating report for BernoulliNB\n",
        "---> Mean accuracy: 0.1672 in 0.13 seconds"
       ]
      },
      {
       "output_type": "stream",
       "stream": "stdout",
       "text": [
        "\n",
        "Generating report for SGDClassifier\n",
        "---> Mean accuracy: 0.1234 in 0.74 seconds"
       ]
      },
      {
       "output_type": "stream",
       "stream": "stdout",
       "text": [
        "\n",
        "Generating report for LinearDiscriminant\n",
        "---> Mean accuracy: 0.1338 in 13.64 seconds"
       ]
      },
      {
       "output_type": "stream",
       "stream": "stdout",
       "text": [
        "\n",
        "Generating report for MultinomialNB\n",
        "---> Mean accuracy: 0.1641 in 0.10 seconds"
       ]
      },
      {
       "output_type": "stream",
       "stream": "stdout",
       "text": [
        "\n",
        "Generating report for GaussianNB\n",
        "---> Mean accuracy: 0.1466 in 0.20 seconds"
       ]
      },
      {
       "output_type": "stream",
       "stream": "stdout",
       "text": [
        "\n",
        "Generating report for RandomForest\n",
        "---> Mean accuracy: 0.1470 in 1.46 seconds"
       ]
      },
      {
       "output_type": "stream",
       "stream": "stdout",
       "text": [
        "\n",
        "Generating report for KNeighbors\n",
        "---> Mean accuracy: 0.1226 in 0.54 seconds"
       ]
      },
      {
       "output_type": "stream",
       "stream": "stdout",
       "text": [
        "\n"
       ]
      }
     ],
     "prompt_number": 492
    },
    {
     "cell_type": "code",
     "collapsed": false,
     "input": [
      "# get_score(multiclass_clfs, X_joined, new_df.decile_views) # max_features=1000"
     ],
     "language": "python",
     "metadata": {},
     "outputs": [
      {
       "output_type": "stream",
       "stream": "stdout",
       "text": [
        "Generating report for DecisionTree\n",
        "---> Mean accuracy: 0.1299 in 2.65 seconds"
       ]
      },
      {
       "output_type": "stream",
       "stream": "stdout",
       "text": [
        "\n",
        "Generating report for BernoulliNB\n",
        "---> Mean accuracy: 0.1645 in 0.11 seconds"
       ]
      },
      {
       "output_type": "stream",
       "stream": "stdout",
       "text": [
        "\n",
        "Generating report for SGDClassifier\n",
        "---> Mean accuracy: 0.1280 in 0.64 seconds"
       ]
      },
      {
       "output_type": "stream",
       "stream": "stdout",
       "text": [
        "\n",
        "Generating report for LinearDiscriminant\n",
        "---> Mean accuracy: 0.1455 in 6.12 seconds"
       ]
      },
      {
       "output_type": "stream",
       "stream": "stdout",
       "text": [
        "\n",
        "Generating report for MultinomialNB\n",
        "---> Mean accuracy: 0.1587 in 0.04 seconds"
       ]
      },
      {
       "output_type": "stream",
       "stream": "stdout",
       "text": [
        "\n",
        "Generating report for GaussianNB\n",
        "---> Mean accuracy: 0.1439 in 0.07 seconds"
       ]
      },
      {
       "output_type": "stream",
       "stream": "stdout",
       "text": [
        "\n",
        "Generating report for RandomForest\n",
        "---> Mean accuracy: 0.1241 in 1.03 seconds"
       ]
      },
      {
       "output_type": "stream",
       "stream": "stdout",
       "text": [
        "\n",
        "Generating report for KNeighbors\n",
        "---> Mean accuracy: 0.1288 in 0.39 seconds"
       ]
      },
      {
       "output_type": "stream",
       "stream": "stdout",
       "text": [
        "\n"
       ]
      }
     ],
     "prompt_number": 488
    },
    {
     "cell_type": "code",
     "collapsed": false,
     "input": [
      "# get_score(multiclass_clfs, X_joined, new_df.decile_views) # max_features=500"
     ],
     "language": "python",
     "metadata": {},
     "outputs": [
      {
       "output_type": "stream",
       "stream": "stdout",
       "text": [
        "Generating report for DecisionTree\n",
        "---> Mean accuracy: 0.1171 in 0.95 seconds"
       ]
      },
      {
       "output_type": "stream",
       "stream": "stdout",
       "text": [
        "\n",
        "Generating report for BernoulliNB\n",
        "---> Mean accuracy: 0.1660 in 0.05 seconds"
       ]
      },
      {
       "output_type": "stream",
       "stream": "stdout",
       "text": [
        "\n",
        "Generating report for SGDClassifier\n",
        "---> Mean accuracy: 0.1164 in 0.29 seconds"
       ]
      },
      {
       "output_type": "stream",
       "stream": "stdout",
       "text": [
        "\n",
        "Generating report for LinearDiscriminant\n",
        "---> Mean accuracy: 0.1408 in 1.69 seconds"
       ]
      },
      {
       "output_type": "stream",
       "stream": "stdout",
       "text": [
        "\n",
        "Generating report for MultinomialNB\n",
        "---> Mean accuracy: 0.1594 in 0.03 seconds\n",
        "Generating report for GaussianNB\n",
        "---> Mean accuracy: 0.1462 in 0.04 seconds"
       ]
      },
      {
       "output_type": "stream",
       "stream": "stdout",
       "text": [
        "\n",
        "Generating report for RandomForest\n",
        "---> Mean accuracy: 0.1369 in 0.59 seconds"
       ]
      },
      {
       "output_type": "stream",
       "stream": "stdout",
       "text": [
        "\n",
        "Generating report for KNeighbors\n",
        "---> Mean accuracy: 0.1253 in 0.19 seconds"
       ]
      },
      {
       "output_type": "stream",
       "stream": "stdout",
       "text": [
        "\n"
       ]
      }
     ],
     "prompt_number": 484
    },
    {
     "cell_type": "code",
     "collapsed": false,
     "input": [
      "get_score(multiclass_clfs, X_joined, new_df.decile_views) # max_features=250"
     ],
     "language": "python",
     "metadata": {},
     "outputs": [
      {
       "output_type": "stream",
       "stream": "stdout",
       "text": [
        "Generating report for DecisionTree\n",
        "---> Accuracy: 0.1272 in 0.61 seconds"
       ]
      },
      {
       "output_type": "stream",
       "stream": "stdout",
       "text": [
        "\n",
        "Generating report for BernoulliNB\n",
        "---> Accuracy: 0.1594 in 0.03 seconds"
       ]
      },
      {
       "output_type": "stream",
       "stream": "stdout",
       "text": [
        "\n",
        "Generating report for SGDClassifier\n",
        "---> Accuracy: 0.1160 in 0.16 seconds"
       ]
      },
      {
       "output_type": "stream",
       "stream": "stdout",
       "text": [
        "\n",
        "Generating report for LinearDiscriminant\n",
        "---> Accuracy: 0.1490 in 0.75 seconds"
       ]
      },
      {
       "output_type": "stream",
       "stream": "stdout",
       "text": [
        "\n",
        "Generating report for MultinomialNB\n",
        "---> Accuracy: 0.1575 in 0.02 seconds\n",
        "Generating report for GaussianNB\n",
        "---> Accuracy: 0.1389 in 0.02 seconds"
       ]
      },
      {
       "output_type": "stream",
       "stream": "stdout",
       "text": [
        "\n",
        "Generating report for RandomForest\n",
        "---> Accuracy: 0.1307 in 0.41 seconds"
       ]
      },
      {
       "output_type": "stream",
       "stream": "stdout",
       "text": [
        "\n",
        "Generating report for KNeighbors\n",
        "---> Accuracy: 0.1249 in 0.11 seconds"
       ]
      },
      {
       "output_type": "stream",
       "stream": "stdout",
       "text": [
        "\n"
       ]
      }
     ],
     "prompt_number": 501
    },
    {
     "cell_type": "markdown",
     "metadata": {},
     "source": [
      "### Predict Pageview Decile Categories"
     ]
    },
    {
     "cell_type": "code",
     "collapsed": false,
     "input": [
      "def predict_categories(headline, clf):\n",
      "#     headline_vec = fitted500_vec.transform([headline])\n",
      "#     probs = clf.predict_proba(headline_vec.toarray())\n",
      "    tags = clf.classes_\n",
      "    zipped = [zip(i, tags) for i in probs]\n",
      "    zipped[0].sort(key = lambda t: t[0], reverse = True)\n",
      "    print_predictions(zipped[0][:3])\n",
      "    \n",
      "def print_predictions(results):\n",
      "    print \"The top three categories judged by the classifier are...\"\n",
      "    for prob, cat in results:\n",
      "        print \"%s with probability %02f percent.\" %(cat, prob * 100)\n"
     ],
     "language": "python",
     "metadata": {},
     "outputs": []
    }
   ],
   "metadata": {}
  }
 ]
}