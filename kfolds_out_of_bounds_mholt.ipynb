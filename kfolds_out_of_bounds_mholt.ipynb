{
 "metadata": {
  "name": "",
  "signature": "sha256:e16ad11fed7211b2d394a37530c284e3c157d8acf10b7c0c4617b6bbf30b48cb"
 },
 "nbformat": 3,
 "nbformat_minor": 0,
 "worksheets": [
  {
   "cells": [
    {
     "cell_type": "code",
     "collapsed": false,
     "input": [
      "import pandas as pd\n",
      "import numpy as np\n",
      "from sklearn.linear_model import LinearRegression\n",
      "from sklearn.cross_validation import KFold, train_test_split"
     ],
     "language": "python",
     "metadata": {},
     "outputs": [],
     "prompt_number": 5
    },
    {
     "cell_type": "code",
     "collapsed": false,
     "input": [
      "headlines = [\"Stretch Armstrong Is Coming Back! And This Time With Nipples!\",\n",
      "             \"How Well Do You Know The Lyrics To The \u2018Fresh Prince Of Bel-Air\u2019 Theme Song?\",\n",
      "             \"Medical Marvel! Meet The 30-Year-Old Man Who Never Lost His Baby Toes\",\n",
      "             \"10 Images That Make The Lincoln Memorial Go \u2018Aww\u2019 For Some Reason\",\n",
      "             \"Weird Things All Guys Do When Women Aren\u2019t Around\"]\n",
      "ratings = [5,4,4,2,3]\n",
      "position = [15,34,64,23,36]\n",
      "category = [1,1,2,3,2]\n",
      "views = [10400, 6300, 23000, 7700, 11330]\n",
      "\n",
      "df = pd.DataFrame({\"Headlines\": headlines, \"Rating\": ratings, \"Position\": position, \"Category\": category, \"Pageviews\": views})\n",
      "df"
     ],
     "language": "python",
     "metadata": {},
     "outputs": [
      {
       "html": [
        "<div style=\"max-height:1000px;max-width:1500px;overflow:auto;\">\n",
        "<table border=\"1\" class=\"dataframe\">\n",
        "  <thead>\n",
        "    <tr style=\"text-align: right;\">\n",
        "      <th></th>\n",
        "      <th>Category</th>\n",
        "      <th>Headlines</th>\n",
        "      <th>Pageviews</th>\n",
        "      <th>Position</th>\n",
        "      <th>Rating</th>\n",
        "    </tr>\n",
        "  </thead>\n",
        "  <tbody>\n",
        "    <tr>\n",
        "      <th>0</th>\n",
        "      <td> 1</td>\n",
        "      <td> Stretch Armstrong Is Coming Back! And This Tim...</td>\n",
        "      <td> 10400</td>\n",
        "      <td> 15</td>\n",
        "      <td> 5</td>\n",
        "    </tr>\n",
        "    <tr>\n",
        "      <th>1</th>\n",
        "      <td> 1</td>\n",
        "      <td> How Well Do You Know The Lyrics To The \u2018Fresh ...</td>\n",
        "      <td>  6300</td>\n",
        "      <td> 34</td>\n",
        "      <td> 4</td>\n",
        "    </tr>\n",
        "    <tr>\n",
        "      <th>2</th>\n",
        "      <td> 2</td>\n",
        "      <td> Medical Marvel! Meet The 30-Year-Old Man Who N...</td>\n",
        "      <td> 23000</td>\n",
        "      <td> 64</td>\n",
        "      <td> 4</td>\n",
        "    </tr>\n",
        "    <tr>\n",
        "      <th>3</th>\n",
        "      <td> 3</td>\n",
        "      <td> 10 Images That Make The Lincoln Memorial Go \u2018A...</td>\n",
        "      <td>  7700</td>\n",
        "      <td> 23</td>\n",
        "      <td> 2</td>\n",
        "    </tr>\n",
        "    <tr>\n",
        "      <th>4</th>\n",
        "      <td> 2</td>\n",
        "      <td> Weird Things All Guys Do When Women Aren\u2019t Around</td>\n",
        "      <td> 11330</td>\n",
        "      <td> 36</td>\n",
        "      <td> 3</td>\n",
        "    </tr>\n",
        "  </tbody>\n",
        "</table>\n",
        "</div>"
       ],
       "metadata": {},
       "output_type": "pyout",
       "prompt_number": 6,
       "text": [
        "   Category                                          Headlines  Pageviews  \\\n",
        "0         1  Stretch Armstrong Is Coming Back! And This Tim...      10400   \n",
        "1         1  How Well Do You Know The Lyrics To The \u2018Fresh ...       6300   \n",
        "2         2  Medical Marvel! Meet The 30-Year-Old Man Who N...      23000   \n",
        "3         3  10 Images That Make The Lincoln Memorial Go \u2018A...       7700   \n",
        "4         2  Weird Things All Guys Do When Women Aren\u2019t Around      11330   \n",
        "\n",
        "   Position  Rating  \n",
        "0        15       5  \n",
        "1        34       4  \n",
        "2        64       4  \n",
        "3        23       2  \n",
        "4        36       3  "
       ]
      }
     ],
     "prompt_number": 6
    },
    {
     "cell_type": "code",
     "collapsed": false,
     "input": [
      "predictors = [\"Position\", \"Rating\"]\n",
      "X = df[predictors]\n",
      "Y = df.Pageviews\n",
      "\n",
      "x_train, x_test, y_train, y_test = train_test_split(X, Y)\n",
      "print x_train\n",
      "print x_train.shape\n",
      "print y_train.shape\n",
      "clf = LinearRegression()\n",
      "clf.fit(x_train, y_train)\n",
      "mse = np.mean((y_test - clf.predict(x_test))**2)"
     ],
     "language": "python",
     "metadata": {},
     "outputs": [
      {
       "output_type": "stream",
       "stream": "stdout",
       "text": [
        "[[36  3]\n",
        " [34  4]\n",
        " [64  4]]\n",
        "(3, 2)\n",
        "(3,)\n"
       ]
      }
     ],
     "prompt_number": 12
    },
    {
     "cell_type": "code",
     "collapsed": false,
     "input": [
      "#X = np.array([[1, 2], [3, 4], [5, 6], [7, 8]])\n",
      "#y = np.array([1, 2, 3, 4])\n",
      "#print \"x is\", X, \"shape is \", X.shape\n",
      "#print \"y is\", y, \"shape is \", y.shape\n",
      "#kf = cross_validation.KFold(4, n_folds=2)\n",
      "#len(kf)\n",
      "#2\n",
      "  \n",
      "#cross_validation.KFold(n=4, n_folds=2, shuffle=False,random_state=None)\n",
      "#for train_index, test_index in kf:\n",
      "#    print(\"TRAIN:\", train_index, \"TEST:\", test_index)\n",
      "#    X_train, X_test = X[train_index], X[test_index]\n",
      "#    y_train, y_test = y[train_index], y[test_index]\n",
      "#    print \"xtrain is\", X_train, \" xtest is \", X_test\n",
      "#    print \"ytrain is\", y_train, \" ytest is \", y_test\n"
     ],
     "language": "python",
     "metadata": {},
     "outputs": [],
     "prompt_number": 35
    },
    {
     "cell_type": "code",
     "collapsed": false,
     "input": [
      "print len(df)\n",
      "kfold = KFold(len(df), n_folds=2)\n",
      "print len(kfold)\n",
      "\n",
      "X=np.array(X)\n",
      "Y=np.array(Y)\n",
      "\n",
      "print \"X is \", X, \"shape is \", X.shape\n",
      "print \"Y is \", Y, \"shape is \", Y.shape\n",
      "print \"------------------------------------------\\n\\n\\n\"\n",
      "\n",
      "for train_idx, test_idx in kfold:\n",
      "    print \"indices:\", train_idx, test_idx\n",
      "    x_train, x_test = X[train_idx], X[test_idx]\n",
      "    x_train, y_test = Y[train_idx], Y[test_idx]\n",
      "    \n",
      "    clf = LinearRegression()\n",
      "    clf.fit(x_train, y_train)\n",
      "    print np.mean((y_test - clf.predict(x_test))**2)"
     ],
     "language": "python",
     "metadata": {},
     "outputs": [
      {
       "output_type": "stream",
       "stream": "stdout",
       "text": [
        "5\n",
        "2\n",
        "X is  [[15  5]\n",
        " [34  4]\n",
        " [64  4]\n",
        " [23  2]\n",
        " [36  3]] shape is  (5, 2)\n",
        "Y is  [10400  6300 23000  7700 11330] shape is  (5,)\n",
        "------------------------------------------\n",
        "\n",
        "\n",
        "\n",
        "indices: [3 4] [0 1 2]\n"
       ]
      },
      {
       "ename": "IndexError",
       "evalue": "tuple index out of range",
       "output_type": "pyerr",
       "traceback": [
        "\u001b[0;31m---------------------------------------------------------------------------\u001b[0m\n\u001b[0;31mIndexError\u001b[0m                                Traceback (most recent call last)",
        "\u001b[0;32m<ipython-input-9-cc5408059d97>\u001b[0m in \u001b[0;36m<module>\u001b[0;34m()\u001b[0m\n\u001b[1;32m     16\u001b[0m \u001b[0;34m\u001b[0m\u001b[0m\n\u001b[1;32m     17\u001b[0m     \u001b[0mclf\u001b[0m \u001b[0;34m=\u001b[0m \u001b[0mLinearRegression\u001b[0m\u001b[0;34m(\u001b[0m\u001b[0;34m)\u001b[0m\u001b[0;34m\u001b[0m\u001b[0m\n\u001b[0;32m---> 18\u001b[0;31m     \u001b[0mclf\u001b[0m\u001b[0;34m.\u001b[0m\u001b[0mfit\u001b[0m\u001b[0;34m(\u001b[0m\u001b[0mx_train\u001b[0m\u001b[0;34m,\u001b[0m \u001b[0my_train\u001b[0m\u001b[0;34m)\u001b[0m\u001b[0;34m\u001b[0m\u001b[0m\n\u001b[0m\u001b[1;32m     19\u001b[0m     \u001b[0;32mprint\u001b[0m \u001b[0mnp\u001b[0m\u001b[0;34m.\u001b[0m\u001b[0mmean\u001b[0m\u001b[0;34m(\u001b[0m\u001b[0;34m(\u001b[0m\u001b[0my_test\u001b[0m \u001b[0;34m-\u001b[0m \u001b[0mclf\u001b[0m\u001b[0;34m.\u001b[0m\u001b[0mpredict\u001b[0m\u001b[0;34m(\u001b[0m\u001b[0mx_test\u001b[0m\u001b[0;34m)\u001b[0m\u001b[0;34m)\u001b[0m\u001b[0;34m**\u001b[0m\u001b[0;36m2\u001b[0m\u001b[0;34m)\u001b[0m\u001b[0;34m\u001b[0m\u001b[0m\n",
        "\u001b[0;32m/usr/local/lib/python2.7/site-packages/sklearn/linear_model/base.pyc\u001b[0m in \u001b[0;36mfit\u001b[0;34m(self, X, y, n_jobs)\u001b[0m\n\u001b[1;32m    353\u001b[0m \u001b[0;34m\u001b[0m\u001b[0m\n\u001b[1;32m    354\u001b[0m         X, y, X_mean, y_mean, X_std = self._center_data(\n\u001b[0;32m--> 355\u001b[0;31m             X, y, self.fit_intercept, self.normalize, self.copy_X)\n\u001b[0m\u001b[1;32m    356\u001b[0m \u001b[0;34m\u001b[0m\u001b[0m\n\u001b[1;32m    357\u001b[0m         \u001b[0;32mif\u001b[0m \u001b[0msp\u001b[0m\u001b[0;34m.\u001b[0m\u001b[0missparse\u001b[0m\u001b[0;34m(\u001b[0m\u001b[0mX\u001b[0m\u001b[0;34m)\u001b[0m\u001b[0;34m:\u001b[0m\u001b[0;34m\u001b[0m\u001b[0m\n",
        "\u001b[0;32m/usr/local/lib/python2.7/site-packages/sklearn/linear_model/base.pyc\u001b[0m in \u001b[0;36mcenter_data\u001b[0;34m(X, y, fit_intercept, normalize, copy, sample_weight)\u001b[0m\n\u001b[1;32m    102\u001b[0m                 \u001b[0mX\u001b[0m \u001b[0;34m/=\u001b[0m \u001b[0mX_std\u001b[0m\u001b[0;34m\u001b[0m\u001b[0m\n\u001b[1;32m    103\u001b[0m             \u001b[0;32melse\u001b[0m\u001b[0;34m:\u001b[0m\u001b[0;34m\u001b[0m\u001b[0m\n\u001b[0;32m--> 104\u001b[0;31m                 \u001b[0mX_std\u001b[0m \u001b[0;34m=\u001b[0m \u001b[0mnp\u001b[0m\u001b[0;34m.\u001b[0m\u001b[0mones\u001b[0m\u001b[0;34m(\u001b[0m\u001b[0mX\u001b[0m\u001b[0;34m.\u001b[0m\u001b[0mshape\u001b[0m\u001b[0;34m[\u001b[0m\u001b[0;36m1\u001b[0m\u001b[0;34m]\u001b[0m\u001b[0;34m)\u001b[0m\u001b[0;34m\u001b[0m\u001b[0m\n\u001b[0m\u001b[1;32m    105\u001b[0m         \u001b[0my_mean\u001b[0m \u001b[0;34m=\u001b[0m \u001b[0mnp\u001b[0m\u001b[0;34m.\u001b[0m\u001b[0maverage\u001b[0m\u001b[0;34m(\u001b[0m\u001b[0my\u001b[0m\u001b[0;34m,\u001b[0m \u001b[0maxis\u001b[0m\u001b[0;34m=\u001b[0m\u001b[0;36m0\u001b[0m\u001b[0;34m,\u001b[0m \u001b[0mweights\u001b[0m\u001b[0;34m=\u001b[0m\u001b[0msample_weight\u001b[0m\u001b[0;34m)\u001b[0m\u001b[0;34m\u001b[0m\u001b[0m\n\u001b[1;32m    106\u001b[0m         \u001b[0my\u001b[0m \u001b[0;34m=\u001b[0m \u001b[0my\u001b[0m \u001b[0;34m-\u001b[0m \u001b[0my_mean\u001b[0m\u001b[0;34m\u001b[0m\u001b[0m\n",
        "\u001b[0;31mIndexError\u001b[0m: tuple index out of range"
       ]
      }
     ],
     "prompt_number": 9
    },
    {
     "cell_type": "code",
     "collapsed": false,
     "input": [],
     "language": "python",
     "metadata": {},
     "outputs": []
    }
   ],
   "metadata": {}
  }
 ]
}