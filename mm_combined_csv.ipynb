{
 "metadata": {
  "name": "",
  "signature": "sha256:605ff83c26ea3962cfd92ed40b037a809af3722117511a9fdebaaacf9e9c2fba"
 },
 "nbformat": 3,
 "nbformat_minor": 0,
 "worksheets": [
  {
   "cells": [
    {
     "cell_type": "code",
     "collapsed": false,
     "input": [
      "import pandas as pd\n",
      "import fnmatch\n",
      "import os"
     ],
     "language": "python",
     "metadata": {},
     "outputs": [],
     "prompt_number": 80
    },
    {
     "cell_type": "markdown",
     "metadata": {},
     "source": [
      "## Combine CSVs into Single Dataframe"
     ]
    },
    {
     "cell_type": "code",
     "collapsed": false,
     "input": [
      "# total of 75 csv files containing headlines by category\n",
      "\n",
      "# mm_border_security.csv\n",
      "# mm_budget.csv\n",
      "# mm_cabinet_agencies.csv\n",
      "# mm_campaign_finance.csv\n",
      "# mm_cat_page_counts.csv\n",
      "# mm_childrens_health.csv\n",
      "# ..."
     ],
     "language": "python",
     "metadata": {},
     "outputs": [],
     "prompt_number": 28
    },
    {
     "cell_type": "code",
     "collapsed": false,
     "input": [
      "def create_df_from_csvs():\n",
      "    combined = pd.DataFrame()\n",
      "    for file in os.listdir(\"./datasets/\"):\n",
      "        if fnmatch.fnmatch(file, 'mm_*'):\n",
      "            df_next = pd.read_csv(\"./datasets/%s\" %file)\n",
      "            combined = combined.append(df_next)\n",
      "    combined = combined.reset_index(drop=True)\n",
      "    return combined"
     ],
     "language": "python",
     "metadata": {},
     "outputs": [],
     "prompt_number": 64
    },
    {
     "cell_type": "code",
     "collapsed": false,
     "input": [
      "df_combined = create_df_from_csvs()\n",
      "df_combined.shape"
     ],
     "language": "python",
     "metadata": {},
     "outputs": [
      {
       "metadata": {},
       "output_type": "pyout",
       "prompt_number": 67,
       "text": [
        "(37766, 2)"
       ]
      }
     ],
     "prompt_number": 67
    },
    {
     "cell_type": "markdown",
     "metadata": {},
     "source": [
      "## Save Combined Dataframe to CSV"
     ]
    },
    {
     "cell_type": "code",
     "collapsed": false,
     "input": [
      "df_combined.to_csv(\"datasets/mediamatters_combined_raw.csv\", index = False)"
     ],
     "language": "python",
     "metadata": {},
     "outputs": [],
     "prompt_number": 73
    },
    {
     "cell_type": "code",
     "collapsed": false,
     "input": [],
     "language": "python",
     "metadata": {},
     "outputs": []
    }
   ],
   "metadata": {}
  }
 ]
}