{
 "metadata": {
  "name": "",
  "signature": "sha256:99356bf139320fd0dff00b928a34c418c05d4a67d407c8e4ce64e104d40c090a"
 },
 "nbformat": 3,
 "nbformat_minor": 0,
 "worksheets": [
  {
   "cells": [
    {
     "cell_type": "code",
     "collapsed": false,
     "input": [
      "import pandas as pd\n",
      "import numpy as np\n",
      "from sklearn.linear_model import LinearRegression\n",
      "from sklearn.cross_validation import KFold, train_test_split"
     ],
     "language": "python",
     "metadata": {},
     "outputs": [],
     "prompt_number": 1
    },
    {
     "cell_type": "code",
     "collapsed": false,
     "input": [
      "headlines = [\"Stretch Armstrong Is Coming Back! And This Time With Nipples!\",\n",
      "             \"How Well Do You Know The Lyrics To The \u2018Fresh Prince Of Bel-Air\u2019 Theme Song?\",\n",
      "             \"Medical Marvel! Meet The 30-Year-Old Man Who Never Lost His Baby Toes\",\n",
      "             \"10 Images That Make The Lincoln Memorial Go \u2018Aww\u2019 For Some Reason\",\n",
      "             \"Weird Things All Guys Do When Women Aren\u2019t Around\"]\n",
      "ratings = [5,4,4,2,3]\n",
      "position = [15,34,64,23,36]\n",
      "category = [1,1,2,3,2]\n",
      "views = [10400, 6300, 23000, 7700, 11330]\n",
      "\n",
      "df = pd.DataFrame({\"Headlines\": headlines, \"Rating\": ratings, \"Position\": position, \"Category\": category, \"Pageviews\": views})\n",
      "df"
     ],
     "language": "python",
     "metadata": {},
     "outputs": [
      {
       "html": [
        "<div style=\"max-height:1000px;max-width:1500px;overflow:auto;\">\n",
        "<table border=\"1\" class=\"dataframe\">\n",
        "  <thead>\n",
        "    <tr style=\"text-align: right;\">\n",
        "      <th></th>\n",
        "      <th>Category</th>\n",
        "      <th>Headlines</th>\n",
        "      <th>Pageviews</th>\n",
        "      <th>Position</th>\n",
        "      <th>Rating</th>\n",
        "    </tr>\n",
        "  </thead>\n",
        "  <tbody>\n",
        "    <tr>\n",
        "      <th>0</th>\n",
        "      <td> 1</td>\n",
        "      <td> Stretch Armstrong Is Coming Back! And This Tim...</td>\n",
        "      <td> 10400</td>\n",
        "      <td> 15</td>\n",
        "      <td> 5</td>\n",
        "    </tr>\n",
        "    <tr>\n",
        "      <th>1</th>\n",
        "      <td> 1</td>\n",
        "      <td> How Well Do You Know The Lyrics To The \u2018Fresh ...</td>\n",
        "      <td>  6300</td>\n",
        "      <td> 34</td>\n",
        "      <td> 4</td>\n",
        "    </tr>\n",
        "    <tr>\n",
        "      <th>2</th>\n",
        "      <td> 2</td>\n",
        "      <td> Medical Marvel! Meet The 30-Year-Old Man Who N...</td>\n",
        "      <td> 23000</td>\n",
        "      <td> 64</td>\n",
        "      <td> 4</td>\n",
        "    </tr>\n",
        "    <tr>\n",
        "      <th>3</th>\n",
        "      <td> 3</td>\n",
        "      <td> 10 Images That Make The Lincoln Memorial Go \u2018A...</td>\n",
        "      <td>  7700</td>\n",
        "      <td> 23</td>\n",
        "      <td> 2</td>\n",
        "    </tr>\n",
        "    <tr>\n",
        "      <th>4</th>\n",
        "      <td> 2</td>\n",
        "      <td> Weird Things All Guys Do When Women Aren\u2019t Around</td>\n",
        "      <td> 11330</td>\n",
        "      <td> 36</td>\n",
        "      <td> 3</td>\n",
        "    </tr>\n",
        "  </tbody>\n",
        "</table>\n",
        "</div>"
       ],
       "metadata": {},
       "output_type": "pyout",
       "prompt_number": 2,
       "text": [
        "   Category                                          Headlines  Pageviews  \\\n",
        "0         1  Stretch Armstrong Is Coming Back! And This Tim...      10400   \n",
        "1         1  How Well Do You Know The Lyrics To The \u2018Fresh ...       6300   \n",
        "2         2  Medical Marvel! Meet The 30-Year-Old Man Who N...      23000   \n",
        "3         3  10 Images That Make The Lincoln Memorial Go \u2018A...       7700   \n",
        "4         2  Weird Things All Guys Do When Women Aren\u2019t Around      11330   \n",
        "\n",
        "   Position  Rating  \n",
        "0        15       5  \n",
        "1        34       4  \n",
        "2        64       4  \n",
        "3        23       2  \n",
        "4        36       3  "
       ]
      }
     ],
     "prompt_number": 2
    },
    {
     "cell_type": "code",
     "collapsed": false,
     "input": [
      "predictors = [\"Position\", \"Rating\"]\n",
      "X = df[predictors]\n",
      "Y = df.Pageviews\n",
      "print X.shape\n",
      "print Y.shape\n",
      "\n",
      "x_train, x_test, y_train, y_test = train_test_split(X, Y)\n",
      "clf = LinearRegression()\n",
      "clf.fit(x_train, y_train)\n",
      "mse = np.mean((y_test - clf.predict(x_test))**2)\n",
      "mse"
     ],
     "language": "python",
     "metadata": {},
     "outputs": [
      {
       "output_type": "stream",
       "stream": "stdout",
       "text": [
        "(5, 2)\n",
        "(5,)\n"
       ]
      },
      {
       "metadata": {},
       "output_type": "pyout",
       "prompt_number": 3,
       "text": [
        "33355933.722374633"
       ]
      }
     ],
     "prompt_number": 3
    },
    {
     "cell_type": "markdown",
     "metadata": {},
     "source": [
      "#### Jarret's Explaination\n",
      "Your X is a dataframe with 5 rows and 2 columns.  This makes the code xtrain = X[[2,3,4]] ambiguous (is that a list of rows or a list of columns?).  The X.ix command tells python to pull the rows and return all columns."
     ]
    },
    {
     "cell_type": "code",
     "collapsed": false,
     "input": [
      "# throws IndexError: indices are out-of-bounds\n",
      "\n",
      "# kfold = KFold(len(df))\n",
      "# for train_idx, test_idx in kfold:\n",
      "#     x_train, x_test = X[train_idx], X[test_idx]\n",
      "#     y_train, y_test = Y[train_idx], Y[test_idx]\n",
      "#     clf = LinearRegression()\n",
      "#     clf.fit(x_train, y_train)\n",
      "#     print np.mean((y_test - clf.predict(x_test))**2)"
     ],
     "language": "python",
     "metadata": {},
     "outputs": [],
     "prompt_number": 5
    },
    {
     "cell_type": "markdown",
     "metadata": {},
     "source": [
      "#### Jarret's Solution"
     ]
    },
    {
     "cell_type": "code",
     "collapsed": false,
     "input": [
      "kfold = KFold(len(df))\n",
      "for train_idx, test_idx in kfold:\n",
      "    x_train, x_test = X.ix[train_idx], X.ix[test_idx]\n",
      "    y_train, y_test = Y[train_idx], Y[test_idx]\n",
      "    clf = LinearRegression()\n",
      "    clf.fit(x_train, y_train)\n",
      "    print np.mean((y_test - clf.predict(x_test))**2)"
     ],
     "language": "python",
     "metadata": {},
     "outputs": [
      {
       "output_type": "stream",
       "stream": "stdout",
       "text": [
        "144726202.0\n",
        "678016312.976\n",
        "26057.4599586\n"
       ]
      }
     ],
     "prompt_number": 6
    },
    {
     "cell_type": "code",
     "collapsed": false,
     "input": [],
     "language": "python",
     "metadata": {},
     "outputs": []
    }
   ],
   "metadata": {}
  }
 ]
}