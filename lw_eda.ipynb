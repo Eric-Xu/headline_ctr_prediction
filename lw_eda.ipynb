{
 "metadata": {
  "name": "",
  "signature": "sha256:5522393ef0b41db55b479145977d907391c65e1f3f9015a517f4796d737b97d5"
 },
 "nbformat": 3,
 "nbformat_minor": 0,
 "worksheets": [
  {
   "cells": [
    {
     "cell_type": "code",
     "collapsed": false,
     "input": [
      "%matplotlib inline\n",
      "import pandas as pd\n",
      "import numpy as np\n",
      "import matplotlib.pyplot as plt\n",
      "pd.set_option(\"display.mpl_style\", \"default\")"
     ],
     "language": "python",
     "metadata": {},
     "outputs": [],
     "prompt_number": 6
    },
    {
     "cell_type": "code",
     "collapsed": false,
     "input": [
      "df = pd.read_csv(\"datasets/livewire_hits2.csv\")"
     ],
     "language": "python",
     "metadata": {},
     "outputs": [],
     "prompt_number": 2
    },
    {
     "cell_type": "code",
     "collapsed": false,
     "input": [
      "df.shape"
     ],
     "language": "python",
     "metadata": {},
     "outputs": [
      {
       "metadata": {},
       "output_type": "pyout",
       "prompt_number": 4,
       "text": [
        "(7812, 10)"
       ]
      }
     ],
     "prompt_number": 4
    },
    {
     "cell_type": "code",
     "collapsed": false,
     "input": [
      "df.head()"
     ],
     "language": "python",
     "metadata": {},
     "outputs": [
      {
       "html": [
        "<div style=\"max-height:1000px;max-width:1500px;overflow:auto;\">\n",
        "<table border=\"1\" class=\"dataframe\">\n",
        "  <thead>\n",
        "    <tr style=\"text-align: right;\">\n",
        "      <th></th>\n",
        "      <th>title</th>\n",
        "      <th>url</th>\n",
        "      <th>pub_date</th>\n",
        "      <th>day_0</th>\n",
        "      <th>day_1</th>\n",
        "      <th>day_2</th>\n",
        "      <th>day_3</th>\n",
        "      <th>day_4</th>\n",
        "      <th>day_5</th>\n",
        "      <th>day_6</th>\n",
        "    </tr>\n",
        "  </thead>\n",
        "  <tbody>\n",
        "    <tr>\n",
        "      <th>0</th>\n",
        "      <td> Ancient Crimean Gold In Legal Limbo After Russ...</td>\n",
        "      <td> http://talkingpointsmemo.com/livewire/crimean-...</td>\n",
        "      <td> 2014-03-26T18:28:25</td>\n",
        "      <td>  1332</td>\n",
        "      <td>  103</td>\n",
        "      <td>   0</td>\n",
        "      <td>   0</td>\n",
        "      <td>   0</td>\n",
        "      <td>   0</td>\n",
        "      <td>   0</td>\n",
        "    </tr>\n",
        "    <tr>\n",
        "      <th>1</th>\n",
        "      <td> California Sec. Of State Candidate Arrested In...</td>\n",
        "      <td> http://talkingpointsmemo.com/livewire/leland-y...</td>\n",
        "      <td> 2014-03-26T18:29:17</td>\n",
        "      <td> 10743</td>\n",
        "      <td> 1483</td>\n",
        "      <td> 136</td>\n",
        "      <td>  68</td>\n",
        "      <td>  54</td>\n",
        "      <td>  38</td>\n",
        "      <td>  32</td>\n",
        "    </tr>\n",
        "    <tr>\n",
        "      <th>2</th>\n",
        "      <td> Planet Biden: Scientists Nickname New Dwarf Pl...</td>\n",
        "      <td> http://talkingpointsmemo.com/livewire/dwarf-pl...</td>\n",
        "      <td> 2014-03-26T18:58:47</td>\n",
        "      <td>  4907</td>\n",
        "      <td> 2039</td>\n",
        "      <td> 288</td>\n",
        "      <td> 137</td>\n",
        "      <td> 107</td>\n",
        "      <td>  87</td>\n",
        "      <td>  74</td>\n",
        "    </tr>\n",
        "    <tr>\n",
        "      <th>3</th>\n",
        "      <td> Mass. Guv Candidate Passes Kidney Stone During...</td>\n",
        "      <td> http://talkingpointsmemo.com/livewire/mass-guv...</td>\n",
        "      <td> 2014-03-26T19:29:00</td>\n",
        "      <td> 27494</td>\n",
        "      <td> 7345</td>\n",
        "      <td> 740</td>\n",
        "      <td> 396</td>\n",
        "      <td> 295</td>\n",
        "      <td> 213</td>\n",
        "      <td> 100</td>\n",
        "    </tr>\n",
        "    <tr>\n",
        "      <th>4</th>\n",
        "      <td> Charlotte's Brand New Mayor Turns Out To Be A ...</td>\n",
        "      <td> http://talkingpointsmemo.com/livewire/patrick-...</td>\n",
        "      <td> 2014-03-26T19:44:39</td>\n",
        "      <td>  6747</td>\n",
        "      <td> 1580</td>\n",
        "      <td> 127</td>\n",
        "      <td>  54</td>\n",
        "      <td>  36</td>\n",
        "      <td>  27</td>\n",
        "      <td>  22</td>\n",
        "    </tr>\n",
        "  </tbody>\n",
        "</table>\n",
        "</div>"
       ],
       "metadata": {},
       "output_type": "pyout",
       "prompt_number": 5,
       "text": [
        "                                               title  \\\n",
        "0  Ancient Crimean Gold In Legal Limbo After Russ...   \n",
        "1  California Sec. Of State Candidate Arrested In...   \n",
        "2  Planet Biden: Scientists Nickname New Dwarf Pl...   \n",
        "3  Mass. Guv Candidate Passes Kidney Stone During...   \n",
        "4  Charlotte's Brand New Mayor Turns Out To Be A ...   \n",
        "\n",
        "                                                 url             pub_date  \\\n",
        "0  http://talkingpointsmemo.com/livewire/crimean-...  2014-03-26T18:28:25   \n",
        "1  http://talkingpointsmemo.com/livewire/leland-y...  2014-03-26T18:29:17   \n",
        "2  http://talkingpointsmemo.com/livewire/dwarf-pl...  2014-03-26T18:58:47   \n",
        "3  http://talkingpointsmemo.com/livewire/mass-guv...  2014-03-26T19:29:00   \n",
        "4  http://talkingpointsmemo.com/livewire/patrick-...  2014-03-26T19:44:39   \n",
        "\n",
        "   day_0  day_1  day_2  day_3  day_4  day_5  day_6  \n",
        "0   1332    103      0      0      0      0      0  \n",
        "1  10743   1483    136     68     54     38     32  \n",
        "2   4907   2039    288    137    107     87     74  \n",
        "3  27494   7345    740    396    295    213    100  \n",
        "4   6747   1580    127     54     36     27     22  "
       ]
      }
     ],
     "prompt_number": 5
    },
    {
     "cell_type": "code",
     "collapsed": false,
     "input": [
      "df.describe()"
     ],
     "language": "python",
     "metadata": {},
     "outputs": [
      {
       "html": [
        "<div style=\"max-height:1000px;max-width:1500px;overflow:auto;\">\n",
        "<table border=\"1\" class=\"dataframe\">\n",
        "  <thead>\n",
        "    <tr style=\"text-align: right;\">\n",
        "      <th></th>\n",
        "      <th>day_0</th>\n",
        "      <th>day_1</th>\n",
        "      <th>day_2</th>\n",
        "      <th>day_3</th>\n",
        "      <th>day_4</th>\n",
        "      <th>day_5</th>\n",
        "      <th>day_6</th>\n",
        "    </tr>\n",
        "  </thead>\n",
        "  <tbody>\n",
        "    <tr>\n",
        "      <th>count</th>\n",
        "      <td>    7812.000000</td>\n",
        "      <td>   7812.000000</td>\n",
        "      <td>   7812.000000</td>\n",
        "      <td>   7812.000000</td>\n",
        "      <td>   7812.000000</td>\n",
        "      <td>   7812.000000</td>\n",
        "      <td>   7812.000000</td>\n",
        "    </tr>\n",
        "    <tr>\n",
        "      <th>mean</th>\n",
        "      <td>    8124.844470</td>\n",
        "      <td>   2413.155914</td>\n",
        "      <td>    700.323221</td>\n",
        "      <td>    427.407450</td>\n",
        "      <td>    320.520481</td>\n",
        "      <td>    269.461982</td>\n",
        "      <td>    240.081029</td>\n",
        "    </tr>\n",
        "    <tr>\n",
        "      <th>std</th>\n",
        "      <td>   20734.160029</td>\n",
        "      <td>  12975.327266</td>\n",
        "      <td>   7738.182367</td>\n",
        "      <td>   6673.894088</td>\n",
        "      <td>   6193.047906</td>\n",
        "      <td>   5985.930840</td>\n",
        "      <td>   5836.844429</td>\n",
        "    </tr>\n",
        "    <tr>\n",
        "      <th>min</th>\n",
        "      <td>       4.000000</td>\n",
        "      <td>      0.000000</td>\n",
        "      <td>      0.000000</td>\n",
        "      <td>      0.000000</td>\n",
        "      <td>      0.000000</td>\n",
        "      <td>      0.000000</td>\n",
        "      <td>      0.000000</td>\n",
        "    </tr>\n",
        "    <tr>\n",
        "      <th>25%</th>\n",
        "      <td>    1628.750000</td>\n",
        "      <td>    127.750000</td>\n",
        "      <td>     27.000000</td>\n",
        "      <td>     14.000000</td>\n",
        "      <td>      6.000000</td>\n",
        "      <td>      4.000000</td>\n",
        "      <td>      0.000000</td>\n",
        "    </tr>\n",
        "    <tr>\n",
        "      <th>50%</th>\n",
        "      <td>    3955.000000</td>\n",
        "      <td>    621.000000</td>\n",
        "      <td>    109.000000</td>\n",
        "      <td>     56.000000</td>\n",
        "      <td>     34.000000</td>\n",
        "      <td>     23.000000</td>\n",
        "      <td>     16.000000</td>\n",
        "    </tr>\n",
        "    <tr>\n",
        "      <th>75%</th>\n",
        "      <td>    9440.250000</td>\n",
        "      <td>   2104.250000</td>\n",
        "      <td>    411.250000</td>\n",
        "      <td>    218.000000</td>\n",
        "      <td>    147.000000</td>\n",
        "      <td>    110.250000</td>\n",
        "      <td>     90.250000</td>\n",
        "    </tr>\n",
        "    <tr>\n",
        "      <th>max</th>\n",
        "      <td> 1069673.000000</td>\n",
        "      <td> 706712.000000</td>\n",
        "      <td> 628091.000000</td>\n",
        "      <td> 565583.000000</td>\n",
        "      <td> 532991.000000</td>\n",
        "      <td> 520520.000000</td>\n",
        "      <td> 509305.000000</td>\n",
        "    </tr>\n",
        "  </tbody>\n",
        "</table>\n",
        "</div>"
       ],
       "metadata": {},
       "output_type": "pyout",
       "prompt_number": 6,
       "text": [
        "                day_0          day_1          day_2          day_3  \\\n",
        "count     7812.000000    7812.000000    7812.000000    7812.000000   \n",
        "mean      8124.844470    2413.155914     700.323221     427.407450   \n",
        "std      20734.160029   12975.327266    7738.182367    6673.894088   \n",
        "min          4.000000       0.000000       0.000000       0.000000   \n",
        "25%       1628.750000     127.750000      27.000000      14.000000   \n",
        "50%       3955.000000     621.000000     109.000000      56.000000   \n",
        "75%       9440.250000    2104.250000     411.250000     218.000000   \n",
        "max    1069673.000000  706712.000000  628091.000000  565583.000000   \n",
        "\n",
        "               day_4          day_5          day_6  \n",
        "count    7812.000000    7812.000000    7812.000000  \n",
        "mean      320.520481     269.461982     240.081029  \n",
        "std      6193.047906    5985.930840    5836.844429  \n",
        "min         0.000000       0.000000       0.000000  \n",
        "25%         6.000000       4.000000       0.000000  \n",
        "50%        34.000000      23.000000      16.000000  \n",
        "75%       147.000000     110.250000      90.250000  \n",
        "max    532991.000000  520520.000000  509305.000000  "
       ]
      }
     ],
     "prompt_number": 6
    },
    {
     "cell_type": "code",
     "collapsed": false,
     "input": [
      "plt.figure(figsize=(16,8))\n",
      "plt.title(\"Day 0 Page Views\")\n",
      "plt.plot(df.day_0)"
     ],
     "language": "python",
     "metadata": {},
     "outputs": [
      {
       "metadata": {},
       "output_type": "pyout",
       "prompt_number": 7,
       "text": [
        "[<matplotlib.lines.Line2D at 0x10618d310>]"
       ]
      },
      {
       "metadata": {},
       "output_type": "display_data",
       "png": "[encoded data removed]",
       "text": [
        "<matplotlib.figure.Figure at 0x1064cc0d0>"
       ]
      }
     ],
     "prompt_number": 7
    },
    {
     "cell_type": "markdown",
     "metadata": {},
     "source": [
      "### Examine top performing articles"
     ]
    },
    {
     "cell_type": "code",
     "collapsed": false,
     "input": [
      "top_hits_df = df[(df.day_0 > 200000)]\n",
      "top_hits_df"
     ],
     "language": "python",
     "metadata": {},
     "outputs": [
      {
       "html": [
        "<div style=\"max-height:1000px;max-width:1500px;overflow:auto;\">\n",
        "<table border=\"1\" class=\"dataframe\">\n",
        "  <thead>\n",
        "    <tr style=\"text-align: right;\">\n",
        "      <th></th>\n",
        "      <th>title</th>\n",
        "      <th>url</th>\n",
        "      <th>pub_date</th>\n",
        "      <th>day_0</th>\n",
        "      <th>day_1</th>\n",
        "      <th>day_2</th>\n",
        "      <th>day_3</th>\n",
        "      <th>day_4</th>\n",
        "      <th>day_5</th>\n",
        "      <th>day_6</th>\n",
        "    </tr>\n",
        "  </thead>\n",
        "  <tbody>\n",
        "    <tr>\n",
        "      <th>2597</th>\n",
        "      <td> Matt Drudge Is (Probably) Lying About Paying A...</td>\n",
        "      <td> http://talkingpointsmemo.com/livewire/drudge-i...</td>\n",
        "      <td> 2014-03-21T18:04:11</td>\n",
        "      <td>  281390</td>\n",
        "      <td> 156849</td>\n",
        "      <td>  15490</td>\n",
        "      <td>   7979</td>\n",
        "      <td>   2972</td>\n",
        "      <td>   1970</td>\n",
        "      <td>   1675</td>\n",
        "    </tr>\n",
        "    <tr>\n",
        "      <th>3778</th>\n",
        "      <td> Princeton Study: U.S. No Longer An Actual Demo...</td>\n",
        "      <td> http://talkingpointsmemo.com/livewire/princeto...</td>\n",
        "      <td> 2014-04-18T14:43:00</td>\n",
        "      <td>  771657</td>\n",
        "      <td> 706712</td>\n",
        "      <td> 628091</td>\n",
        "      <td> 565583</td>\n",
        "      <td> 532991</td>\n",
        "      <td> 520520</td>\n",
        "      <td> 509305</td>\n",
        "    </tr>\n",
        "    <tr>\n",
        "      <th>4368</th>\n",
        "      <td> Ann Coulter's Hashtag Hijacking Of #BringBackO...</td>\n",
        "      <td> http://talkingpointsmemo.com/livewire/ann-coul...</td>\n",
        "      <td> 2014-05-12T18:12:00</td>\n",
        "      <td> 1069673</td>\n",
        "      <td> 649573</td>\n",
        "      <td> 141146</td>\n",
        "      <td>  29211</td>\n",
        "      <td>  18161</td>\n",
        "      <td>  15097</td>\n",
        "      <td>  12417</td>\n",
        "    </tr>\n",
        "    <tr>\n",
        "      <th>5371</th>\n",
        "      <td> Two Guys With Guns Have Showdown On First Day ...</td>\n",
        "      <td> http://talkingpointsmemo.com/livewire/georgia-...</td>\n",
        "      <td> 2014-07-02T14:01:31</td>\n",
        "      <td>  330621</td>\n",
        "      <td> 140925</td>\n",
        "      <td>  44380</td>\n",
        "      <td>  25680</td>\n",
        "      <td>  19511</td>\n",
        "      <td>  15084</td>\n",
        "      <td>  10067</td>\n",
        "    </tr>\n",
        "    <tr>\n",
        "      <th>5388</th>\n",
        "      <td> Post-Hobby Lobby, Religious Orgs Want Exemptio...</td>\n",
        "      <td> http://talkingpointsmemo.com/livewire/religiou...</td>\n",
        "      <td> 2014-07-02T17:56:00</td>\n",
        "      <td>  613405</td>\n",
        "      <td> 311167</td>\n",
        "      <td>  79688</td>\n",
        "      <td>  45435</td>\n",
        "      <td>  35351</td>\n",
        "      <td>  28806</td>\n",
        "      <td>  20388</td>\n",
        "    </tr>\n",
        "    <tr>\n",
        "      <th>6529</th>\n",
        "      <td> WATCH: The Jon Stewart Ferguson Segment You've...</td>\n",
        "      <td> http://talkingpointsmemo.com/livewire/jon-stew...</td>\n",
        "      <td> 2014-08-27T12:15:45</td>\n",
        "      <td>  227869</td>\n",
        "      <td> 123631</td>\n",
        "      <td>  52623</td>\n",
        "      <td>  27076</td>\n",
        "      <td>  15576</td>\n",
        "      <td>  10135</td>\n",
        "      <td>   7522</td>\n",
        "    </tr>\n",
        "    <tr>\n",
        "      <th>7126</th>\n",
        "      <td> Baker Who Wouldn't Serve Lesbians Burst Into T...</td>\n",
        "      <td> http://talkingpointsmemo.com/livewire/oregon-c...</td>\n",
        "      <td> 2014-09-26T21:50:00</td>\n",
        "      <td>  240797</td>\n",
        "      <td> 200023</td>\n",
        "      <td>  68522</td>\n",
        "      <td>  41242</td>\n",
        "      <td>  14567</td>\n",
        "      <td>   6079</td>\n",
        "      <td>   3605</td>\n",
        "    </tr>\n",
        "  </tbody>\n",
        "</table>\n",
        "</div>"
       ],
       "metadata": {},
       "output_type": "pyout",
       "prompt_number": 19,
       "text": [
        "                                                  title  \\\n",
        "2597  Matt Drudge Is (Probably) Lying About Paying A...   \n",
        "3778  Princeton Study: U.S. No Longer An Actual Demo...   \n",
        "4368  Ann Coulter's Hashtag Hijacking Of #BringBackO...   \n",
        "5371  Two Guys With Guns Have Showdown On First Day ...   \n",
        "5388  Post-Hobby Lobby, Religious Orgs Want Exemptio...   \n",
        "6529  WATCH: The Jon Stewart Ferguson Segment You've...   \n",
        "7126  Baker Who Wouldn't Serve Lesbians Burst Into T...   \n",
        "\n",
        "                                                    url             pub_date  \\\n",
        "2597  http://talkingpointsmemo.com/livewire/drudge-i...  2014-03-21T18:04:11   \n",
        "3778  http://talkingpointsmemo.com/livewire/princeto...  2014-04-18T14:43:00   \n",
        "4368  http://talkingpointsmemo.com/livewire/ann-coul...  2014-05-12T18:12:00   \n",
        "5371  http://talkingpointsmemo.com/livewire/georgia-...  2014-07-02T14:01:31   \n",
        "5388  http://talkingpointsmemo.com/livewire/religiou...  2014-07-02T17:56:00   \n",
        "6529  http://talkingpointsmemo.com/livewire/jon-stew...  2014-08-27T12:15:45   \n",
        "7126  http://talkingpointsmemo.com/livewire/oregon-c...  2014-09-26T21:50:00   \n",
        "\n",
        "        day_0   day_1   day_2   day_3   day_4   day_5   day_6  \n",
        "2597   281390  156849   15490    7979    2972    1970    1675  \n",
        "3778   771657  706712  628091  565583  532991  520520  509305  \n",
        "4368  1069673  649573  141146   29211   18161   15097   12417  \n",
        "5371   330621  140925   44380   25680   19511   15084   10067  \n",
        "5388   613405  311167   79688   45435   35351   28806   20388  \n",
        "6529   227869  123631   52623   27076   15576   10135    7522  \n",
        "7126   240797  200023   68522   41242   14567    6079    3605  "
       ]
      }
     ],
     "prompt_number": 19
    },
    {
     "cell_type": "code",
     "collapsed": false,
     "input": [
      "days = [ col for col in top_hits_df.columns if \"day\" in col ]"
     ],
     "language": "python",
     "metadata": {},
     "outputs": [],
     "prompt_number": 5
    },
    {
     "cell_type": "code",
     "collapsed": false,
     "input": [
      "fig, ax = plt.subplots(figsize=(14,8))\n",
      "\n",
      "for i, s in top_hits_df.iterrows():\n",
      "    ax.plot(s[days])\n",
      "    \n",
      "ax.set_title(\"Page Views for Top Articles\")\n",
      "ax.set_xlabel(\"Days Since Publication\")\n",
      "plt.show"
     ],
     "language": "python",
     "metadata": {},
     "outputs": [
      {
       "metadata": {},
       "output_type": "pyout",
       "prompt_number": 96,
       "text": [
        "<function matplotlib.pyplot.show>"
       ]
      },
      {
       "metadata": {},
       "output_type": "display_data",
       "png": "[encoded data removed]",
       "text": [
        "<matplotlib.figure.Figure at 0x10754ced0>"
       ]
      }
     ],
     "prompt_number": 96
    },
    {
     "cell_type": "markdown",
     "metadata": {},
     "source": [
      "### Examine Distribution of Pageviews"
     ]
    },
    {
     "cell_type": "code",
     "collapsed": false,
     "input": [
      "plt.figure(figsize=(16,8))\n",
      "plt.title(\"Day 0 Page Views\")\n",
      "plt.hist(df[(df.day_0 < 10000)].day_0, bins=100)"
     ],
     "language": "python",
     "metadata": {},
     "outputs": [
      {
       "metadata": {},
       "output_type": "pyout",
       "prompt_number": 35,
       "text": [
        "(array([   7.,   43.,   79.,  111.,  133.,  132.,  130.,  153.,  148.,\n",
        "         168.,  150.,  135.,  139.,  129.,  121.,  125.,  134.,  108.,\n",
        "         109.,  102.,  118.,   99.,   93.,   79.,   97.,  104.,   88.,\n",
        "          71.,   88.,   56.,   83.,   73.,   65.,   71.,   66.,   88.,\n",
        "          57.,   63.,   56.,   61.,   66.,   59.,   62.,   54.,   50.,\n",
        "          45.,   48.,   44.,   52.,   50.,   46.,   51.,   47.,   38.,\n",
        "          38.,   36.,   48.,   33.,   39.,   37.,   43.,   27.,   42.,\n",
        "          36.,   34.,   30.,   38.,   33.,   38.,   25.,   28.,   39.,\n",
        "          33.,   38.,   39.,   27.,   23.,   19.,   29.,   40.,   36.,\n",
        "          22.,   19.,   25.,   21.,   24.,   23.,   24.,   22.,   24.,\n",
        "          17.,   19.,   20.,   19.,   18.,   25.,   17.,   21.,   16.,   21.]),\n",
        " array([  4.00000000e+00,   1.03730000e+02,   2.03460000e+02,\n",
        "          3.03190000e+02,   4.02920000e+02,   5.02650000e+02,\n",
        "          6.02380000e+02,   7.02110000e+02,   8.01840000e+02,\n",
        "          9.01570000e+02,   1.00130000e+03,   1.10103000e+03,\n",
        "          1.20076000e+03,   1.30049000e+03,   1.40022000e+03,\n",
        "          1.49995000e+03,   1.59968000e+03,   1.69941000e+03,\n",
        "          1.79914000e+03,   1.89887000e+03,   1.99860000e+03,\n",
        "          2.09833000e+03,   2.19806000e+03,   2.29779000e+03,\n",
        "          2.39752000e+03,   2.49725000e+03,   2.59698000e+03,\n",
        "          2.69671000e+03,   2.79644000e+03,   2.89617000e+03,\n",
        "          2.99590000e+03,   3.09563000e+03,   3.19536000e+03,\n",
        "          3.29509000e+03,   3.39482000e+03,   3.49455000e+03,\n",
        "          3.59428000e+03,   3.69401000e+03,   3.79374000e+03,\n",
        "          3.89347000e+03,   3.99320000e+03,   4.09293000e+03,\n",
        "          4.19266000e+03,   4.29239000e+03,   4.39212000e+03,\n",
        "          4.49185000e+03,   4.59158000e+03,   4.69131000e+03,\n",
        "          4.79104000e+03,   4.89077000e+03,   4.99050000e+03,\n",
        "          5.09023000e+03,   5.18996000e+03,   5.28969000e+03,\n",
        "          5.38942000e+03,   5.48915000e+03,   5.58888000e+03,\n",
        "          5.68861000e+03,   5.78834000e+03,   5.88807000e+03,\n",
        "          5.98780000e+03,   6.08753000e+03,   6.18726000e+03,\n",
        "          6.28699000e+03,   6.38672000e+03,   6.48645000e+03,\n",
        "          6.58618000e+03,   6.68591000e+03,   6.78564000e+03,\n",
        "          6.88537000e+03,   6.98510000e+03,   7.08483000e+03,\n",
        "          7.18456000e+03,   7.28429000e+03,   7.38402000e+03,\n",
        "          7.48375000e+03,   7.58348000e+03,   7.68321000e+03,\n",
        "          7.78294000e+03,   7.88267000e+03,   7.98240000e+03,\n",
        "          8.08213000e+03,   8.18186000e+03,   8.28159000e+03,\n",
        "          8.38132000e+03,   8.48105000e+03,   8.58078000e+03,\n",
        "          8.68051000e+03,   8.78024000e+03,   8.87997000e+03,\n",
        "          8.97970000e+03,   9.07943000e+03,   9.17916000e+03,\n",
        "          9.27889000e+03,   9.37862000e+03,   9.47835000e+03,\n",
        "          9.57808000e+03,   9.67781000e+03,   9.77754000e+03,\n",
        "          9.87727000e+03,   9.97700000e+03]),\n",
        " <a list of 100 Patch objects>)"
       ]
      },
      {
       "metadata": {},
       "output_type": "display_data",
       "png": "[encoded data removed]",
       "text": [
        "<matplotlib.figure.Figure at 0x10bf0b450>"
       ]
      }
     ],
     "prompt_number": 35
    },
    {
     "cell_type": "markdown",
     "metadata": {},
     "source": [
      "### Apply Log Normalization"
     ]
    },
    {
     "cell_type": "code",
     "collapsed": false,
     "input": [
      "df[\"day_0_log\"] = df.day_0.apply(lambda x: np.log10(x))\n",
      "# df.drop('day_0_log10', axis=1, inplace=True)\n",
      "df.describe()"
     ],
     "language": "python",
     "metadata": {},
     "outputs": [
      {
       "html": [
        "<div style=\"max-height:1000px;max-width:1500px;overflow:auto;\">\n",
        "<table border=\"1\" class=\"dataframe\">\n",
        "  <thead>\n",
        "    <tr style=\"text-align: right;\">\n",
        "      <th></th>\n",
        "      <th>day_0</th>\n",
        "      <th>day_1</th>\n",
        "      <th>day_2</th>\n",
        "      <th>day_3</th>\n",
        "      <th>day_4</th>\n",
        "      <th>day_5</th>\n",
        "      <th>day_6</th>\n",
        "      <th>day_0_log</th>\n",
        "    </tr>\n",
        "  </thead>\n",
        "  <tbody>\n",
        "    <tr>\n",
        "      <th>count</th>\n",
        "      <td>    7812.000000</td>\n",
        "      <td>   7812.000000</td>\n",
        "      <td>   7812.000000</td>\n",
        "      <td>   7812.000000</td>\n",
        "      <td>   7812.000000</td>\n",
        "      <td>   7812.000000</td>\n",
        "      <td>   7812.000000</td>\n",
        "      <td> 7812.000000</td>\n",
        "    </tr>\n",
        "    <tr>\n",
        "      <th>mean</th>\n",
        "      <td>    8124.844470</td>\n",
        "      <td>   2413.155914</td>\n",
        "      <td>    700.323221</td>\n",
        "      <td>    427.407450</td>\n",
        "      <td>    320.520481</td>\n",
        "      <td>    269.461982</td>\n",
        "      <td>    240.081029</td>\n",
        "      <td>    8.263421</td>\n",
        "    </tr>\n",
        "    <tr>\n",
        "      <th>std</th>\n",
        "      <td>   20734.160029</td>\n",
        "      <td>  12975.327266</td>\n",
        "      <td>   7738.182367</td>\n",
        "      <td>   6673.894088</td>\n",
        "      <td>   6193.047906</td>\n",
        "      <td>   5985.930840</td>\n",
        "      <td>   5836.844429</td>\n",
        "      <td>    1.220666</td>\n",
        "    </tr>\n",
        "    <tr>\n",
        "      <th>min</th>\n",
        "      <td>       4.000000</td>\n",
        "      <td>      0.000000</td>\n",
        "      <td>      0.000000</td>\n",
        "      <td>      0.000000</td>\n",
        "      <td>      0.000000</td>\n",
        "      <td>      0.000000</td>\n",
        "      <td>      0.000000</td>\n",
        "      <td>    1.386294</td>\n",
        "    </tr>\n",
        "    <tr>\n",
        "      <th>25%</th>\n",
        "      <td>    1628.750000</td>\n",
        "      <td>    127.750000</td>\n",
        "      <td>     27.000000</td>\n",
        "      <td>     14.000000</td>\n",
        "      <td>      6.000000</td>\n",
        "      <td>      4.000000</td>\n",
        "      <td>      0.000000</td>\n",
        "      <td>    7.395568</td>\n",
        "    </tr>\n",
        "    <tr>\n",
        "      <th>50%</th>\n",
        "      <td>    3955.000000</td>\n",
        "      <td>    621.000000</td>\n",
        "      <td>    109.000000</td>\n",
        "      <td>     56.000000</td>\n",
        "      <td>     34.000000</td>\n",
        "      <td>     23.000000</td>\n",
        "      <td>     16.000000</td>\n",
        "      <td>    8.282736</td>\n",
        "    </tr>\n",
        "    <tr>\n",
        "      <th>75%</th>\n",
        "      <td>    9440.250000</td>\n",
        "      <td>   2104.250000</td>\n",
        "      <td>    411.250000</td>\n",
        "      <td>    218.000000</td>\n",
        "      <td>    147.000000</td>\n",
        "      <td>    110.250000</td>\n",
        "      <td>     90.250000</td>\n",
        "      <td>    9.152738</td>\n",
        "    </tr>\n",
        "    <tr>\n",
        "      <th>max</th>\n",
        "      <td> 1069673.000000</td>\n",
        "      <td> 706712.000000</td>\n",
        "      <td> 628091.000000</td>\n",
        "      <td> 565583.000000</td>\n",
        "      <td> 532991.000000</td>\n",
        "      <td> 520520.000000</td>\n",
        "      <td> 509305.000000</td>\n",
        "      <td>   13.882864</td>\n",
        "    </tr>\n",
        "  </tbody>\n",
        "</table>\n",
        "</div>"
       ],
       "metadata": {},
       "output_type": "pyout",
       "prompt_number": 53,
       "text": [
        "                day_0          day_1          day_2          day_3  \\\n",
        "count     7812.000000    7812.000000    7812.000000    7812.000000   \n",
        "mean      8124.844470    2413.155914     700.323221     427.407450   \n",
        "std      20734.160029   12975.327266    7738.182367    6673.894088   \n",
        "min          4.000000       0.000000       0.000000       0.000000   \n",
        "25%       1628.750000     127.750000      27.000000      14.000000   \n",
        "50%       3955.000000     621.000000     109.000000      56.000000   \n",
        "75%       9440.250000    2104.250000     411.250000     218.000000   \n",
        "max    1069673.000000  706712.000000  628091.000000  565583.000000   \n",
        "\n",
        "               day_4          day_5          day_6    day_0_log  \n",
        "count    7812.000000    7812.000000    7812.000000  7812.000000  \n",
        "mean      320.520481     269.461982     240.081029     8.263421  \n",
        "std      6193.047906    5985.930840    5836.844429     1.220666  \n",
        "min         0.000000       0.000000       0.000000     1.386294  \n",
        "25%         6.000000       4.000000       0.000000     7.395568  \n",
        "50%        34.000000      23.000000      16.000000     8.282736  \n",
        "75%       147.000000     110.250000      90.250000     9.152738  \n",
        "max    532991.000000  520520.000000  509305.000000    13.882864  "
       ]
      }
     ],
     "prompt_number": 53
    },
    {
     "cell_type": "code",
     "collapsed": false,
     "input": [
      "plt.figure(figsize=(16,8))\n",
      "plt.title(\"Log Normalized Day 0 Page Views\")\n",
      "plt.hist(df.day_0_log, bins=100)"
     ],
     "language": "python",
     "metadata": {},
     "outputs": [
      {
       "metadata": {},
       "output_type": "pyout",
       "prompt_number": 54,
       "text": [
        "(array([   1.,    0.,    0.,    0.,    0.,    0.,    0.,    0.,    0.,\n",
        "           0.,    0.,    0.,    0.,    0.,    0.,    0.,    0.,    0.,\n",
        "           0.,    0.,    2.,    1.,    1.,    1.,    1.,    0.,    4.,\n",
        "           6.,   11.,    6.,   11.,   11.,   23.,   35.,   27.,   54.,\n",
        "          54.,   66.,   81.,   95.,  102.,  123.,  169.,  190.,  191.,\n",
        "         199.,  218.,  241.,  246.,  264.,  268.,  299.,  263.,  287.,\n",
        "         299.,  311.,  290.,  281.,  283.,  282.,  297.,  235.,  223.,\n",
        "         253.,  234.,  221.,  191.,  161.,  148.,  106.,  102.,   94.,\n",
        "          54.,   49.,   44.,   28.,   20.,   12.,    6.,   12.,    6.,\n",
        "           3.,    2.,    1.,    0.,    5.,    1.,    1.,    1.,    1.,\n",
        "           1.,    0.,    0.,    0.,    0.,    1.,    0.,    1.,    0.,    1.]),\n",
        " array([  1.38629436,   1.51126005,   1.63622574,   1.76119144,\n",
        "          1.88615713,   2.01112282,   2.13608851,   2.2610542 ,\n",
        "          2.3860199 ,   2.51098559,   2.63595128,   2.76091697,\n",
        "          2.88588266,   3.01084836,   3.13581405,   3.26077974,\n",
        "          3.38574543,   3.51071112,   3.63567682,   3.76064251,\n",
        "          3.8856082 ,   4.01057389,   4.13553958,   4.26050528,\n",
        "          4.38547097,   4.51043666,   4.63540235,   4.76036804,\n",
        "          4.88533373,   5.01029943,   5.13526512,   5.26023081,\n",
        "          5.3851965 ,   5.51016219,   5.63512789,   5.76009358,\n",
        "          5.88505927,   6.01002496,   6.13499065,   6.25995635,\n",
        "          6.38492204,   6.50988773,   6.63485342,   6.75981911,\n",
        "          6.88478481,   7.0097505 ,   7.13471619,   7.25968188,\n",
        "          7.38464757,   7.50961326,   7.63457896,   7.75954465,\n",
        "          7.88451034,   8.00947603,   8.13444172,   8.25940742,\n",
        "          8.38437311,   8.5093388 ,   8.63430449,   8.75927018,\n",
        "          8.88423588,   9.00920157,   9.13416726,   9.25913295,\n",
        "          9.38409864,   9.50906434,   9.63403003,   9.75899572,\n",
        "          9.88396141,  10.0089271 ,  10.13389279,  10.25885849,\n",
        "         10.38382418,  10.50878987,  10.63375556,  10.75872125,\n",
        "         10.88368695,  11.00865264,  11.13361833,  11.25858402,\n",
        "         11.38354971,  11.50851541,  11.6334811 ,  11.75844679,\n",
        "         11.88341248,  12.00837817,  12.13334387,  12.25830956,\n",
        "         12.38327525,  12.50824094,  12.63320663,  12.75817233,\n",
        "         12.88313802,  13.00810371,  13.1330694 ,  13.25803509,\n",
        "         13.38300078,  13.50796648,  13.63293217,  13.75789786,  13.88286355]),\n",
        " <a list of 100 Patch objects>)"
       ]
      },
      {
       "metadata": {},
       "output_type": "display_data",
       "png": "[encoded data removed]",
       "text": [
        "<matplotlib.figure.Figure at 0x10d4da550>"
       ]
      }
     ],
     "prompt_number": 54
    },
    {
     "cell_type": "code",
     "collapsed": false,
     "input": [
      "logged10 = np.log10(8)\n",
      "print logged10"
     ],
     "language": "python",
     "metadata": {},
     "outputs": [
      {
       "output_type": "stream",
       "stream": "stdout",
       "text": [
        "0.903089986992\n"
       ]
      }
     ],
     "prompt_number": 6
    },
    {
     "cell_type": "code",
     "collapsed": false,
     "input": [
      "def antilog(x):\n",
      "    return 10 ** x"
     ],
     "language": "python",
     "metadata": {},
     "outputs": [],
     "prompt_number": 7
    },
    {
     "cell_type": "code",
     "collapsed": false,
     "input": [
      "antilog(logged10)"
     ],
     "language": "python",
     "metadata": {},
     "outputs": [
      {
       "metadata": {},
       "output_type": "pyout",
       "prompt_number": 8,
       "text": [
        "7.9999999999999991"
       ]
      }
     ],
     "prompt_number": 8
    },
    {
     "cell_type": "code",
     "collapsed": false,
     "input": [
      "logged = np.log(8)\n",
      "print logged"
     ],
     "language": "python",
     "metadata": {},
     "outputs": [
      {
       "output_type": "stream",
       "stream": "stdout",
       "text": [
        "2.07944154168\n"
       ]
      }
     ],
     "prompt_number": 9
    },
    {
     "cell_type": "code",
     "collapsed": false,
     "input": [
      "print np.exp(logged)"
     ],
     "language": "python",
     "metadata": {},
     "outputs": [
      {
       "output_type": "stream",
       "stream": "stdout",
       "text": [
        "8.0\n"
       ]
      }
     ],
     "prompt_number": 10
    },
    {
     "cell_type": "code",
     "collapsed": false,
     "input": [],
     "language": "python",
     "metadata": {},
     "outputs": []
    }
   ],
   "metadata": {}
  }
 ]
}