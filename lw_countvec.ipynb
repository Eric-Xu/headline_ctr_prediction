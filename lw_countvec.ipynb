{
 "metadata": {
  "name": "",
  "signature": "sha256:947b503174cd0fddc6a09d903efa293333cd0f2c38f39bdf0ef8dd2edf9414c5"
 },
 "nbformat": 3,
 "nbformat_minor": 0,
 "worksheets": [
  {
   "cells": [
    {
     "cell_type": "code",
     "collapsed": false,
     "input": [
      "import pandas as pd\n",
      "import numpy as np\n",
      "from sklearn.feature_extraction.text import CountVectorizer"
     ],
     "language": "python",
     "metadata": {},
     "outputs": [],
     "prompt_number": 1
    },
    {
     "cell_type": "code",
     "collapsed": false,
     "input": [
      "# vectorizer = CountVectorizer(min_df = 1, max_df = 0.9)\n",
      "# vectorizer = CountVectorizer(max_df=3)\n",
      "# vectorizer = CountVectorizer(max_df=0.9)\n",
      "vectorizer = CountVectorizer()\n",
      "X = vectorizer.fit_transform(['afr bdf dssd','afr bdf c','afr', 'afr ca dssd'])"
     ],
     "language": "python",
     "metadata": {},
     "outputs": [],
     "prompt_number": 2
    },
    {
     "cell_type": "code",
     "collapsed": false,
     "input": [
      "# size of vocabulary\n",
      "len(vectorizer.get_feature_names())"
     ],
     "language": "python",
     "metadata": {},
     "outputs": [
      {
       "metadata": {},
       "output_type": "pyout",
       "prompt_number": 3,
       "text": [
        "4"
       ]
      }
     ],
     "prompt_number": 3
    },
    {
     "cell_type": "code",
     "collapsed": false,
     "input": [
      "word_freq_df = pd.DataFrame({'term': vectorizer.get_feature_names(), 'occurrences':np.asarray(X.sum(axis=0)).ravel().tolist()})\n",
      "word_freq_df['frequency'] = word_freq_df['occurrences']/np.sum(word_freq_df['occurrences'])\n",
      "print word_freq_df.sort('occurrences',ascending = False).head(2)"
     ],
     "language": "python",
     "metadata": {},
     "outputs": [
      {
       "output_type": "stream",
       "stream": "stdout",
       "text": [
        "   occurrences term  frequency\n",
        "0            4  afr   0.444444\n",
        "1            2  bdf   0.222222\n"
       ]
      }
     ],
     "prompt_number": 4
    },
    {
     "cell_type": "code",
     "collapsed": false,
     "input": [],
     "language": "python",
     "metadata": {},
     "outputs": []
    }
   ],
   "metadata": {}
  }
 ]
}