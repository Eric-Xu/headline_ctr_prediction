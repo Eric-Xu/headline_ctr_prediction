{
 "metadata": {
  "name": "",
  "signature": "sha256:47f80fae2a7e181718d1adfababc27dffff5c64e84b6ae1ccdec42820652b9fc"
 },
 "nbformat": 3,
 "nbformat_minor": 0,
 "worksheets": [
  {
   "cells": [
    {
     "cell_type": "code",
     "collapsed": false,
     "input": [
      "import pandas as pd\n",
      "from sklearn.feature_extraction.text import CountVectorizer\n",
      "from sklearn.feature_extraction.text import TfidfTransformer\n",
      "\n",
      "# source: http://nbviewer.ipython.org/github/ga-students/DS-LA-03/blob/master/src/lesson09/Random%20Forests.ipynb"
     ],
     "language": "python",
     "metadata": {},
     "outputs": [],
     "prompt_number": 48
    },
    {
     "cell_type": "code",
     "collapsed": false,
     "input": [
      "df = pd.read_csv(\"datasets/livewire_hits2.csv\")"
     ],
     "language": "python",
     "metadata": {},
     "outputs": [],
     "prompt_number": 2
    },
    {
     "cell_type": "code",
     "collapsed": false,
     "input": [
      "df.head()"
     ],
     "language": "python",
     "metadata": {},
     "outputs": [
      {
       "html": [
        "<div style=\"max-height:1000px;max-width:1500px;overflow:auto;\">\n",
        "<table border=\"1\" class=\"dataframe\">\n",
        "  <thead>\n",
        "    <tr style=\"text-align: right;\">\n",
        "      <th></th>\n",
        "      <th>title</th>\n",
        "      <th>url</th>\n",
        "      <th>pub_date</th>\n",
        "      <th>day_0</th>\n",
        "      <th>day_1</th>\n",
        "      <th>day_2</th>\n",
        "      <th>day_3</th>\n",
        "      <th>day_4</th>\n",
        "      <th>day_5</th>\n",
        "      <th>day_6</th>\n",
        "    </tr>\n",
        "  </thead>\n",
        "  <tbody>\n",
        "    <tr>\n",
        "      <th>0</th>\n",
        "      <td> Ancient Crimean Gold In Legal Limbo After Russ...</td>\n",
        "      <td> http://talkingpointsmemo.com/livewire/crimean-...</td>\n",
        "      <td> 2014-03-26T18:28:25</td>\n",
        "      <td>  1332</td>\n",
        "      <td>  103</td>\n",
        "      <td>   0</td>\n",
        "      <td>   0</td>\n",
        "      <td>   0</td>\n",
        "      <td>   0</td>\n",
        "      <td>   0</td>\n",
        "    </tr>\n",
        "    <tr>\n",
        "      <th>1</th>\n",
        "      <td> California Sec. Of State Candidate Arrested In...</td>\n",
        "      <td> http://talkingpointsmemo.com/livewire/leland-y...</td>\n",
        "      <td> 2014-03-26T18:29:17</td>\n",
        "      <td> 10743</td>\n",
        "      <td> 1483</td>\n",
        "      <td> 136</td>\n",
        "      <td>  68</td>\n",
        "      <td>  54</td>\n",
        "      <td>  38</td>\n",
        "      <td>  32</td>\n",
        "    </tr>\n",
        "    <tr>\n",
        "      <th>2</th>\n",
        "      <td> Planet Biden: Scientists Nickname New Dwarf Pl...</td>\n",
        "      <td> http://talkingpointsmemo.com/livewire/dwarf-pl...</td>\n",
        "      <td> 2014-03-26T18:58:47</td>\n",
        "      <td>  4907</td>\n",
        "      <td> 2039</td>\n",
        "      <td> 288</td>\n",
        "      <td> 137</td>\n",
        "      <td> 107</td>\n",
        "      <td>  87</td>\n",
        "      <td>  74</td>\n",
        "    </tr>\n",
        "    <tr>\n",
        "      <th>3</th>\n",
        "      <td> Mass. Guv Candidate Passes Kidney Stone During...</td>\n",
        "      <td> http://talkingpointsmemo.com/livewire/mass-guv...</td>\n",
        "      <td> 2014-03-26T19:29:00</td>\n",
        "      <td> 27494</td>\n",
        "      <td> 7345</td>\n",
        "      <td> 740</td>\n",
        "      <td> 396</td>\n",
        "      <td> 295</td>\n",
        "      <td> 213</td>\n",
        "      <td> 100</td>\n",
        "    </tr>\n",
        "    <tr>\n",
        "      <th>4</th>\n",
        "      <td> Charlotte's Brand New Mayor Turns Out To Be A ...</td>\n",
        "      <td> http://talkingpointsmemo.com/livewire/patrick-...</td>\n",
        "      <td> 2014-03-26T19:44:39</td>\n",
        "      <td>  6747</td>\n",
        "      <td> 1580</td>\n",
        "      <td> 127</td>\n",
        "      <td>  54</td>\n",
        "      <td>  36</td>\n",
        "      <td>  27</td>\n",
        "      <td>  22</td>\n",
        "    </tr>\n",
        "  </tbody>\n",
        "</table>\n",
        "</div>"
       ],
       "metadata": {},
       "output_type": "pyout",
       "prompt_number": 3,
       "text": [
        "                                               title  \\\n",
        "0  Ancient Crimean Gold In Legal Limbo After Russ...   \n",
        "1  California Sec. Of State Candidate Arrested In...   \n",
        "2  Planet Biden: Scientists Nickname New Dwarf Pl...   \n",
        "3  Mass. Guv Candidate Passes Kidney Stone During...   \n",
        "4  Charlotte's Brand New Mayor Turns Out To Be A ...   \n",
        "\n",
        "                                                 url             pub_date  \\\n",
        "0  http://talkingpointsmemo.com/livewire/crimean-...  2014-03-26T18:28:25   \n",
        "1  http://talkingpointsmemo.com/livewire/leland-y...  2014-03-26T18:29:17   \n",
        "2  http://talkingpointsmemo.com/livewire/dwarf-pl...  2014-03-26T18:58:47   \n",
        "3  http://talkingpointsmemo.com/livewire/mass-guv...  2014-03-26T19:29:00   \n",
        "4  http://talkingpointsmemo.com/livewire/patrick-...  2014-03-26T19:44:39   \n",
        "\n",
        "   day_0  day_1  day_2  day_3  day_4  day_5  day_6  \n",
        "0   1332    103      0      0      0      0      0  \n",
        "1  10743   1483    136     68     54     38     32  \n",
        "2   4907   2039    288    137    107     87     74  \n",
        "3  27494   7345    740    396    295    213    100  \n",
        "4   6747   1580    127     54     36     27     22  "
       ]
      }
     ],
     "prompt_number": 3
    },
    {
     "cell_type": "code",
     "collapsed": false,
     "input": [
      "x_train = df.title[0:100]\n",
      "y_train = df.day_0[0:100]\n",
      "\n",
      "x_test = df.title[100:200]\n",
      "y_test = df.day_0[100:200]"
     ],
     "language": "python",
     "metadata": {},
     "outputs": [],
     "prompt_number": 4
    },
    {
     "cell_type": "code",
     "collapsed": false,
     "input": [
      "df_train = pd.DataFrame(columns = [\"title\", \"day_0_count\"])\n",
      "df_train.title = x_train\n",
      "df_train.day_0_count = y_train\n",
      "df_train.head()"
     ],
     "language": "python",
     "metadata": {},
     "outputs": [
      {
       "html": [
        "<div style=\"max-height:1000px;max-width:1500px;overflow:auto;\">\n",
        "<table border=\"1\" class=\"dataframe\">\n",
        "  <thead>\n",
        "    <tr style=\"text-align: right;\">\n",
        "      <th></th>\n",
        "      <th>title</th>\n",
        "      <th>day_0_count</th>\n",
        "    </tr>\n",
        "  </thead>\n",
        "  <tbody>\n",
        "    <tr>\n",
        "      <th>0</th>\n",
        "      <td> Ancient Crimean Gold In Legal Limbo After Russ...</td>\n",
        "      <td>  1332</td>\n",
        "    </tr>\n",
        "    <tr>\n",
        "      <th>1</th>\n",
        "      <td> California Sec. Of State Candidate Arrested In...</td>\n",
        "      <td> 10743</td>\n",
        "    </tr>\n",
        "    <tr>\n",
        "      <th>2</th>\n",
        "      <td> Planet Biden: Scientists Nickname New Dwarf Pl...</td>\n",
        "      <td>  4907</td>\n",
        "    </tr>\n",
        "    <tr>\n",
        "      <th>3</th>\n",
        "      <td> Mass. Guv Candidate Passes Kidney Stone During...</td>\n",
        "      <td> 27494</td>\n",
        "    </tr>\n",
        "    <tr>\n",
        "      <th>4</th>\n",
        "      <td> Charlotte's Brand New Mayor Turns Out To Be A ...</td>\n",
        "      <td>  6747</td>\n",
        "    </tr>\n",
        "  </tbody>\n",
        "</table>\n",
        "</div>"
       ],
       "metadata": {},
       "output_type": "pyout",
       "prompt_number": 6,
       "text": [
        "                                               title  day_0_count\n",
        "0  Ancient Crimean Gold In Legal Limbo After Russ...         1332\n",
        "1  California Sec. Of State Candidate Arrested In...        10743\n",
        "2  Planet Biden: Scientists Nickname New Dwarf Pl...         4907\n",
        "3  Mass. Guv Candidate Passes Kidney Stone During...        27494\n",
        "4  Charlotte's Brand New Mayor Turns Out To Be A ...         6747"
       ]
      }
     ],
     "prompt_number": 6
    },
    {
     "cell_type": "markdown",
     "metadata": {},
     "source": [
      "### CountVectorizer"
     ]
    },
    {
     "cell_type": "markdown",
     "metadata": {},
     "source": [
      "We will use CountVectorizer to make a matrix of word counts, where each row is a document and each column is the word, the cell matrix[document][word] contains the count of word in document.\n",
      "\n",
      "We can expand on this by setting the ngram_range. This parameter allows us to set each column not only as a word, but possibly sequences of words"
     ]
    },
    {
     "cell_type": "code",
     "collapsed": false,
     "input": [
      "count_vect = CountVectorizer(stop_words = \"english\", lowercase = True, ngram_range = (1,2))\n",
      "# vector of all tweets\n",
      "X_train_counts = count_vect.fit_transform(df_train.title)"
     ],
     "language": "python",
     "metadata": {},
     "outputs": [],
     "prompt_number": 30
    },
    {
     "cell_type": "markdown",
     "metadata": {},
     "source": [
      "Calling count_vect.fit_transform both modifies count_vect buy having it \"learn\" the vocabulary of the documents, and returns the count vectors.\n",
      "\n",
      "count_vect.vocabulary_ is now a dictionary mapping terms to feature indices."
     ]
    },
    {
     "cell_type": "code",
     "collapsed": false,
     "input": [
      "count_vect.vocabulary_.items()[:10]"
     ],
     "language": "python",
     "metadata": {},
     "outputs": [
      {
       "metadata": {},
       "output_type": "pyout",
       "prompt_number": 31,
       "text": [
        "[(u'caused', 165),\n",
        " (u'protest', 847),\n",
        " (u'deadline', 293),\n",
        " (u'asian', 76),\n",
        " (u'talks', 1071),\n",
        " (u'virginia guv', 1145),\n",
        " (u'petty silver', 798),\n",
        " (u'homage', 503),\n",
        " (u'new milestone', 721),\n",
        " (u'cheney', 184)]"
       ]
      }
     ],
     "prompt_number": 31
    },
    {
     "cell_type": "code",
     "collapsed": false,
     "input": [
      "count_vect.get_feature_names()[50:60]"
     ],
     "language": "python",
     "metadata": {},
     "outputs": [
      {
       "metadata": {},
       "output_type": "pyout",
       "prompt_number": 34,
       "text": [
        "[u'americans',\n",
        " u'americans war',\n",
        " u'anchor',\n",
        " u'anchor says',\n",
        " u'ancient',\n",
        " u'ancient crimean',\n",
        " u'anti',\n",
        " u'anti catholic',\n",
        " u'anti vaccine',\n",
        " u'apologies']"
       ]
      }
     ],
     "prompt_number": 34
    },
    {
     "cell_type": "code",
     "collapsed": false,
     "input": [
      "# headline on row 1\n",
      "print X_train_counts[1]"
     ],
     "language": "python",
     "metadata": {},
     "outputs": [
      {
       "output_type": "stream",
       "stream": "stdout",
       "text": [
        "  (0, 139)\t1\n",
        "  (0, 975)\t1\n",
        "  (0, 1050)\t1\n",
        "  (0, 149)\t1\n",
        "  (0, 74)\t1\n",
        "  (0, 251)\t1\n",
        "  (0, 638)\t1\n",
        "  (0, 410)\t1\n",
        "  (0, 866)\t1\n",
        "  (0, 140)\t1\n",
        "  (0, 976)\t1\n",
        "  (0, 1051)\t1\n",
        "  (0, 150)\t1\n",
        "  (0, 75)\t1\n",
        "  (0, 252)\t1\n",
        "  (0, 639)\t1\n",
        "  (0, 411)\t1\n"
       ]
      }
     ],
     "prompt_number": 42
    },
    {
     "cell_type": "code",
     "collapsed": false,
     "input": [
      "print df_train.title[1]\n",
      "print count_vect.get_feature_names()[139]\n",
      "print count_vect.get_feature_names()[975]\n",
      "print count_vect.get_feature_names()[1050]"
     ],
     "language": "python",
     "metadata": {},
     "outputs": [
      {
       "output_type": "stream",
       "stream": "stdout",
       "text": [
        "California Sec. Of State Candidate Arrested In Connection With Massive FBI Raid\n",
        "california\n",
        "sec\n",
        "state\n"
       ]
      }
     ],
     "prompt_number": 47
    },
    {
     "cell_type": "markdown",
     "metadata": {},
     "source": [
      "### Term Frequency - Inverse Document Frequency (TF-IDF) Representation"
     ]
    },
    {
     "cell_type": "code",
     "collapsed": false,
     "input": [
      "tfidf_transformer = TfidfTransformer().fit(X_train_counts)\n",
      "X_train_tfidf = tfidf_transformer.transform(X_train_counts)\n",
      "\n",
      "print X_train_tfidf.shape\n",
      "print X_train_counts.shape"
     ],
     "language": "python",
     "metadata": {},
     "outputs": [
      {
       "output_type": "stream",
       "stream": "stdout",
       "text": [
        "(100, 1206)\n",
        "(100, 1206)\n"
       ]
      }
     ],
     "prompt_number": 50
    },
    {
     "cell_type": "code",
     "collapsed": false,
     "input": [
      "print \"counts \", X_train_counts[0]\n",
      "print \"tf-idf \", X_train_tfidf[0]"
     ],
     "language": "python",
     "metadata": {},
     "outputs": [
      {
       "output_type": "stream",
       "stream": "stdout",
       "text": [
        "counts    (0, 54)\t1\n",
        "  (0, 279)\t1\n",
        "  (0, 449)\t1\n",
        "  (0, 593)\t1\n",
        "  (0, 606)\t1\n",
        "  (0, 955)\t1\n",
        "  (0, 531)\t1\n",
        "  (0, 55)\t1\n",
        "  (0, 280)\t1\n",
        "  (0, 450)\t1\n",
        "  (0, 594)\t1\n",
        "  (0, 607)\t1\n",
        "  (0, 956)\t1\n",
        "tf-idf    (0, 956)\t0.282548029701\n",
        "  (0, 607)\t0.282548029701\n",
        "  (0, 594)\t0.282548029701\n",
        "  (0, 450)\t0.282548029701\n",
        "  (0, 280)\t0.282548029701\n",
        "  (0, 55)\t0.282548029701\n",
        "  (0, 531)\t0.282548029701\n",
        "  (0, 955)\t0.259272128029\n",
        "  (0, 606)\t0.259272128029\n",
        "  (0, 593)\t0.259272128029\n",
        "  (0, 449)\t0.282548029701\n",
        "  (0, 279)\t0.282548029701\n",
        "  (0, 54)\t0.282548029701\n"
       ]
      }
     ],
     "prompt_number": 58
    },
    {
     "cell_type": "code",
     "collapsed": false,
     "input": [],
     "language": "python",
     "metadata": {},
     "outputs": []
    }
   ],
   "metadata": {}
  }
 ]
}