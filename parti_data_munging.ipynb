{
 "metadata": {
  "name": "",
  "signature": "sha256:22e7adff9234902e12954ae1ae4843d574b8f277ce466bc870ad67dde16a1489"
 },
 "nbformat": 3,
 "nbformat_minor": 0,
 "worksheets": [
  {
   "cells": [
    {
     "cell_type": "code",
     "collapsed": false,
     "input": [
      "import numpy as np\n",
      "import pandas as pd\n",
      "import re"
     ],
     "language": "python",
     "metadata": {},
     "outputs": [],
     "prompt_number": 1
    },
    {
     "cell_type": "markdown",
     "metadata": {},
     "source": [
      "## Load Raw Headlines into Dataframe"
     ]
    },
    {
     "cell_type": "code",
     "collapsed": false,
     "input": [
      "df_raw = pd.read_csv(\"datasets/mediamatters_combined_raw.csv\")"
     ],
     "language": "python",
     "metadata": {},
     "outputs": [],
     "prompt_number": 2
    },
    {
     "cell_type": "code",
     "collapsed": false,
     "input": [
      "df_raw.shape"
     ],
     "language": "python",
     "metadata": {},
     "outputs": [
      {
       "metadata": {},
       "output_type": "pyout",
       "prompt_number": 58,
       "text": [
        "(37766, 2)"
       ]
      }
     ],
     "prompt_number": 58
    },
    {
     "cell_type": "markdown",
     "metadata": {},
     "source": [
      "## Get a Sample of the Raw Headlines"
     ]
    },
    {
     "cell_type": "code",
     "collapsed": false,
     "input": [
      "def get_sample_headlines(df, n):\n",
      "    sampler = np.random.permutation(len(df.Headlines))\n",
      "    print df.take(sampler[:n]).Headlines"
     ],
     "language": "python",
     "metadata": {},
     "outputs": [],
     "prompt_number": 3
    },
    {
     "cell_type": "code",
     "collapsed": false,
     "input": [
      "get_sample_headlines(df_raw, 20)"
     ],
     "language": "python",
     "metadata": {},
     "outputs": [
      {
       "output_type": "stream",
       "stream": "stdout",
       "text": [
        "28440    [u'Liddy producer Franklin Raff says \"for many...\n",
        "7187     [u\"Whelan's Argument That Gay Judges Must Disc...\n",
        "10512    [u'Right Wing Media Cheer On Hobby Lobby By Er...\n",
        "23038    [u'GOP civil rights commissioner: Race-based c...\n",
        "21584        [u'Dishonest Fox Chart: Food Stamps Edition']\n",
        "33060    [u'Andrew Breitbart On Barack Obama: \"I Think ...\n",
        "36243    [u\"At Bush/Karzai press conference, White Hous...\n",
        "761      [u'Wallace Responds To Geithner\\'s Warning On ...\n",
        "2700     [u'Scientists Debunk Daily Caller\\'s \"Way Off ...\n",
        "25110    [u'O\\'Reilly claims \"most Muslims don\\'t belie...\n",
        "34289    [u\"Beck hosts BigGovernment's Flynn to push we...\n",
        "24741    [u'O\\'Reilly: Calling Norway Terror Suspect A ...\n",
        "36501    [<em>Boston Globe</em>, u' joined ', <em>NY Ti...\n",
        "2508     [u'Limbaugh: Wal-Mart should charge Massachuse...\n",
        "19331    [<em>Limbaugh</em>, u' guest host Belling desc...\n",
        "18871    [u'Why Is Tim Pawlenty Going On The Radio Show...\n",
        "9114     [u'Boortz, who\\'s said congresswoman \"looks li...\n",
        "26586    [u'Steyn: During 2004 campaign, Dean was \"basi...\n",
        "854      [u'Kilmeade Rants Against Stimulus, Claims The...\n",
        "22538    [u\"Fox's Attack On Regulations Targets Civil R...\n",
        "Name: Headlines, dtype: object\n"
       ]
      }
     ],
     "prompt_number": 35
    },
    {
     "cell_type": "markdown",
     "metadata": {},
     "source": [
      "## Data Munging"
     ]
    },
    {
     "cell_type": "markdown",
     "metadata": {},
     "source": [
      "### Remove HTML Tags and Extraneous Characters"
     ]
    },
    {
     "cell_type": "code",
     "collapsed": false,
     "input": [
      "def regex_match():\n",
      "    brackets_match = \"\\[u|\\[|\\]\"\n",
      "    dashes_match = \"\\s\\-\"\n",
      "    backslash_match = \"\\\\\\\\\"\n",
      "    quotes_match = \"\\'|\\\"\"\n",
      "    em_match = \",\\s<em>|<em>|</em>,\\su|</em>\"\n",
      "    strong_match = \",\\s<strong>|<strong>|</strong>,\\su|</strong>\"\n",
      "    i_match = \",\\s<i>|<i>|</i>,\\su|</i>\"\n",
      "    char_codes = \"\\&amp\\;\"\n",
      "    full_match = brackets_match + \"|\" + dashes_match + \"|\" + backslash_match + \"|\" + quotes_match + \"|\" + em_match  + \"|\" + strong_match + \"|\" + i_match + \"|\" + char_codes\n",
      "    return full_match"
     ],
     "language": "python",
     "metadata": {},
     "outputs": [],
     "prompt_number": 4
    },
    {
     "cell_type": "code",
     "collapsed": false,
     "input": [
      "def cleanup_headlines(df):\n",
      "    df[\"Headlines\"] = df.Headlines.apply(lambda x: re.sub(regex_match(), '', str(x)))\n",
      "    return df"
     ],
     "language": "python",
     "metadata": {},
     "outputs": [],
     "prompt_number": 5
    },
    {
     "cell_type": "code",
     "collapsed": false,
     "input": [
      "df_cleaned = cleanup_headlines(df_raw)\n",
      "df_cleaned.shape"
     ],
     "language": "python",
     "metadata": {},
     "outputs": [
      {
       "metadata": {},
       "output_type": "pyout",
       "prompt_number": 6,
       "text": [
        "(37766, 2)"
       ]
      }
     ],
     "prompt_number": 6
    },
    {
     "cell_type": "markdown",
     "metadata": {},
     "source": [
      "## Get a Sample of the Cleaned Headlines"
     ]
    },
    {
     "cell_type": "code",
     "collapsed": false,
     "input": [
      "get_sample_headlines(df_cleaned, 20)"
     ],
     "language": "python",
     "metadata": {},
     "outputs": [
      {
       "output_type": "stream",
       "stream": "stdout",
       "text": [
        "120      Even Beck not buying phony story about Mexican...\n",
        "22794    Fox  Friends Predicts Obama Will Ignore Immigr...\n",
        "5918     Intermittent Fact-Checking Continues At Washin...\n",
        "22355    CNNs Howard Kurtz: Not Surprising That If Hes ...\n",
        "16407    Fox Cherry-Picks Solar Stat To Degrade Growing...\n",
        "35776    Local GA TV Station Leaves Out Key Details Reg...\n",
        "10860    Richmond Times-Dispatch Advances Irrational Ob...\n",
        "17954    Fox translator on EFCA: Proposed law that lowe...\n",
        "13876    MSNBCs Maddow Highlights Fox Figures Already S...\n",
        "28350    Lambro repeated false claim about effect of Bu...\n",
        "9839     Foxs Doocy Suggests The Feds Will Come After O...\n",
        "15261    Dick Morris: Opposing Obama And Democrats Is O...\n",
        "12435    Fox News Peter Johnson asks if nothing much ha...\n",
        "22261    Rush Calls Elizabeth Warren The High-Cheekbone...\n",
        "25695    CNNs Roberts equated Christian conservatives w...\n",
        "31285    Fox News Senior Vice President Slams Rand Paul...\n",
        "35984    Hannity was not alone in smearing, misinformin...\n",
        "10747    49 Stories That The Medias Focus On ACA Glitch...\n",
        "18269    Washington Times Wishes Militant Homosexual Ac...\n",
        "13168    Special Report debunks myth that House bill wo...\n",
        "Name: Headlines, dtype: object\n"
       ]
      }
     ],
     "prompt_number": 79
    },
    {
     "cell_type": "markdown",
     "metadata": {},
     "source": [
      "## Remove Duplicate Headlines"
     ]
    },
    {
     "cell_type": "code",
     "collapsed": false,
     "input": [
      "df_cleaned.describe()"
     ],
     "language": "python",
     "metadata": {},
     "outputs": [
      {
       "html": [
        "<div style=\"max-height:1000px;max-width:1500px;overflow:auto;\">\n",
        "<table border=\"1\" class=\"dataframe\">\n",
        "  <thead>\n",
        "    <tr style=\"text-align: right;\">\n",
        "      <th></th>\n",
        "      <th>SubCat</th>\n",
        "      <th>Headlines</th>\n",
        "    </tr>\n",
        "  </thead>\n",
        "  <tbody>\n",
        "    <tr>\n",
        "      <th>count</th>\n",
        "      <td>                              37766</td>\n",
        "      <td>                                             37766</td>\n",
        "    </tr>\n",
        "    <tr>\n",
        "      <th>unique</th>\n",
        "      <td>                                 70</td>\n",
        "      <td>                                             28865</td>\n",
        "    </tr>\n",
        "    <tr>\n",
        "      <th>top</th>\n",
        "      <td> /issues/the-presidency-white-house</td>\n",
        "      <td> Network News Overlooks Policy Issues In Midter...</td>\n",
        "    </tr>\n",
        "    <tr>\n",
        "      <th>freq</th>\n",
        "      <td>                               3750</td>\n",
        "      <td>                                                13</td>\n",
        "    </tr>\n",
        "  </tbody>\n",
        "</table>\n",
        "</div>"
       ],
       "metadata": {},
       "output_type": "pyout",
       "prompt_number": 11,
       "text": [
        "                                    SubCat  \\\n",
        "count                                37766   \n",
        "unique                                  70   \n",
        "top     /issues/the-presidency-white-house   \n",
        "freq                                  3750   \n",
        "\n",
        "                                                Headlines  \n",
        "count                                               37766  \n",
        "unique                                              28865  \n",
        "top     Network News Overlooks Policy Issues In Midter...  \n",
        "freq                                                   13  "
       ]
      }
     ],
     "prompt_number": 11
    },
    {
     "cell_type": "code",
     "collapsed": false,
     "input": [
      "df_cleaned_uniq = df_cleaned.drop_duplicates(\"Headlines\")"
     ],
     "language": "python",
     "metadata": {},
     "outputs": [],
     "prompt_number": 12
    },
    {
     "cell_type": "code",
     "collapsed": false,
     "input": [
      "df_cleaned_uniq.describe()"
     ],
     "language": "python",
     "metadata": {},
     "outputs": [
      {
       "html": [
        "<div style=\"max-height:1000px;max-width:1500px;overflow:auto;\">\n",
        "<table border=\"1\" class=\"dataframe\">\n",
        "  <thead>\n",
        "    <tr style=\"text-align: right;\">\n",
        "      <th></th>\n",
        "      <th>SubCat</th>\n",
        "      <th>Headlines</th>\n",
        "    </tr>\n",
        "  </thead>\n",
        "  <tbody>\n",
        "    <tr>\n",
        "      <th>count</th>\n",
        "      <td>                      28865</td>\n",
        "      <td>                                             28865</td>\n",
        "    </tr>\n",
        "    <tr>\n",
        "      <th>unique</th>\n",
        "      <td>                         70</td>\n",
        "      <td>                                             28865</td>\n",
        "    </tr>\n",
        "    <tr>\n",
        "      <th>top</th>\n",
        "      <td> /issues/health-care-reform</td>\n",
        "      <td> Poll Deflates Right-Wing Claims About Undocume...</td>\n",
        "    </tr>\n",
        "    <tr>\n",
        "      <th>freq</th>\n",
        "      <td>                       2818</td>\n",
        "      <td>                                                 1</td>\n",
        "    </tr>\n",
        "  </tbody>\n",
        "</table>\n",
        "</div>"
       ],
       "metadata": {},
       "output_type": "pyout",
       "prompt_number": 13,
       "text": [
        "                            SubCat  \\\n",
        "count                        28865   \n",
        "unique                          70   \n",
        "top     /issues/health-care-reform   \n",
        "freq                          2818   \n",
        "\n",
        "                                                Headlines  \n",
        "count                                               28865  \n",
        "unique                                              28865  \n",
        "top     Poll Deflates Right-Wing Claims About Undocume...  \n",
        "freq                                                    1  "
       ]
      }
     ],
     "prompt_number": 13
    },
    {
     "cell_type": "markdown",
     "metadata": {},
     "source": [
      "## Save Cleaned Dataframe to CSV"
     ]
    },
    {
     "cell_type": "code",
     "collapsed": false,
     "input": [
      "df_cleaned_uniq.to_csv(\"datasets/mediamatters_combined_cleaned.csv\", index = False)"
     ],
     "language": "python",
     "metadata": {},
     "outputs": [],
     "prompt_number": 16
    },
    {
     "cell_type": "code",
     "collapsed": false,
     "input": [],
     "language": "python",
     "metadata": {},
     "outputs": []
    }
   ],
   "metadata": {}
  }
 ]
}