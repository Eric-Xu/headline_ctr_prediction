{
 "metadata": {
  "name": "",
  "signature": "sha256:a04984532813055cc70e3f6b648508f3656a4fc56efeb48fed84a04464f24fb6"
 },
 "nbformat": 3,
 "nbformat_minor": 0,
 "worksheets": []
}