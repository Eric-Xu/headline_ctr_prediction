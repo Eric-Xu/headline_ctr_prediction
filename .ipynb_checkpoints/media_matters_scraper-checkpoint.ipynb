{
 "metadata": {
  "name": "",
  "signature": "sha256:eed3b92fc5df0fcf3c905e77f3d497c7ce611330d59a1d80df38483e6409ce17"
 },
 "nbformat": 3,
 "nbformat_minor": 0,
 "worksheets": [
  {
   "cells": [
    {
     "cell_type": "code",
     "collapsed": false,
     "input": [
      "import requests\n",
      "from bs4 import BeautifulSoup\n",
      "import re\n",
      "import time\n",
      "import numpy as np\n",
      "import pandas as pd"
     ],
     "language": "python",
     "metadata": {},
     "outputs": [],
     "prompt_number": 135
    },
    {
     "cell_type": "code",
     "collapsed": false,
     "input": [
      "issues_url = \"http://mediamatters.org/issues/\"\n",
      "r = requests.get(issues_url)\n",
      "\n",
      "soup = BeautifulSoup(r.content)"
     ],
     "language": "python",
     "metadata": {},
     "outputs": [],
     "prompt_number": 2
    },
    {
     "cell_type": "markdown",
     "metadata": {},
     "source": [
      "### Top Level Categories"
     ]
    },
    {
     "cell_type": "code",
     "collapsed": false,
     "input": [
      "cats = {}\n",
      "\n",
      "for a in soup.select(\"dt strong a\"):\n",
      "    link = str.split(str(a[\"href\"]), \"/\")\n",
      "    if link[1] == \"issues\":\n",
      "        cats[link[2]] = str(a[\"href\"])\n",
      "\n",
      "cats"
     ],
     "language": "python",
     "metadata": {},
     "outputs": [
      {
       "metadata": {},
       "output_type": "pyout",
       "prompt_number": 3,
       "text": [
        "{'diversity-discrimination': '/issues/diversity-discrimination',\n",
        " 'economy': '/issues/economy',\n",
        " 'education': '/issues/education',\n",
        " 'elections': '/issues/elections',\n",
        " 'environment-science': '/issues/environment-science',\n",
        " 'government': '/issues/government',\n",
        " 'health-care': '/issues/health-care',\n",
        " 'immigration': '/issues/immigration',\n",
        " 'justice-civil-liberties': '/issues/justice-civil-liberties',\n",
        " 'media-structures-regulations': '/issues/media-structures-regulations',\n",
        " 'national-security-foreign-policy': '/issues/national-security-foreign-policy'}"
       ]
      }
     ],
     "prompt_number": 3
    },
    {
     "cell_type": "markdown",
     "metadata": {},
     "source": [
      "### Sub-Categories"
     ]
    },
    {
     "cell_type": "code",
     "collapsed": false,
     "input": [
      "sub_cats = {}\n",
      "\n",
      "for a in soup.select(\"dd ul a\"):\n",
      "    link = str.split(str(a[\"href\"]), \"/\")\n",
      "    sub_cats[link[2]] = str(a[\"href\"])\n",
      "\n",
      "sub_cats.values()[:5]"
     ],
     "language": "python",
     "metadata": {},
     "outputs": [
      {
       "metadata": {},
       "output_type": "pyout",
       "prompt_number": 4,
       "text": [
        "['/issues/social-security',\n",
        " '/issues/end-of-life-issues',\n",
        " '/issues/death-penalty',\n",
        " '/issues/intelligence',\n",
        " '/issues/energy']"
       ]
      }
     ],
     "prompt_number": 4
    },
    {
     "cell_type": "markdown",
     "metadata": {},
     "source": [
      "### Scrape Headlines"
     ]
    },
    {
     "cell_type": "markdown",
     "metadata": {},
     "source": [
      "#### Set global variables"
     ]
    },
    {
     "cell_type": "code",
     "collapsed": false,
     "input": [
      "art_per_page = 50 # max set by MediaMatters.org\n",
      "SCRAPING_REQUEST_STAGGER = 5 # in seconds"
     ],
     "language": "python",
     "metadata": {},
     "outputs": [],
     "prompt_number": 175
    },
    {
     "cell_type": "markdown",
     "metadata": {},
     "source": [
      "#### Get pagination nums (50 articles/page) for each sub-category"
     ]
    },
    {
     "cell_type": "code",
     "collapsed": false,
     "input": [
      "def fetch_first_page_content(cat):\n",
      "    print \"getting page count for {0}\".format(cat)\n",
      "    base_url = \"http://mediamatters.org\"\n",
      "    r = requests.get(base_url + cat)\n",
      "    soup = BeautifulSoup(r.content)\n",
      "    \n",
      "    return soup"
     ],
     "language": "python",
     "metadata": {},
     "outputs": [],
     "prompt_number": 178
    },
    {
     "cell_type": "code",
     "collapsed": false,
     "input": [
      "def calc_page_count(soup):\n",
      "    count_tag = soup.find(\"span\", class_=\"pager-count-two\")\n",
      "    art_count = int(re.findall(\"\\d+\", str(count_tag.contents))[0])\n",
      "    page_count = (art_count / art_per_page) + 1\n",
      "    \n",
      "    return page_count"
     ],
     "language": "python",
     "metadata": {},
     "outputs": [],
     "prompt_number": 317
    },
    {
     "cell_type": "code",
     "collapsed": false,
     "input": [
      "def fetch_cat_page_counts(sub_cats):\n",
      "    cat_page_counts = {}\n",
      "\n",
      "    for cat in sub_cats:\n",
      "        try:\n",
      "            soup = fetch_first_page_content(cat)\n",
      "            count = calc_page_count(soup)\n",
      "            cat_page_counts[cat] = count\n",
      "            print \"{0} {1}\".format(cat, count)\n",
      "            time.sleep(SCRAPING_REQUEST_STAGGER)\n",
      "        except Exception as err:\n",
      "            print(err)\n",
      "            continue\n",
      "\n",
      "    return cat_page_counts"
     ],
     "language": "python",
     "metadata": {},
     "outputs": [],
     "prompt_number": 320
    },
    {
     "cell_type": "code",
     "collapsed": false,
     "input": [
      "# caution: scrapes website\n",
      "\n",
      "cat_page_counts = fetch_cat_page_counts(sub_cats.values())"
     ],
     "language": "python",
     "metadata": {},
     "outputs": [
      {
       "output_type": "stream",
       "stream": "stdout",
       "text": [
        "/issues/social-security 7\n",
        "/issues/end-of-life-issues 3"
       ]
      },
      {
       "output_type": "stream",
       "stream": "stdout",
       "text": [
        "\n",
        "/issues/death-penalty 1"
       ]
      },
      {
       "output_type": "stream",
       "stream": "stdout",
       "text": [
        "\n",
        "/issues/intelligence 9"
       ]
      },
      {
       "output_type": "stream",
       "stream": "stdout",
       "text": [
        "\n",
        "/issues/energy 16"
       ]
      },
      {
       "output_type": "stream",
       "stream": "stdout",
       "text": [
        "\n",
        "/issues/research-funding 1"
       ]
      },
      {
       "output_type": "stream",
       "stream": "stdout",
       "text": [
        "\n",
        "/issues/medicaid 2"
       ]
      },
      {
       "output_type": "stream",
       "stream": "stdout",
       "text": [
        "\n",
        "/issues/the-senate 11"
       ]
      },
      {
       "output_type": "stream",
       "stream": "stdout",
       "text": [
        "\n",
        "/issues/trade 1"
       ]
      },
      {
       "output_type": "stream",
       "stream": "stdout",
       "text": [
        "\n",
        "/issues/stem-cell-research 1"
       ]
      },
      {
       "output_type": "stream",
       "stream": "stdout",
       "text": [
        "\n",
        "/issues/race-ethnicity 48"
       ]
      },
      {
       "output_type": "stream",
       "stream": "stdout",
       "text": [
        "\n",
        "/issues/domestic-spying 6"
       ]
      },
      {
       "output_type": "stream",
       "stream": "stdout",
       "text": [
        "\n",
        "/issues/mental-health 1"
       ]
      },
      {
       "output_type": "stream",
       "stream": "stdout",
       "text": [
        "\n",
        "/issues/cabinet-agencies 18"
       ]
      },
      {
       "output_type": "stream",
       "stream": "stdout",
       "text": [
        "\n",
        "/issues/the-house-of-representatives 10"
       ]
      },
      {
       "output_type": "stream",
       "stream": "stdout",
       "text": [
        "\n",
        "/issues/the-judiciary 21"
       ]
      },
      {
       "output_type": "stream",
       "stream": "stdout",
       "text": [
        "\n",
        "/issues/standards 1"
       ]
      },
      {
       "output_type": "stream",
       "stream": "stdout",
       "text": [
        "\n",
        "/issues/net-neutrality 1"
       ]
      },
      {
       "output_type": "stream",
       "stream": "stdout",
       "text": [
        "\n",
        "/issues/college-financial-aid 1"
       ]
      },
      {
       "output_type": "stream",
       "stream": "stdout",
       "text": [
        "\n",
        "/issues/intellectual-freedom 1"
       ]
      },
      {
       "output_type": "stream",
       "stream": "stdout",
       "text": [
        "\n",
        "/issues/military-personnel-veterans 9"
       ]
      },
      {
       "output_type": "stream",
       "stream": "stdout",
       "text": [
        "\n",
        "/issues/housing 3"
       ]
      },
      {
       "output_type": "stream",
       "stream": "stdout",
       "text": [
        "\n",
        "/issues/the-presidency-white-house 75"
       ]
      },
      {
       "output_type": "stream",
       "stream": "stdout",
       "text": [
        "\n",
        "/issues/racial-justice 5"
       ]
      },
      {
       "output_type": "stream",
       "stream": "stdout",
       "text": [
        "\n",
        "/issues/school-vouchers 1"
       ]
      },
      {
       "output_type": "stream",
       "stream": "stdout",
       "text": [
        "\n",
        "/issues/religion 35"
       ]
      },
      {
       "output_type": "stream",
       "stream": "stdout",
       "text": [
        "\n",
        "/issues/border-security 5"
       ]
      },
      {
       "output_type": "stream",
       "stream": "stdout",
       "text": [
        "\n",
        "/issues/education-funding 2"
       ]
      },
      {
       "output_type": "stream",
       "stream": "stdout",
       "text": [
        "\n",
        "/issues/health-care-reform 62"
       ]
      },
      {
       "output_type": "stream",
       "stream": "stdout",
       "text": [
        "\n",
        "/issues/conservation 3"
       ]
      },
      {
       "output_type": "stream",
       "stream": "stdout",
       "text": [
        "\n",
        "/issues/evolution-intelligent-design 1"
       ]
      },
      {
       "output_type": "stream",
       "stream": "stdout",
       "text": [
        "\n",
        "/issues/religion-in-schools 1"
       ]
      },
      {
       "output_type": "stream",
       "stream": "stdout",
       "text": [
        "\n",
        "/issues/guns 25"
       ]
      },
      {
       "output_type": "stream",
       "stream": "stdout",
       "text": [
        "\n",
        "/issues/terrorism 28"
       ]
      },
      {
       "output_type": "stream",
       "stream": "stdout",
       "text": [
        "\n",
        "/issues/enforcement 5"
       ]
      },
      {
       "output_type": "stream",
       "stream": "stdout",
       "text": [
        "\n",
        "/issues/international-aid 2"
       ]
      },
      {
       "output_type": "stream",
       "stream": "stdout",
       "text": [
        "\n",
        "/issues/crime 7"
       ]
      },
      {
       "output_type": "stream",
       "stream": "stdout",
       "text": [
        "\n",
        "/issues/curriculum 2"
       ]
      },
      {
       "output_type": "stream",
       "stream": "stdout",
       "text": [
        "\n",
        "/issues/immigration-myths 6"
       ]
      },
      {
       "output_type": "stream",
       "stream": "stdout",
       "text": [
        "\n",
        "/issues/election-law 5"
       ]
      },
      {
       "output_type": "stream",
       "stream": "stdout",
       "text": [
        "\n",
        "/issues/detention 5"
       ]
      },
      {
       "output_type": "stream",
       "stream": "stdout",
       "text": [
        "\n",
        "/issues/interrogation 8"
       ]
      },
      {
       "output_type": "stream",
       "stream": "stdout",
       "text": [
        "\n",
        "/issues/lgbt 32"
       ]
      },
      {
       "output_type": "stream",
       "stream": "stdout",
       "text": [
        "\n",
        "'NoneType' object has no attribute 'contents'"
       ]
      },
      {
       "output_type": "stream",
       "stream": "stdout",
       "text": [
        "\n",
        "/issues/poverty 10"
       ]
      },
      {
       "output_type": "stream",
       "stream": "stdout",
       "text": [
        "\n",
        "/issues/drilling 8"
       ]
      },
      {
       "output_type": "stream",
       "stream": "stdout",
       "text": [
        "\n",
        "/issues/international-conflicts 14"
       ]
      },
      {
       "output_type": "stream",
       "stream": "stdout",
       "text": [
        "\n",
        "/issues/immigration-reform 12"
       ]
      },
      {
       "output_type": "stream",
       "stream": "stdout",
       "text": [
        "\n",
        "/issues/campaign-finance 4"
       ]
      },
      {
       "output_type": "stream",
       "stream": "stdout",
       "text": [
        "\n",
        "/issues/ethics 11"
       ]
      },
      {
       "output_type": "stream",
       "stream": "stdout",
       "text": [
        "\n",
        "/issues/war-in-iraq 31"
       ]
      },
      {
       "output_type": "stream",
       "stream": "stdout",
       "text": [
        "\n",
        "/issues/class 3"
       ]
      },
      {
       "output_type": "stream",
       "stream": "stdout",
       "text": [
        "\n",
        "/issues/childrens-health 3"
       ]
      },
      {
       "output_type": "stream",
       "stream": "stdout",
       "text": [
        "\n",
        "/issues/jobs-wages-unemployment 29"
       ]
      },
      {
       "output_type": "stream",
       "stream": "stdout",
       "text": [
        "\n",
        "/issues/common-core 1"
       ]
      },
      {
       "output_type": "stream",
       "stream": "stdout",
       "text": [
        "\n",
        "/issues/food-insecurity 5"
       ]
      },
      {
       "output_type": "stream",
       "stream": "stdout",
       "text": [
        "\n",
        "/issues/gender 30"
       ]
      },
      {
       "output_type": "stream",
       "stream": "stdout",
       "text": [
        "\n",
        "/issues/effect-on-social-services 1"
       ]
      },
      {
       "output_type": "stream",
       "stream": "stdout",
       "text": [
        "\n",
        "/issues/budget 24"
       ]
      },
      {
       "output_type": "stream",
       "stream": "stdout",
       "text": [
        "\n",
        "/issues/taxes 22"
       ]
      },
      {
       "output_type": "stream",
       "stream": "stdout",
       "text": [
        "\n",
        "/issues/labor-unions 13"
       ]
      },
      {
       "output_type": "stream",
       "stream": "stdout",
       "text": [
        "\n",
        "/issues/hivaids 1"
       ]
      },
      {
       "output_type": "stream",
       "stream": "stdout",
       "text": [
        "\n",
        "/issues/medicare 3"
       ]
      },
      {
       "output_type": "stream",
       "stream": "stdout",
       "text": [
        "\n",
        "/issues/teachers 2"
       ]
      },
      {
       "output_type": "stream",
       "stream": "stdout",
       "text": [
        "\n",
        "/issues/climate-change 27"
       ]
      },
      {
       "output_type": "stream",
       "stream": "stdout",
       "text": [
        "\n",
        "/issues/voting-rights-issues 10"
       ]
      },
      {
       "output_type": "stream",
       "stream": "stdout",
       "text": [
        "\n",
        "/issues/nominations-appointments 24"
       ]
      },
      {
       "output_type": "stream",
       "stream": "stdout",
       "text": [
        "\n",
        "/issues/defense-funding 3"
       ]
      },
      {
       "output_type": "stream",
       "stream": "stdout",
       "text": [
        "\n",
        "/issues/endangered-species 1"
       ]
      },
      {
       "output_type": "stream",
       "stream": "stdout",
       "text": [
        "\n",
        "/issues/reproductive-choice 17"
       ]
      },
      {
       "output_type": "stream",
       "stream": "stdout",
       "text": [
        "\n",
        "/issues/war-in-afghanistan 5"
       ]
      },
      {
       "output_type": "stream",
       "stream": "stdout",
       "text": [
        "\n"
       ]
      }
     ],
     "prompt_number": 321
    },
    {
     "cell_type": "markdown",
     "metadata": {},
     "source": [
      "#### Manually add in failed page requests"
     ]
    },
    {
     "cell_type": "code",
     "collapsed": false,
     "input": [
      "cat_page_counts[\"/issues/early-education\"] = 1"
     ],
     "language": "python",
     "metadata": {},
     "outputs": [],
     "prompt_number": 328
    },
    {
     "cell_type": "markdown",
     "metadata": {},
     "source": [
      "#### Save page counts dict to CSV"
     ]
    },
    {
     "cell_type": "code",
     "collapsed": false,
     "input": [
      "page_counts_df = pd.DataFrame(cat_page_counts.items(), columns=[\"SubCat\", \"TotalPages50PerPage\"])\n",
      "page_counts_df.to_csv(\"mm_cat_page_counts.csv\", index=False)"
     ],
     "language": "python",
     "metadata": {},
     "outputs": [],
     "prompt_number": 330
    },
    {
     "cell_type": "markdown",
     "metadata": {},
     "source": [
      "#### Iterate through each page of a category and collect headlines"
     ]
    },
    {
     "cell_type": "code",
     "collapsed": false,
     "input": [
      "def fetch_page_content(cat, pagination):\n",
      "    base_url = \"http://mediamatters.org\"\n",
      "    full_url = base_url + cat + pagination\n",
      "    print full_url\n",
      "    r = requests.get(full_url)\n",
      "    soup = BeautifulSoup(r.content)\n",
      "    \n",
      "    return soup"
     ],
     "language": "python",
     "metadata": {},
     "outputs": [],
     "prompt_number": 223
    },
    {
     "cell_type": "code",
     "collapsed": false,
     "input": [
      "def fetch_headlines_single_page(cat, page_content, headlines):\n",
      "    for a in page_content.select(\"h1 a\"):\n",
      "        headlines[cat].append(str(a.contents))\n",
      "\n",
      "    return headlines"
     ],
     "language": "python",
     "metadata": {},
     "outputs": [],
     "prompt_number": 287
    },
    {
     "cell_type": "code",
     "collapsed": false,
     "input": [
      "def fetch_single_cat_headlines(cat, page_count):\n",
      "    headlines = {}\n",
      "    headlines[cat] = []\n",
      "\n",
      "    for i in xrange(page_count):\n",
      "        try: \n",
      "            page = i + 1\n",
      "            time.sleep(SCRAPING_REQUEST_STAGGER)\n",
      "\n",
      "            pagination = \"?p={0}&s={1}\".format(page, art_per_page)\n",
      "            print \"page {0} of {1}\".format(page, page_count)\n",
      "            page_content = fetch_page_content(cat, pagination)\n",
      "            headlines = fetch_headlines_single_page(cat, page_content, headlines)\n",
      "        except Exception as err:\n",
      "            print(err)\n",
      "            continue\n",
      "            \n",
      "    return headlines"
     ],
     "language": "python",
     "metadata": {},
     "outputs": [],
     "prompt_number": 347
    },
    {
     "cell_type": "code",
     "collapsed": false,
     "input": [
      "def save_all_cat_headlines(sub_cats, cat_page_counts):\n",
      "    for url in sub_cats:\n",
      "        all_cat_headlines = {}\n",
      "        try:\n",
      "            page_count = cat_page_counts[url]\n",
      "            all_cat_headlines.update(fetch_single_cat_headlines(url, page_count)) # set page_count to 1 when testing single page\n",
      "            save_as_csv(all_cat_headlines, url)\n",
      "        except Exception as err:\n",
      "            print(err)\n",
      "            continue\n",
      "\n",
      "    return all_cat_headlines"
     ],
     "language": "python",
     "metadata": {},
     "outputs": [],
     "prompt_number": 352
    },
    {
     "cell_type": "code",
     "collapsed": false,
     "input": [
      "def save_as_csv(headlines, cat):\n",
      "    df = pd.DataFrame(columns=[\"SubCat\", \"Headlines\"])\n",
      "    idx = len(df) + 1\n",
      "    for k in headlines.keys():\n",
      "        for title in headlines[k]:\n",
      "            df.loc[idx] = [k, title]\n",
      "            idx += 1\n",
      "            \n",
      "    file_name = generate_file_name(cat)\n",
      "    df.to_csv(file_name, index=False)\n",
      "    print \"saved {0}; rows: {1}\".format(file_name, idx)"
     ],
     "language": "python",
     "metadata": {},
     "outputs": [],
     "prompt_number": 349
    },
    {
     "cell_type": "code",
     "collapsed": false,
     "input": [
      "# \"/issues/social-security\" => \"mm_social_security.csv\"\n",
      "def generate_file_name(url):\n",
      "    cat = str.split(url, \"/\")[2].replace(\"-\", \"_\")\n",
      "    return \"mm_{0}.csv\".format(cat) "
     ],
     "language": "python",
     "metadata": {},
     "outputs": [],
     "prompt_number": 350
    },
    {
     "cell_type": "markdown",
     "metadata": {},
     "source": [
      "#### Put all our page-scraping hard work into action"
     ]
    },
    {
     "cell_type": "code",
     "collapsed": false,
     "input": [
      "len(sub_cats.values())"
     ],
     "language": "python",
     "metadata": {},
     "outputs": [
      {
       "metadata": {},
       "output_type": "pyout",
       "prompt_number": 302,
       "text": [
        "71"
       ]
      }
     ],
     "prompt_number": 302
    },
    {
     "cell_type": "code",
     "collapsed": false,
     "input": [
      "# caution: scrapes website\n",
      "\n",
      "save_all_cat_headlines(sub_cats.values()[0:2], cat_page_counts) # pass in sub_cats.values()[0:1] when testing single cat\n",
      "print \"finished\""
     ],
     "language": "python",
     "metadata": {},
     "outputs": [
      {
       "output_type": "stream",
       "stream": "stdout",
       "text": [
        "page 1 of 7\n",
        "http://mediamatters.org/issues/social-security?p=1&s=50\n",
        "page 2 of 7"
       ]
      },
      {
       "output_type": "stream",
       "stream": "stdout",
       "text": [
        "\n",
        "http://mediamatters.org/issues/social-security?p=2&s=50\n",
        "page 3 of 7"
       ]
      },
      {
       "output_type": "stream",
       "stream": "stdout",
       "text": [
        "\n",
        "http://mediamatters.org/issues/social-security?p=3&s=50\n",
        "page 4 of 7"
       ]
      },
      {
       "output_type": "stream",
       "stream": "stdout",
       "text": [
        "\n",
        "http://mediamatters.org/issues/social-security?p=4&s=50\n",
        "page 5 of 7"
       ]
      },
      {
       "output_type": "stream",
       "stream": "stdout",
       "text": [
        "\n",
        "http://mediamatters.org/issues/social-security?p=5&s=50\n",
        "page 6 of 7"
       ]
      },
      {
       "output_type": "stream",
       "stream": "stdout",
       "text": [
        "\n",
        "http://mediamatters.org/issues/social-security?p=6&s=50\n",
        "page 7 of 7"
       ]
      },
      {
       "output_type": "stream",
       "stream": "stdout",
       "text": [
        "\n",
        "http://mediamatters.org/issues/social-security?p=7&s=50\n",
        "saved mm_social_security.csv; rows: 347"
       ]
      },
      {
       "output_type": "stream",
       "stream": "stdout",
       "text": [
        "\n",
        "page 1 of 3"
       ]
      },
      {
       "output_type": "stream",
       "stream": "stdout",
       "text": [
        "\n",
        "http://mediamatters.org/issues/end-of-life-issues?p=1&s=50\n",
        "page 2 of 3"
       ]
      },
      {
       "output_type": "stream",
       "stream": "stdout",
       "text": [
        "\n",
        "http://mediamatters.org/issues/end-of-life-issues?p=2&s=50\n",
        "page 3 of 3"
       ]
      },
      {
       "output_type": "stream",
       "stream": "stdout",
       "text": [
        "\n",
        "http://mediamatters.org/issues/end-of-life-issues?p=3&s=50\n",
        "saved mm_end_of_life_issues.csv; rows: 122"
       ]
      },
      {
       "output_type": "stream",
       "stream": "stdout",
       "text": [
        "\n",
        "finished\n"
       ]
      }
     ],
     "prompt_number": 353
    },
    {
     "cell_type": "code",
     "collapsed": false,
     "input": [],
     "language": "python",
     "metadata": {},
     "outputs": []
    },
    {
     "cell_type": "markdown",
     "metadata": {},
     "source": [
      "### Data munging"
     ]
    },
    {
     "cell_type": "code",
     "collapsed": false,
     "input": [
      "def regex_match():\n",
      "    brackets_match= \"\\[u|\\[|\\]\"\n",
      "    backslash_match= \"\\\\\\\\\"\n",
      "    quotes_match= \"\\'|\\\"\"\n",
      "    em_match = \",\\s<em>|<em>|</em>,\\su|</em>\"\n",
      "    strong_match = \",\\s<strong>|<strong>|</strong>,\\su|</strong>\"\n",
      "    i_match = \",\\s<i>|<i>|</i>,\\su|</i>\"\n",
      "    full_match = brackets_match + \"|\" + backslash_match + \"|\" + quotes_match + \"|\" + em_match  + \"|\" + strong_match\n",
      "\n",
      "    return full_match"
     ],
     "language": "python",
     "metadata": {},
     "outputs": [],
     "prompt_number": 344
    },
    {
     "cell_type": "code",
     "collapsed": false,
     "input": [
      "for h in ss_df.Headlines:\n",
      "    cleaned = re.sub(regex_match(), '', str(h))\n",
      "    print cleaned"
     ],
     "language": "python",
     "metadata": {},
     "outputs": [],
     "prompt_number": 193
    },
    {
     "cell_type": "code",
     "collapsed": false,
     "input": [],
     "language": "python",
     "metadata": {},
     "outputs": []
    }
   ],
   "metadata": {}
  }
 ]
}