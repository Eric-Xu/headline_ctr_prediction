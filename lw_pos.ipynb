{
 "metadata": {
  "name": "",
  "signature": "sha256:0846e68025d81b6d6107f38719915d71726f6121e0039aa9a06aac4717ecc130"
 },
 "nbformat": 3,
 "nbformat_minor": 0,
 "worksheets": [
  {
   "cells": [
    {
     "cell_type": "code",
     "collapsed": false,
     "input": [
      "import pandas as pd\n",
      "import numpy as np\n",
      "import nltk\n",
      "from nltk.stem.porter import PorterStemmer\n",
      "from collections import Counter"
     ],
     "language": "python",
     "metadata": {},
     "outputs": [],
     "prompt_number": 1
    },
    {
     "cell_type": "code",
     "collapsed": false,
     "input": [
      "# nltk.download()"
     ],
     "language": "python",
     "metadata": {},
     "outputs": [
      {
       "output_type": "stream",
       "stream": "stdout",
       "text": [
        "showing info http://nltk.github.com/nltk_data/\n"
       ]
      },
      {
       "metadata": {},
       "output_type": "pyout",
       "prompt_number": 28,
       "text": [
        "True"
       ]
      }
     ],
     "prompt_number": 28
    },
    {
     "cell_type": "code",
     "collapsed": false,
     "input": [
      "df = pd.read_csv(\"datasets/livewire_hits2.csv\")"
     ],
     "language": "python",
     "metadata": {},
     "outputs": [],
     "prompt_number": 37
    },
    {
     "cell_type": "code",
     "collapsed": false,
     "input": [
      "df_sample = pd.DataFrame(columns = [\"title\", \"day_0_count\"])\n",
      "df_sample.title = df.title[:10]\n",
      "df_sample.day_0_count = df.day_0[:10]\n",
      "df_sample"
     ],
     "language": "python",
     "metadata": {},
     "outputs": [
      {
       "html": [
        "<div style=\"max-height:1000px;max-width:1500px;overflow:auto;\">\n",
        "<table border=\"1\" class=\"dataframe\">\n",
        "  <thead>\n",
        "    <tr style=\"text-align: right;\">\n",
        "      <th></th>\n",
        "      <th>title</th>\n",
        "      <th>day_0_count</th>\n",
        "    </tr>\n",
        "  </thead>\n",
        "  <tbody>\n",
        "    <tr>\n",
        "      <th>0</th>\n",
        "      <td> Ancient Crimean Gold In Legal Limbo After Russ...</td>\n",
        "      <td>  1332</td>\n",
        "    </tr>\n",
        "    <tr>\n",
        "      <th>1</th>\n",
        "      <td> California Sec. Of State Candidate Arrested In...</td>\n",
        "      <td> 10743</td>\n",
        "    </tr>\n",
        "    <tr>\n",
        "      <th>2</th>\n",
        "      <td> Planet Biden: Scientists Nickname New Dwarf Pl...</td>\n",
        "      <td>  4907</td>\n",
        "    </tr>\n",
        "    <tr>\n",
        "      <th>3</th>\n",
        "      <td> Mass. Guv Candidate Passes Kidney Stone During...</td>\n",
        "      <td> 27494</td>\n",
        "    </tr>\n",
        "    <tr>\n",
        "      <th>4</th>\n",
        "      <td> Charlotte's Brand New Mayor Turns Out To Be A ...</td>\n",
        "      <td>  6747</td>\n",
        "    </tr>\n",
        "    <tr>\n",
        "      <th>5</th>\n",
        "      <td> GOP Candidate *Literally* Shoots Holes In Obam...</td>\n",
        "      <td>  2784</td>\n",
        "    </tr>\n",
        "    <tr>\n",
        "      <th>6</th>\n",
        "      <td> WaPo Pundit Thinks Secret Service Debauchery M...</td>\n",
        "      <td>  5777</td>\n",
        "    </tr>\n",
        "    <tr>\n",
        "      <th>7</th>\n",
        "      <td> Dem Rep. Calls Bill O'Reilly's 'Race Hustlers'...</td>\n",
        "      <td>  4017</td>\n",
        "    </tr>\n",
        "    <tr>\n",
        "      <th>8</th>\n",
        "      <td> Grayson: U.S. Should Be 'Pleased' With 'Virtua...</td>\n",
        "      <td>  3498</td>\n",
        "    </tr>\n",
        "    <tr>\n",
        "      <th>9</th>\n",
        "      <td> 81-Year-Old Man Miraculously Dug Himself Out O...</td>\n",
        "      <td>  5366</td>\n",
        "    </tr>\n",
        "  </tbody>\n",
        "</table>\n",
        "</div>"
       ],
       "metadata": {},
       "output_type": "pyout",
       "prompt_number": 99,
       "text": [
        "                                               title  day_0_count\n",
        "0  Ancient Crimean Gold In Legal Limbo After Russ...         1332\n",
        "1  California Sec. Of State Candidate Arrested In...        10743\n",
        "2  Planet Biden: Scientists Nickname New Dwarf Pl...         4907\n",
        "3  Mass. Guv Candidate Passes Kidney Stone During...        27494\n",
        "4  Charlotte's Brand New Mayor Turns Out To Be A ...         6747\n",
        "5  GOP Candidate *Literally* Shoots Holes In Obam...         2784\n",
        "6  WaPo Pundit Thinks Secret Service Debauchery M...         5777\n",
        "7  Dem Rep. Calls Bill O'Reilly's 'Race Hustlers'...         4017\n",
        "8  Grayson: U.S. Should Be 'Pleased' With 'Virtua...         3498\n",
        "9  81-Year-Old Man Miraculously Dug Himself Out O...         5366"
       ]
      }
     ],
     "prompt_number": 99
    },
    {
     "cell_type": "markdown",
     "metadata": {},
     "source": [
      "### Part-of-speech (POS) Tagging"
     ]
    },
    {
     "cell_type": "code",
     "collapsed": false,
     "input": [
      "def get_pos_tags(text):\n",
      "    tokens = nltk.word_tokenize(text.lower())\n",
      "    text = nltk.Text(tokens)\n",
      "    tags = nltk.pos_tag(text)\n",
      "    return tags"
     ],
     "language": "python",
     "metadata": {},
     "outputs": [],
     "prompt_number": 4
    },
    {
     "cell_type": "code",
     "collapsed": false,
     "input": [
      "text = df_sample.title[0]\n",
      "get_pos_tags(text)"
     ],
     "language": "python",
     "metadata": {},
     "outputs": [
      {
       "metadata": {},
       "output_type": "pyout",
       "prompt_number": 77,
       "text": [
        "[('ancient', 'NN'),\n",
        " ('crimean', 'VBD'),\n",
        " ('gold', 'NN'),\n",
        " ('in', 'IN'),\n",
        " ('legal', 'JJ'),\n",
        " ('limbo', 'NN'),\n",
        " ('after', 'IN'),\n",
        " ('russia', 'NN'),\n",
        " (\"'s\", 'POS'),\n",
        " ('invasion', 'NN')]"
       ]
      }
     ],
     "prompt_number": 77
    },
    {
     "cell_type": "markdown",
     "metadata": {},
     "source": [
      "#### Get counts for each POS type"
     ]
    },
    {
     "cell_type": "code",
     "collapsed": false,
     "input": [
      "def get_pos_counts(text):\n",
      "    tags = get_pos_tags(text)\n",
      "    counts = Counter(tag for word,tag in tags)\n",
      "    return counts"
     ],
     "language": "python",
     "metadata": {},
     "outputs": [],
     "prompt_number": 5
    },
    {
     "cell_type": "code",
     "collapsed": false,
     "input": [
      "print text\n",
      "get_pos_counts(text)"
     ],
     "language": "python",
     "metadata": {},
     "outputs": [
      {
       "output_type": "stream",
       "stream": "stdout",
       "text": [
        "Ancient Crimean Gold In Legal Limbo After Russia's Invasion\n"
       ]
      },
      {
       "metadata": {},
       "output_type": "pyout",
       "prompt_number": 79,
       "text": [
        "Counter({'NN': 5, 'IN': 2, 'POS': 1, 'JJ': 1, 'VBD': 1})"
       ]
      }
     ],
     "prompt_number": 79
    },
    {
     "cell_type": "code",
     "collapsed": false,
     "input": [
      "nltk.help.upenn_tagset('NN')"
     ],
     "language": "python",
     "metadata": {},
     "outputs": [
      {
       "output_type": "stream",
       "stream": "stdout",
       "text": [
        "NN: noun, common, singular or mass\n",
        "    common-carrier cabbage knuckle-duster Casino afghan shed thermostat\n",
        "    investment slide humour falloff slick wind hyena override subhumanity\n",
        "    machinist ...\n"
       ]
      }
     ],
     "prompt_number": 80
    },
    {
     "cell_type": "markdown",
     "metadata": {},
     "source": [
      "#### Get percentages for each POS type"
     ]
    },
    {
     "cell_type": "code",
     "collapsed": false,
     "input": [
      "def get_pos_perc(text):\n",
      "    counts = get_pos_counts(text)\n",
      "    total = sum(counts.values())\n",
      "    percentages = dict((word, float(count)/total) for word,count in counts.items())\n",
      "    return percentages\n"
     ],
     "language": "python",
     "metadata": {},
     "outputs": [],
     "prompt_number": 6
    },
    {
     "cell_type": "code",
     "collapsed": false,
     "input": [
      "print text\n",
      "print get_pos_counts(text)\n",
      "print get_pos_perc(text)"
     ],
     "language": "python",
     "metadata": {},
     "outputs": [
      {
       "output_type": "stream",
       "stream": "stdout",
       "text": [
        "Ancient Crimean Gold In Legal Limbo After Russia's Invasion\n",
        "Counter({'NN': 5, 'IN': 2, 'POS': 1, 'JJ': 1, 'VBD': 1})\n",
        "{'VBD': 0.1, 'NN': 0.5, 'POS': 0.1, 'JJ': 0.1, 'IN': 0.2}\n"
       ]
      }
     ],
     "prompt_number": 84
    },
    {
     "cell_type": "markdown",
     "metadata": {},
     "source": [
      "### Add POS Columns"
     ]
    },
    {
     "cell_type": "code",
     "collapsed": false,
     "input": [
      "df_sample.columns"
     ],
     "language": "python",
     "metadata": {},
     "outputs": [
      {
       "metadata": {},
       "output_type": "pyout",
       "prompt_number": 96,
       "text": [
        "Index([u'title', u'day_0_count'], dtype='object')"
       ]
      }
     ],
     "prompt_number": 96
    },
    {
     "cell_type": "code",
     "collapsed": false,
     "input": [
      "for idx, row in df_sample.iterrows():\n",
      "    text = row.title\n",
      "    percentages = get_pos_perc(text)\n",
      "    for tag, pct in percentages.iteritems():\n",
      "        if tag not in df_sample.columns:\n",
      "            df_sample[tag] = 0.0\n",
      "        df_sample[tag][idx] = round(pct, 4)\n"
     ],
     "language": "python",
     "metadata": {},
     "outputs": [],
     "prompt_number": 100
    },
    {
     "cell_type": "code",
     "collapsed": false,
     "input": [
      "df_sample.head()"
     ],
     "language": "python",
     "metadata": {},
     "outputs": [
      {
       "html": [
        "<div style=\"max-height:1000px;max-width:1500px;overflow:auto;\">\n",
        "<table border=\"1\" class=\"dataframe\">\n",
        "  <thead>\n",
        "    <tr style=\"text-align: right;\">\n",
        "      <th></th>\n",
        "      <th>title</th>\n",
        "      <th>day_0_count</th>\n",
        "      <th>VBD</th>\n",
        "      <th>NN</th>\n",
        "      <th>POS</th>\n",
        "      <th>JJ</th>\n",
        "      <th>IN</th>\n",
        "      <th>.</th>\n",
        "      <th>VBN</th>\n",
        "      <th>DT</th>\n",
        "      <th>...</th>\n",
        "      <th>TO</th>\n",
        "      <th>-NONE-</th>\n",
        "      <th>VBZ</th>\n",
        "      <th>VBP</th>\n",
        "      <th>RB</th>\n",
        "      <th>''</th>\n",
        "      <th>NNP</th>\n",
        "      <th>MD</th>\n",
        "      <th>RP</th>\n",
        "      <th>PRP</th>\n",
        "    </tr>\n",
        "  </thead>\n",
        "  <tbody>\n",
        "    <tr>\n",
        "      <th>0</th>\n",
        "      <td> Ancient Crimean Gold In Legal Limbo After Russ...</td>\n",
        "      <td>  1332</td>\n",
        "      <td> 0.1000</td>\n",
        "      <td> 0.5000</td>\n",
        "      <td> 0.1000</td>\n",
        "      <td> 0.1000</td>\n",
        "      <td> 0.2000</td>\n",
        "      <td> 0.0000</td>\n",
        "      <td> 0.0000</td>\n",
        "      <td> 0.0000</td>\n",
        "      <td>...</td>\n",
        "      <td> 0.0000</td>\n",
        "      <td> 0</td>\n",
        "      <td> 0</td>\n",
        "      <td> 0</td>\n",
        "      <td> 0</td>\n",
        "      <td> 0</td>\n",
        "      <td> 0</td>\n",
        "      <td> 0</td>\n",
        "      <td> 0</td>\n",
        "      <td> 0</td>\n",
        "    </tr>\n",
        "    <tr>\n",
        "      <th>1</th>\n",
        "      <td> California Sec. Of State Candidate Arrested In...</td>\n",
        "      <td> 10743</td>\n",
        "      <td> 0.1538</td>\n",
        "      <td> 0.4615</td>\n",
        "      <td> 0.0000</td>\n",
        "      <td> 0.0769</td>\n",
        "      <td> 0.2308</td>\n",
        "      <td> 0.0769</td>\n",
        "      <td> 0.0000</td>\n",
        "      <td> 0.0000</td>\n",
        "      <td>...</td>\n",
        "      <td> 0.0000</td>\n",
        "      <td> 0</td>\n",
        "      <td> 0</td>\n",
        "      <td> 0</td>\n",
        "      <td> 0</td>\n",
        "      <td> 0</td>\n",
        "      <td> 0</td>\n",
        "      <td> 0</td>\n",
        "      <td> 0</td>\n",
        "      <td> 0</td>\n",
        "    </tr>\n",
        "    <tr>\n",
        "      <th>2</th>\n",
        "      <td> Planet Biden: Scientists Nickname New Dwarf Pl...</td>\n",
        "      <td>  4907</td>\n",
        "      <td> 0.0909</td>\n",
        "      <td> 0.3636</td>\n",
        "      <td> 0.0000</td>\n",
        "      <td> 0.0909</td>\n",
        "      <td> 0.0909</td>\n",
        "      <td> 0.0000</td>\n",
        "      <td> 0.0909</td>\n",
        "      <td> 0.0909</td>\n",
        "      <td>...</td>\n",
        "      <td> 0.0000</td>\n",
        "      <td> 0</td>\n",
        "      <td> 0</td>\n",
        "      <td> 0</td>\n",
        "      <td> 0</td>\n",
        "      <td> 0</td>\n",
        "      <td> 0</td>\n",
        "      <td> 0</td>\n",
        "      <td> 0</td>\n",
        "      <td> 0</td>\n",
        "    </tr>\n",
        "    <tr>\n",
        "      <th>3</th>\n",
        "      <td> Mass. Guv Candidate Passes Kidney Stone During...</td>\n",
        "      <td> 27494</td>\n",
        "      <td> 0.0000</td>\n",
        "      <td> 0.6667</td>\n",
        "      <td> 0.0000</td>\n",
        "      <td> 0.0000</td>\n",
        "      <td> 0.1111</td>\n",
        "      <td> 0.1111</td>\n",
        "      <td> 0.0000</td>\n",
        "      <td> 0.0000</td>\n",
        "      <td>...</td>\n",
        "      <td> 0.0000</td>\n",
        "      <td> 0</td>\n",
        "      <td> 0</td>\n",
        "      <td> 0</td>\n",
        "      <td> 0</td>\n",
        "      <td> 0</td>\n",
        "      <td> 0</td>\n",
        "      <td> 0</td>\n",
        "      <td> 0</td>\n",
        "      <td> 0</td>\n",
        "    </tr>\n",
        "    <tr>\n",
        "      <th>4</th>\n",
        "      <td> Charlotte's Brand New Mayor Turns Out To Be A ...</td>\n",
        "      <td>  6747</td>\n",
        "      <td> 0.0000</td>\n",
        "      <td> 0.3636</td>\n",
        "      <td> 0.0909</td>\n",
        "      <td> 0.0909</td>\n",
        "      <td> 0.0909</td>\n",
        "      <td> 0.0000</td>\n",
        "      <td> 0.0000</td>\n",
        "      <td> 0.0909</td>\n",
        "      <td>...</td>\n",
        "      <td> 0.0909</td>\n",
        "      <td> 0</td>\n",
        "      <td> 0</td>\n",
        "      <td> 0</td>\n",
        "      <td> 0</td>\n",
        "      <td> 0</td>\n",
        "      <td> 0</td>\n",
        "      <td> 0</td>\n",
        "      <td> 0</td>\n",
        "      <td> 0</td>\n",
        "    </tr>\n",
        "  </tbody>\n",
        "</table>\n",
        "<p>5 rows \u00d7 23 columns</p>\n",
        "</div>"
       ],
       "metadata": {},
       "output_type": "pyout",
       "prompt_number": 116,
       "text": [
        "                                               title  day_0_count     VBD  \\\n",
        "0  Ancient Crimean Gold In Legal Limbo After Russ...         1332  0.1000   \n",
        "1  California Sec. Of State Candidate Arrested In...        10743  0.1538   \n",
        "2  Planet Biden: Scientists Nickname New Dwarf Pl...         4907  0.0909   \n",
        "3  Mass. Guv Candidate Passes Kidney Stone During...        27494  0.0000   \n",
        "4  Charlotte's Brand New Mayor Turns Out To Be A ...         6747  0.0000   \n",
        "\n",
        "       NN     POS      JJ      IN       .     VBN      DT   ...        TO  \\\n",
        "0  0.5000  0.1000  0.1000  0.2000  0.0000  0.0000  0.0000   ...    0.0000   \n",
        "1  0.4615  0.0000  0.0769  0.2308  0.0769  0.0000  0.0000   ...    0.0000   \n",
        "2  0.3636  0.0000  0.0909  0.0909  0.0000  0.0909  0.0909   ...    0.0000   \n",
        "3  0.6667  0.0000  0.0000  0.1111  0.1111  0.0000  0.0000   ...    0.0000   \n",
        "4  0.3636  0.0909  0.0909  0.0909  0.0000  0.0000  0.0909   ...    0.0909   \n",
        "\n",
        "   -NONE-  VBZ  VBP  RB  ''  NNP  MD  RP  PRP  \n",
        "0       0    0    0   0   0    0   0   0    0  \n",
        "1       0    0    0   0   0    0   0   0    0  \n",
        "2       0    0    0   0   0    0   0   0    0  \n",
        "3       0    0    0   0   0    0   0   0    0  \n",
        "4       0    0    0   0   0    0   0   0    0  \n",
        "\n",
        "[5 rows x 23 columns]"
       ]
      }
     ],
     "prompt_number": 116
    },
    {
     "cell_type": "markdown",
     "metadata": {},
     "source": [
      "#### Double check that tag column percentages sum up to 1"
     ]
    },
    {
     "cell_type": "code",
     "collapsed": false,
     "input": [
      "tag_cols = [col for col in df_sample.columns if col not in [\"title\", \"day_0_count\"]]"
     ],
     "language": "python",
     "metadata": {},
     "outputs": [],
     "prompt_number": 117
    },
    {
     "cell_type": "code",
     "collapsed": false,
     "input": [
      "df_sample[tag_cols].sum(axis=1)[:5]"
     ],
     "language": "python",
     "metadata": {},
     "outputs": [
      {
       "metadata": {},
       "output_type": "pyout",
       "prompt_number": 119,
       "text": [
        "0    1.0000\n",
        "1    0.9999\n",
        "2    0.9999\n",
        "3    1.0000\n",
        "4    0.9999\n",
        "dtype: float64"
       ]
      }
     ],
     "prompt_number": 119
    },
    {
     "cell_type": "code",
     "collapsed": false,
     "input": [
      "for tag in tag_cols[:5]:\n",
      "    print nltk.help.upenn_tagset(tag)"
     ],
     "language": "python",
     "metadata": {},
     "outputs": [
      {
       "output_type": "stream",
       "stream": "stdout",
       "text": [
        "VBD: verb, past tense\n",
        "    dipped pleaded swiped regummed soaked tidied convened halted registered\n",
        "    cushioned exacted snubbed strode aimed adopted belied figgered\n",
        "    speculated wore appreciated contemplated ...\n",
        "None\n",
        "NN: noun, common, singular or mass\n",
        "    common-carrier cabbage knuckle-duster Casino afghan shed thermostat\n",
        "    investment slide humour falloff slick wind hyena override subhumanity\n",
        "    machinist ...\n",
        "None\n",
        "POS: genitive marker\n",
        "    ' 's\n",
        "None\n",
        "JJ: adjective or numeral, ordinal\n",
        "    third ill-mannered pre-war regrettable oiled calamitous first separable\n",
        "    ectoplasmic battery-powered participatory fourth still-to-be-named\n",
        "    multilingual multi-disciplinary ...\n",
        "None\n",
        "IN: preposition or conjunction, subordinating\n",
        "    astride among uppon whether out inside pro despite on by throughout\n",
        "    below within for towards near behind atop around if like until below\n",
        "    next into if beside ...\n",
        "None\n"
       ]
      }
     ],
     "prompt_number": 121
    },
    {
     "cell_type": "markdown",
     "metadata": {},
     "source": [
      "### Lets train a Random Forest to rank POS tags as features"
     ]
    },
    {
     "cell_type": "code",
     "collapsed": false,
     "input": [
      "from sklearn.ensemble import RandomForestClassifier\n",
      "from sklearn.feature_extraction.text import CountVectorizer"
     ],
     "language": "python",
     "metadata": {},
     "outputs": [],
     "prompt_number": 124
    },
    {
     "cell_type": "code",
     "collapsed": false,
     "input": [
      "rf_model = RandomForestClassifier(random_state=0)\n",
      "rf_model.fit(df_sample[tag_cols], df_sample.day_0_count)\n",
      "\n",
      "# This prints the top 10 most important features\n",
      "print sorted(zip(rf_model.feature_importances_, tag_cols), reverse=True)[:10]"
     ],
     "language": "python",
     "metadata": {},
     "outputs": [
      {
       "output_type": "stream",
       "stream": "stdout",
       "text": [
        "[(0.11730006105006108, 'NNS'), (0.10835409745293467, 'IN'), (0.10266064684669333, 'VBD'), (0.094446864111498247, 'NN'), (0.089364260400845774, 'JJ'), (0.073512277018374567, 'VB'), (0.064926757240994337, 'POS'), (0.054073143721470443, 'RP'), (0.051371951219512192, 'VBP'), (0.048403019744483154, 'NNP')]\n"
       ]
      }
     ],
     "prompt_number": 160
    },
    {
     "cell_type": "markdown",
     "metadata": {},
     "source": [
      "#### Sklearns approach"
     ]
    },
    {
     "cell_type": "code",
     "collapsed": false,
     "input": [
      "importances = rf_model.feature_importances_\n",
      "indices = np.argsort(importances)[::-1]\n",
      "\n",
      "# Print the feature ranking\n",
      "print(\"Feature ranking:\")\n",
      "\n",
      "for f in range(10):\n",
      "    print(\"%d. feature %d %s (%f)\" % (f + 1, indices[f], tag_cols[indices[f]], importances[indices[f]]))\n"
     ],
     "language": "python",
     "metadata": {},
     "outputs": [
      {
       "output_type": "stream",
       "stream": "stdout",
       "text": [
        "Feature ranking:\n",
        "1. feature 9 NNS (0.117300)\n",
        "2. feature 4 IN (0.108354)\n",
        "3. feature 0 VBD (0.102661)\n",
        "4. feature 1 NN (0.094447)\n",
        "5. feature 3 JJ (0.089364)\n",
        "6. feature 10 VB (0.073512)\n",
        "7. feature 2 POS (0.064927)\n",
        "8. feature 19 RP (0.054073)\n",
        "9. feature 14 VBP (0.051372)\n",
        "10. feature 17 NNP (0.048403)\n"
       ]
      }
     ],
     "prompt_number": 163
    },
    {
     "cell_type": "markdown",
     "metadata": {},
     "source": [
      "### Stemming"
     ]
    },
    {
     "cell_type": "code",
     "collapsed": false,
     "input": [
      "porter = PorterStemmer()\n",
      "porter.stem(\"presumably\")"
     ],
     "language": "python",
     "metadata": {},
     "outputs": [
      {
       "metadata": {},
       "output_type": "pyout",
       "prompt_number": 38,
       "text": [
        "u'presum'"
       ]
      }
     ],
     "prompt_number": 38
    },
    {
     "cell_type": "code",
     "collapsed": false,
     "input": [
      "verbs = ['appears', 'appear', 'appeared', 'appearing', 'appearance']\n",
      "map(porter.stem, verbs)"
     ],
     "language": "python",
     "metadata": {},
     "outputs": [
      {
       "metadata": {},
       "output_type": "pyout",
       "prompt_number": 39,
       "text": [
        "[u'appear', u'appear', u'appear', u'appear', u'appear']"
       ]
      }
     ],
     "prompt_number": 39
    },
    {
     "cell_type": "code",
     "collapsed": false,
     "input": [
      "sentence = \"Stemming is funnier than a bummer says the sushi loving computer scientist\"\n",
      "\" \".join(PorterStemmer().stem_word(word) for word in sentence.split(\" \"))"
     ],
     "language": "python",
     "metadata": {},
     "outputs": [
      {
       "metadata": {},
       "output_type": "pyout",
       "prompt_number": 40,
       "text": [
        "u'Stem is funnier than a bummer say the sushi love comput scientist'"
       ]
      }
     ],
     "prompt_number": 40
    },
    {
     "cell_type": "code",
     "collapsed": false,
     "input": [],
     "language": "python",
     "metadata": {},
     "outputs": []
    }
   ],
   "metadata": {}
  }
 ]
}