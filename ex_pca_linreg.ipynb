{
 "metadata": {
  "name": "",
  "signature": "sha256:409158a6bce4c934591801760a5f9f6aa69eb6d16a41f732c3c2197b8bd8fab1"
 },
 "nbformat": 3,
 "nbformat_minor": 0,
 "worksheets": [
  {
   "cells": [
    {
     "cell_type": "code",
     "collapsed": false,
     "input": [
      "import sys\n",
      " \n",
      "import numpy as np\n",
      "import scipy.sparse\n",
      " \n",
      "import sklearn.linear_model\n",
      "import sklearn.datasets\n",
      "import sklearn.svm\n",
      "import sklearn.metrics\n",
      "import sklearn.decomposition\n",
      "import sklearn.feature_extraction.text\n",
      "import sklearn.utils.sparsefuncs"
     ],
     "language": "python",
     "metadata": {},
     "outputs": [],
     "prompt_number": 1
    },
    {
     "cell_type": "code",
     "collapsed": false,
     "input": [
      "# The fetch_20newsgroups dataset uses logging that we need to setup.\n",
      "import logging\n",
      "logging.basicConfig()"
     ],
     "language": "python",
     "metadata": {},
     "outputs": [],
     "prompt_number": 2
    },
    {
     "cell_type": "code",
     "collapsed": false,
     "input": [
      "# http://scikit-learn.org/stable/datasets/index.html#the-20-newsgroups-text-dataset\n",
      "dataset = sklearn.datasets.fetch_20newsgroups(\n",
      "    shuffle=True,\n",
      ")\n",
      "corpus = dataset.data\n",
      "n_samples = len(corpus)\n",
      "target = [[0] * n_samples] * n_samples\n",
      "for i in range(n_samples):\n",
      "    target[i][dataset.target[i]] = 1.0"
     ],
     "language": "python",
     "metadata": {},
     "outputs": [
      {
       "output_type": "stream",
       "stream": "stderr",
       "text": [
        "WARNING:sklearn.datasets.twenty_newsgroups:Downloading dataset from http://people.csail.mit.edu/jrennie/20Newsgroups/20news-bydate.tar.gz (14 MB)\n"
       ]
      }
     ],
     "prompt_number": 3
    },
    {
     "cell_type": "code",
     "collapsed": false,
     "input": [
      "print \"shape of the corpus\", len(corpus)"
     ],
     "language": "python",
     "metadata": {},
     "outputs": [
      {
       "output_type": "stream",
       "stream": "stdout",
       "text": [
        "shape of the corpus 11314\n"
       ]
      }
     ],
     "prompt_number": 5
    },
    {
     "cell_type": "code",
     "collapsed": false,
     "input": [
      "print \"Convert text data into numerical vectors\"\n",
      "# http://scikit-learn.org/stable/modules/feature_extraction.html\n",
      "vectorizer = sklearn.feature_extraction.text.CountVectorizer(\n",
      "    stop_words='english',\n",
      "    ngram_range=(1, 1),  #ngram_range=(1, 1) is the default\n",
      "    dtype='double',\n",
      ")\n",
      "data = vectorizer.fit_transform(corpus)\n",
      "print \"shape of the count vectors\", data.shape"
     ],
     "language": "python",
     "metadata": {},
     "outputs": [
      {
       "output_type": "stream",
       "stream": "stdout",
       "text": [
        "Convert text data into numerical vectors\n",
        "shape of the count vectors"
       ]
      },
      {
       "output_type": "stream",
       "stream": "stdout",
       "text": [
        " (11314, 129797)\n"
       ]
      }
     ],
     "prompt_number": 10
    },
    {
     "cell_type": "code",
     "collapsed": false,
     "input": [
      "# Save this to compute explained variance later\n",
      "vectors = data"
     ],
     "language": "python",
     "metadata": {},
     "outputs": [],
     "prompt_number": 11
    },
    {
     "cell_type": "code",
     "collapsed": false,
     "input": [
      "print \"Reduce the dimensionality of the data\"\n",
      "pca = sklearn.decomposition.TruncatedSVD(n_components=50)\n",
      "data = pca.fit_transform(data)\n",
      "print \"shape of the pca components\", data.shape"
     ],
     "language": "python",
     "metadata": {},
     "outputs": [
      {
       "output_type": "stream",
       "stream": "stdout",
       "text": [
        "Reduce the dimensionality of the data\n",
        "shape of the pca components"
       ]
      },
      {
       "output_type": "stream",
       "stream": "stdout",
       "text": [
        " (11314, 50)\n"
       ]
      }
     ],
     "prompt_number": 12
    },
    {
     "cell_type": "code",
     "collapsed": false,
     "input": [
      "exp = np.var(data, axis=0)\n",
      "full = sklearn.utils.sparsefuncs.mean_variance_axis0(vectors)[1].sum()\n",
      "explained_variance_ratios = exp / full\n",
      "confidence = sum(explained_variance_ratios)"
     ],
     "language": "python",
     "metadata": {},
     "outputs": [],
     "prompt_number": 14
    },
    {
     "cell_type": "code",
     "collapsed": false,
     "input": [
      "if confidence < 0.8:\n",
      "    print \"explained variance ratio %f < 0.8.  Bailing.\" % confidence\n",
      "    sys.exit(1)"
     ],
     "language": "python",
     "metadata": {},
     "outputs": [],
     "prompt_number": 15
    },
    {
     "cell_type": "code",
     "collapsed": false,
     "input": [
      "print \"Training a linear regression on first half\"\n",
      "regression = sklearn.linear_model.LinearRegression()\n",
      "regression.fit(data[:n_samples / 2], target[:n_samples / 2])"
     ],
     "language": "python",
     "metadata": {},
     "outputs": [
      {
       "output_type": "stream",
       "stream": "stdout",
       "text": [
        "Training a linear regression on first half\n"
       ]
      },
      {
       "metadata": {},
       "output_type": "pyout",
       "prompt_number": 16,
       "text": [
        "LinearRegression(copy_X=True, fit_intercept=True, normalize=False)"
       ]
      }
     ],
     "prompt_number": 16
    },
    {
     "cell_type": "code",
     "collapsed": false,
     "input": [
      "print \"Now predict the value of on the second half\"\n",
      "expected = target[n_samples / 2:]\n",
      "predicted = regression.predict(data[n_samples / 2:])"
     ],
     "language": "python",
     "metadata": {},
     "outputs": [
      {
       "output_type": "stream",
       "stream": "stdout",
       "text": [
        "Now predict the value of on the second half\n"
       ]
      }
     ],
     "prompt_number": 17
    },
    {
     "cell_type": "code",
     "collapsed": false,
     "input": [
      "print(\n",
      "    \"Regression report for regression %s:\\n%s\\n\"\n",
      "    % (regression, sklearn.metrics.mean_squared_error(expected, predicted)))"
     ],
     "language": "python",
     "metadata": {},
     "outputs": [
      {
       "output_type": "stream",
       "stream": "stdout",
       "text": [
        "Regression report for regression LinearRegression(copy_X=True, fit_intercept=True, normalize=False):\n",
        "0.0\n",
        "\n"
       ]
      }
     ],
     "prompt_number": 18
    },
    {
     "cell_type": "code",
     "collapsed": false,
     "input": [
      "print len(expected)\n",
      "print len(expected[0])\n",
      "expected[0][:10]"
     ],
     "language": "python",
     "metadata": {},
     "outputs": [
      {
       "output_type": "stream",
       "stream": "stdout",
       "text": [
        "5657\n",
        "11314\n"
       ]
      },
      {
       "metadata": {},
       "output_type": "pyout",
       "prompt_number": 26,
       "text": [
        "[1.0, 1.0, 1.0, 1.0, 1.0, 1.0, 1.0, 1.0, 1.0, 1.0]"
       ]
      }
     ],
     "prompt_number": 26
    },
    {
     "cell_type": "code",
     "collapsed": false,
     "input": [
      "print len(predicted)\n",
      "print len(predicted[0])\n",
      "predicted[0][:10]"
     ],
     "language": "python",
     "metadata": {},
     "outputs": [
      {
       "output_type": "stream",
       "stream": "stdout",
       "text": [
        "5657\n",
        "11314\n"
       ]
      },
      {
       "metadata": {},
       "output_type": "pyout",
       "prompt_number": 27,
       "text": [
        "array([ 1.,  1.,  1.,  1.,  1.,  1.,  1.,  1.,  1.,  1.])"
       ]
      }
     ],
     "prompt_number": 27
    },
    {
     "cell_type": "code",
     "collapsed": false,
     "input": [],
     "language": "python",
     "metadata": {},
     "outputs": []
    }
   ],
   "metadata": {}
  }
 ]
}