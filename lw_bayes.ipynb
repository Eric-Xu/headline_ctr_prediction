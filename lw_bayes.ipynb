{
 "metadata": {
  "name": "",
  "signature": "sha256:deef80eafadf0c171a350c198fa1fd9da0b8db2823e943411a0c2a6cc505479a"
 },
 "nbformat": 3,
 "nbformat_minor": 0,
 "worksheets": [
  {
   "cells": [
    {
     "cell_type": "code",
     "collapsed": false,
     "input": [
      "import pandas as pd\n",
      "import numpy as np\n",
      "from sklearn.naive_bayes import MultinomialNB\n",
      "from sklearn.naive_bayes import BernoulliNB\n",
      "from sklearn.linear_model import LogisticRegression\n",
      "from sklearn.feature_extraction.text import CountVectorizer\n",
      "from sklearn.feature_extraction.text import TfidfTransformer\n",
      "from sklearn.cross_validation import train_test_split"
     ],
     "language": "python",
     "metadata": {},
     "outputs": [],
     "prompt_number": 134
    },
    {
     "cell_type": "code",
     "collapsed": false,
     "input": [
      "df = pd.read_csv(\"datasets/livewire_hits2.csv\")"
     ],
     "language": "python",
     "metadata": {},
     "outputs": [],
     "prompt_number": 117
    },
    {
     "cell_type": "code",
     "collapsed": false,
     "input": [
      "df.head()"
     ],
     "language": "python",
     "metadata": {},
     "outputs": [
      {
       "html": [
        "<div style=\"max-height:1000px;max-width:1500px;overflow:auto;\">\n",
        "<table border=\"1\" class=\"dataframe\">\n",
        "  <thead>\n",
        "    <tr style=\"text-align: right;\">\n",
        "      <th></th>\n",
        "      <th>title</th>\n",
        "      <th>url</th>\n",
        "      <th>pub_date</th>\n",
        "      <th>day_0</th>\n",
        "      <th>day_1</th>\n",
        "      <th>day_2</th>\n",
        "      <th>day_3</th>\n",
        "      <th>day_4</th>\n",
        "      <th>day_5</th>\n",
        "      <th>day_6</th>\n",
        "    </tr>\n",
        "  </thead>\n",
        "  <tbody>\n",
        "    <tr>\n",
        "      <th>0</th>\n",
        "      <td> Ancient Crimean Gold In Legal Limbo After Russ...</td>\n",
        "      <td> http://talkingpointsmemo.com/livewire/crimean-...</td>\n",
        "      <td> 2014-03-26T18:28:25</td>\n",
        "      <td>  1332</td>\n",
        "      <td>  103</td>\n",
        "      <td>   0</td>\n",
        "      <td>   0</td>\n",
        "      <td>   0</td>\n",
        "      <td>   0</td>\n",
        "      <td>   0</td>\n",
        "    </tr>\n",
        "    <tr>\n",
        "      <th>1</th>\n",
        "      <td> California Sec. Of State Candidate Arrested In...</td>\n",
        "      <td> http://talkingpointsmemo.com/livewire/leland-y...</td>\n",
        "      <td> 2014-03-26T18:29:17</td>\n",
        "      <td> 10743</td>\n",
        "      <td> 1483</td>\n",
        "      <td> 136</td>\n",
        "      <td>  68</td>\n",
        "      <td>  54</td>\n",
        "      <td>  38</td>\n",
        "      <td>  32</td>\n",
        "    </tr>\n",
        "    <tr>\n",
        "      <th>2</th>\n",
        "      <td> Planet Biden: Scientists Nickname New Dwarf Pl...</td>\n",
        "      <td> http://talkingpointsmemo.com/livewire/dwarf-pl...</td>\n",
        "      <td> 2014-03-26T18:58:47</td>\n",
        "      <td>  4907</td>\n",
        "      <td> 2039</td>\n",
        "      <td> 288</td>\n",
        "      <td> 137</td>\n",
        "      <td> 107</td>\n",
        "      <td>  87</td>\n",
        "      <td>  74</td>\n",
        "    </tr>\n",
        "    <tr>\n",
        "      <th>3</th>\n",
        "      <td> Mass. Guv Candidate Passes Kidney Stone During...</td>\n",
        "      <td> http://talkingpointsmemo.com/livewire/mass-guv...</td>\n",
        "      <td> 2014-03-26T19:29:00</td>\n",
        "      <td> 27494</td>\n",
        "      <td> 7345</td>\n",
        "      <td> 740</td>\n",
        "      <td> 396</td>\n",
        "      <td> 295</td>\n",
        "      <td> 213</td>\n",
        "      <td> 100</td>\n",
        "    </tr>\n",
        "    <tr>\n",
        "      <th>4</th>\n",
        "      <td> Charlotte's Brand New Mayor Turns Out To Be A ...</td>\n",
        "      <td> http://talkingpointsmemo.com/livewire/patrick-...</td>\n",
        "      <td> 2014-03-26T19:44:39</td>\n",
        "      <td>  6747</td>\n",
        "      <td> 1580</td>\n",
        "      <td> 127</td>\n",
        "      <td>  54</td>\n",
        "      <td>  36</td>\n",
        "      <td>  27</td>\n",
        "      <td>  22</td>\n",
        "    </tr>\n",
        "  </tbody>\n",
        "</table>\n",
        "</div>"
       ],
       "metadata": {},
       "output_type": "pyout",
       "prompt_number": 118,
       "text": [
        "                                               title  \\\n",
        "0  Ancient Crimean Gold In Legal Limbo After Russ...   \n",
        "1  California Sec. Of State Candidate Arrested In...   \n",
        "2  Planet Biden: Scientists Nickname New Dwarf Pl...   \n",
        "3  Mass. Guv Candidate Passes Kidney Stone During...   \n",
        "4  Charlotte's Brand New Mayor Turns Out To Be A ...   \n",
        "\n",
        "                                                 url             pub_date  \\\n",
        "0  http://talkingpointsmemo.com/livewire/crimean-...  2014-03-26T18:28:25   \n",
        "1  http://talkingpointsmemo.com/livewire/leland-y...  2014-03-26T18:29:17   \n",
        "2  http://talkingpointsmemo.com/livewire/dwarf-pl...  2014-03-26T18:58:47   \n",
        "3  http://talkingpointsmemo.com/livewire/mass-guv...  2014-03-26T19:29:00   \n",
        "4  http://talkingpointsmemo.com/livewire/patrick-...  2014-03-26T19:44:39   \n",
        "\n",
        "   day_0  day_1  day_2  day_3  day_4  day_5  day_6  \n",
        "0   1332    103      0      0      0      0      0  \n",
        "1  10743   1483    136     68     54     38     32  \n",
        "2   4907   2039    288    137    107     87     74  \n",
        "3  27494   7345    740    396    295    213    100  \n",
        "4   6747   1580    127     54     36     27     22  "
       ]
      }
     ],
     "prompt_number": 118
    },
    {
     "cell_type": "code",
     "collapsed": false,
     "input": [
      "pd.qcut(df.day_0, 4)"
     ],
     "language": "python",
     "metadata": {},
     "outputs": [
      {
       "metadata": {},
       "output_type": "pyout",
       "prompt_number": 119,
       "text": [
        "       [4, 1628.75]\n",
        " (9440.25, 1069673]\n",
        "    (3955, 9440.25]\n",
        " (9440.25, 1069673]\n",
        "    (3955, 9440.25]\n",
        "    (1628.75, 3955]\n",
        "    (3955, 9440.25]\n",
        "    (3955, 9440.25]\n",
        "    (1628.75, 3955]\n",
        "    (3955, 9440.25]\n",
        "    (1628.75, 3955]\n",
        "    (3955, 9440.25]\n",
        "    (1628.75, 3955]\n",
        "...\n",
        "    (3955, 9440.25]\n",
        " (9440.25, 1069673]\n",
        " (9440.25, 1069673]\n",
        "       [4, 1628.75]\n",
        " (9440.25, 1069673]\n",
        "    (1628.75, 3955]\n",
        "    (3955, 9440.25]\n",
        "    (3955, 9440.25]\n",
        "    (3955, 9440.25]\n",
        "    (3955, 9440.25]\n",
        " (9440.25, 1069673]\n",
        " (9440.25, 1069673]\n",
        "       [4, 1628.75]\n",
        "Levels (4): Index(['[4, 1628.75]', '(1628.75, 3955]', '(3955, 9440.25]',\n",
        "                   '(9440.25, 1069673]'], dtype=object)\n",
        "Name: day_0, Length: 7812"
       ]
      }
     ],
     "prompt_number": 119
    },
    {
     "cell_type": "code",
     "collapsed": false,
     "input": [
      "def quartile_grouping(views):\n",
      "  if views < 1629:\n",
      "    return 0\n",
      "  elif views >= 1629 and views < 3955:\n",
      "    return 1\n",
      "  elif views >= 3955 and views < 9440:\n",
      "    return 2\n",
      "  elif views > 9440:\n",
      "    return 3\n",
      "  else:\n",
      "    return np.nan\n",
      "\n",
      "df['day_0_qt_group'] = df.day_0.apply(lambda x: quartile_grouping(x))"
     ],
     "language": "python",
     "metadata": {},
     "outputs": [],
     "prompt_number": 120
    },
    {
     "cell_type": "code",
     "collapsed": false,
     "input": [
      "pd.qcut(df.day_0, 10)"
     ],
     "language": "python",
     "metadata": {},
     "outputs": [
      {
       "metadata": {},
       "output_type": "pyout",
       "prompt_number": 121,
       "text": [
        "   (1322.2, 1984.9]\n",
        "  (7792.7, 11508.4]\n",
        "     (3955, 5511.6]\n",
        " (18355.6, 1069673]\n",
        "   (5511.6, 7792.7]\n",
        "   (1984.9, 2818.2]\n",
        "   (5511.6, 7792.7]\n",
        "     (3955, 5511.6]\n",
        "     (2818.2, 3955]\n",
        "     (3955, 5511.6]\n",
        "     (2818.2, 3955]\n",
        "     (3955, 5511.6]\n",
        "   (1984.9, 2818.2]\n",
        "...\n",
        "     (3955, 5511.6]\n",
        " (18355.6, 1069673]\n",
        " (11508.4, 18355.6]\n",
        "      (800, 1322.2]\n",
        " (11508.4, 18355.6]\n",
        "   (1984.9, 2818.2]\n",
        "  (7792.7, 11508.4]\n",
        "   (5511.6, 7792.7]\n",
        "     (3955, 5511.6]\n",
        "     (3955, 5511.6]\n",
        "  (7792.7, 11508.4]\n",
        " (11508.4, 18355.6]\n",
        "   (1322.2, 1984.9]\n",
        "Levels (10): Index(['[4, 800]', '(800, 1322.2]', '(1322.2, 1984.9]',\n",
        "                    '(1984.9, 2818.2]', '(2818.2, 3955]',\n",
        "                    '(3955, 5511.6]', '(5511.6, 7792.7]',\n",
        "                    '(7792.7, 11508.4]', '(11508.4, 18355.6]',\n",
        "                    '(18355.6, 1069673]'], dtype=object)\n",
        "Name: day_0, Length: 7812"
       ]
      }
     ],
     "prompt_number": 121
    },
    {
     "cell_type": "code",
     "collapsed": false,
     "input": [
      "def decile_grouping(views): # automate this using pd.qcut()\n",
      "  if views < 800:\n",
      "    return 0\n",
      "  elif views >= 800 and views < 1323:\n",
      "    return 1\n",
      "  elif views >= 1323 and views < 1985:\n",
      "    return 2\n",
      "  elif views >= 1985 and views < 2820:\n",
      "    return 3\n",
      "  elif views >= 2820 and views < 3955:\n",
      "    return 4\n",
      "  elif views >= 3955 and views < 5512:\n",
      "    return 5\n",
      "  elif views >= 5512 and views < 7793:\n",
      "    return 6\n",
      "  elif views >= 7793 and views < 11519:\n",
      "    return 7\n",
      "  elif views >= 11519 and views < 18357:\n",
      "    return 8\n",
      "  elif views > 18357:\n",
      "    return 9\n",
      "  else:\n",
      "    return np.nan\n",
      "\n",
      "df['day_0_dc_group'] = df.day_0.apply(lambda x: decile_grouping(x))"
     ],
     "language": "python",
     "metadata": {},
     "outputs": [],
     "prompt_number": 122
    },
    {
     "cell_type": "code",
     "collapsed": false,
     "input": [
      "df.info()"
     ],
     "language": "python",
     "metadata": {},
     "outputs": [
      {
       "output_type": "stream",
       "stream": "stdout",
       "text": [
        "<class 'pandas.core.frame.DataFrame'>\n",
        "Int64Index: 7812 entries, 0 to 7811\n",
        "Data columns (total 12 columns):\n",
        "title             7810 non-null object\n",
        "url               7812 non-null object\n",
        "pub_date          7810 non-null object\n",
        "day_0             7812 non-null int64\n",
        "day_1             7812 non-null int64\n",
        "day_2             7812 non-null int64\n",
        "day_3             7812 non-null int64\n",
        "day_4             7812 non-null int64\n",
        "day_5             7812 non-null int64\n",
        "day_6             7812 non-null int64\n",
        "day_0_qt_group    7811 non-null float64\n",
        "day_0_dc_group    7812 non-null int64\n",
        "dtypes: float64(1), int64(8), object(3)"
       ]
      }
     ],
     "prompt_number": 123
    },
    {
     "cell_type": "code",
     "collapsed": false,
     "input": [
      "df = df.dropna()\n",
      "df.info()"
     ],
     "language": "python",
     "metadata": {},
     "outputs": [
      {
       "output_type": "stream",
       "stream": "stdout",
       "text": [
        "<class 'pandas.core.frame.DataFrame'>\n",
        "Int64Index: 7809 entries, 0 to 7811\n",
        "Data columns (total 12 columns):\n",
        "title             7809 non-null object\n",
        "url               7809 non-null object\n",
        "pub_date          7809 non-null object\n",
        "day_0             7809 non-null int64\n",
        "day_1             7809 non-null int64\n",
        "day_2             7809 non-null int64\n",
        "day_3             7809 non-null int64\n",
        "day_4             7809 non-null int64\n",
        "day_5             7809 non-null int64\n",
        "day_6             7809 non-null int64\n",
        "day_0_qt_group    7809 non-null float64\n",
        "day_0_dc_group    7809 non-null int64\n",
        "dtypes: float64(1), int64(8), object(3)"
       ]
      }
     ],
     "prompt_number": 125
    },
    {
     "cell_type": "markdown",
     "metadata": {},
     "source": [
      "### Calculate word count"
     ]
    },
    {
     "cell_type": "code",
     "collapsed": false,
     "input": [
      "# Y = df.day_0_dc_group # lower accuracy than day_0_qt_group across all models\n",
      "Y = df.day_0_qt_group \n",
      "# Y = df.day_0 # doesn't work"
     ],
     "language": "python",
     "metadata": {},
     "outputs": [],
     "prompt_number": 150
    },
    {
     "cell_type": "code",
     "collapsed": false,
     "input": [
      "vectorizer = CountVectorizer(ngram_range=(1,2))\n",
      "X_count = vectorizer.fit_transform(df.title)\n",
      "temp_vec = vectorizer.fit(df.title)\n",
      "\n",
      "xcount_train, xcount_test, ycount_train, ycount_test = train_test_split(X_count, Y)"
     ],
     "language": "python",
     "metadata": {},
     "outputs": [],
     "prompt_number": 151
    },
    {
     "cell_type": "markdown",
     "metadata": {},
     "source": [
      "### Calculate Term Frequency - Inverse Document Frequency (TF-IDF) "
     ]
    },
    {
     "cell_type": "code",
     "collapsed": false,
     "input": [
      "tfidf_transformer = TfidfTransformer().fit(X_count)\n",
      "X_tfidf = tfidf_transformer.transform(X_count)\n",
      "\n",
      "xtfidf_train, xtfidf_test, ytfidf_train, ytfidf_test = train_test_split(X_tfidf, Y)"
     ],
     "language": "python",
     "metadata": {},
     "outputs": [],
     "prompt_number": 152
    },
    {
     "cell_type": "code",
     "collapsed": false,
     "input": [
      "# a few helper functions\n",
      "def count_accuracy_report(_clf):\n",
      "    training_accuracy = _clf.score(xcount_train, ycount_train)\n",
      "    test_accuracy = _clf.score(xcount_test, ycount_test)\n",
      "    print \"Accuracy: %0.2f%%\" % (100 * test_accuracy)\n",
      "    print \"Accuracy on training data: %0.2f%%\" % (100 * training_accuracy)\n",
      "\n",
      "def tfidf_accuracy_report(_clf):\n",
      "    training_accuracy = _clf.score(xtfidf_train, ytfidf_train)\n",
      "    test_accuracy = _clf.score(xtfidf_test, ytfidf_test)\n",
      "    print \"Accuracy: %0.2f%%\" % (100 * test_accuracy)\n",
      "    print \"Accuracy on training data: %0.2f%%\" % (100 * training_accuracy)"
     ],
     "language": "python",
     "metadata": {},
     "outputs": [],
     "prompt_number": 158
    },
    {
     "cell_type": "code",
     "collapsed": false,
     "input": [
      "classifiers = {'Logistic': LogisticRegression(),\n",
      "               'GaussianNB':GaussianNB(),\n",
      "               'BernoulliNB': BernoulliNB(),\n",
      "               'KNeighbors': KNeighborsClassifier(),\n",
      "               'RandomForest': RandomForestClassifier(),\n",
      "               'Decision': DecisionTreeClassifier()}"
     ],
     "language": "python",
     "metadata": {},
     "outputs": []
    },
    {
     "cell_type": "code",
     "collapsed": false,
     "input": [
      "print \"MultinomialNB:\"\n",
      "ct_mnb_clf = MultinomialNB().fit(xcount_train, ycount_train)\n",
      "count_accuracy_report(ct_mnb_clf)"
     ],
     "language": "python",
     "metadata": {},
     "outputs": [
      {
       "output_type": "stream",
       "stream": "stdout",
       "text": [
        "MultinomialNB:\n",
        "Accuracy: 80.13%\n",
        "Accuracy on training data: 80.86%\n"
       ]
      }
     ],
     "prompt_number": 165
    },
    {
     "cell_type": "code",
     "collapsed": false,
     "input": [
      "print \"MultinomialNB tfidf:\"\n",
      "tf_mnb_clf = MultinomialNB().fit(xtfidf_train, ytfidf_train)\n",
      "tfidf_accuracy_report(tf_mnb_clf)"
     ],
     "language": "python",
     "metadata": {},
     "outputs": [
      {
       "output_type": "stream",
       "stream": "stdout",
       "text": [
        "MultinomialNB tfidf:\n",
        "Accuracy: 38.25%\n",
        "Accuracy on training data: 97.73%\n"
       ]
      }
     ],
     "prompt_number": 166
    },
    {
     "cell_type": "code",
     "collapsed": false,
     "input": [
      "print \"BernoulliNB:\"\n",
      "ct_bnb_clf = BernoulliNB().fit(xcount_train, ycount_train)\n",
      "count_accuracy_report(ct_bnb_clf)"
     ],
     "language": "python",
     "metadata": {},
     "outputs": [
      {
       "output_type": "stream",
       "stream": "stdout",
       "text": [
        "BernoulliNB:\n",
        "Accuracy: 82.49%\n",
        "Accuracy on training data: 82.05%\n"
       ]
      }
     ],
     "prompt_number": 167
    },
    {
     "cell_type": "code",
     "collapsed": false,
     "input": [
      "print \"BernoulliNB tfidf:\"\n",
      "tf_bnb_clf = BernoulliNB().fit(xtfidf_train, ytfidf_train)\n",
      "tfidf_accuracy_report(tf_bnb_clf)"
     ],
     "language": "python",
     "metadata": {},
     "outputs": [
      {
       "output_type": "stream",
       "stream": "stdout",
       "text": [
        "BernoulliNB tfidf:\n",
        "Accuracy: 36.66%\n",
        "Accuracy on training data: 97.34%\n"
       ]
      }
     ],
     "prompt_number": 168
    },
    {
     "cell_type": "code",
     "collapsed": false,
     "input": [
      "print \"Logistic Regression:\"\n",
      "ct_lr_clf = LogisticRegression().fit(xcount_train, ycount_train)\n",
      "count_accuracy_report(ct_lr_clf)"
     ],
     "language": "python",
     "metadata": {},
     "outputs": [
      {
       "output_type": "stream",
       "stream": "stdout",
       "text": [
        "Logistic Regression:\n",
        "Accuracy: 70.05%"
       ]
      },
      {
       "output_type": "stream",
       "stream": "stdout",
       "text": [
        "\n",
        "Accuracy on training data: 70.51%\n"
       ]
      }
     ],
     "prompt_number": 169
    },
    {
     "cell_type": "code",
     "collapsed": false,
     "input": [
      "print \"Logistic Regression tfidf:\"\n",
      "tf_lr_clf = LogisticRegression().fit(xtfidf_train, ytfidf_train)\n",
      "tfidf_accuracy_report(tf_lr_clf)"
     ],
     "language": "python",
     "metadata": {},
     "outputs": [
      {
       "output_type": "stream",
       "stream": "stdout",
       "text": [
        "Logistic Regression tfidf:\n",
        "Accuracy: 36.61%"
       ]
      },
      {
       "output_type": "stream",
       "stream": "stdout",
       "text": [
        "\n",
        "Accuracy on training data: 96.00%\n"
       ]
      }
     ],
     "prompt_number": 170
    },
    {
     "cell_type": "markdown",
     "metadata": {},
     "source": [
      "### Predict a headline"
     ]
    },
    {
     "cell_type": "code",
     "collapsed": false,
     "input": [
      "def AnalyzeHeadline(test_headline, clf):\n",
      "    print \"\\\"\"  + test_headline + \"\\\" is judged by classifier to be...\"\n",
      "    test_headline = temp_vec.transform([test_headline])\n",
      "    return(clf.predict(test_headline)[0])"
     ],
     "language": "python",
     "metadata": {},
     "outputs": [],
     "prompt_number": 107
    },
    {
     "cell_type": "code",
     "collapsed": false,
     "input": [
      "AnalyzeHeadline(\"Pope gives high five to obama\", ct_mnb_clf)"
     ],
     "language": "python",
     "metadata": {},
     "outputs": [
      {
       "output_type": "stream",
       "stream": "stdout",
       "text": [
        "\"Pope gives high five to obama\" is judged by classifier to be...\n"
       ]
      },
      {
       "metadata": {},
       "output_type": "pyout",
       "prompt_number": 172,
       "text": [
        "2.0"
       ]
      }
     ],
     "prompt_number": 172
    },
    {
     "cell_type": "code",
     "collapsed": false,
     "input": [
      "AnalyzeHeadline(\"Pope gives high five to obama\", ct_bnb_clf)"
     ],
     "language": "python",
     "metadata": {},
     "outputs": [
      {
       "output_type": "stream",
       "stream": "stdout",
       "text": [
        "\"Pope gives high five to obama\" is judged by classifier to be...\n"
       ]
      },
      {
       "metadata": {},
       "output_type": "pyout",
       "prompt_number": 173,
       "text": [
        "2.0"
       ]
      }
     ],
     "prompt_number": 173
    },
    {
     "cell_type": "code",
     "collapsed": false,
     "input": [
      "AnalyzeHeadline(\"Pope gives high five to obama\", ct_lr_clf)"
     ],
     "language": "python",
     "metadata": {},
     "outputs": [
      {
       "output_type": "stream",
       "stream": "stdout",
       "text": [
        "\"Pope gives high five to obama\" is judged by classifier to be...\n"
       ]
      },
      {
       "metadata": {},
       "output_type": "pyout",
       "prompt_number": 174,
       "text": [
        "2.0"
       ]
      }
     ],
     "prompt_number": 174
    },
    {
     "cell_type": "code",
     "collapsed": false,
     "input": [],
     "language": "python",
     "metadata": {},
     "outputs": []
    }
   ],
   "metadata": {}
  }
 ]
}